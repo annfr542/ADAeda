{
 "cells": [
  {
   "cell_type": "markdown",
   "metadata": {},
   "source": [
    "# Exercise 1\n",
    " <p><div class=\"lev1\"><a href=\"#Task-A.-Another-LEGO-brick-in-the-wall\"><span class=\"toc-item-num\">Task A.&nbsp;&nbsp;</span>Another LEGO brick in the wall</a></div>\n",
    " <p><div class=\"lev1\"><a href=\"#Task-B.-Drop-the-Bike\"><span class=\"toc-item-num\">Task B.&nbsp;&nbsp;</span>Drop the Bike</a></div>"
   ]
  },
  {
   "cell_type": "code",
   "execution_count": 285,
   "metadata": {},
   "outputs": [],
   "source": [
    "# Add your imports here\n",
    "# Importing pandas and numpy\n",
    "import pandas as pd\n",
    "import numpy as np\n",
    "import re"
   ]
  },
  {
   "cell_type": "code",
   "execution_count": 2,
   "metadata": {},
   "outputs": [],
   "source": [
    "DATA_FOLDER = 'data'"
   ]
  },
  {
   "cell_type": "markdown",
   "metadata": {},
   "source": [
    "## Task A. Another LEGO brick in the wall\n",
    "\n",
    "LEGO is a popular brand of toy building bricks. They are often sold in sets in order to build a specific object. Each set contains a number of parts in different shapes, sizes and colors. This database contains information on which parts are included in different LEGO sets. It was originally compiled to help people who owned some LEGO sets already figure out what other sets they could build with the pieces they had.\n",
    "\n",
    "This dataset contains the official LEGO colors, parts, inventories (i.e., sets of LEGO parts which assembled create an object in the LEGO world) and sets (i.e., sets of LEGO inventories which assembled create a LEGO ecosystem). The schema of the dataset can be shown in the following UML diagram: \n",
    "\n",
    "![lego-schema](lego-schema.png)\n",
    "\n",
    "In this task you have to apply the following Data Wrangling pipeline:\n",
    "1. Load your data into `Pandas`\n",
    "* Explore it and clean its dirty parts\n",
    "* Use it to answer a set of queries\n",
    "\n",
    "Each of these subtasks are described in detail below."
   ]
  },
  {
   "cell_type": "markdown",
   "metadata": {},
   "source": [
    "### A1. Loading phase\n",
    "Load all the csv files into different `DataFrames`. Use meaningful names for your `DataFrames` (e.g., the respective filenames).\n",
    "\n",
    "*Hint: You can load files without first unzipping them (for `Pandas` version >= 0.18.1).*"
   ]
  },
  {
   "cell_type": "code",
   "execution_count": 3,
   "metadata": {},
   "outputs": [],
   "source": [
    "LEGO_DATA_FOLDER = DATA_FOLDER + '/lego'"
   ]
  },
  {
   "cell_type": "code",
   "execution_count": 297,
   "metadata": {},
   "outputs": [],
   "source": [
    "# Write your code here\n",
    "colors = pd.read_csv(LEGO_DATA_FOLDER + \"/colors.csv.zip\")\n",
    "inventories = pd.read_csv(LEGO_DATA_FOLDER + \"/inventories.csv.zip\")\n",
    "inventory_parts = pd.read_csv(LEGO_DATA_FOLDER + \"/inventory_parts.csv.zip\")\n",
    "inventory_sets = pd.read_csv(LEGO_DATA_FOLDER + \"/inventory_sets.csv.zip\")\n",
    "part_categories = pd.read_csv(LEGO_DATA_FOLDER + \"/part_categories.csv.zip\")\n",
    "parts = pd.read_csv(LEGO_DATA_FOLDER + \"/parts.csv.zip\")\n",
    "sets = pd.read_csv(LEGO_DATA_FOLDER + \"/sets.csv.zip\")\n",
    "themes = pd.read_csv(LEGO_DATA_FOLDER + \"/themes.csv.zip\")"
   ]
  },
  {
   "cell_type": "markdown",
   "metadata": {},
   "source": [
    "### A2. Cleaning phase\n",
    "Explore the following columns from your dataset:\n",
    "\n",
    "1. sets: year\n",
    "* inventory_parts: quantity\n",
    "\n",
    "What is the time range of the sets? \n",
    "What is the average quantity of the inventory parts? \n",
    "Do you see any inconsistencies? \n",
    "Provide code that detects and cleans such inconsistencies and validates the coherence of your dataset. "
   ]
  },
  {
   "cell_type": "code",
   "execution_count": 258,
   "metadata": {},
   "outputs": [],
   "source": [
    "def cleanCheck(data):\n",
    "    # Check whether any set has an undefined year\n",
    "    is_nan = data.isna().sum() \n",
    "\n",
    "    # Take out the data that is incorrect\n",
    "    is_bad = data.apply(lambda x: len(x) != 4).sum()\n",
    "    \n",
    "    print(is_nan)\n",
    "    print(is_bad)\n",
    "    \n",
    "    "
   ]
  },
  {
   "cell_type": "code",
   "execution_count": 298,
   "metadata": {},
   "outputs": [
    {
     "name": "stdout",
     "output_type": "stream",
     "text": [
      "3085\n",
      "0\n",
      "0\n"
     ]
    }
   ],
   "source": [
    "# Write your code here\n",
    "\n",
    "# Cleaning sets.year \n",
    "\n",
    "# Count number of inconsistencies in the set\n",
    "sets_bad = sets[sets['year'].apply(lambda x: len(x) != 4)]\n",
    "print(sets_bad.year.count())\n",
    "\n",
    "# Make all negative years positive\n",
    "sets['year'] = sets['year'].apply(lambda x: x[1:] if x[0] == \"-\" else x)\n",
    "\n",
    "# Delete last number in years with 5 digits\n",
    "sets['year'] = sets['year'].apply(lambda x: x[:-1] if len(x) == 5 else x)\n",
    "\n",
    "# Change 70s to nan\n",
    "sets['year'] = sets['year'].apply(lambda x: np.nan if len(x) == 3 else x)\n",
    "\n",
    "clean_sets = sets.dropna(axis = 0, subset=['year'])\n",
    "cleanCheck(clean_sets.year)\n",
    "\n",
    "\n"
   ]
  },
  {
   "cell_type": "code",
   "execution_count": 299,
   "metadata": {},
   "outputs": [
    {
     "data": {
      "text/plain": [
       "1        1978\n",
       "2        1987\n",
       "3        1979\n",
       "4        1979\n",
       "5        1979\n",
       "6        1979\n",
       "7        1978\n",
       "8        1976\n",
       "9        1976\n",
       "10       1976\n",
       "11       1965\n",
       "12       1985\n",
       "13       1976\n",
       "14       1965\n",
       "15       1968\n",
       "16       1968\n",
       "17       1968\n",
       "18       1999\n",
       "19       1968\n",
       "20       1968\n",
       "21       1968\n",
       "22       1968\n",
       "23       1967\n",
       "24       1969\n",
       "25       2001\n",
       "26       2001\n",
       "27       2001\n",
       "28       2001\n",
       "29       2001\n",
       "30       2001\n",
       "         ... \n",
       "11643    2014\n",
       "11644    1991\n",
       "11645    2012\n",
       "11646    2012\n",
       "11647    2013\n",
       "11648    1995\n",
       "11649    2003\n",
       "11650    2000\n",
       "11651    2000\n",
       "11652    1995\n",
       "11653    1998\n",
       "11654    2000\n",
       "11655    1985\n",
       "11656    2001\n",
       "11657    2000\n",
       "11658    2000\n",
       "11659    1997\n",
       "11660    2006\n",
       "11661    1997\n",
       "11662    2000\n",
       "11663    2003\n",
       "11664    1959\n",
       "11665    2006\n",
       "11666    2009\n",
       "11667    2013\n",
       "11668    2012\n",
       "11669    2015\n",
       "11670    2010\n",
       "11671    2013\n",
       "11672    1996\n",
       "Name: year, Length: 11559, dtype: object"
      ]
     },
     "execution_count": 299,
     "metadata": {},
     "output_type": "execute_result"
    }
   ],
   "source": [
    "clean_sets['year'].replace(pd.to_datetime(clean_sets.year).dt.year)\n"
   ]
  },
  {
   "cell_type": "code",
   "execution_count": 300,
   "metadata": {},
   "outputs": [
    {
     "name": "stdout",
     "output_type": "stream",
     "text": [
      "The time range is 67 years, between 1950 and 2017.\n"
     ]
    }
   ],
   "source": [
    "# Calculate time range\n",
    "start_year = clean_sets.year.min()\n",
    "end_year = clean_sets.year.max()\n",
    "time_range = int(clean_sets.year.max()) - int(clean_sets.year.min())\n",
    "print('The time range is ' + str(time_range) + \" years, between \" + str(start_year) + \" and \" + str(end_year) + \".\")"
   ]
  },
  {
   "cell_type": "code",
   "execution_count": 301,
   "metadata": {},
   "outputs": [
    {
     "name": "stdout",
     "output_type": "stream",
     "text": [
      "0\n",
      "161796\n",
      "1605586.0\n",
      "% of zero values: 0.10077068434826911\n",
      "2.7670542575540584\n"
     ]
    }
   ],
   "source": [
    "# Cleaning inventory_parts.quantity\n",
    "\n",
    "# Check whether any i_p has an undefined quntity\n",
    "print(inventory_parts.quantity.isna().sum())\n",
    "\n",
    "# Replace all infinite values with 0 to simplify counting them\n",
    "inventory_parts.quantity = inventory_parts.quantity.replace([np.inf, -np.inf], 0.0)\n",
    "\n",
    "# Count amount of values equaling zero\n",
    "quantity_zero = (inventory_parts['quantity'] < 1).sum()\n",
    "print(quantity_zero)\n",
    "print(inventory_parts.quantity.sum())\n",
    "\n",
    "# Calculate % of values equaling zero\n",
    "print(\"% of zero values: \" + str(quantity_zero/inventory_parts.quantity.sum()))\n",
    "\n",
    "print(inventory_parts.quantity.mean())"
   ]
  },
  {
   "cell_type": "markdown",
   "metadata": {},
   "source": [
    "__\\* Briefly explain your approach here \\*__\n",
    "\n",
    "#### Cleaning sets by the column year\n",
    "1. First check whether all years are defined\n",
    "2. Print years to see examples of inconsistencies in the data. Examples of inconsistencies are negative years, years with five digits and years written as decade+\"s\"(70s, 80s, etc).\n",
    "3. Cleaning:\n",
    "    1. First, all negative years are turned positive.\n",
    "    2. Secondly, all years with 5 digits are turned into 4 digit numbers. We assume that the last digit has been repeated and therefore remove it. For example, 20011 is turned into 2001.\n",
    "    3. Lastly we omit all rows where the year is written as decade+\"s\", as there is no way of knowing in which year of the decade the set is from.\n",
    "    \n",
    "#### Cleaning inventory_parts by the column quantity\n",
    "1. First check whether quantity is defined for each row\n",
    "2. Print quantity to see examples of inconsistencies in the data. An example of an inconsistency is that some of the quantities are written as \"-inf\".\n",
    "3. Cleaning:\n",
    "    1. Set all quantities with the value \"-inf\" to 0.0 instead, as 0.0 is not used in the rest of the array. This way the data will remain but functions such as count, sum etc. can be applied to the column.\n"
   ]
  },
  {
   "cell_type": "markdown",
   "metadata": {},
   "source": [
    "### A3. Querying phase\n",
    "Answer the following queries using the functionality of `Pandas`:\n",
    "\n",
    "1. List the ids of the inventories that belong to sets that contain cars. (*Hint: Find a smart way to distinguish which sets contain cars based on the sets' name*).\n",
    "* Plot the distribution of part categories as a (horizontal) bar chart. Restrict yourself to the 20 largest part categories (in terms of the number of parts belonging to the category).\n",
    "* Find the dominant color of each set. Then, plot using a (horizontal) bar chart, the number of sets per dominant color. Color each bar with the respective color that it represents.\n",
    "* Create a scatter plot of the *luminance*\\* of the sets vs their publishing year. What do you observe for the years 1980-1981? How do you interpret what you see?\n",
    "\n",
    "\\*The luminance of a color is a [measure of brightness](https://en.wikipedia.org/wiki/Luminance) which, given its RGB representation, can be computed as follows:\n",
    "\n",
    "$luminance = \\sqrt{0.299*R^2 + 0.587*G^2 + 0.114*B^2}$"
   ]
  },
  {
   "cell_type": "code",
   "execution_count": 381,
   "metadata": {},
   "outputs": [
    {
     "name": "stdout",
     "output_type": "stream",
     "text": [
      "                id  \\\n",
      "27     10002-1       \n",
      "50     10022-1       \n",
      "53     10025-1       \n",
      "142    10158-1       \n",
      "154    10170-1       \n",
      "182    10200-1       \n",
      "295    10552-1       \n",
      "325    10589-1       \n",
      "376    10673-1       \n",
      "446    1076-22       \n",
      "505    1109-1        \n",
      "600    11908-1       \n",
      "705    1247-1        \n",
      "715    1253-1        \n",
      "717    1255-1        \n",
      "722    1260-1        \n",
      "845    1353-1        \n",
      "852    1361-1        \n",
      "858    137-2         \n",
      "918    1467-1        \n",
      "922    147-1         \n",
      "926    1477-1        \n",
      "933    1489-1        \n",
      "939    1496-1        \n",
      "957    1517-1        \n",
      "958    1518-1        \n",
      "1004   157-3         \n",
      "1033   1606-1        \n",
      "1038   1610-1        \n",
      "1043   1612-1        \n",
      "...       ...        \n",
      "7898   7324-20       \n",
      "7945   7424-2        \n",
      "8011   75023-6       \n",
      "8227   7553-16       \n",
      "8228   7553-17       \n",
      "8229   7553-18       \n",
      "8316   75821-1       \n",
      "8485   7611-1        \n",
      "8486   7612-1        \n",
      "8565   7687-20       \n",
      "8566   7687-21       \n",
      "8726   7839-1        \n",
      "8807   7902-1        \n",
      "8842   7907-15       \n",
      "9279   8241-1        \n",
      "9288   8252-1        \n",
      "9319   8286-1        \n",
      "9367   8376-1        \n",
      "9387   8402-1        \n",
      "9415   8432-1        \n",
      "9420   8437-1        \n",
      "9569   850953-1      \n",
      "10117  8803-11       \n",
      "10276  8860-1        \n",
      "10281  8865-1        \n",
      "10296  8880-1        \n",
      "10736  9678-1        \n",
      "10740  9685-1        \n",
      "10845  970674-1      \n",
      "11164  EMMETSCAR-1   \n",
      "\n",
      "                                                                name  year  \\\n",
      "27     Railroad Club Car                                              2001   \n",
      "50     Santa Fe Cars - Set II (dining, observation, or sleeping car)  2002   \n",
      "53     Santa Fe Cars - Set I (mail or baggage car)                    2002   \n",
      "142    High Speed Train Car                                           2004   \n",
      "154    TTX Intermodal Double-Stack Car                                2005   \n",
      "182    Custom Car Garage                                              2008   \n",
      "295    Creative Cars                                                  2013   \n",
      "325    Rally Car                                                      2015   \n",
      "376    Race Car Rally                                                 2014   \n",
      "446    Advent Calendar 1999 (Day 21) Police Car                       1999   \n",
      "505    Magnetic Couplings for Railway Car                             1977   \n",
      "600    Build Your Own Adventure with Liza Mini-Doll and Touring Car   2015   \n",
      "705    Patrol Car                                                     1999   \n",
      "715    Shell Car Transporter                                          1999   \n",
      "717    Shell Car Wash                                                 1999   \n",
      "722    Car                                                            1999   \n",
      "845    Car Stunt Studio                                               2001   \n",
      "852    Camera Car                                                     2001   \n",
      "858    Passenger Sleeping Car                                         1975   \n",
      "918    Shell Race Car                                                 1987   \n",
      "922    Refrigerated Car with Forklift                                 1976   \n",
      "926    {Red Race Car Number 3}                                        1991   \n",
      "933    Mobile Car Crane                                               1989   \n",
      "939    Rally Car                                                      1987   \n",
      "957    Race Car                                                       1989   \n",
      "958    Race Car Repair                                                1989   \n",
      "1004   Four Car Auto Transport                                        NaN    \n",
      "1033   Car                                                            1987   \n",
      "1038   Police Car                                                     1991   \n",
      "1043   Race Car                                                       1988   \n",
      "...         ...                                                        ...   \n",
      "7898   Advent Calendar 2005 City (Day 19) RC Car                      2005   \n",
      "7945   Small Car                                                      2003   \n",
      "8011   Advent Calendar 2013, Star Wars (Day  5) - Twin-Pod Cloud Car  2013   \n",
      "8227   Advent Calendar 2011 City (Day 15) Police Car Base             2011   \n",
      "8228   Advent Calendar 2011 City (Day 16) Police Car Middle Section   2011   \n",
      "8229   Advent Calendar 2011 City (Day 17) Police Car Top Section      2011   \n",
      "8316   Piggy Car Escape                                               2016   \n",
      "8485   Police Car                                                     2008   \n",
      "8486   Muscle Car                                                     2008   \n",
      "8565   Advent Calendar 2009 City (Day 19) Child and RC Car            2009   \n",
      "8566   Advent Calendar 2009 City (Day 20) RC Car Cones and Flag       2009   \n",
      "8726   Car Transport Depot                                            1986   \n",
      "8807   Doctor's Car                                                   2006   \n",
      "8842   Advent Calendar 2007 City (Day 14) Car Wash Kiosk              2007   \n",
      "9279   Battle Cars                                                    2001   \n",
      "9288   Beach Buster / Police Car                                      1999   \n",
      "9319   3 In 1 Car / Amphipower                                        1996   \n",
      "9367   Hot Flame RC Car                                               2003   \n",
      "9387   Sports Car                                                     2009   \n",
      "9415   TECHNIC Car                                                    1998   \n",
      "9420   Future Car                                                     1997   \n",
      "9569   Police Car Bag Charm                                           2014   \n",
      "10117  Race Car Driver - Complete Set                                 2011   \n",
      "10276  Car Chassis                                                    NaN    \n",
      "10281  Test Car                                                       1988   \n",
      "10296  Super Car                                                      1994   \n",
      "10736  Twin-pod Cloud Car & Bespin                                    2012   \n",
      "10740  Green Car Set                                                  2003   \n",
      "10845  Car Project Set                                                2002   \n",
      "11164  TRU Emmet's car                                                2014   \n",
      "\n",
      "       theme_id  num_parts  \n",
      "27     233       272        \n",
      "50     237       410        \n",
      "53     237       325        \n",
      "142    239       151        \n",
      "154    236       365        \n",
      "182    397       893        \n",
      "295    504       42         \n",
      "325    504       13         \n",
      "376    591       349        \n",
      "446    217       11         \n",
      "505    456       4          \n",
      "600    494       77         \n",
      "705    50        32         \n",
      "715    99        101        \n",
      "717    99        136        \n",
      "722    12        26         \n",
      "845    273       168        \n",
      "852    273       20         \n",
      "858    235       81         \n",
      "918    82        46         \n",
      "922    235       112        \n",
      "926    82        39         \n",
      "933    85        175        \n",
      "939    82        52         \n",
      "957    82        32         \n",
      "958    82        79         \n",
      "1004   423       65         \n",
      "1033   467       23         \n",
      "1038   80        23         \n",
      "1043   82        30         \n",
      "...    ..        ..         \n",
      "7898   220       8          \n",
      "7945   300       28         \n",
      "8011   225       16         \n",
      "8227   220       14         \n",
      "8228   220       11         \n",
      "8229   220       7          \n",
      "8316   606       74         \n",
      "8485   112       35         \n",
      "8486   120       37         \n",
      "8565   220       12         \n",
      "8566   220       15         \n",
      "8726   234       341        \n",
      "8807   60        65         \n",
      "8842   220       11         \n",
      "9279   17        110        \n",
      "9288   1         168        \n",
      "9319   15        731        \n",
      "9367   117       256        \n",
      "9387   63        68         \n",
      "9415   11        471        \n",
      "9420   11        420        \n",
      "9569   503       0          \n",
      "10117  538       7          \n",
      "10276  4         676        \n",
      "10281  15        900        \n",
      "10296  15        1345       \n",
      "10736  177       78         \n",
      "10740  1         47         \n",
      "10845  524       79         \n",
      "11164  578       40         \n",
      "\n",
      "[187 rows x 5 columns]\n"
     ]
    },
    {
     "data": {
      "text/html": [
       "<div>\n",
       "<style scoped>\n",
       "    .dataframe tbody tr th:only-of-type {\n",
       "        vertical-align: middle;\n",
       "    }\n",
       "\n",
       "    .dataframe tbody tr th {\n",
       "        vertical-align: top;\n",
       "    }\n",
       "\n",
       "    .dataframe thead th {\n",
       "        text-align: right;\n",
       "    }\n",
       "</style>\n",
       "<table border=\"1\" class=\"dataframe\">\n",
       "  <thead>\n",
       "    <tr style=\"text-align: right;\">\n",
       "      <th></th>\n",
       "      <th>inventory_id</th>\n",
       "      <th>set_id</th>\n",
       "      <th>quantity</th>\n",
       "    </tr>\n",
       "  </thead>\n",
       "  <tbody>\n",
       "  </tbody>\n",
       "</table>\n",
       "</div>"
      ],
      "text/plain": [
       "Empty DataFrame\n",
       "Columns: [inventory_id, set_id, quantity]\n",
       "Index: []"
      ]
     },
     "execution_count": 381,
     "metadata": {},
     "output_type": "execute_result"
    }
   ],
   "source": [
    "# Write your code here\n",
    "\n",
    "# Get sets with \"car\\s\" in the name\n",
    "set_with_cars = sets[sets.name.str.contains(r'^(?:.*\\s)?cars?(?:\\s.*)?$', flags=re.IGNORECASE)]\n",
    "print(set_with_cars)\n",
    "\n",
    "inventory_cars = pd.merge(set_with_cars, inventory_sets, left_on='id', right_on='set_id')\n",
    "\n",
    "inventory_sets.query('set_id == 10025-1')"
   ]
  },
  {
   "cell_type": "markdown",
   "metadata": {},
   "source": [
    "__\\* Briefly explain your approach for every query here \\*__"
   ]
  },
  {
   "cell_type": "markdown",
   "metadata": {},
   "source": [
    "## Task B. Drop the bike\n",
    "\n",
    "*Los Angeles Metro* has been sharing publicly [anonymized *Metro Bike Share* trip data](https://bikeshare.metro.net/about/data/) under the [Open Database License (ODbL)](http://opendatacommons.org/licenses/odbl/1.0/).\n",
    "\n",
    "In this task you will again perform data wrangling and interpretation."
   ]
  },
  {
   "cell_type": "markdown",
   "metadata": {},
   "source": [
    "### B1. Loading phase\n",
    "Load the json file into a `DataFrame`.\n"
   ]
  },
  {
   "cell_type": "code",
   "execution_count": 7,
   "metadata": {},
   "outputs": [],
   "source": [
    "BIKES_DATA_FOLDER = DATA_FOLDER + '/bikes'"
   ]
  },
  {
   "cell_type": "code",
   "execution_count": 8,
   "metadata": {},
   "outputs": [],
   "source": [
    "# Write your code here"
   ]
  },
  {
   "cell_type": "markdown",
   "metadata": {},
   "source": [
    "### B2. Cleaning phase\n",
    "Describe the type and the value range of each attribute. Indicate and transform the attributes that are `Categorical`. Are there redundant columns in the dataset (i.e., are there columns whose value depends only on the value of another column)? What are the possible pitfalls of having such columns? Reduce *data redundancy* by extracting such columns to separate `DataFrames`. Which of the two formats (the initial one or the one with reduced data redundancy) is more susceptible to inconsistencies? At the end print for each `Dataframe` the *type of each column* and it's *shape*."
   ]
  },
  {
   "cell_type": "code",
   "execution_count": 9,
   "metadata": {},
   "outputs": [],
   "source": [
    "# Write your code here"
   ]
  },
  {
   "cell_type": "markdown",
   "metadata": {},
   "source": [
    "__\\* Briefly explain your approach here \\*__"
   ]
  },
  {
   "cell_type": "markdown",
   "metadata": {},
   "source": [
    "### B3. Querying phase\n",
    "Answer the following queries using the functionality of `Pandas`.\n",
    "\n",
    "1. Plot the *distribution* of the number of outgoing trips from each station in a histogram with 20 bins (Hint: each bin describes a range of counts, not stations).\n",
    "* Plot histograms for the *duration* and *trip starting hour in the day* attributes. For both the *duration*  and the *trip starting hour* use *discrete 1-hour intervals*. What do you observe in each plot? What are some popular values in the *duration* plot? Explain the local maxima and the trends you observe on the *trip starting hour* plot based on human behavior.\n",
    "* For each *trip route category*, calculate the proportion of trips by *passholder type* and present your results in *a stacked bar chart with normalized height*.\n",
    "* Considering only trips that begin in the morning hours (before noon), plot in *a single bar chart* the proportion of trips by *passholder type* and *trip route category*. Explain any outliers you observe.\n",
    "* Separate the hours of the day into two intervals that have (approximately) the same number of bikes leaving the stations. For each of the two intervals calculate the proportion of trips by *passholder type* and *trip route category*. Present your results in a `DataFrame` which has a unique, non-composite index. Does the proportion of trips depend on whether it is the first or second hour interval? Would the company have any significant benefit by creating a more complex paying scheme where monthly pass users would pay less in the first interval and (equally) more on the second one? Assume that the number of trips per interval will not change if the scheme changes."
   ]
  },
  {
   "cell_type": "code",
   "execution_count": 10,
   "metadata": {},
   "outputs": [],
   "source": [
    "# Write your code here"
   ]
  },
  {
   "cell_type": "markdown",
   "metadata": {},
   "source": [
    "__\\* Briefly explain your approach for every query here \\*__"
   ]
  }
 ],
 "metadata": {
  "kernelspec": {
   "display_name": "Python 3",
   "language": "python",
   "name": "python3"
  },
  "language_info": {
   "codemirror_mode": {
    "name": "ipython",
    "version": 3
   },
   "file_extension": ".py",
   "mimetype": "text/x-python",
   "name": "python",
   "nbconvert_exporter": "python",
   "pygments_lexer": "ipython3",
   "version": "3.6.5"
  }
 },
 "nbformat": 4,
 "nbformat_minor": 2
}
