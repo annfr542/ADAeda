{
 "cells": [
  {
   "cell_type": "code",
   "execution_count": 2,
   "metadata": {},
   "outputs": [],
   "source": [
    "# imports\n",
    "import pandas as pd\n",
    "import numpy as np\n",
    "from helpers import select_entries, clean_categories, custom_style_france_first, custom_style_usa_first\n",
    "import seaborn as sns\n",
    "import matplotlib.pyplot as plt\n",
    "import pygal\n",
    "from pygal.style import Style"
   ]
  },
  {
   "cell_type": "code",
   "execution_count": 3,
   "metadata": {},
   "outputs": [],
   "source": [
    "data_folder = \"./data/\""
   ]
  },
  {
   "cell_type": "code",
   "execution_count": 4,
   "metadata": {},
   "outputs": [],
   "source": [
    "france = pd.read_csv(data_folder + 'france_data.csv')\n",
    "usa = pd.read_csv(data_folder + 'us_data.csv')"
   ]
  },
  {
   "cell_type": "markdown",
   "metadata": {},
   "source": [
    "# Category: Snacks"
   ]
  },
  {
   "cell_type": "markdown",
   "metadata": {},
   "source": [
    "First we select all rows that is associated with snacks. Then we clean out the category to smaller categories."
   ]
  },
  {
   "cell_type": "code",
   "execution_count": 5,
   "metadata": {},
   "outputs": [],
   "source": [
    "snacks = [\n",
    "    'snack', 'bar', 'ice cream', 'chips', 'popcorn', 'cake', 'cookie', 'choco', 'sugary', 'salty'\n",
    "]"
   ]
  },
  {
   "cell_type": "code",
   "execution_count": 6,
   "metadata": {},
   "outputs": [],
   "source": [
    "snacks_france = select_entries(france, snacks)\n",
    "snacks_usa = select_entries(usa, snacks)"
   ]
  },
  {
   "cell_type": "code",
   "execution_count": 7,
   "metadata": {},
   "outputs": [
    {
     "name": "stdout",
     "output_type": "stream",
     "text": [
      "There are 22332 entries that are classified as snacks for France.\n",
      "There are 31544 entries that are classified as snacks for USA.\n"
     ]
    }
   ],
   "source": [
    "print(\"There are %d entries that are classified as snacks for France.\" % len(snacks_france))\n",
    "print(\"There are %d entries that are classified as snacks for USA.\" % len(snacks_usa))"
   ]
  },
  {
   "cell_type": "markdown",
   "metadata": {},
   "source": [
    "## Sugary snacks"
   ]
  },
  {
   "cell_type": "markdown",
   "metadata": {},
   "source": [
    "We create one category called `sugary_snacks`. This category will have all snacks defined as sugary and not salty. Then we will devide this category in smaller categories. We also create a dataframe to be used when calculating the distribution."
   ]
  },
  {
   "cell_type": "code",
   "execution_count": 8,
   "metadata": {},
   "outputs": [],
   "source": [
    "sugary = [\n",
    "    'choco', 'coco', 'cookie', 'candy', 'candies', 'candi', 'bonbon', 'fudge', 'caramel', 'bar', 'nougat',\n",
    "    'sugar', 'sucr', 'cake', 'gâteux', 'ice cream'\n",
    "]"
   ]
  },
  {
   "cell_type": "code",
   "execution_count": 9,
   "metadata": {},
   "outputs": [],
   "source": [
    "sugary_snacks_france = select_entries(snacks_france, sugary)\n",
    "sugary_snacks_usa = select_entries(snacks_usa, sugary)"
   ]
  },
  {
   "cell_type": "code",
   "execution_count": 10,
   "metadata": {},
   "outputs": [],
   "source": [
    "not_sugary_snacks = [\n",
    "    'popcorn', 'chips', 'patate', 'potato', 'Snacks salés'\n",
    "]\n",
    "not_sugary_snacks_ingredients = ['patate', 'salé', 'salt']"
   ]
  },
  {
   "cell_type": "code",
   "execution_count": 11,
   "metadata": {},
   "outputs": [],
   "source": [
    "sugary_snacks_france = clean_categories(sugary_snacks_france, not_sugary_snacks, not_sugary_snacks_ingredients)\n",
    "sugary_snacks_usa = clean_categories(sugary_snacks_usa, not_sugary_snacks, not_sugary_snacks_ingredients)"
   ]
  },
  {
   "cell_type": "code",
   "execution_count": 12,
   "metadata": {},
   "outputs": [
    {
     "name": "stdout",
     "output_type": "stream",
     "text": [
      "Number of sugary snacks in France: 18177\n",
      "Number of sugary snacks in USA: 11177\n"
     ]
    }
   ],
   "source": [
    "print(\"Number of sugary snacks in France: %d\" % len(sugary_snacks_france))\n",
    "print(\"Number of sugary snacks in USA: %d\" % len(sugary_snacks_usa))"
   ]
  },
  {
   "cell_type": "code",
   "execution_count": 13,
   "metadata": {},
   "outputs": [],
   "source": [
    "sugary_snacks_distr = pd.DataFrame(columns = ['category', 'count', 'country'])"
   ]
  },
  {
   "cell_type": "markdown",
   "metadata": {},
   "source": [
    "The category contains a lot of rows. We will divide the category into sub-categories `chocolates`, `bars`, `candy` and `cookies`. We start with chocolates."
   ]
  },
  {
   "cell_type": "code",
   "execution_count": 14,
   "metadata": {},
   "outputs": [],
   "source": [
    "chocolate = [\n",
    "    'chocolate', 'chocolat', 'choco', 'cacao', 'coco'\n",
    "]"
   ]
  },
  {
   "cell_type": "code",
   "execution_count": 15,
   "metadata": {},
   "outputs": [],
   "source": [
    "chocolates_france = select_entries(sugary_snacks_france, chocolate)\n",
    "chocolates_usa = select_entries(sugary_snacks_usa, chocolate)"
   ]
  },
  {
   "cell_type": "markdown",
   "metadata": {},
   "source": [
    "Looking at the frames we do not find any values that clearly should not be there and therefore we skip cleaning the category."
   ]
  },
  {
   "cell_type": "code",
   "execution_count": 16,
   "metadata": {},
   "outputs": [
    {
     "name": "stdout",
     "output_type": "stream",
     "text": [
      "Sugary snacks that are made with chocolate in France: 10703\n",
      "Sugary snacks that are made with chocolate in USA: 5742\n"
     ]
    }
   ],
   "source": [
    "print(\"Sugary snacks that are made with chocolate in France: %d\" % len(chocolates_france))\n",
    "print(\"Sugary snacks that are made with chocolate in USA: %d\" % len(chocolates_usa))"
   ]
  },
  {
   "cell_type": "code",
   "execution_count": 17,
   "metadata": {},
   "outputs": [],
   "source": [
    "sugary_snacks_distr = sugary_snacks_distr.append(\n",
    "    pd.DataFrame([['Chocolates', len(chocolates_france), 'France']], columns=['category', 'count', 'country'])\n",
    ")\n",
    "sugary_snacks_distr = sugary_snacks_distr.append(\n",
    "    pd.DataFrame([['Chocolates', len(chocolates_usa), 'USA']], columns=['category', 'count', 'country'])\n",
    ")"
   ]
  },
  {
   "cell_type": "markdown",
   "metadata": {},
   "source": [
    "We then move forward to `bars`."
   ]
  },
  {
   "cell_type": "code",
   "execution_count": 18,
   "metadata": {},
   "outputs": [],
   "source": [
    "bars = ['bar', 'bars']"
   ]
  },
  {
   "cell_type": "code",
   "execution_count": 19,
   "metadata": {},
   "outputs": [],
   "source": [
    "bars_france = select_entries(sugary_snacks_france, bars)\n",
    "bars_usa = select_entries(sugary_snacks_usa, bars)"
   ]
  },
  {
   "cell_type": "markdown",
   "metadata": {},
   "source": [
    "We look at the dataframes to decide what should not be classified as bars and then remove based on words that are not associated with bars. Note that we keep all bars that are made with chocolate even though these are also in the `chocolates` category."
   ]
  },
  {
   "cell_type": "code",
   "execution_count": 20,
   "metadata": {},
   "outputs": [],
   "source": [
    "not_bars = ['barbecue', 'rhubarb', 'barbe', 'baratte', 'barley']"
   ]
  },
  {
   "cell_type": "code",
   "execution_count": 21,
   "metadata": {},
   "outputs": [],
   "source": [
    "bars_france = clean_categories(bars_france, not_bars)\n",
    "bars_usa = clean_categories(bars_usa, not_bars)"
   ]
  },
  {
   "cell_type": "code",
   "execution_count": 22,
   "metadata": {},
   "outputs": [
    {
     "name": "stdout",
     "output_type": "stream",
     "text": [
      "Number of bars in France: 2238\n",
      "Number of bars in the USA: 2261\n"
     ]
    }
   ],
   "source": [
    "print('Number of bars in France: %d' % len(bars_france))\n",
    "print('Number of bars in the USA: %d' % len(bars_usa))"
   ]
  },
  {
   "cell_type": "code",
   "execution_count": 23,
   "metadata": {},
   "outputs": [],
   "source": [
    "sugary_snacks_distr = sugary_snacks_distr.append(\n",
    "    pd.DataFrame([['Bars', len(bars_france), 'France']], columns=['category', 'count', 'country'])\n",
    ")\n",
    "sugary_snacks_distr = sugary_snacks_distr.append(\n",
    "    pd.DataFrame([['Bars', len(bars_usa), 'USA']], columns=['category', 'count', 'country'])\n",
    ")"
   ]
  },
  {
   "cell_type": "markdown",
   "metadata": {},
   "source": [
    "Next up is `candy`."
   ]
  },
  {
   "cell_type": "code",
   "execution_count": 24,
   "metadata": {},
   "outputs": [],
   "source": [
    "candy = [\n",
    "    'candy', 'candies', 'bonbon', 'candi', 'confectioneries', 'pastilles', 'mints', 'caramels', 'gummies',\n",
    "    'lollipop'\n",
    "]"
   ]
  },
  {
   "cell_type": "code",
   "execution_count": 25,
   "metadata": {},
   "outputs": [],
   "source": [
    "candy_france = select_entries(sugary_snacks_france, candy)\n",
    "candy_usa = select_entries(sugary_snacks_usa, candy)"
   ]
  },
  {
   "cell_type": "markdown",
   "metadata": {},
   "source": [
    "Looking at the frames no values seem to be out of place."
   ]
  },
  {
   "cell_type": "code",
   "execution_count": 26,
   "metadata": {},
   "outputs": [
    {
     "name": "stdout",
     "output_type": "stream",
     "text": [
      "Rows classified as candy in France: 1972\n",
      "Rows classified as candy in the USA: 419\n"
     ]
    }
   ],
   "source": [
    "print(\"Rows classified as candy in France: %d\" % len(candy_france))\n",
    "print(\"Rows classified as candy in the USA: %d\" % len(candy_usa))"
   ]
  },
  {
   "cell_type": "code",
   "execution_count": 27,
   "metadata": {},
   "outputs": [],
   "source": [
    "sugary_snacks_distr = sugary_snacks_distr.append(\n",
    "    pd.DataFrame([['Candy', len(candy_france), 'France']], columns=['category', 'count', 'country'])\n",
    ")\n",
    "sugary_snacks_distr = sugary_snacks_distr.append(\n",
    "    pd.DataFrame([['Candy', len(candy_usa), 'USA']], columns=['category', 'count', 'country'])\n",
    ")"
   ]
  },
  {
   "cell_type": "markdown",
   "metadata": {},
   "source": [
    "Lastly we create the category `cookies`."
   ]
  },
  {
   "cell_type": "code",
   "execution_count": 28,
   "metadata": {},
   "outputs": [],
   "source": [
    "cookies_france = select_entries(sugary_snacks_france, ['cookie', 'biscuit'])\n",
    "cookies_usa = select_entries(sugary_snacks_usa, ['cookie', 'biscuit'])"
   ]
  },
  {
   "cell_type": "code",
   "execution_count": 29,
   "metadata": {},
   "outputs": [],
   "source": [
    "not_cookies = [\n",
    "    'brownie', 'muffin', 'candy', 'candies', 'candi', 'kit kat', 'tourteaux fromagés', 'gaufres', 'gâteau à la',\n",
    "    'cakes ', 'fondants ', 'pancake', 'ice cream'\n",
    "]"
   ]
  },
  {
   "cell_type": "code",
   "execution_count": 30,
   "metadata": {},
   "outputs": [],
   "source": [
    "cookies_france = clean_categories(cookies_france, not_cookies)\n",
    "cookies_usa = clean_categories(cookies_usa, not_cookies)"
   ]
  },
  {
   "cell_type": "code",
   "execution_count": 31,
   "metadata": {},
   "outputs": [
    {
     "name": "stdout",
     "output_type": "stream",
     "text": [
      "Number of cookies in France: 4192\n",
      "Number of cookies in USA: 1822\n"
     ]
    }
   ],
   "source": [
    "print(\"Number of cookies in France: %d\" % len(cookies_france))\n",
    "print(\"Number of cookies in USA: %d\" % len(cookies_usa))"
   ]
  },
  {
   "cell_type": "code",
   "execution_count": 32,
   "metadata": {},
   "outputs": [],
   "source": [
    "sugary_snacks_distr = sugary_snacks_distr.append(\n",
    "    pd.DataFrame([['Cookies', len(cookies_france), 'France']], columns=['category', 'count', 'country'])\n",
    ")\n",
    "sugary_snacks_distr = sugary_snacks_distr.append(\n",
    "    pd.DataFrame([['Cookies', len(cookies_usa), 'USA']], columns=['category', 'count', 'country'])\n",
    ")"
   ]
  },
  {
   "cell_type": "markdown",
   "metadata": {},
   "source": [
    "## Salty snacks"
   ]
  },
  {
   "cell_type": "markdown",
   "metadata": {},
   "source": [
    "The second big category will be `salty_snacks`. We will then divide this category into smaller categories."
   ]
  },
  {
   "cell_type": "code",
   "execution_count": 33,
   "metadata": {},
   "outputs": [],
   "source": [
    "salty = [\n",
    "    'salt', 'salé', 'chips', 'popcorn', 'sodium', 'crisps'\n",
    "]"
   ]
  },
  {
   "cell_type": "code",
   "execution_count": 34,
   "metadata": {},
   "outputs": [],
   "source": [
    "salty_snacks_france = select_entries(snacks_france, salty)\n",
    "salty_snacks_usa = select_entries(snacks_usa, salty)"
   ]
  },
  {
   "cell_type": "code",
   "execution_count": 35,
   "metadata": {},
   "outputs": [],
   "source": [
    "not_salty = [\n",
    "    'sucr', 'sugar', 'cake', 'caramel'\n",
    "]"
   ]
  },
  {
   "cell_type": "code",
   "execution_count": 36,
   "metadata": {},
   "outputs": [],
   "source": [
    "salty_snacks_france = clean_categories(salty_snacks_france, not_salty)\n",
    "salty_snacks_usa = clean_categories(salty_snacks_usa, not_salty)"
   ]
  },
  {
   "cell_type": "code",
   "execution_count": 37,
   "metadata": {},
   "outputs": [
    {
     "name": "stdout",
     "output_type": "stream",
     "text": [
      "Number of salty snacks in France: 2677\n",
      "Number of salty snacks in USA: 5692\n"
     ]
    }
   ],
   "source": [
    "print(\"Number of salty snacks in France: %d\" % len(salty_snacks_france))\n",
    "print(\"Number of salty snacks in USA: %d\" % len(salty_snacks_usa))"
   ]
  },
  {
   "cell_type": "code",
   "execution_count": 38,
   "metadata": {},
   "outputs": [],
   "source": [
    "salty_snacks_distr = pd.DataFrame(columns = ['category', 'count', 'country'])"
   ]
  },
  {
   "cell_type": "markdown",
   "metadata": {},
   "source": [
    "We divide the category into `chips` and `popcorn`, starting out with `chips`."
   ]
  },
  {
   "cell_type": "code",
   "execution_count": 39,
   "metadata": {},
   "outputs": [],
   "source": [
    "chips_france = select_entries(salty_snacks_france, ['chips', 'crisps'])\n",
    "chips_usa = select_entries(salty_snacks_usa, ['chips', 'crisps'])"
   ]
  },
  {
   "cell_type": "code",
   "execution_count": 40,
   "metadata": {},
   "outputs": [
    {
     "name": "stdout",
     "output_type": "stream",
     "text": [
      "Number of chips in France: 1564\n",
      "Number of chips in USA: 4102\n"
     ]
    }
   ],
   "source": [
    "print(\"Number of chips in France: %d\" % len(chips_france))\n",
    "print(\"Number of chips in USA: %d\" % len(chips_usa))"
   ]
  },
  {
   "cell_type": "code",
   "execution_count": 41,
   "metadata": {},
   "outputs": [],
   "source": [
    "salty_snacks_distr = salty_snacks_distr.append(\n",
    "    pd.DataFrame([['Chips', len(chips_france), 'France']], columns=['category', 'count', 'country'])\n",
    ")\n",
    "salty_snacks_distr = salty_snacks_distr.append(\n",
    "    pd.DataFrame([['Chips', len(chips_usa), 'USA']], columns=['category', 'count', 'country'])\n",
    ")"
   ]
  },
  {
   "cell_type": "markdown",
   "metadata": {},
   "source": [
    "We then proceed to `popcorn`."
   ]
  },
  {
   "cell_type": "code",
   "execution_count": 42,
   "metadata": {},
   "outputs": [],
   "source": [
    "popcorn_france = select_entries(salty_snacks_france, ['popcorn'])\n",
    "popcorn_usa = select_entries(salty_snacks_usa, ['popcorn'])"
   ]
  },
  {
   "cell_type": "code",
   "execution_count": 43,
   "metadata": {},
   "outputs": [
    {
     "name": "stdout",
     "output_type": "stream",
     "text": [
      "Number of popcorn in France: 103\n",
      "Number of popcorn in USA: 1110\n"
     ]
    }
   ],
   "source": [
    "print(\"Number of popcorn in France: %d\" % len(popcorn_france))\n",
    "print(\"Number of popcorn in USA: %d\" % len(popcorn_usa))"
   ]
  },
  {
   "cell_type": "code",
   "execution_count": 44,
   "metadata": {},
   "outputs": [],
   "source": [
    "salty_snacks_distr = salty_snacks_distr.append(\n",
    "    pd.DataFrame([['Popcorn', len(popcorn_france), 'France']], columns=['category', 'count', 'country'])\n",
    ")\n",
    "salty_snacks_distr = salty_snacks_distr.append(\n",
    "    pd.DataFrame([['Popcorn', len(popcorn_usa), 'USA']], columns=['category', 'count', 'country'])\n",
    ")"
   ]
  },
  {
   "cell_type": "markdown",
   "metadata": {},
   "source": [
    "# Distribution of snacks"
   ]
  },
  {
   "cell_type": "markdown",
   "metadata": {},
   "source": [
    "We start by creating dataframes for both sugary and salty snacks."
   ]
  },
  {
   "cell_type": "code",
   "execution_count": 45,
   "metadata": {},
   "outputs": [],
   "source": [
    "sugary_snacks_distr['procent'] = sugary_snacks_distr['count'].apply(\n",
    "    lambda x: x/sugary_snacks_distr['count'].sum()\n",
    ")"
   ]
  },
  {
   "cell_type": "code",
   "execution_count": 46,
   "metadata": {},
   "outputs": [],
   "source": [
    "salty_snacks_distr['procent'] = salty_snacks_distr['count'].apply(\n",
    "    lambda x: x/salty_snacks_distr['count'].sum()\n",
    ")"
   ]
  },
  {
   "cell_type": "code",
   "execution_count": 47,
   "metadata": {},
   "outputs": [
    {
     "data": {
      "text/html": [
       "<div>\n",
       "<style scoped>\n",
       "    .dataframe tbody tr th:only-of-type {\n",
       "        vertical-align: middle;\n",
       "    }\n",
       "\n",
       "    .dataframe tbody tr th {\n",
       "        vertical-align: top;\n",
       "    }\n",
       "\n",
       "    .dataframe thead th {\n",
       "        text-align: right;\n",
       "    }\n",
       "</style>\n",
       "<table border=\"1\" class=\"dataframe\">\n",
       "  <thead>\n",
       "    <tr style=\"text-align: right;\">\n",
       "      <th></th>\n",
       "      <th>category</th>\n",
       "      <th>count</th>\n",
       "      <th>country</th>\n",
       "      <th>procent</th>\n",
       "    </tr>\n",
       "  </thead>\n",
       "  <tbody>\n",
       "    <tr>\n",
       "      <th>0</th>\n",
       "      <td>Chips</td>\n",
       "      <td>1564</td>\n",
       "      <td>France</td>\n",
       "      <td>0.227359</td>\n",
       "    </tr>\n",
       "    <tr>\n",
       "      <th>0</th>\n",
       "      <td>Chips</td>\n",
       "      <td>4102</td>\n",
       "      <td>USA</td>\n",
       "      <td>0.596308</td>\n",
       "    </tr>\n",
       "    <tr>\n",
       "      <th>0</th>\n",
       "      <td>Popcorn</td>\n",
       "      <td>103</td>\n",
       "      <td>France</td>\n",
       "      <td>0.014973</td>\n",
       "    </tr>\n",
       "    <tr>\n",
       "      <th>0</th>\n",
       "      <td>Popcorn</td>\n",
       "      <td>1110</td>\n",
       "      <td>USA</td>\n",
       "      <td>0.161361</td>\n",
       "    </tr>\n",
       "  </tbody>\n",
       "</table>\n",
       "</div>"
      ],
      "text/plain": [
       "  category count country   procent\n",
       "0    Chips  1564  France  0.227359\n",
       "0    Chips  4102     USA  0.596308\n",
       "0  Popcorn   103  France  0.014973\n",
       "0  Popcorn  1110     USA  0.161361"
      ]
     },
     "execution_count": 47,
     "metadata": {},
     "output_type": "execute_result"
    }
   ],
   "source": [
    "salty_snacks_distr"
   ]
  },
  {
   "cell_type": "code",
   "execution_count": 48,
   "metadata": {},
   "outputs": [
    {
     "data": {
      "image/png": "[encoded data removed]",
      "text/plain": [
       "<Figure size 432x288 with 1 Axes>"
      ]
     },
     "metadata": {},
     "output_type": "display_data"
    }
   ],
   "source": [
    "sns.set(style=\"whitegrid\")\n",
    "\n",
    "g = sns.barplot(x='category', y=\"procent\", hue=\"country\", data=sugary_snacks_distr, palette=\"muted\")"
   ]
  },
  {
   "cell_type": "code",
   "execution_count": 49,
   "metadata": {},
   "outputs": [
    {
     "data": {
      "image/png": "[encoded data removed]",
      "text/plain": [
       "<Figure size 432x288 with 1 Axes>"
      ]
     },
     "metadata": {},
     "output_type": "display_data"
    }
   ],
   "source": [
    "sns.set(style=\"whitegrid\")\n",
    "\n",
    "g = sns.barplot(x='category', y=\"procent\", hue=\"country\", data=salty_snacks_distr, palette=\"muted\")"
   ]
  },
  {
   "cell_type": "code",
   "execution_count": 50,
   "metadata": {},
   "outputs": [],
   "source": [
    "sugary_france_distr = sugary_snacks_distr[sugary_snacks_distr.country == 'France']\n",
    "sugary_usa_distr = sugary_snacks_distr[sugary_snacks_distr.country == 'USA']\n",
    "salty_france_distr = salty_snacks_distr[salty_snacks_distr.country == 'France']\n",
    "salty_usa_distr = salty_snacks_distr[salty_snacks_distr.country == 'USA']"
   ]
  },
  {
   "cell_type": "code",
   "execution_count": 51,
   "metadata": {},
   "outputs": [],
   "source": [
    "bar_chart_distri = pygal.Bar(style=custom_style_france_first)\n",
    "bar_chart_distri.x_title = 'Categories'\n",
    "bar_chart_distri.y_title = 'Percent of total sugary snacks'\n",
    "bar_chart_distri.x_labels = list(sugary_snacks_distr.category.unique())\n",
    "bar_chart_distri.y_labels = [\n",
    "    {'label': '0%', 'value': 0.0},\n",
    "    {'label': '10%', 'value': 0.1},\n",
    "    {'label': '20%', 'value': 0.2},\n",
    "    {'label': '30%', 'value': 0.3},\n",
    "    {'label': '40%', 'value': 0.4},\n",
    "    {'label': '50%', 'value': 0.5},\n",
    "    {'label': '60%', 'value': 0.6}\n",
    "]\n",
    "bar_chart_distri.add('France', sugary_france_distr['procent'], formatter=lambda y: \"{0:.1f}%\".format(y*100))\n",
    "bar_chart_distri.add('USA', sugary_usa_distr['procent'], formatter=lambda y: \"{0:.1f}%\".format(y*100))\n",
    "bar_chart_distri.render_to_file('sugary_snacks_distribution.svg')  "
   ]
  },
  {
   "cell_type": "code",
   "execution_count": 54,
   "metadata": {},
   "outputs": [],
   "source": [
    "bar_chart_distri2 = pygal.Bar(style=custom_style_france_first)\n",
    "bar_chart_distri2.x_title = 'Categories'\n",
    "bar_chart_distri2.y_title = 'Percent of total salty snacks'\n",
    "bar_chart_distri2.x_labels = list(salty_snacks_distr.category.unique())\n",
    "bar_chart_distri2.y_labels = [\n",
    "    {'label': '0%', 'value': 0.0},\n",
    "    {'label': '10%', 'value': 0.1},\n",
    "    {'label': '20%', 'value': 0.2},\n",
    "    {'label': '30%', 'value': 0.3},\n",
    "    {'label': '40%', 'value': 0.4},\n",
    "    {'label': '50%', 'value': 0.5},\n",
    "    {'label': '60%', 'value': 0.6}\n",
    "]\n",
    "bar_chart_distri2.add('France', salty_france_distr['procent'], formatter=lambda y: \"{0:.1f}%\".format(y*100))\n",
    "bar_chart_distri2.add('USA', salty_usa_distr['procent'], formatter=lambda y: \"{0:.1f}%\".format(y*100))\n",
    "bar_chart_distri2.render_to_file('salty_snacks_distribution.svg')  "
   ]
  },
  {
   "cell_type": "markdown",
   "metadata": {},
   "source": [
    "# Nutrition"
   ]
  },
  {
   "cell_type": "markdown",
   "metadata": {},
   "source": [
    "We'll start by looking at the sugar content in `sugary_snacks`."
   ]
  },
  {
   "cell_type": "code",
   "execution_count": 151,
   "metadata": {},
   "outputs": [],
   "source": [
    "france_nutrition = sugary_snacks_france[['sugars_100g','energy_100g',\n",
    "'carbohydrates_100g']].astype(float).replace({0.0:np.nan})\n",
    "usa_nutrition = sugary_snacks_usa[['sugars_100g','energy_100g',\n",
    "'carbohydrates_100g']].astype(float).replace({0.0:np.nan})"
   ]
  },
  {
   "cell_type": "code",
   "execution_count": 172,
   "metadata": {},
   "outputs": [],
   "source": [
    "box_chart = pygal.Box(style=custom_style_france_first)\n",
    "box_chart.title = 'Sugar per 100g'\n",
    "box_chart.add('France', france_nutrition['sugars_100g'].dropna())\n",
    "box_chart.add('USA', usa_nutrition['sugars_100g'].dropna())\n",
    "box_chart.render_to_file('snacks_sugars.svg')  "
   ]
  },
  {
   "cell_type": "code",
   "execution_count": 173,
   "metadata": {},
   "outputs": [],
   "source": [
    "box_chart = pygal.Box(style=custom_style_france_first)\n",
    "box_chart.title = 'Energy per 100g'\n",
    "box_chart.add('France', france_nutrition['energy_100g'].dropna())\n",
    "box_chart.add('USA', usa_nutrition['energy_100g'].dropna())\n",
    "box_chart.render_to_file('snacks_sugary_energy.svg')  "
   ]
  },
  {
   "cell_type": "markdown",
   "metadata": {},
   "source": [
    "The result is hard to see because we have outliers. We will remove these for this visualisation to see the distribution clearly."
   ]
  },
  {
   "cell_type": "code",
   "execution_count": 154,
   "metadata": {},
   "outputs": [],
   "source": [
    "france_nutrition_cleaned = france_nutrition.copy()\n",
    "usa_nutrition_cleaned = usa_nutrition.copy()"
   ]
  },
  {
   "cell_type": "code",
   "execution_count": 155,
   "metadata": {},
   "outputs": [],
   "source": [
    "mask_max_f = france_nutrition_cleaned.energy_100g > 3000\n",
    "france_nutrition_cleaned.loc[mask_max_f, 'energy_100g'] = np.nan\n",
    "mask_max_u = usa_nutrition_cleaned.energy_100g > 3000\n",
    "usa_nutrition_cleaned.loc[mask_max_u, 'energy_100g'] = np.nan"
   ]
  },
  {
   "cell_type": "markdown",
   "metadata": {},
   "source": [
    "Removing outliers gives a plot that more clearly shows the distribution in the countries."
   ]
  },
  {
   "cell_type": "code",
   "execution_count": 171,
   "metadata": {},
   "outputs": [],
   "source": [
    "box_chart = pygal.Box(style=custom_style_france_first)\n",
    "box_chart.title = 'Energy per 100g'\n",
    "box_chart.add('France', france_nutrition_cleaned['energy_100g'].dropna())\n",
    "box_chart.add('USA', usa_nutrition_cleaned['energy_100g'].dropna())\n",
    "box_chart.render_to_file('snacks_sugary_energy_cleaned.svg') "
   ]
  },
  {
   "cell_type": "markdown",
   "metadata": {},
   "source": [
    "We try another way, by using a histogram instead without removing the outliers."
   ]
  },
  {
   "cell_type": "code",
   "execution_count": 157,
   "metadata": {},
   "outputs": [],
   "source": [
    "hist, bin_edges = np.histogram(france_nutrition.energy_100g.dropna(), density=True)\n",
    "a = pd.cut(france_nutrition.energy_100g.dropna(), np.insert(bin_edges, 0, 0))"
   ]
  },
  {
   "cell_type": "code",
   "execution_count": 158,
   "metadata": {},
   "outputs": [],
   "source": [
    "bin_edges = np.sort(bin_edges)"
   ]
  },
  {
   "cell_type": "code",
   "execution_count": 159,
   "metadata": {},
   "outputs": [],
   "source": [
    "bins = list(zip(a.value_counts().sort_index(), np.insert(bin_edges[:-1], 0, 0), bin_edges))"
   ]
  },
  {
   "cell_type": "code",
   "execution_count": 160,
   "metadata": {},
   "outputs": [],
   "source": [
    "hista = pygal.Histogram()\n",
    "hista.title = 'Energy per 100g'\n",
    "hista.add('France', bins)\n",
    "hista.render_to_file('snacks_sugary_energy_histogram.svg') "
   ]
  },
  {
   "cell_type": "code",
   "execution_count": 161,
   "metadata": {},
   "outputs": [],
   "source": [
    "hist, bin_edges2 = np.histogram(usa_nutrition.energy_100g.dropna(), density=True)\n",
    "b = pd.cut(usa_nutrition.energy_100g.dropna(), np.insert(bin_edges2, 0, 0))"
   ]
  },
  {
   "cell_type": "code",
   "execution_count": 163,
   "metadata": {},
   "outputs": [],
   "source": [
    "chart = pygal.StackedLine(fill=True, style=custom_style)\n",
    "chart.add('USA', b.value_counts().sort_index())\n",
    "chart.add('France', a.value_counts().sort_index())\n",
    "chart.render_to_file('sugary_snacks_energy_lines.svg')"
   ]
  },
  {
   "cell_type": "code",
   "execution_count": 164,
   "metadata": {},
   "outputs": [
    {
     "data": {
      "text/plain": [
       "(2.35, 23122.015]          10938\n",
       "(208079.335, 231199.0]         1\n",
       "(46241.68, 69361.345]          1\n",
       "(23122.015, 46241.68]          1\n",
       "(0.0, 2.35]                    1\n",
       "(184959.67, 208079.335]        0\n",
       "(161840.005, 184959.67]        0\n",
       "(138720.34, 161840.005]        0\n",
       "(115600.675, 138720.34]        0\n",
       "(92481.01, 115600.675]         0\n",
       "(69361.345, 92481.01]          0\n",
       "Name: energy_100g, dtype: int64"
      ]
     },
     "execution_count": 164,
     "metadata": {},
     "output_type": "execute_result"
    }
   ],
   "source": [
    "b.value_counts()"
   ]
  }
 ],
 "metadata": {
  "kernelspec": {
   "display_name": "Python 3",
   "language": "python",
   "name": "python3"
  },
  "language_info": {
   "codemirror_mode": {
    "name": "ipython",
    "version": 3
   },
   "file_extension": ".py",
   "mimetype": "text/x-python",
   "name": "python",
   "nbconvert_exporter": "python",
   "pygments_lexer": "ipython3",
   "version": "3.6.7"
  }
 },
 "nbformat": 4,
 "nbformat_minor": 2
}
