{
 "cells": [
  {
   "cell_type": "code",
   "execution_count": 91,
   "metadata": {},
   "outputs": [],
   "source": [
    "# imports\n",
    "import pandas as pd\n",
    "import numpy as np\n",
    "from helpers import select_entries, clean_categories, custom_style_france_first, custom_style_usa_first\n",
    "import seaborn as sns\n",
    "import matplotlib.pyplot as plt\n",
    "import pygal\n",
    "import math\n",
    "from pygal.style import Style"
   ]
  },
  {
   "cell_type": "code",
   "execution_count": 92,
   "metadata": {},
   "outputs": [],
   "source": [
    "data_folder = \"./data/\""
   ]
  },
  {
   "cell_type": "code",
   "execution_count": 93,
   "metadata": {},
   "outputs": [],
   "source": [
    "france = pd.read_csv(data_folder + 'france_data.csv')\n",
    "usa = pd.read_csv(data_folder + 'us_data.csv')"
   ]
  },
  {
   "cell_type": "markdown",
   "metadata": {},
   "source": [
    "# Category: Snacks"
   ]
  },
  {
   "cell_type": "markdown",
   "metadata": {},
   "source": [
    "First we select all rows that is associated with snacks. Then we clean out the category to smaller categories."
   ]
  },
  {
   "cell_type": "code",
   "execution_count": 94,
   "metadata": {},
   "outputs": [],
   "source": [
    "snacks = [\n",
    "    'snack', 'bar', 'ice cream', 'chips', 'popcorn', 'cake', 'cookie', 'choco', 'sugary', 'salty'\n",
    "]"
   ]
  },
  {
   "cell_type": "code",
   "execution_count": 95,
   "metadata": {},
   "outputs": [],
   "source": [
    "snacks_france = select_entries(france, snacks)\n",
    "snacks_usa = select_entries(usa, snacks)"
   ]
  },
  {
   "cell_type": "code",
   "execution_count": 96,
   "metadata": {},
   "outputs": [
    {
     "name": "stdout",
     "output_type": "stream",
     "text": [
      "There are 22364 entries that are classified as snacks for France.\n",
      "There are 31544 entries that are classified as snacks for USA.\n"
     ]
    }
   ],
   "source": [
    "print(\"There are %d entries that are classified as snacks for France.\" % len(snacks_france))\n",
    "print(\"There are %d entries that are classified as snacks for USA.\" % len(snacks_usa))"
   ]
  },
  {
   "cell_type": "markdown",
   "metadata": {},
   "source": [
    "## Sugary snacks"
   ]
  },
  {
   "cell_type": "markdown",
   "metadata": {},
   "source": [
    "We create one category called `sugary_snacks`. This category will have all snacks defined as sugary and not salty. Then we will devide this category in smaller categories. We also create a dataframe to be used when calculating the distribution."
   ]
  },
  {
   "cell_type": "code",
   "execution_count": 97,
   "metadata": {},
   "outputs": [],
   "source": [
    "sugary = [\n",
    "    'choco', 'coco', 'cookie', 'candy', 'candies', 'candi', 'bonbon', 'fudge', 'caramel', 'bar', 'nougat',\n",
    "    'sugar', 'sucr', 'cake', 'gâteux', 'ice cream'\n",
    "]"
   ]
  },
  {
   "cell_type": "code",
   "execution_count": 98,
   "metadata": {},
   "outputs": [],
   "source": [
    "sugary_snacks_france = select_entries(snacks_france, sugary)\n",
    "sugary_snacks_usa = select_entries(snacks_usa, sugary)"
   ]
  },
  {
   "cell_type": "code",
   "execution_count": 99,
   "metadata": {},
   "outputs": [],
   "source": [
    "not_sugary_snacks = [\n",
    "    'popcorn', 'chips', 'patate', 'potato', 'Snacks salés'\n",
    "]\n",
    "not_sugary_snacks_ingredients = ['patate', 'salé', 'salt']"
   ]
  },
  {
   "cell_type": "code",
   "execution_count": 100,
   "metadata": {},
   "outputs": [],
   "source": [
    "sugary_snacks_france = clean_categories(sugary_snacks_france, not_sugary_snacks, not_sugary_snacks_ingredients)\n",
    "sugary_snacks_usa = clean_categories(sugary_snacks_usa, not_sugary_snacks, not_sugary_snacks_ingredients)"
   ]
  },
  {
   "cell_type": "code",
   "execution_count": 101,
   "metadata": {},
   "outputs": [
    {
     "name": "stdout",
     "output_type": "stream",
     "text": [
      "Number of sugary snacks in France: 18164\n",
      "Number of sugary snacks in USA: 11177\n"
     ]
    }
   ],
   "source": [
    "print(\"Number of sugary snacks in France: %d\" % len(sugary_snacks_france))\n",
    "print(\"Number of sugary snacks in USA: %d\" % len(sugary_snacks_usa))"
   ]
  },
  {
   "cell_type": "code",
   "execution_count": 102,
   "metadata": {},
   "outputs": [],
   "source": [
    "sugary_snacks_distr = pd.DataFrame(columns = ['category', 'count', 'country'])"
   ]
  },
  {
   "cell_type": "markdown",
   "metadata": {},
   "source": [
    "The category contains a lot of rows. We will divide the category into sub-categories `chocolates`, `bars`, `candy` and `cookies`. We start with chocolates."
   ]
  },
  {
   "cell_type": "code",
   "execution_count": 103,
   "metadata": {},
   "outputs": [],
   "source": [
    "chocolate = [\n",
    "    'chocolate', 'chocolat', 'choco', 'cacao', 'coco'\n",
    "]"
   ]
  },
  {
   "cell_type": "code",
   "execution_count": 104,
   "metadata": {},
   "outputs": [],
   "source": [
    "chocolates_france = select_entries(sugary_snacks_france, chocolate)\n",
    "chocolates_usa = select_entries(sugary_snacks_usa, chocolate)"
   ]
  },
  {
   "cell_type": "markdown",
   "metadata": {},
   "source": [
    "Looking at the frames we do not find any values that clearly should not be there and therefore we skip cleaning the category."
   ]
  },
  {
   "cell_type": "code",
   "execution_count": 105,
   "metadata": {},
   "outputs": [
    {
     "name": "stdout",
     "output_type": "stream",
     "text": [
      "Sugary snacks that are made with chocolate in France: 10613\n",
      "Sugary snacks that are made with chocolate in USA: 5742\n"
     ]
    }
   ],
   "source": [
    "print(\"Sugary snacks that are made with chocolate in France: %d\" % len(chocolates_france))\n",
    "print(\"Sugary snacks that are made with chocolate in USA: %d\" % len(chocolates_usa))"
   ]
  },
  {
   "cell_type": "code",
   "execution_count": 106,
   "metadata": {},
   "outputs": [],
   "source": [
    "sugary_snacks_distr = sugary_snacks_distr.append(\n",
    "    pd.DataFrame([['Chocolates', len(chocolates_france), 'France']], columns=['category', 'count', 'country'])\n",
    ")\n",
    "sugary_snacks_distr = sugary_snacks_distr.append(\n",
    "    pd.DataFrame([['Chocolates', len(chocolates_usa), 'USA']], columns=['category', 'count', 'country'])\n",
    ")"
   ]
  },
  {
   "cell_type": "markdown",
   "metadata": {},
   "source": [
    "We then move forward to `bars`."
   ]
  },
  {
   "cell_type": "code",
   "execution_count": 107,
   "metadata": {},
   "outputs": [],
   "source": [
    "bars = ['bar', 'bars']"
   ]
  },
  {
   "cell_type": "code",
   "execution_count": 108,
   "metadata": {},
   "outputs": [],
   "source": [
    "bars_france = select_entries(sugary_snacks_france, bars)\n",
    "bars_usa = select_entries(sugary_snacks_usa, bars)"
   ]
  },
  {
   "cell_type": "markdown",
   "metadata": {},
   "source": [
    "We look at the dataframes to decide what should not be classified as bars and then remove based on words that are not associated with bars. Note that we keep all bars that are made with chocolate even though these are also in the `chocolates` category."
   ]
  },
  {
   "cell_type": "code",
   "execution_count": 109,
   "metadata": {},
   "outputs": [],
   "source": [
    "not_bars = ['barbecue', 'rhubarb', 'barbe', 'baratte', 'barley']"
   ]
  },
  {
   "cell_type": "code",
   "execution_count": 110,
   "metadata": {},
   "outputs": [],
   "source": [
    "bars_france = clean_categories(bars_france, not_bars)\n",
    "bars_usa = clean_categories(bars_usa, not_bars)"
   ]
  },
  {
   "cell_type": "code",
   "execution_count": 111,
   "metadata": {},
   "outputs": [
    {
     "name": "stdout",
     "output_type": "stream",
     "text": [
      "Number of bars in France: 2265\n",
      "Number of bars in the USA: 2261\n"
     ]
    }
   ],
   "source": [
    "print('Number of bars in France: %d' % len(bars_france))\n",
    "print('Number of bars in the USA: %d' % len(bars_usa))"
   ]
  },
  {
   "cell_type": "code",
   "execution_count": 112,
   "metadata": {},
   "outputs": [],
   "source": [
    "sugary_snacks_distr = sugary_snacks_distr.append(\n",
    "    pd.DataFrame([['Bars', len(bars_france), 'France']], columns=['category', 'count', 'country'])\n",
    ")\n",
    "sugary_snacks_distr = sugary_snacks_distr.append(\n",
    "    pd.DataFrame([['Bars', len(bars_usa), 'USA']], columns=['category', 'count', 'country'])\n",
    ")"
   ]
  },
  {
   "cell_type": "markdown",
   "metadata": {},
   "source": [
    "Next up is `candy`."
   ]
  },
  {
   "cell_type": "code",
   "execution_count": 113,
   "metadata": {},
   "outputs": [],
   "source": [
    "candy = [\n",
    "    'candy', 'candies', 'bonbon', 'candi', 'confectioneries', 'pastilles', 'mints', 'caramels', 'gummies',\n",
    "    'lollipop'\n",
    "]"
   ]
  },
  {
   "cell_type": "code",
   "execution_count": 114,
   "metadata": {},
   "outputs": [],
   "source": [
    "candy_france = select_entries(sugary_snacks_france, candy)\n",
    "candy_usa = select_entries(sugary_snacks_usa, candy)"
   ]
  },
  {
   "cell_type": "markdown",
   "metadata": {},
   "source": [
    "Looking at the frames no values seem to be out of place."
   ]
  },
  {
   "cell_type": "code",
   "execution_count": 115,
   "metadata": {},
   "outputs": [
    {
     "name": "stdout",
     "output_type": "stream",
     "text": [
      "Rows classified as candy in France: 1943\n",
      "Rows classified as candy in the USA: 419\n"
     ]
    }
   ],
   "source": [
    "print(\"Rows classified as candy in France: %d\" % len(candy_france))\n",
    "print(\"Rows classified as candy in the USA: %d\" % len(candy_usa))"
   ]
  },
  {
   "cell_type": "code",
   "execution_count": 116,
   "metadata": {},
   "outputs": [],
   "source": [
    "sugary_snacks_distr = sugary_snacks_distr.append(\n",
    "    pd.DataFrame([['Candy', len(candy_france), 'France']], columns=['category', 'count', 'country'])\n",
    ")\n",
    "sugary_snacks_distr = sugary_snacks_distr.append(\n",
    "    pd.DataFrame([['Candy', len(candy_usa), 'USA']], columns=['category', 'count', 'country'])\n",
    ")"
   ]
  },
  {
   "cell_type": "markdown",
   "metadata": {},
   "source": [
    "Lastly we create the category `cookies`."
   ]
  },
  {
   "cell_type": "code",
   "execution_count": 117,
   "metadata": {},
   "outputs": [],
   "source": [
    "cookies_france = select_entries(sugary_snacks_france, ['cookie', 'biscuit'])\n",
    "cookies_usa = select_entries(sugary_snacks_usa, ['cookie', 'biscuit'])"
   ]
  },
  {
   "cell_type": "code",
   "execution_count": 118,
   "metadata": {},
   "outputs": [],
   "source": [
    "not_cookies = [\n",
    "    'brownie', 'muffin', 'candy', 'candies', 'candi', 'kit kat', 'tourteaux fromagés', 'gaufres', 'gâteau à la',\n",
    "    'cakes ', 'fondants ', 'pancake', 'ice cream'\n",
    "]"
   ]
  },
  {
   "cell_type": "code",
   "execution_count": 119,
   "metadata": {},
   "outputs": [],
   "source": [
    "cookies_france = clean_categories(cookies_france, not_cookies)\n",
    "cookies_usa = clean_categories(cookies_usa, not_cookies)"
   ]
  },
  {
   "cell_type": "code",
   "execution_count": 120,
   "metadata": {},
   "outputs": [
    {
     "name": "stdout",
     "output_type": "stream",
     "text": [
      "Number of cookies in France: 4343\n",
      "Number of cookies in USA: 1822\n"
     ]
    }
   ],
   "source": [
    "print(\"Number of cookies in France: %d\" % len(cookies_france))\n",
    "print(\"Number of cookies in USA: %d\" % len(cookies_usa))"
   ]
  },
  {
   "cell_type": "code",
   "execution_count": 121,
   "metadata": {},
   "outputs": [],
   "source": [
    "sugary_snacks_distr = sugary_snacks_distr.append(\n",
    "    pd.DataFrame([['Cookies', len(cookies_france), 'France']], columns=['category', 'count', 'country'])\n",
    ")\n",
    "sugary_snacks_distr = sugary_snacks_distr.append(\n",
    "    pd.DataFrame([['Cookies', len(cookies_usa), 'USA']], columns=['category', 'count', 'country'])\n",
    ")"
   ]
  },
  {
   "cell_type": "markdown",
   "metadata": {},
   "source": [
    "## Salty snacks"
   ]
  },
  {
   "cell_type": "markdown",
   "metadata": {},
   "source": [
    "The second big category will be `salty_snacks`. We will then divide this category into smaller categories."
   ]
  },
  {
   "cell_type": "code",
   "execution_count": 122,
   "metadata": {},
   "outputs": [],
   "source": [
    "salty = [\n",
    "    'salt', 'salé', 'chips', 'popcorn', 'sodium', 'crisps'\n",
    "]"
   ]
  },
  {
   "cell_type": "code",
   "execution_count": 123,
   "metadata": {},
   "outputs": [],
   "source": [
    "salty_snacks_france = select_entries(snacks_france, salty)\n",
    "salty_snacks_usa = select_entries(snacks_usa, salty)"
   ]
  },
  {
   "cell_type": "code",
   "execution_count": 124,
   "metadata": {},
   "outputs": [],
   "source": [
    "not_salty = [\n",
    "    'sucr', 'sugar', 'cake', 'caramel'\n",
    "]"
   ]
  },
  {
   "cell_type": "code",
   "execution_count": 125,
   "metadata": {},
   "outputs": [],
   "source": [
    "salty_snacks_france = clean_categories(salty_snacks_france, not_salty)\n",
    "salty_snacks_usa = clean_categories(salty_snacks_usa, not_salty)"
   ]
  },
  {
   "cell_type": "code",
   "execution_count": 126,
   "metadata": {},
   "outputs": [
    {
     "name": "stdout",
     "output_type": "stream",
     "text": [
      "Number of salty snacks in France: 2682\n",
      "Number of salty snacks in USA: 5692\n"
     ]
    }
   ],
   "source": [
    "print(\"Number of salty snacks in France: %d\" % len(salty_snacks_france))\n",
    "print(\"Number of salty snacks in USA: %d\" % len(salty_snacks_usa))"
   ]
  },
  {
   "cell_type": "code",
   "execution_count": 127,
   "metadata": {},
   "outputs": [],
   "source": [
    "salty_snacks_distr = pd.DataFrame(columns = ['category', 'count', 'country'])"
   ]
  },
  {
   "cell_type": "markdown",
   "metadata": {},
   "source": [
    "We divide the category into `chips` and `popcorn`, starting out with `chips`."
   ]
  },
  {
   "cell_type": "code",
   "execution_count": 128,
   "metadata": {},
   "outputs": [],
   "source": [
    "chips_france = select_entries(salty_snacks_france, ['chips', 'crisps'])\n",
    "chips_usa = select_entries(salty_snacks_usa, ['chips', 'crisps'])"
   ]
  },
  {
   "cell_type": "code",
   "execution_count": 129,
   "metadata": {},
   "outputs": [
    {
     "name": "stdout",
     "output_type": "stream",
     "text": [
      "Number of chips in France: 1563\n",
      "Number of chips in USA: 4102\n"
     ]
    }
   ],
   "source": [
    "print(\"Number of chips in France: %d\" % len(chips_france))\n",
    "print(\"Number of chips in USA: %d\" % len(chips_usa))"
   ]
  },
  {
   "cell_type": "code",
   "execution_count": 130,
   "metadata": {},
   "outputs": [],
   "source": [
    "salty_snacks_distr = salty_snacks_distr.append(\n",
    "    pd.DataFrame([['Chips', len(chips_france), 'France']], columns=['category', 'count', 'country'])\n",
    ")\n",
    "salty_snacks_distr = salty_snacks_distr.append(\n",
    "    pd.DataFrame([['Chips', len(chips_usa), 'USA']], columns=['category', 'count', 'country'])\n",
    ")"
   ]
  },
  {
   "cell_type": "markdown",
   "metadata": {},
   "source": [
    "We then proceed to `popcorn`."
   ]
  },
  {
   "cell_type": "code",
   "execution_count": 131,
   "metadata": {},
   "outputs": [],
   "source": [
    "popcorn_france = select_entries(salty_snacks_france, ['popcorn'])\n",
    "popcorn_usa = select_entries(salty_snacks_usa, ['popcorn'])"
   ]
  },
  {
   "cell_type": "code",
   "execution_count": 132,
   "metadata": {},
   "outputs": [
    {
     "name": "stdout",
     "output_type": "stream",
     "text": [
      "Number of popcorn in France: 112\n",
      "Number of popcorn in USA: 1110\n"
     ]
    }
   ],
   "source": [
    "print(\"Number of popcorn in France: %d\" % len(popcorn_france))\n",
    "print(\"Number of popcorn in USA: %d\" % len(popcorn_usa))"
   ]
  },
  {
   "cell_type": "code",
   "execution_count": 133,
   "metadata": {},
   "outputs": [],
   "source": [
    "salty_snacks_distr = salty_snacks_distr.append(\n",
    "    pd.DataFrame([['Popcorn', len(popcorn_france), 'France']], columns=['category', 'count', 'country'])\n",
    ")\n",
    "salty_snacks_distr = salty_snacks_distr.append(\n",
    "    pd.DataFrame([['Popcorn', len(popcorn_usa), 'USA']], columns=['category', 'count', 'country'])\n",
    ")"
   ]
  },
  {
   "cell_type": "markdown",
   "metadata": {},
   "source": [
    "The category `biscuits` represent salty crackers and biscuits."
   ]
  },
  {
   "cell_type": "code",
   "execution_count": 134,
   "metadata": {},
   "outputs": [],
   "source": [
    "crackers_france = select_entries(salty_snacks_france, ['crackers', 'biscuit'])\n",
    "crackers_usa = select_entries(salty_snacks_usa, ['crackers', 'biscuit'])"
   ]
  },
  {
   "cell_type": "code",
   "execution_count": 135,
   "metadata": {},
   "outputs": [
    {
     "name": "stdout",
     "output_type": "stream",
     "text": [
      "Number of biscuits in France: 518\n",
      "Number of biscuits in USA: 78\n"
     ]
    }
   ],
   "source": [
    "print(\"Number of biscuits in France: %d\" % len(crackers_france))\n",
    "print(\"Number of biscuits in USA: %d\" % len(crackers_usa))"
   ]
  },
  {
   "cell_type": "code",
   "execution_count": 136,
   "metadata": {},
   "outputs": [],
   "source": [
    "salty_snacks_distr = salty_snacks_distr.append(\n",
    "    pd.DataFrame([['Biscuits', len(crackers_france), 'France']], columns=['category', 'count', 'country'])\n",
    ")\n",
    "salty_snacks_distr = salty_snacks_distr.append(\n",
    "    pd.DataFrame([['Biscuits', len(crackers_usa), 'USA']], columns=['category', 'count', 'country'])\n",
    ")"
   ]
  },
  {
   "cell_type": "markdown",
   "metadata": {},
   "source": [
    "Last subcategory is `nuts_and_seeds`."
   ]
  },
  {
   "cell_type": "code",
   "execution_count": 137,
   "metadata": {},
   "outputs": [],
   "source": [
    "nuts_france = select_entries(salty_snacks_france, ['nut', 'almond'])\n",
    "nuts_usa = select_entries(salty_snacks_usa, ['nut', 'almond'])"
   ]
  },
  {
   "cell_type": "code",
   "execution_count": 138,
   "metadata": {},
   "outputs": [
    {
     "name": "stdout",
     "output_type": "stream",
     "text": [
      "Number of nuts and seeds in France: 139\n",
      "Number of nuts and sees in USA: 318\n"
     ]
    }
   ],
   "source": [
    "print(\"Number of nuts and seeds in France: %d\" % len(nuts_france))\n",
    "print(\"Number of nuts and sees in USA: %d\" % len(nuts_usa))"
   ]
  },
  {
   "cell_type": "code",
   "execution_count": 139,
   "metadata": {},
   "outputs": [],
   "source": [
    "salty_snacks_distr = salty_snacks_distr.append(\n",
    "    pd.DataFrame([['Nuts and seeds', len(nuts_france), 'France']], columns=['category', 'count', 'country'])\n",
    ")\n",
    "salty_snacks_distr = salty_snacks_distr.append(\n",
    "    pd.DataFrame([['Nuts and seeds', len(nuts_usa), 'USA']], columns=['category', 'count', 'country'])\n",
    ")"
   ]
  },
  {
   "cell_type": "markdown",
   "metadata": {},
   "source": [
    "# Distribution of snacks"
   ]
  },
  {
   "cell_type": "markdown",
   "metadata": {},
   "source": [
    "We start by creating dataframes for both sugary and salty snacks."
   ]
  },
  {
   "cell_type": "code",
   "execution_count": 233,
   "metadata": {},
   "outputs": [],
   "source": [
    "france_sugary = sugary_snacks_distr.loc[sugary_snacks_distr['country'] == 'France'].copy()\n",
    "usa_sugary = sugary_snacks_distr.loc[sugary_snacks_distr['country'] == 'USA'].copy()\n",
    "france_sugary['procent'] = france_sugary['count'].apply(\n",
    "    lambda x: x/france_sugary['count'].sum()\n",
    ")\n",
    "usa_sugary['procent'] = usa_sugary['count'].apply(\n",
    "    lambda x: x/usa_sugary['count'].sum()\n",
    ")\n",
    "\n",
    "sugary_snacks_distr = pd.concat([france_sugary, usa_sugary])"
   ]
  },
  {
   "cell_type": "code",
   "execution_count": 234,
   "metadata": {},
   "outputs": [],
   "source": [
    "france_salty = salty_snacks_distr.loc[salty_snacks_distr['country'] == 'France'].copy()\n",
    "usa_salty = salty_snacks_distr.loc[salty_snacks_distr['country'] == 'USA'].copy()\n",
    "france_salty['procent'] = france_salty['count'].apply(\n",
    "    lambda x: x/france_salty['count'].sum()\n",
    ")\n",
    "usa_salty['procent'] = usa_salty['count'].apply(\n",
    "    lambda x: x/usa_salty['count'].sum()\n",
    ")\n",
    "\n",
    "salty_snacks_distr = pd.concat([france_salty, usa_salty])"
   ]
  },
  {
   "cell_type": "code",
   "execution_count": 235,
   "metadata": {},
   "outputs": [
    {
     "data": {
      "text/html": [
       "<div>\n",
       "<style scoped>\n",
       "    .dataframe tbody tr th:only-of-type {\n",
       "        vertical-align: middle;\n",
       "    }\n",
       "\n",
       "    .dataframe tbody tr th {\n",
       "        vertical-align: top;\n",
       "    }\n",
       "\n",
       "    .dataframe thead th {\n",
       "        text-align: right;\n",
       "    }\n",
       "</style>\n",
       "<table border=\"1\" class=\"dataframe\">\n",
       "  <thead>\n",
       "    <tr style=\"text-align: right;\">\n",
       "      <th></th>\n",
       "      <th>category</th>\n",
       "      <th>count</th>\n",
       "      <th>country</th>\n",
       "      <th>procent</th>\n",
       "    </tr>\n",
       "  </thead>\n",
       "  <tbody>\n",
       "    <tr>\n",
       "      <th>0</th>\n",
       "      <td>Chocolates</td>\n",
       "      <td>10613</td>\n",
       "      <td>France</td>\n",
       "      <td>0.553799</td>\n",
       "    </tr>\n",
       "    <tr>\n",
       "      <th>0</th>\n",
       "      <td>Bars</td>\n",
       "      <td>2265</td>\n",
       "      <td>France</td>\n",
       "      <td>0.118190</td>\n",
       "    </tr>\n",
       "    <tr>\n",
       "      <th>0</th>\n",
       "      <td>Candy</td>\n",
       "      <td>1943</td>\n",
       "      <td>France</td>\n",
       "      <td>0.101388</td>\n",
       "    </tr>\n",
       "    <tr>\n",
       "      <th>0</th>\n",
       "      <td>Cookies</td>\n",
       "      <td>4343</td>\n",
       "      <td>France</td>\n",
       "      <td>0.226623</td>\n",
       "    </tr>\n",
       "    <tr>\n",
       "      <th>0</th>\n",
       "      <td>Chocolates</td>\n",
       "      <td>5742</td>\n",
       "      <td>USA</td>\n",
       "      <td>0.560523</td>\n",
       "    </tr>\n",
       "    <tr>\n",
       "      <th>0</th>\n",
       "      <td>Bars</td>\n",
       "      <td>2261</td>\n",
       "      <td>USA</td>\n",
       "      <td>0.220715</td>\n",
       "    </tr>\n",
       "    <tr>\n",
       "      <th>0</th>\n",
       "      <td>Candy</td>\n",
       "      <td>419</td>\n",
       "      <td>USA</td>\n",
       "      <td>0.040902</td>\n",
       "    </tr>\n",
       "    <tr>\n",
       "      <th>0</th>\n",
       "      <td>Cookies</td>\n",
       "      <td>1822</td>\n",
       "      <td>USA</td>\n",
       "      <td>0.177860</td>\n",
       "    </tr>\n",
       "  </tbody>\n",
       "</table>\n",
       "</div>"
      ],
      "text/plain": [
       "     category  count country   procent\n",
       "0  Chocolates  10613  France  0.553799\n",
       "0        Bars   2265  France  0.118190\n",
       "0       Candy   1943  France  0.101388\n",
       "0     Cookies   4343  France  0.226623\n",
       "0  Chocolates   5742     USA  0.560523\n",
       "0        Bars   2261     USA  0.220715\n",
       "0       Candy    419     USA  0.040902\n",
       "0     Cookies   1822     USA  0.177860"
      ]
     },
     "execution_count": 235,
     "metadata": {},
     "output_type": "execute_result"
    }
   ],
   "source": [
    "sugary_snacks_distr"
   ]
  },
  {
   "cell_type": "code",
   "execution_count": 236,
   "metadata": {},
   "outputs": [
    {
     "data": {
      "text/html": [
       "<div>\n",
       "<style scoped>\n",
       "    .dataframe tbody tr th:only-of-type {\n",
       "        vertical-align: middle;\n",
       "    }\n",
       "\n",
       "    .dataframe tbody tr th {\n",
       "        vertical-align: top;\n",
       "    }\n",
       "\n",
       "    .dataframe thead th {\n",
       "        text-align: right;\n",
       "    }\n",
       "</style>\n",
       "<table border=\"1\" class=\"dataframe\">\n",
       "  <thead>\n",
       "    <tr style=\"text-align: right;\">\n",
       "      <th></th>\n",
       "      <th>category</th>\n",
       "      <th>count</th>\n",
       "      <th>country</th>\n",
       "      <th>procent</th>\n",
       "    </tr>\n",
       "  </thead>\n",
       "  <tbody>\n",
       "    <tr>\n",
       "      <th>0</th>\n",
       "      <td>Chips</td>\n",
       "      <td>1563</td>\n",
       "      <td>France</td>\n",
       "      <td>0.670240</td>\n",
       "    </tr>\n",
       "    <tr>\n",
       "      <th>0</th>\n",
       "      <td>Popcorn</td>\n",
       "      <td>112</td>\n",
       "      <td>France</td>\n",
       "      <td>0.048027</td>\n",
       "    </tr>\n",
       "    <tr>\n",
       "      <th>0</th>\n",
       "      <td>Biscuits</td>\n",
       "      <td>518</td>\n",
       "      <td>France</td>\n",
       "      <td>0.222127</td>\n",
       "    </tr>\n",
       "    <tr>\n",
       "      <th>0</th>\n",
       "      <td>Nuts and seeds</td>\n",
       "      <td>139</td>\n",
       "      <td>France</td>\n",
       "      <td>0.059605</td>\n",
       "    </tr>\n",
       "    <tr>\n",
       "      <th>0</th>\n",
       "      <td>Chips</td>\n",
       "      <td>4102</td>\n",
       "      <td>USA</td>\n",
       "      <td>0.731455</td>\n",
       "    </tr>\n",
       "    <tr>\n",
       "      <th>0</th>\n",
       "      <td>Popcorn</td>\n",
       "      <td>1110</td>\n",
       "      <td>USA</td>\n",
       "      <td>0.197932</td>\n",
       "    </tr>\n",
       "    <tr>\n",
       "      <th>0</th>\n",
       "      <td>Biscuits</td>\n",
       "      <td>78</td>\n",
       "      <td>USA</td>\n",
       "      <td>0.013909</td>\n",
       "    </tr>\n",
       "    <tr>\n",
       "      <th>0</th>\n",
       "      <td>Nuts and seeds</td>\n",
       "      <td>318</td>\n",
       "      <td>USA</td>\n",
       "      <td>0.056705</td>\n",
       "    </tr>\n",
       "  </tbody>\n",
       "</table>\n",
       "</div>"
      ],
      "text/plain": [
       "         category count country   procent\n",
       "0           Chips  1563  France  0.670240\n",
       "0         Popcorn   112  France  0.048027\n",
       "0        Biscuits   518  France  0.222127\n",
       "0  Nuts and seeds   139  France  0.059605\n",
       "0           Chips  4102     USA  0.731455\n",
       "0         Popcorn  1110     USA  0.197932\n",
       "0        Biscuits    78     USA  0.013909\n",
       "0  Nuts and seeds   318     USA  0.056705"
      ]
     },
     "execution_count": 236,
     "metadata": {},
     "output_type": "execute_result"
    }
   ],
   "source": [
    "salty_snacks_distr"
   ]
  },
  {
   "cell_type": "code",
   "execution_count": 237,
   "metadata": {},
   "outputs": [
    {
     "data": {
      "image/png": "[encoded data removed]",
      "text/plain": [
       "<Figure size 432x288 with 1 Axes>"
      ]
     },
     "metadata": {},
     "output_type": "display_data"
    }
   ],
   "source": [
    "sns.set(style=\"whitegrid\")\n",
    "\n",
    "g = sns.barplot(x='category', y=\"procent\", hue=\"country\", data=sugary_snacks_distr, palette=\"muted\")"
   ]
  },
  {
   "cell_type": "code",
   "execution_count": 238,
   "metadata": {},
   "outputs": [
    {
     "data": {
      "image/png": "[encoded data removed]",
      "text/plain": [
       "<Figure size 432x288 with 1 Axes>"
      ]
     },
     "metadata": {},
     "output_type": "display_data"
    }
   ],
   "source": [
    "sns.set(style=\"whitegrid\")\n",
    "\n",
    "g = sns.barplot(x='category', y=\"procent\", hue=\"country\", data=salty_snacks_distr, palette=\"muted\")"
   ]
  },
  {
   "cell_type": "code",
   "execution_count": 239,
   "metadata": {},
   "outputs": [],
   "source": [
    "sugary_france_distr = sugary_snacks_distr[sugary_snacks_distr.country == 'France']\n",
    "sugary_usa_distr = sugary_snacks_distr[sugary_snacks_distr.country == 'USA']\n",
    "salty_france_distr = salty_snacks_distr[salty_snacks_distr.country == 'France']\n",
    "salty_usa_distr = salty_snacks_distr[salty_snacks_distr.country == 'USA']"
   ]
  },
  {
   "cell_type": "code",
   "execution_count": 240,
   "metadata": {},
   "outputs": [],
   "source": [
    "bar_chart_distri = pygal.Bar(style=custom_style_france_first)\n",
    "bar_chart_distri.title = 'Distribution within sugary snacks'\n",
    "bar_chart_distri.x_title = 'Categories'\n",
    "bar_chart_distri.y_title = 'Percent of the distribution'\n",
    "bar_chart_distri.x_labels = list(sugary_snacks_distr.category.unique())\n",
    "bar_chart_distri.y_labels = [\n",
    "    {'label': '0%', 'value': 0.0},\n",
    "    {'label': '10%', 'value': 0.1},\n",
    "    {'label': '20%', 'value': 0.2},\n",
    "    {'label': '30%', 'value': 0.3},\n",
    "    {'label': '40%', 'value': 0.4},\n",
    "    {'label': '50%', 'value': 0.5},\n",
    "    {'label': '60%', 'value': 0.6}\n",
    "]\n",
    "bar_chart_distri.add('France', sugary_france_distr['procent'], formatter=lambda y: \"{0:.1f}%\".format(y*100))\n",
    "bar_chart_distri.add('USA', sugary_usa_distr['procent'], formatter=lambda y: \"{0:.1f}%\".format(y*100))\n",
    "bar_chart_distri.render_to_file('sugary_snacks_distribution.svg')  "
   ]
  },
  {
   "cell_type": "code",
   "execution_count": 241,
   "metadata": {},
   "outputs": [],
   "source": [
    "bar_chart_distri2 = pygal.Bar(style=custom_style_france_first)\n",
    "bar_chart_distri2.title = 'Distribution within salty snacks'\n",
    "bar_chart_distri2.x_title = 'Categories'\n",
    "bar_chart_distri2.y_title = 'Percent of the distribution'\n",
    "bar_chart_distri2.x_labels = list(salty_snacks_distr.category.unique())\n",
    "bar_chart_distri2.y_labels = [\n",
    "    {'label': '0%', 'value': 0.0},\n",
    "    {'label': '10%', 'value': 0.1},\n",
    "    {'label': '20%', 'value': 0.2},\n",
    "    {'label': '30%', 'value': 0.3},\n",
    "    {'label': '40%', 'value': 0.4},\n",
    "    {'label': '50%', 'value': 0.5},\n",
    "    {'label': '60%', 'value': 0.6},\n",
    "    {'label': '70%', 'value': 0.7},\n",
    "    {'label': '80%', 'value': 0.8}\n",
    "]\n",
    "bar_chart_distri2.add('France', salty_france_distr['procent'], formatter=lambda y: \"{0:.1f}%\".format(y*100))\n",
    "bar_chart_distri2.add('USA', salty_usa_distr['procent'], formatter=lambda y: \"{0:.1f}%\".format(y*100))\n",
    "bar_chart_distri2.render_to_file('salty_snacks_distribution.svg')  "
   ]
  },
  {
   "cell_type": "markdown",
   "metadata": {},
   "source": [
    "# Nutrition"
   ]
  },
  {
   "cell_type": "code",
   "execution_count": 242,
   "metadata": {},
   "outputs": [],
   "source": [
    "sugary_snacks_france = sugary_snacks_france.reset_index(drop=True)\n",
    "salty_snacks_france = salty_snacks_france.reset_index(drop=True)\n",
    "\n",
    "sugary_snacks_usa = sugary_snacks_usa.reset_index(drop=True)\n",
    "salty_snacks_usa = salty_snacks_usa.reset_index(drop=True)"
   ]
  },
  {
   "cell_type": "markdown",
   "metadata": {},
   "source": [
    "We'll start by looking at the sugar content in `sugary_snacks`."
   ]
  },
  {
   "cell_type": "code",
   "execution_count": 243,
   "metadata": {},
   "outputs": [],
   "source": [
    "france_nutrition = sugary_snacks_france[['sugars_100g','energy_100g',\n",
    "'carbohydrates_100g', 'serving_quantity']].astype(float).replace({0.0:np.nan})\n",
    "usa_nutrition = sugary_snacks_usa[['sugars_100g','energy_100g',\n",
    "'carbohydrates_100g', 'serving_quantity']].astype(float).replace({0.0:np.nan})"
   ]
  },
  {
   "cell_type": "code",
   "execution_count": 244,
   "metadata": {},
   "outputs": [],
   "source": [
    "box_chart = pygal.Box(box_mode=\"tukey\", style=custom_style_france_first)\n",
    "box_chart.title = 'Sugar in sugary snacks'\n",
    "box_chart.y_title = 'Sugars per 100g (g)'\n",
    "box_chart.add('France', france_nutrition['sugars_100g'].dropna())\n",
    "box_chart.add('USA', usa_nutrition['sugars_100g'].dropna())\n",
    "box_chart.render_to_file('snacks_sugars.svg')  "
   ]
  },
  {
   "cell_type": "code",
   "execution_count": 245,
   "metadata": {},
   "outputs": [],
   "source": [
    "box_chart = pygal.Box(box_mode=\"tukey\", style=custom_style_france_first)\n",
    "box_chart.title = 'Energy in sugary snacks'\n",
    "box_chart.y_title = 'Energy per 100g (g)'\n",
    "box_chart.add('France', france_nutrition['energy_100g'].dropna())\n",
    "box_chart.add('USA', usa_nutrition['energy_100g'].dropna())\n",
    "box_chart.render_to_file('snacks_sugary_energy.svg')  "
   ]
  },
  {
   "cell_type": "code",
   "execution_count": 246,
   "metadata": {},
   "outputs": [],
   "source": [
    "box_chart = pygal.Box(box_mode=\"tukey\", style=custom_style_france_first)\n",
    "box_chart.title = 'Carbohydrates in sugary snacks'\n",
    "box_chart.y_title = 'Carbohydrates per 100g (g)'\n",
    "box_chart.add('France', france_nutrition['carbohydrates_100g'].dropna())\n",
    "box_chart.add('USA', usa_nutrition['carbohydrates_100g'].dropna())\n",
    "box_chart.render_to_file('snacks_sugary_carbohydrates.svg')"
   ]
  },
  {
   "cell_type": "code",
   "execution_count": 247,
   "metadata": {},
   "outputs": [],
   "source": [
    "box_chart = pygal.Box(box_mode=\"tukey\", style=custom_style_france_first)\n",
    "box_chart.title = 'Serving quantity of sugary snacks'\n",
    "box_chart.y_title = 'Serving quantity (g)'\n",
    "box_chart.add('France', france_nutrition['serving_quantity'].dropna())\n",
    "box_chart.add('USA', usa_nutrition['serving_quantity'].dropna())\n",
    "box_chart.render_to_file('snacks_sugary_servings.svg')"
   ]
  },
  {
   "cell_type": "markdown",
   "metadata": {},
   "source": [
    "The result is hard to see because we have outliers. We will remove these for this visualisation to see the distribution clearly."
   ]
  },
  {
   "cell_type": "code",
   "execution_count": 248,
   "metadata": {},
   "outputs": [],
   "source": [
    "france_nutrition_cleaned = france_nutrition.copy()\n",
    "usa_nutrition_cleaned = usa_nutrition.copy()"
   ]
  },
  {
   "cell_type": "code",
   "execution_count": 249,
   "metadata": {},
   "outputs": [],
   "source": [
    "mask_max_f = france_nutrition_cleaned.energy_100g > 3000\n",
    "france_nutrition_cleaned.loc[mask_max_f, 'energy_100g'] = np.nan\n",
    "mask_max_u = usa_nutrition_cleaned.energy_100g > 3000\n",
    "usa_nutrition_cleaned.loc[mask_max_u, 'energy_100g'] = np.nan"
   ]
  },
  {
   "cell_type": "markdown",
   "metadata": {},
   "source": [
    "Removing outliers gives a plot that more clearly shows the distribution in the countries."
   ]
  },
  {
   "cell_type": "code",
   "execution_count": 250,
   "metadata": {},
   "outputs": [],
   "source": [
    "box_chart = pygal.Box(style=custom_style_france_first)\n",
    "box_chart.title = 'Energy per 100g'\n",
    "box_chart.add('France', france_nutrition_cleaned['energy_100g'].dropna())\n",
    "box_chart.add('USA', usa_nutrition_cleaned['energy_100g'].dropna())\n",
    "box_chart.render_to_file('snacks_sugary_energy_cleaned.svg') "
   ]
  },
  {
   "cell_type": "markdown",
   "metadata": {},
   "source": [
    "We try another way, by using a histogram instead, removing the outliers."
   ]
  },
  {
   "cell_type": "code",
   "execution_count": 251,
   "metadata": {},
   "outputs": [],
   "source": [
    "# Calculate bin size for 50 bins\n",
    "bin_size_france = france_nutrition_cleaned.energy_100g.dropna().max()/50\n",
    "\n",
    "# Make bins\n",
    "bins_france = np.zeros(51)\n",
    "for i in range(51):\n",
    "    bins_france[i] = i*bin_size_france\n",
    "    \n",
    "values_bins_france = pd.cut(france_nutrition_cleaned.energy_100g.dropna(), bins_france)\n",
    "\n",
    "# Format bins for pygal\n",
    "bins_histo_france = list(zip(values_bins_france.value_counts().sort_index(), bins_france[:-1], bins_france[1:]))"
   ]
  },
  {
   "cell_type": "code",
   "execution_count": 252,
   "metadata": {},
   "outputs": [],
   "source": [
    "hist_energy_france = pygal.Histogram(style=custom_style_france_first)\n",
    "hist_energy_france.title = 'Distribution of energy per 100g'\n",
    "hist_energy_france.x_title = 'Energy per 100g in kJ'\n",
    "hist_energy_france.y_title = 'Number of products'\n",
    "hist_energy_france.add('France', bins_histo_france)\n",
    "hist_energy_france.render_to_file('energy_sugary_snacks_france_hist.svg') "
   ]
  },
  {
   "cell_type": "code",
   "execution_count": 253,
   "metadata": {},
   "outputs": [],
   "source": [
    "# Calculate bin size for 50 bins\n",
    "bin_size_usa = usa_nutrition_cleaned.energy_100g.dropna().max()/50\n",
    "\n",
    "# Make bins\n",
    "bins_usa = np.zeros(51)\n",
    "for i in range(51):\n",
    "    bins_usa[i] = i*bin_size_usa\n",
    "    \n",
    "values_bins_usa = pd.cut(usa_nutrition_cleaned.energy_100g.dropna(), bins_usa)\n",
    "\n",
    "# Format bins for pygal\n",
    "bins_histo_usa = list(zip(values_bins_usa.value_counts().sort_index(), bins_usa[:-1], bins_usa[1:]))"
   ]
  },
  {
   "cell_type": "code",
   "execution_count": 254,
   "metadata": {},
   "outputs": [],
   "source": [
    "hist_energy_usa = pygal.Histogram(style=custom_style_usa_first)\n",
    "hist_energy_usa.title = 'Distribution of energy per 100g'\n",
    "hist_energy_usa.x_title = 'Energy per 100g in kJ'\n",
    "hist_energy_usa.y_title = 'Number of products'\n",
    "hist_energy_usa.add('USA', bins_histo_usa)\n",
    "hist_energy_usa.render_to_file('energy_sugary_snacks_usa_hist.svg') "
   ]
  },
  {
   "cell_type": "markdown",
   "metadata": {},
   "source": [
    "Start of by cleaning `salty_snacks`."
   ]
  },
  {
   "cell_type": "code",
   "execution_count": 255,
   "metadata": {},
   "outputs": [],
   "source": [
    "france_salty_nutrition = salty_snacks_france[['sodium_100g', 'fat_100g', 'saturated-fat_100g', 'energy_100g',\n",
    "'carbohydrates_100g', 'serving_quantity']].astype(float).replace({0.0:np.nan})\n",
    "usa_salty_nutrition = salty_snacks_usa[['sodium_100g', 'fat_100g', 'saturated-fat_100g', 'energy_100g',\n",
    "'carbohydrates_100g', 'serving_quantity']].astype(float).replace({0.0:np.nan})\n",
    "\n",
    "france_salty_nutrition_cleaned = france_salty_nutrition.copy()\n",
    "usa_salty_nutrition_cleaned = usa_salty_nutrition.copy()\n",
    "\n",
    "mask_max_f = france_salty_nutrition_cleaned.energy_100g > 3000\n",
    "france_salty_nutrition_cleaned.loc[mask_max_f, 'energy_100g'] = np.nan\n",
    "mask_max_u = usa_salty_nutrition_cleaned.energy_100g > 3000\n",
    "usa_salty_nutrition_cleaned.loc[mask_max_u, 'energy_100g'] = np.nan"
   ]
  },
  {
   "cell_type": "markdown",
   "metadata": {},
   "source": [
    "Wecreate box plots for all nutriments except `energy_100g`."
   ]
  },
  {
   "cell_type": "code",
   "execution_count": 256,
   "metadata": {},
   "outputs": [],
   "source": [
    "box_chart = pygal.Box(box_mode=\"tukey\", style=custom_style_france_first)\n",
    "box_chart.title = 'Sodium in salty snacks'\n",
    "box_chart.y_title = 'Sodium per 100g (g)'\n",
    "\n",
    "box_chart.add('France', np.log(france_salty_nutrition['sodium_100g'] + 1).dropna())\n",
    "# Transform into log(x + 1) to be able to plot logarithmic scale with the zero values\n",
    "box_chart.add('USA', np.log(usa_salty_nutrition['sodium_100g'] + 1).dropna())\n",
    "box_chart.y_labels = np.log((np.array([0, 1, 5, 10, 50, 100]) + 1)).tolist()\n",
    "# Transform the y-axis to exp(y) - 1 to match the x-axis\n",
    "box_chart.value_formatter = lambda y: \"{:10.2f}\".format(math.exp(float(y)) - 1)\n",
    "box_chart.render_to_file('snacks_salty_sodium.svg') "
   ]
  },
  {
   "cell_type": "code",
   "execution_count": 257,
   "metadata": {},
   "outputs": [],
   "source": [
    "box_chart = pygal.Box(box_mode=\"tukey\", style=custom_style_france_first)\n",
    "box_chart.title = 'Fats in salty snacks'\n",
    "box_chart.y_title = 'Fat per 100g (g)'\n",
    "\n",
    "box_chart.add('France', france_salty_nutrition['fat_100g'].dropna())\n",
    "box_chart.add('USA', usa_salty_nutrition['fat_100g'].dropna())\n",
    "box_chart.render_to_file('snacks_salty_fats.svg')  "
   ]
  },
  {
   "cell_type": "code",
   "execution_count": 258,
   "metadata": {},
   "outputs": [],
   "source": [
    "box_chart = pygal.Box(box_mode=\"tukey\", style=custom_style_france_first)\n",
    "box_chart.title = 'Saturated fat in salty snacks'\n",
    "box_chart.y_title = 'Saturated fat per 100g (g)'\n",
    "\n",
    "box_chart.add('France', np.log(france_salty_nutrition['saturated-fat_100g'] + 1).dropna())\n",
    "# Transform into log(x + 1) to be able to plot logarithmic scale with the zero values\n",
    "box_chart.add('USA', np.log(usa_salty_nutrition['saturated-fat_100g'] + 1).dropna())\n",
    "box_chart.y_labels = np.log((np.array([0, 1, 5, 10, 50, 100]) + 1)).tolist()\n",
    "# Transform the y-axis to exp(y) - 1 to match the x-axis\n",
    "box_chart.value_formatter = lambda y: \"{:10.2f}\".format(math.exp(float(y)) - 1)\n",
    "box_chart.render_to_file('snacks_salty_saturated_fat.svg')  "
   ]
  },
  {
   "cell_type": "code",
   "execution_count": 259,
   "metadata": {},
   "outputs": [],
   "source": [
    "box_chart = pygal.Box(box_mode=\"tukey\", style=custom_style_france_first)\n",
    "box_chart.title = 'Carbohydrates in salty snacks'\n",
    "box_chart.y_title = 'Carbohydrates per 100g (g)'\n",
    "\n",
    "box_chart.add('France', france_salty_nutrition['carbohydrates_100g'].dropna())\n",
    "box_chart.add('USA', usa_salty_nutrition['carbohydrates_100g'].dropna())\n",
    "box_chart.render_to_file('snacks_salty_carbohydrates.svg')  "
   ]
  },
  {
   "cell_type": "code",
   "execution_count": 260,
   "metadata": {},
   "outputs": [],
   "source": [
    "box_chart = pygal.Box(box_mode=\"tukey\", style=custom_style_france_first)\n",
    "box_chart.title = 'Serving quantity for salty snacks'\n",
    "box_chart.y_title = 'Serving quantity (g)'\n",
    "\n",
    "box_chart.add('France', np.log(france_salty_nutrition['serving_quantity'] + 1).dropna())\n",
    "# Transform into log(x + 1) to be able to plot logarithmic scale with the zero values\n",
    "box_chart.add('USA', np.log(usa_salty_nutrition['serving_quantity'] + 1).dropna())\n",
    "box_chart.y_labels = np.log((np.array([0, 1, 5, 10, 20, 25, 30, 40]) + 1)).tolist()\n",
    "# Transform the y-axis to exp(y) - 1 to match the x-axis\n",
    "box_chart.value_formatter = lambda y: \"{:10.2f}\".format(math.exp(float(y)) - 1)\n",
    "box_chart.render_to_file('snacks_salty_servings.svg')  "
   ]
  },
  {
   "cell_type": "code",
   "execution_count": 261,
   "metadata": {},
   "outputs": [],
   "source": [
    "# Calculate bin size for 50 bins\n",
    "bin_size_france = france_salty_nutrition_cleaned.energy_100g.dropna().max()/50\n",
    "\n",
    "# Make bins\n",
    "bins_france = np.zeros(51)\n",
    "for i in range(51):\n",
    "    bins_france[i] = i*bin_size_france\n",
    "    \n",
    "values_bins_france = pd.cut(france_salty_nutrition_cleaned.energy_100g.dropna(), bins_france)\n",
    "\n",
    "# Format bins for pygal\n",
    "bins_histo_france = list(zip(values_bins_france.value_counts().sort_index(), bins_france[:-1], bins_france[1:]))"
   ]
  },
  {
   "cell_type": "code",
   "execution_count": 262,
   "metadata": {},
   "outputs": [],
   "source": [
    "hist_energy_france = pygal.Histogram(style=custom_style_france_first)\n",
    "hist_energy_france.title = 'Distribution of energy per 100g'\n",
    "hist_energy_france.x_title = 'Energy per 100g in kJ'\n",
    "hist_energy_france.y_title = 'Number of products'\n",
    "hist_energy_france.add('France', bins_histo_france)\n",
    "hist_energy_france.render_to_file('energy_salty_snacks_france_hist.svg') "
   ]
  },
  {
   "cell_type": "code",
   "execution_count": 263,
   "metadata": {},
   "outputs": [],
   "source": [
    "# Calculate bin size for 50 bins\n",
    "bin_size_usa = usa_salty_nutrition_cleaned.energy_100g.dropna().max()/50\n",
    "\n",
    "# Make bins\n",
    "bins_usa = np.zeros(51)\n",
    "for i in range(51):\n",
    "    bins_usa[i] = i*bin_size_usa\n",
    "    \n",
    "values_bins_usa = pd.cut(usa_salty_nutrition_cleaned.energy_100g.dropna(), bins_usa)\n",
    "\n",
    "# Format bins for pygal\n",
    "bins_histo_usa = list(zip(values_bins_usa.value_counts().sort_index(), bins_usa[:-1], bins_usa[1:]))"
   ]
  },
  {
   "cell_type": "code",
   "execution_count": 264,
   "metadata": {},
   "outputs": [],
   "source": [
    "hist_energy_usa = pygal.Histogram(style=custom_style_usa_first)\n",
    "hist_energy_usa.title = 'Distribution of energy per 100g'\n",
    "hist_energy_usa.x_title = 'Energy per 100g in kJ'\n",
    "hist_energy_usa.y_title = 'Number of products'\n",
    "hist_energy_usa.add('USA', bins_histo_usa)\n",
    "hist_energy_usa.render_to_file('energy_salty_snacks_usa_hist.svg') "
   ]
  },
  {
   "cell_type": "code",
   "execution_count": null,
   "metadata": {},
   "outputs": [],
   "source": []
  },
  {
   "cell_type": "code",
   "execution_count": null,
   "metadata": {},
   "outputs": [],
   "source": []
  },
  {
   "cell_type": "code",
   "execution_count": null,
   "metadata": {},
   "outputs": [],
   "source": []
  },
  {
   "cell_type": "code",
   "execution_count": null,
   "metadata": {},
   "outputs": [],
   "source": []
  }
 ],
 "metadata": {
  "kernelspec": {
   "display_name": "Python 3",
   "language": "python",
   "name": "python3"
  },
  "language_info": {
   "codemirror_mode": {
    "name": "ipython",
    "version": 3
   },
   "file_extension": ".py",
   "mimetype": "text/x-python",
   "name": "python",
   "nbconvert_exporter": "python",
   "pygments_lexer": "ipython3",
   "version": "3.6.7"
  }
 },
 "nbformat": 4,
 "nbformat_minor": 2
}
