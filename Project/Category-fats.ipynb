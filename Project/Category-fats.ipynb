{
 "cells": [
  {
   "cell_type": "markdown",
   "metadata": {},
   "source": [
    "# FATS\n"
   ]
  },
  {
   "cell_type": "code",
   "execution_count": 64,
   "metadata": {},
   "outputs": [],
   "source": [
    "import pandas as pd\n",
    "import numpy as np\n",
    "import functools\n",
    "import re\n",
    "import matplotlib.pyplot as plt\n",
    "import seaborn as sns\n",
    "from helpers import *\n",
    "import pygal  "
   ]
  },
  {
   "cell_type": "markdown",
   "metadata": {},
   "source": [
    "Read all data"
   ]
  },
  {
   "cell_type": "code",
   "execution_count": 2,
   "metadata": {},
   "outputs": [],
   "source": [
    "data_folder = \"./data/\""
   ]
  },
  {
   "cell_type": "code",
   "execution_count": 3,
   "metadata": {},
   "outputs": [],
   "source": [
    "france = pd.read_csv(data_folder + \"france_data.csv.zip\", sep=',', dtype=object)"
   ]
  },
  {
   "cell_type": "code",
   "execution_count": 4,
   "metadata": {},
   "outputs": [],
   "source": [
    "us = pd.read_csv(data_folder + \"us_data.csv.zip\", sep=',', dtype=object)"
   ]
  },
  {
   "cell_type": "markdown",
   "metadata": {},
   "source": [
    "Select the \"fats\" data"
   ]
  },
  {
   "cell_type": "code",
   "execution_count": 9,
   "metadata": {},
   "outputs": [],
   "source": [
    "butter = r'^(?:.*\\s)?butter(?:\\s.*)?$'\n",
    "oil = r'^(?:.*\\s)?oil(?:\\s.*)?$'\n",
    "fat_words = [butter, \"fats\", oil, \"beurre\", \"lätta\", \"milda\", \"margarin\", \"huile\", \"coconut fat\",\"kerrygold\",\"lurpark\",\"plugra\" ]\n",
    "non_fat_words = [\"butter cups\", \"pop corn\", \"chicken\", \"popcorn\", \"potato\", \"toffee\", \"in oil\", \n",
    "                 \"with olive oil\", \"with oil\", \"protein bar\",\"olive oil &\", \"marinat\", \"in olive oil\", \n",
    "                 \"bean\", \"snack\", \"ice cream\", \"cheese\", \"fromage\", \"a l'huile\", \"à l'huile\", \"caramel beurre\", \n",
    "                 \"petits beurre\", \"granola\", \"frits\", \"fried\", \"au beurre\", \"croissant\", \"all butter\", \"yaourt\", \n",
    "                 \"cookie\", \"chip\", \"sans huile\", \"sandwich\", \"soup\", \"pur beurre\", \"thon\", \"sauce\", \"chocolat\", \"chip\", \n",
    "                 \"cookie\", \"biscuits\", \"cake\", \"seafood\",\"chorizo\", \"joghurt\",\"Foie gras\",\"canard\",\"Mayonnaise\"]"
   ]
  },
  {
   "cell_type": "code",
   "execution_count": 10,
   "metadata": {},
   "outputs": [
    {
     "name": "stdout",
     "output_type": "stream",
     "text": [
      "Fat related items in France before cleaning: 15728\n",
      "Fat related items in France after cleaning: 7914\n"
     ]
    }
   ],
   "source": [
    "france_fats = select_entries(france, fat_words)\n",
    "print(\"Fat related items in France before cleaning: \" + str(france_fats.shape[0]))\n",
    "\n",
    "france_fats = clean_categories(france_fats, non_fat_words, ['flour'])\n",
    "print(\"Fat related items in France after cleaning: \" + str(france_fats.shape[0]))"
   ]
  },
  {
   "cell_type": "code",
   "execution_count": 11,
   "metadata": {},
   "outputs": [
    {
     "name": "stdout",
     "output_type": "stream",
     "text": [
      "Fat related items in the US before cleaning: 6373\n",
      "Fat related items in the US after cleaning: 3305\n"
     ]
    }
   ],
   "source": [
    "us_fats = select_entries(us, fat_words)\n",
    "print(\"Fat related items in the US before cleaning: \" + str(us_fats.shape[0]))\n",
    "\n",
    "us_fats = clean_categories(us_fats, non_fat_words, ['flour'])\n",
    "print(\"Fat related items in the US after cleaning: \" + str(us_fats.shape[0]))"
   ]
  },
  {
   "cell_type": "markdown",
   "metadata": {},
   "source": [
    "# Distribution in Fats"
   ]
  },
  {
   "cell_type": "code",
   "execution_count": 12,
   "metadata": {},
   "outputs": [],
   "source": [
    "def create_distribution(df,categories):\n",
    "    distribution = pd.DataFrame(columns=['tag','category','count'])\n",
    "    for i in range(categories.shape[0]):\n",
    "        tag = categories[i,0]\n",
    "        category = categories[i,1]\n",
    "        newRow = pd.DataFrame([[tag, category, relevant_rows(df,[tag]).shape[0]]], columns=['tag','category','count'])\n",
    "        distribution = distribution.append(newRow)\n",
    "        df = clean_categories(df, [tag])\n",
    "    return distribution, df.shape[0], df"
   ]
  },
  {
   "cell_type": "code",
   "execution_count": 13,
   "metadata": {},
   "outputs": [],
   "source": [
    "tags = np.matrix([['cooking spray', \"cooking spray\"], \n",
    "                 [\"oliv\", \"oil\"],\n",
    "                 [\"peanut\", \"peanut butter\"],\n",
    "                 [\"oil\", \"oil\"],\n",
    "                 [\"beurre\", \"butter\"],\n",
    "                 [\"margarin\", \"margarin\"],\n",
    "                 [\"butter\", \"butter\"],\n",
    "                 [\"huile\", \"oil\" ],\n",
    "                 [\"lätta\", \"margarin\"],\n",
    "                 [\"becel\", \"margarin\"],\n",
    "                 [\"original\", \"butter\"],\n",
    "                 [\"öl\", \"oil\"],\n",
    "                ])"
   ]
  },
  {
   "cell_type": "code",
   "execution_count": 14,
   "metadata": {},
   "outputs": [],
   "source": [
    "france_distri, _, _ = create_distribution(france_fats,tags)\n",
    "france_distri_grouped = france_distri.groupby(['category']).sum().drop('tag', axis = 1)\n",
    "france_distri_grouped['procent'] = france_distri_grouped['count'].apply(lambda x: x/france_distri_grouped['count'].sum())\n",
    "france_distri_grouped['country'] = \"France\""
   ]
  },
  {
   "cell_type": "code",
   "execution_count": 15,
   "metadata": {},
   "outputs": [],
   "source": [
    "us_distri, _, _ = create_distribution(us_fats,tags)\n",
    "us_distri_grouped = us_distri.groupby(['category']).sum().drop('tag', axis = 1)\n",
    "us_distri_grouped['procent'] = us_distri_grouped['count'].apply(lambda x: x/us_distri_grouped['count'].sum() )\n",
    "us_distri_grouped['country'] = \"US\""
   ]
  },
  {
   "cell_type": "code",
   "execution_count": 76,
   "metadata": {},
   "outputs": [
    {
     "data": {
      "text/plain": [
       "['butter', 'cooking spray', 'margarin', 'oil', 'peanut butter']"
      ]
     },
     "execution_count": 76,
     "metadata": {},
     "output_type": "execute_result"
    }
   ],
   "source": [
    "distribution = france_distri_grouped.append(us_distri_grouped).reset_index()\n",
    "list(us_distri_grouped.T)"
   ]
  },
  {
   "cell_type": "code",
   "execution_count": 21,
   "metadata": {},
   "outputs": [
    {
     "data": {
      "image/png": "[encoded data removed]",
      "text/plain": [
       "<Figure size 432x288 with 1 Axes>"
      ]
     },
     "metadata": {},
     "output_type": "display_data"
    }
   ],
   "source": [
    "sns.set(style=\"whitegrid\")\n",
    "\n",
    "g = sns.barplot(x='category', y=\"procent\", hue=\"country\", data=distribution,palette=\"muted\")\n",
    "\n"
   ]
  },
  {
   "cell_type": "code",
   "execution_count": 131,
   "metadata": {},
   "outputs": [],
   "source": [
    "bar_chart_distri = pygal.Bar()\n",
    "bar_chart_distri.title = 'Distribution within fats'\n",
    "bar_chart_distri.x_labels = list(us_distri_grouped.T)\n",
    "bar_chart_distri.add('France', france_distri_grouped['procent'] , formatter=lambda y: \"{0:.2f}\".format(y))\n",
    "bar_chart_distri.add('US', us_distri_grouped['procent'], formatter=lambda y: \"{0:.2f}\".format(y))\n",
    "bar_chart_distri.render_to_file('fats_distribution.svg')  "
   ]
  },
  {
   "cell_type": "markdown",
   "metadata": {},
   "source": [
    "# Let's look at the nutrition"
   ]
  },
  {
   "cell_type": "code",
   "execution_count": 126,
   "metadata": {},
   "outputs": [],
   "source": [
    "france_interesting_fats = france_fats[['saturated-fat_100g','monounsaturated-fat_100g',\n",
    "'polyunsaturated-fat_100g']].astype(float).replace({0.0:np.nan})\n",
    "us_interesting_fats = us_fats[['saturated-fat_100g','monounsaturated-fat_100g',\n",
    "'polyunsaturated-fat_100g']].astype(float).replace({0.0:np.nan})\n"
   ]
  },
  {
   "cell_type": "code",
   "execution_count": 127,
   "metadata": {},
   "outputs": [],
   "source": [
    "box_chart = pygal.Box()\n",
    "box_chart.title = 'Saturated fat per 100g'\n",
    "box_chart.add('France', france_interesting_fats['saturated-fat_100g'].dropna())\n",
    "box_chart.add('US', us_interesting_fats['saturated-fat_100g'].dropna())\n",
    "box_chart.render_to_file('fats_saturated-fat.svg')  "
   ]
  },
  {
   "cell_type": "code",
   "execution_count": 128,
   "metadata": {},
   "outputs": [],
   "source": [
    "box_chart = pygal.Box()\n",
    "box_chart.title = 'Polyunsaturated fat per 100g'\n",
    "box_chart.add('France', france_interesting_fats['polyunsaturated-fat_100g'].dropna())\n",
    "box_chart.add('US', us_interesting_fats['polyunsaturated-fat_100g'].dropna())\n",
    "box_chart.render_to_file('fats_polyunsaturated-fat.svg') "
   ]
  },
  {
   "cell_type": "code",
   "execution_count": 129,
   "metadata": {},
   "outputs": [],
   "source": [
    "box_chart = pygal.Box()\n",
    "box_chart.title = 'Monounsaturated fat per 100g'\n",
    "box_chart.add('France', france_interesting_fats['monounsaturated-fat_100g'].dropna())\n",
    "box_chart.add('US', us_interesting_fats['monounsaturated-fat_100g'].dropna())\n",
    "box_chart.render_to_file('fats_monounsaturated-fat.svg') "
   ]
  },
  {
   "cell_type": "code",
   "execution_count": 19,
   "metadata": {},
   "outputs": [],
   "source": [
    "def re_arange_for_boxplot(df,country):\n",
    "    new_df = pd.DataFrame(columns=['Y','X','country'])\n",
    "    column_names = list(df)\n",
    "    for i in range(df.shape[0]):\n",
    "        for j in range(df.shape[1]):\n",
    "            fat_sort = column_names[j]\n",
    "            value = df.iloc[i,j]\n",
    "            newRow = pd.DataFrame([[value,fat_sort,country]],columns=['Y','X','country'])\n",
    "            new_df = new_df.append(newRow)\n",
    "        \n",
    "    return new_df"
   ]
  },
  {
   "cell_type": "code",
   "execution_count": 20,
   "metadata": {},
   "outputs": [],
   "source": [
    "data_boxplot = re_arange_for_boxplot(france_interesting_fats,\"France\").append(re_arange_for_boxplot(us_interesting_fats,\"US\"))"
   ]
  },
  {
   "cell_type": "code",
   "execution_count": 21,
   "metadata": {},
   "outputs": [
    {
     "data": {
      "text/plain": [
       "<matplotlib.axes._subplots.AxesSubplot at 0x1dcaa283da0>"
      ]
     },
     "execution_count": 21,
     "metadata": {},
     "output_type": "execute_result"
    },
    {
     "data": {
      "image/png": "[encoded data removed]",
      "text/plain": [
       "<Figure size 864x360 with 1 Axes>"
      ]
     },
     "metadata": {},
     "output_type": "display_data"
    }
   ],
   "source": [
    "plt.figure(figsize=(12,5))\n",
    "sns.set(style=\"whitegrid\")\n",
    "sns.boxplot(x=\"X\",y =\"Y\", hue=\"country\", data=data_boxplot, palette=\"Set1\")"
   ]
  },
  {
   "cell_type": "code",
   "execution_count": 22,
   "metadata": {},
   "outputs": [],
   "source": [
    "france_fats_salt = france_fats[['sodium_100g']].astype(float).replace({0.0:np.nan})\n",
    "us_fats_salt = us_fats[['sodium_100g']].astype(float).replace({0.0:np.nan})\n",
    "data_boxplot_salt = re_arange_for_boxplot(france_fats_salt,\"France\").append(re_arange_for_boxplot(us_fats_salt,\"US\"))\n"
   ]
  },
  {
   "cell_type": "code",
   "execution_count": 23,
   "metadata": {},
   "outputs": [
    {
     "data": {
      "text/plain": [
       "<matplotlib.axes._subplots.AxesSubplot at 0x1dcb10fa278>"
      ]
     },
     "execution_count": 23,
     "metadata": {},
     "output_type": "execute_result"
    },
    {
     "data": {
      "image/png": "[encoded data removed]",
      "text/plain": [
       "<Figure size 720x360 with 1 Axes>"
      ]
     },
     "metadata": {},
     "output_type": "display_data"
    }
   ],
   "source": [
    "plt.figure(figsize=(10,5))\n",
    "sns.set(style=\"whitegrid\")\n",
    "plt.ylim(0, 3)\n",
    "sns.boxplot(x=\"X\",y =\"Y\", hue=\"country\", data=data_boxplot_salt, palette=\"Set1\")"
   ]
  },
  {
   "cell_type": "code",
   "execution_count": null,
   "metadata": {},
   "outputs": [],
   "source": []
  },
  {
   "cell_type": "markdown",
   "metadata": {},
   "source": [
    "# Finally let's look at the portion sizes"
   ]
  },
  {
   "cell_type": "code",
   "execution_count": 63,
   "metadata": {},
   "outputs": [
    {
     "data": {
      "text/html": [
       "<div>\n",
       "<style scoped>\n",
       "    .dataframe tbody tr th:only-of-type {\n",
       "        vertical-align: middle;\n",
       "    }\n",
       "\n",
       "    .dataframe tbody tr th {\n",
       "        vertical-align: top;\n",
       "    }\n",
       "\n",
       "    .dataframe thead th {\n",
       "        text-align: right;\n",
       "    }\n",
       "</style>\n",
       "<table border=\"1\" class=\"dataframe\">\n",
       "  <thead>\n",
       "    <tr style=\"text-align: right;\">\n",
       "      <th></th>\n",
       "      <th>serving_size</th>\n",
       "    </tr>\n",
       "  </thead>\n",
       "  <tbody>\n",
       "    <tr>\n",
       "      <th>422</th>\n",
       "      <td>32 g (2 Tbsp)</td>\n",
       "    </tr>\n",
       "    <tr>\n",
       "      <th>423</th>\n",
       "      <td>32 g (2 Tbsp)</td>\n",
       "    </tr>\n",
       "    <tr>\n",
       "      <th>934</th>\n",
       "      <td>32 g (2 Tbsp)</td>\n",
       "    </tr>\n",
       "    <tr>\n",
       "      <th>938</th>\n",
       "      <td>32 g (2 Tbsp)</td>\n",
       "    </tr>\n",
       "    <tr>\n",
       "      <th>1172</th>\n",
       "      <td>14 g (1 Tbsp)</td>\n",
       "    </tr>\n",
       "  </tbody>\n",
       "</table>\n",
       "</div>"
      ],
      "text/plain": [
       "       serving_size\n",
       "422   32 g (2 Tbsp)\n",
       "423   32 g (2 Tbsp)\n",
       "934   32 g (2 Tbsp)\n",
       "938   32 g (2 Tbsp)\n",
       "1172  14 g (1 Tbsp)"
      ]
     },
     "execution_count": 63,
     "metadata": {},
     "output_type": "execute_result"
    }
   ],
   "source": [
    "france_fats_portion_size = france_fats[['serving_size']].copy()\n",
    "france_fats_portion_size.dropna(inplace = True)\n",
    "france_fats_portion_size.head()\n"
   ]
  },
  {
   "cell_type": "markdown",
   "metadata": {},
   "source": [
    "remove letters in the result\n"
   ]
  },
  {
   "cell_type": "code",
   "execution_count": 64,
   "metadata": {},
   "outputs": [
    {
     "data": {
      "text/plain": [
       "count    621.000000\n",
       "mean      33.669887\n",
       "std       63.114940\n",
       "min        0.000000\n",
       "25%       10.000000\n",
       "50%       10.000000\n",
       "75%       29.000000\n",
       "max      681.000000\n",
       "Name: 1, dtype: float64"
      ]
     },
     "execution_count": 64,
     "metadata": {},
     "output_type": "execute_result"
    }
   ],
   "source": [
    "france_fats_portion_size = france_fats_portion_size['serving_size'].str.split('(\\d+)', expand = True)\n",
    "france_fats_portion_size[1].astype(float).describe()"
   ]
  },
  {
   "cell_type": "code",
   "execution_count": 65,
   "metadata": {},
   "outputs": [
    {
     "data": {
      "text/plain": [
       "count    3242.000000\n",
       "mean       24.357187\n",
       "std        25.437998\n",
       "min         0.000000\n",
       "25%        14.000000\n",
       "50%        15.000000\n",
       "75%        32.000000\n",
       "max       473.000000\n",
       "Name: 1, dtype: float64"
      ]
     },
     "execution_count": 65,
     "metadata": {},
     "output_type": "execute_result"
    }
   ],
   "source": [
    "us_fats_portion_size = us_fats[['serving_size']].copy()\n",
    "us_fats_portion_size.dropna(inplace = True)\n",
    "us_fats_portion_size = us_fats_portion_size['serving_size'].str.split('(\\d+)', expand = True)\n",
    "us_fats_portion_size[1].astype(float).describe()"
   ]
  },
  {
   "cell_type": "code",
   "execution_count": null,
   "metadata": {},
   "outputs": [],
   "source": []
  }
 ],
 "metadata": {
  "kernelspec": {
   "display_name": "Python 3",
   "language": "python",
   "name": "python3"
  },
  "language_info": {
   "codemirror_mode": {
    "name": "ipython",
    "version": 3
   },
   "file_extension": ".py",
   "mimetype": "text/x-python",
   "name": "python",
   "nbconvert_exporter": "python",
   "pygments_lexer": "ipython3",
   "version": "3.6.5"
  }
 },
 "nbformat": 4,
 "nbformat_minor": 2
}
