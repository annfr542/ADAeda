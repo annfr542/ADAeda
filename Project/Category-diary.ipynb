{
 "cells": [
  {
   "cell_type": "markdown",
   "metadata": {},
   "source": [
    "# FATS\n"
   ]
  },
  {
   "cell_type": "code",
   "execution_count": 1,
   "metadata": {},
   "outputs": [],
   "source": [
    "import pandas as pd\n",
    "import numpy as np\n",
    "import functools\n",
    "import re\n",
    "import matplotlib.pyplot as plt\n",
    "import seaborn as sns"
   ]
  },
  {
   "cell_type": "markdown",
   "metadata": {},
   "source": [
    "Read all data"
   ]
  },
  {
   "cell_type": "code",
   "execution_count": 2,
   "metadata": {},
   "outputs": [],
   "source": [
    "data_folder = \"./data/\""
   ]
  },
  {
   "cell_type": "code",
   "execution_count": 3,
   "metadata": {},
   "outputs": [],
   "source": [
    "france = pd.read_csv(data_folder + \"france_data.csv.zip\", sep=',', dtype=object)"
   ]
  },
  {
   "cell_type": "code",
   "execution_count": 4,
   "metadata": {},
   "outputs": [],
   "source": [
    "us = pd.read_csv(data_folder + \"us_data.csv.zip\", sep=',', dtype=object)"
   ]
  },
  {
   "cell_type": "code",
   "execution_count": 5,
   "metadata": {},
   "outputs": [],
   "source": [
    "def relevant_rows(df, tag_list):\n",
    "    import functools\n",
    "    import re\n",
    "    cols = ['categories_en', 'categories', 'product_name']\n",
    "    combinations = [df[col].str.contains(tag, na=False, flags=re.IGNORECASE) for tag in tag_list for col in cols]\n",
    "    mask = functools.reduce(lambda x,y: x | y, combinations)\n",
    "    return df[mask]"
   ]
  },
  {
   "cell_type": "code",
   "execution_count": 6,
   "metadata": {},
   "outputs": [],
   "source": [
    "def clean_categories(df, wrong_strings, wrong_ingredients = []):\n",
    "    cols = ['categories_en', 'categories', 'product_name']\n",
    "    combinations = [df[col].str.contains(wrong, na=False, flags=re.IGNORECASE) for wrong in wrong_strings for col in cols]\n",
    "    ingredient_combinations = [df['ingredients_text'].str.contains(wrong, na=False, flags=re.IGNORECASE) for wrong in wrong_ingredients]\n",
    "    mask = functools.reduce(lambda x,y: x | y, combinations + ingredient_combinations)\n",
    "    return df[~mask]"
   ]
  },
  {
   "cell_type": "markdown",
   "metadata": {},
   "source": [
    "Select the \"dairy\" data"
   ]
  },
  {
   "cell_type": "code",
   "execution_count": 140,
   "metadata": {},
   "outputs": [],
   "source": [
    "dairy_words = [\"dairy\",\"milk\",\"cream\",\"cheese\",\"yaourt\",\"fromage\",\"de lait\",\"yog\"]\n",
    "non_dairy_words = [\"dairy free\",\"non dairy\",\"dairy-free\",\"milk chocolat\",\"cheeseburger\",\"bacon\",\"sandwich\", \"pasta\",\"macaroni\",\n",
    "                  \"non-dairy\",\" pain \", \"beurre\", \" cake \"]"
   ]
  },
  {
   "cell_type": "code",
   "execution_count": 128,
   "metadata": {},
   "outputs": [
    {
     "name": "stdout",
     "output_type": "stream",
     "text": [
      "Diary related items in France before cleaning: 31835\n",
      "Diary related items in France after cleaning: 28559\n"
     ]
    }
   ],
   "source": [
    "france_dairy = relevant_rows(france, dairy_words)\n",
    "print(\"Diary related items in France before cleaning: \" + str(france_dairy.shape[0]))\n",
    "us_dairy = relevant_rows(us, dairy_words)\n",
    "print(\"Diary related items in US before cleaning: \" + str(us_dairy.shape[0]))\n"
   ]
  },
  {
   "cell_type": "code",
   "execution_count": 141,
   "metadata": {},
   "outputs": [
    {
     "name": "stdout",
     "output_type": "stream",
     "text": [
      "Diary related items in France after cleaning: 27617\n"
     ]
    }
   ],
   "source": [
    "france_dairy = clean_categories(france_dairy, non_dairy_words)\n",
    "print(\"Diary related items in France after cleaning: \" + str(france_dairy.shape[0]))\n",
    "us_dairy = clean_categories(us_dairy, non_dairy_words)\n",
    "print(\"Diary related items in US after cleaning: \" + str(us_dairy.shape[0]))"
   ]
  },
  {
   "cell_type": "code",
   "execution_count": 139,
   "metadata": {},
   "outputs": [
    {
     "name": "stdout",
     "output_type": "stream",
     "text": [
      "Diary related items in US after cleaning: 22535\n"
     ]
    }
   ],
   "source": []
  },
  {
   "cell_type": "code",
   "execution_count": 31,
   "metadata": {},
   "outputs": [],
   "source": [
    "def create_distribution(df,categories):\n",
    "    distribution = pd.DataFrame(columns=['tag','category','count'])\n",
    "    for i in range(categories.shape[0]):\n",
    "        tag = categories[i,0]\n",
    "        category = categories[i,1]\n",
    "        newRow = pd.DataFrame([[tag, category, relevant_rows(df,[tag]).shape[0]]], columns=['tag','category','count'])\n",
    "        distribution = distribution.append(newRow)\n",
    "        df = clean_categories(df, [tag])\n",
    "    return distribution, df.shape[0], df"
   ]
  },
  {
   "cell_type": "code",
   "execution_count": 107,
   "metadata": {},
   "outputs": [],
   "source": [
    "tags = np.matrix([['yaourt', \"yogurt\"], \n",
    "                  [\"yogurt\", \"yogurt\"],\n",
    "                  [\"yog\", \"yogurt\"],\n",
    "                  [\"cheddar\", \"cheddar\"],\n",
    "                  [\"cheese\", \"cheese\"],\n",
    "                  [\"fromage\", \"cheese\"],\n",
    "                  [\"ice\", \"ice cream\"],\n",
    "                  [\"cream\", \"cream\"],\n",
    "                  [\"dessert\", \"dessert\"],\n",
    "                  [\"milk\", \"milk\"],\n",
    "                ])"
   ]
  },
  {
   "cell_type": "code",
   "execution_count": 143,
   "metadata": {},
   "outputs": [],
   "source": [
    "france_distri, leftovers , rest = create_distribution(france_dairy,tags)\n",
    "france_distri_grouped = france_distri.groupby(['category']).sum().drop('tag', axis = 1)\n",
    "france_distri_grouped['procent'] = france_distri_grouped['count'].apply(lambda x: x/france_distri_grouped['count'].sum())\n",
    "france_distri_grouped['country'] = \"France\""
   ]
  },
  {
   "cell_type": "code",
   "execution_count": 144,
   "metadata": {},
   "outputs": [],
   "source": [
    "us_distri, leftovers , rest = create_distribution(us_dairy,tags)\n",
    "us_distri_grouped = us_distri.groupby(['category']).sum().drop('tag', axis = 1)\n",
    "us_distri_grouped['procent'] = us_distri_grouped['count'].apply(lambda x: x/us_distri_grouped['count'].sum())\n",
    "us_distri_grouped['country'] = \"US\""
   ]
  },
  {
   "cell_type": "code",
   "execution_count": 145,
   "metadata": {},
   "outputs": [
    {
     "data": {
      "text/html": [
       "<div>\n",
       "<style scoped>\n",
       "    .dataframe tbody tr th:only-of-type {\n",
       "        vertical-align: middle;\n",
       "    }\n",
       "\n",
       "    .dataframe tbody tr th {\n",
       "        vertical-align: top;\n",
       "    }\n",
       "\n",
       "    .dataframe thead th {\n",
       "        text-align: right;\n",
       "    }\n",
       "</style>\n",
       "<table border=\"1\" class=\"dataframe\">\n",
       "  <thead>\n",
       "    <tr style=\"text-align: right;\">\n",
       "      <th></th>\n",
       "      <th>category</th>\n",
       "      <th>count</th>\n",
       "      <th>procent</th>\n",
       "      <th>country</th>\n",
       "    </tr>\n",
       "  </thead>\n",
       "  <tbody>\n",
       "    <tr>\n",
       "      <th>0</th>\n",
       "      <td>cheddar</td>\n",
       "      <td>153</td>\n",
       "      <td>0.005600</td>\n",
       "      <td>France</td>\n",
       "    </tr>\n",
       "    <tr>\n",
       "      <th>1</th>\n",
       "      <td>cheese</td>\n",
       "      <td>11286</td>\n",
       "      <td>0.413074</td>\n",
       "      <td>France</td>\n",
       "    </tr>\n",
       "    <tr>\n",
       "      <th>2</th>\n",
       "      <td>cream</td>\n",
       "      <td>2308</td>\n",
       "      <td>0.084474</td>\n",
       "      <td>France</td>\n",
       "    </tr>\n",
       "    <tr>\n",
       "      <th>3</th>\n",
       "      <td>dessert</td>\n",
       "      <td>973</td>\n",
       "      <td>0.035612</td>\n",
       "      <td>France</td>\n",
       "    </tr>\n",
       "    <tr>\n",
       "      <th>4</th>\n",
       "      <td>ice cream</td>\n",
       "      <td>2011</td>\n",
       "      <td>0.073604</td>\n",
       "      <td>France</td>\n",
       "    </tr>\n",
       "    <tr>\n",
       "      <th>5</th>\n",
       "      <td>milk</td>\n",
       "      <td>4056</td>\n",
       "      <td>0.148452</td>\n",
       "      <td>France</td>\n",
       "    </tr>\n",
       "    <tr>\n",
       "      <th>6</th>\n",
       "      <td>yogurt</td>\n",
       "      <td>6535</td>\n",
       "      <td>0.239185</td>\n",
       "      <td>France</td>\n",
       "    </tr>\n",
       "    <tr>\n",
       "      <th>7</th>\n",
       "      <td>cheddar</td>\n",
       "      <td>1734</td>\n",
       "      <td>0.077428</td>\n",
       "      <td>US</td>\n",
       "    </tr>\n",
       "    <tr>\n",
       "      <th>8</th>\n",
       "      <td>cheese</td>\n",
       "      <td>7856</td>\n",
       "      <td>0.350793</td>\n",
       "      <td>US</td>\n",
       "    </tr>\n",
       "    <tr>\n",
       "      <th>9</th>\n",
       "      <td>cream</td>\n",
       "      <td>3247</td>\n",
       "      <td>0.144988</td>\n",
       "      <td>US</td>\n",
       "    </tr>\n",
       "    <tr>\n",
       "      <th>10</th>\n",
       "      <td>dessert</td>\n",
       "      <td>87</td>\n",
       "      <td>0.003885</td>\n",
       "      <td>US</td>\n",
       "    </tr>\n",
       "    <tr>\n",
       "      <th>11</th>\n",
       "      <td>ice cream</td>\n",
       "      <td>3013</td>\n",
       "      <td>0.134539</td>\n",
       "      <td>US</td>\n",
       "    </tr>\n",
       "    <tr>\n",
       "      <th>12</th>\n",
       "      <td>milk</td>\n",
       "      <td>2946</td>\n",
       "      <td>0.131547</td>\n",
       "      <td>US</td>\n",
       "    </tr>\n",
       "    <tr>\n",
       "      <th>13</th>\n",
       "      <td>yogurt</td>\n",
       "      <td>3512</td>\n",
       "      <td>0.156821</td>\n",
       "      <td>US</td>\n",
       "    </tr>\n",
       "  </tbody>\n",
       "</table>\n",
       "</div>"
      ],
      "text/plain": [
       "     category  count   procent country\n",
       "0     cheddar    153  0.005600  France\n",
       "1      cheese  11286  0.413074  France\n",
       "2       cream   2308  0.084474  France\n",
       "3     dessert    973  0.035612  France\n",
       "4   ice cream   2011  0.073604  France\n",
       "5        milk   4056  0.148452  France\n",
       "6      yogurt   6535  0.239185  France\n",
       "7     cheddar   1734  0.077428      US\n",
       "8      cheese   7856  0.350793      US\n",
       "9       cream   3247  0.144988      US\n",
       "10    dessert     87  0.003885      US\n",
       "11  ice cream   3013  0.134539      US\n",
       "12       milk   2946  0.131547      US\n",
       "13     yogurt   3512  0.156821      US"
      ]
     },
     "execution_count": 145,
     "metadata": {},
     "output_type": "execute_result"
    }
   ],
   "source": [
    "distribution = france_distri_grouped.append(us_distri_grouped).reset_index()\n",
    "distribution"
   ]
  },
  {
   "cell_type": "code",
   "execution_count": 146,
   "metadata": {},
   "outputs": [
    {
     "data": {
      "image/png": "[encoded data removed]",
      "text/plain": [
       "<Figure size 432x288 with 1 Axes>"
      ]
     },
     "metadata": {},
     "output_type": "display_data"
    }
   ],
   "source": [
    "sns.set(style=\"whitegrid\")\n",
    "\n",
    "g = sns.barplot(x='category', y=\"procent\", hue=\"country\", data=distribution,palette=\"muted\")\n",
    "\n"
   ]
  },
  {
   "cell_type": "code",
   "execution_count": null,
   "metadata": {},
   "outputs": [],
   "source": []
  }
 ],
 "metadata": {
  "kernelspec": {
   "display_name": "Python 3",
   "language": "python",
   "name": "python3"
  },
  "language_info": {
   "codemirror_mode": {
    "name": "ipython",
    "version": 3
   },
   "file_extension": ".py",
   "mimetype": "text/x-python",
   "name": "python",
   "nbconvert_exporter": "python",
   "pygments_lexer": "ipython3",
   "version": "3.6.5"
  }
 },
 "nbformat": 4,
 "nbformat_minor": 2
}
