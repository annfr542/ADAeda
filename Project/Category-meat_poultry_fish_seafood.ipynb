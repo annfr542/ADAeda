{
 "cells": [
  {
   "cell_type": "code",
   "execution_count": 1,
   "metadata": {},
   "outputs": [],
   "source": [
    "import pandas as pd\n",
    "import numpy as np\n",
    "from helpers import select_entries, clean_categories"
   ]
  },
  {
   "cell_type": "code",
   "execution_count": 2,
   "metadata": {},
   "outputs": [],
   "source": [
    "data_folder = \"./data/\""
   ]
  },
  {
   "cell_type": "code",
   "execution_count": 4,
   "metadata": {},
   "outputs": [],
   "source": [
    "france = pd.read_csv(data_folder + 'france_data.csv.zip')\n",
    "usa = pd.read_csv(data_folder + 'us_data.csv.zip')"
   ]
  },
  {
   "cell_type": "markdown",
   "metadata": {},
   "source": [
    "# Category: meat, poultry, fish and seafood"
   ]
  },
  {
   "cell_type": "markdown",
   "metadata": {},
   "source": [
    "Here we find all the data which contain anything that can considerer bread:"
   ]
  },
  {
   "cell_type": "code",
   "execution_count": 52,
   "metadata": {},
   "outputs": [],
   "source": [
    "allowed_words = [\"meat\", \"poultry\", \"fish\", \"seafood\", \"chicken\", \"pork\", \"cow\", \"veal\", \"veau\", \"shrimp\",\n",
    "               \"beef\", \"steak\", \"turkey\", \"duck\", \"foie gras\", \"agneau\", \"porc\", \"cheval\", \"viande\",\n",
    "                \"rib\", \"loin\", \"boeuf\", \"bœuf\", \"vache\", \"poule\", \"poisson\", \"crayfish\", \"lobster\", \"saumon\",\n",
    "                \"salmon\", \"thon\", \"tuna\", \"sardine\"]"
   ]
  },
  {
   "cell_type": "code",
   "execution_count": 53,
   "metadata": {},
   "outputs": [],
   "source": [
    "not_allowed_words = [\"cheese\", \"sauce\", \"sandwich\", \"pizza\", \"fromage\", \"frites\", \"ravioli\", \"dairi\", \"dairy\", \n",
    "                     \"soup\", \"yaourt\", \"nugget\", \"gravy\", \"cracker\", \"pie\", \"broth\", \"bouillon\", \"quiche\",\n",
    "                     \"chicken dinner\", \"salad\", \"base\", \"dumpling\", \"chowder\", \"panini\", \"bread\", \"popcorn\",\n",
    "                     \"seasoning mix\", \"creole\", \"beefless\", \"tagliatelle\", \"terrine\", \"taboule\", \"risotto\",\n",
    "                     \"rice\", \"riz\", \"creme\", \"crème\", \"boulghour\", \"mousse\"]\n",
    "not_allowed_ingredients = [\"pasta\", \"légume\", \"vegetable\"]"
   ]
  },
  {
   "cell_type": "code",
   "execution_count": 54,
   "metadata": {},
   "outputs": [
    {
     "name": "stdout",
     "output_type": "stream",
     "text": [
      "Meat, poultry, fish and seafood items in France before cleaning: 46119\n",
      "Meat, poultry, fish and seafood items in USA before cleaning: 14008\n",
      "\n",
      "Meat, poultry, fish and seafood items in France after cleaning: 32314\n",
      "Meat, poultry, fish and seafood items in USA after cleaning: 8647\n"
     ]
    }
   ],
   "source": [
    "meats_france = select_entries(france, allowed_words)\n",
    "meats_usa = select_entries(usa, allowed_words)\n",
    "\n",
    "print(\"Meat, poultry, fish and seafood items in France before cleaning: {}\".format(meats_france.shape[0]))\n",
    "print(\"Meat, poultry, fish and seafood items in USA before cleaning: {}\".format(meats_usa.shape[0]))\n",
    "\n",
    "meats_france = clean_categories(meats_france, not_allowed_words, not_allowed_ingredients)\n",
    "meats_usa = clean_categories(meats_usa, not_allowed_words, not_allowed_ingredients)\n",
    "\n",
    "print(\"\")\n",
    "print(\"Meat, poultry, fish and seafood items in France after cleaning: {}\".format(meats_france.shape[0]))\n",
    "print(\"Meat, poultry, fish and seafood items in USA after cleaning: {}\".format(meats_usa.shape[0]))"
   ]
  }
 ],
 "metadata": {
  "kernelspec": {
   "display_name": "Python [conda env:anaconda3]",
   "language": "python",
   "name": "conda-env-anaconda3-py"
  },
  "language_info": {
   "codemirror_mode": {
    "name": "ipython",
    "version": 3
   },
   "file_extension": ".py",
   "mimetype": "text/x-python",
   "name": "python",
   "nbconvert_exporter": "python",
   "pygments_lexer": "ipython3",
   "version": "3.6.5"
  }
 },
 "nbformat": 4,
 "nbformat_minor": 2
}
