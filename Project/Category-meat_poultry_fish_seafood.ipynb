{
 "cells": [
  {
   "cell_type": "code",
   "execution_count": 23,
   "metadata": {},
   "outputs": [],
   "source": [
    "import pandas as pd\n",
    "import numpy as np\n",
    "from helpers import select_entries, clean_categories, re_arrange_for_boxplot\n",
    "import matplotlib.pyplot as plt\n",
    "import seaborn as sns"
   ]
  },
  {
   "cell_type": "code",
   "execution_count": 5,
   "metadata": {},
   "outputs": [],
   "source": [
    "data_folder = \"./data/\""
   ]
  },
  {
   "cell_type": "code",
   "execution_count": 6,
   "metadata": {},
   "outputs": [],
   "source": [
    "france = pd.read_csv(data_folder + 'france_data.csv')\n",
    "usa = pd.read_csv(data_folder + 'us_data.csv')"
   ]
  },
  {
   "cell_type": "markdown",
   "metadata": {},
   "source": [
    "# Category: meat, poultry, fish and seafood"
   ]
  },
  {
   "cell_type": "markdown",
   "metadata": {},
   "source": [
    "Here we find all the data which contain anything that can be considerer meat, poultry, fish and seafood:"
   ]
  },
  {
   "cell_type": "code",
   "execution_count": 7,
   "metadata": {},
   "outputs": [],
   "source": [
    "allowed_words = [\"meat\", \"poultry\", \"fish\", \"seafood\", \"chicken\", \"pork\", \"cow\", \"veal\", \"veau\", \"shrimp\",\n",
    "               \"beef\", \"steak\", \"turkey\", \"duck\", \"foie gras\", \"agneau\", \"porc\", \"cheval\", \"viande\",\n",
    "                \"rib\", \"loin\", \"boeuf\", \"bœuf\", \"vache\", \"poule\", \"poisson\", \"crayfish\", \"lobster\", \"saumon\",\n",
    "                \"salmon\", \"thon\", \"tuna\", \"sardine\", \"charcuterie\"]"
   ]
  },
  {
   "cell_type": "code",
   "execution_count": 8,
   "metadata": {},
   "outputs": [],
   "source": [
    "not_allowed_words = [\"cheese\", \"sauce\", \"sandwich\", \"pizza\", \"fromage\", \"frites\", \"ravioli\", \"dairi\", \"dairy\", \n",
    "                     \"soup\", \"yaourt\", \"nugget\", \"gravy\", \"cracker\", \"pie\", \"broth\", \"bouillon\", \"quiche\",\n",
    "                     \"chicken dinner\", \"salad\", \"base\", \"dumpling\", \"chowder\", \"panini\", \"bread\", \"popcorn\",\n",
    "                     \"seasoning mix\", \"creole\", \"beefless\", \"tagliatelle\", \"terrine\", \"taboule\", \"risotto\",\n",
    "                     \"rice\", \"riz\", \"creme\", \"crème\", \"boulghour\", \"mousse\", \"fisherman\", \"beverage\"]\n",
    "not_allowed_ingredients = [\"pasta\", \"légume\", \"vegetable\"]"
   ]
  },
  {
   "cell_type": "code",
   "execution_count": 12,
   "metadata": {},
   "outputs": [
    {
     "name": "stdout",
     "output_type": "stream",
     "text": [
      "Meat, poultry, fish and seafood items in France before cleaning: 18256\n",
      "Meat, poultry, fish and seafood items in France after cleaning: 12704\n",
      "\n",
      "Meat, poultry, fish and seafood items in USA before cleaning: 14008\n",
      "Meat, poultry, fish and seafood items in USA after cleaning: 8643\n"
     ]
    }
   ],
   "source": [
    "meats_france = select_entries(france, allowed_words)\n",
    "meats_usa = select_entries(usa, allowed_words)\n",
    "\n",
    "meats_france_before = meats_france.shape[0]\n",
    "meats_usa_before = meats_usa.shape[0]\n",
    "\n",
    "\n",
    "meats_france = clean_categories(meats_france, not_allowed_words, not_allowed_ingredients)\n",
    "meats_usa = clean_categories(meats_usa, not_allowed_words, not_allowed_ingredients)\n",
    "\n",
    "print(\"Meat, poultry, fish and seafood items in France before cleaning: {}\".format(meats_france_before))\n",
    "print(\"Meat, poultry, fish and seafood items in France after cleaning: {}\".format(meats_france.shape[0]))\n",
    "print(\"\")\n",
    "print(\"Meat, poultry, fish and seafood items in USA before cleaning: {}\".format(meats_usa_before))\n",
    "print(\"Meat, poultry, fish and seafood items in USA after cleaning: {}\".format(meats_usa.shape[0]))"
   ]
  },
  {
   "cell_type": "markdown",
   "metadata": {},
   "source": [
    "### Plotting distribution of nutrients"
   ]
  },
  {
   "cell_type": "code",
   "execution_count": 18,
   "metadata": {},
   "outputs": [],
   "source": [
    "france_interesting_cols = meats_france[['proteins_100g', 'fat_100g']].astype(float).replace({0.0:np.nan})\n",
    "usa_interesting_cols = meats_usa[['proteins_100g', 'fat_100g']].astype(float).replace({0.0:np.nan})"
   ]
  },
  {
   "cell_type": "code",
   "execution_count": 21,
   "metadata": {},
   "outputs": [],
   "source": [
    "data_boxplot = re_arrange_for_boxplot(france_interesting_cols,\"France\").append(\n",
    "    re_arrange_for_boxplot(usa_interesting_cols,\"US\"))"
   ]
  },
  {
   "cell_type": "code",
   "execution_count": 24,
   "metadata": {},
   "outputs": [
    {
     "data": {
      "text/plain": [
       "<matplotlib.axes._subplots.AxesSubplot at 0x7f845fc88d68>"
      ]
     },
     "execution_count": 24,
     "metadata": {},
     "output_type": "execute_result"
    },
    {
     "data": {
      "image/png": "[encoded data removed]",
      "text/plain": [
       "<Figure size 864x360 with 1 Axes>"
      ]
     },
     "metadata": {},
     "output_type": "display_data"
    }
   ],
   "source": [
    "plt.figure(figsize=(12,5))\n",
    "sns.set(style=\"whitegrid\")\n",
    "sns.boxplot(x=\"X\",y =\"Y\", hue=\"country\", data=data_boxplot, palette=\"Set1\")"
   ]
  },
  {
   "cell_type": "markdown",
   "metadata": {},
   "source": [
    "Here we see that when it comes to protein levels the food items in the US and in France are fairly equal. As for the fats it seems to be the case that france has more fat in the food than the US."
   ]
  },
  {
   "cell_type": "code",
   "execution_count": null,
   "metadata": {},
   "outputs": [],
   "source": []
  }
 ],
 "metadata": {
  "kernelspec": {
   "display_name": "Python [conda env:anaconda3]",
   "language": "python",
   "name": "conda-env-anaconda3-py"
  },
  "language_info": {
   "codemirror_mode": {
    "name": "ipython",
    "version": 3
   },
   "file_extension": ".py",
   "mimetype": "text/x-python",
   "name": "python",
   "nbconvert_exporter": "python",
   "pygments_lexer": "ipython3",
   "version": "3.6.5"
  }
 },
 "nbformat": 4,
 "nbformat_minor": 2
}
