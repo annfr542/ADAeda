{
 "cells": [
  {
   "cell_type": "markdown",
   "metadata": {},
   "source": [
    "# Data collection and descriptive analysis\n",
    "From [Open Food Facts](https://world.openfoodfacts.org/) we have a 1.7 GB `.csv` file which contains information of over 600 000 unique food products. Our purpose with this notebook is to explore this dataset and compile the availible information into one/several files of a smaller format containing only what is needed and can be used for our project."
   ]
  },
  {
   "cell_type": "code",
   "execution_count": 1,
   "metadata": {},
   "outputs": [],
   "source": [
    "import pandas as pd\n",
    "import numpy as np\n",
    "import functools\n",
    "import re\n",
    "import pygal\n",
    "import matplotlib.pyplot as plt\n",
    "import seaborn as sns\n",
    "from pygal.style import Style\n",
    "import math"
   ]
  },
  {
   "cell_type": "markdown",
   "metadata": {},
   "source": [
    "# Health indices"
   ]
  },
  {
   "cell_type": "code",
   "execution_count": 2,
   "metadata": {},
   "outputs": [
    {
     "data": {
      "text/html": [
       "<div>\n",
       "<style scoped>\n",
       "    .dataframe tbody tr th:only-of-type {\n",
       "        vertical-align: middle;\n",
       "    }\n",
       "\n",
       "    .dataframe tbody tr th {\n",
       "        vertical-align: top;\n",
       "    }\n",
       "\n",
       "    .dataframe thead th {\n",
       "        text-align: right;\n",
       "    }\n",
       "</style>\n",
       "<table border=\"1\" class=\"dataframe\">\n",
       "  <thead>\n",
       "    <tr style=\"text-align: right;\">\n",
       "      <th></th>\n",
       "      <th>Population</th>\n",
       "      <th>Life expectancy at birth</th>\n",
       "      <th>Life expectancy at age 60</th>\n",
       "      <th>Healty life expectancy (HALE) at birth</th>\n",
       "      <th>Healty life expectancy (HALE) at age 60</th>\n",
       "      <th>Nutritional deficiencies</th>\n",
       "      <th>Protein-energy malnutrition</th>\n",
       "      <th>Iodine deficiency</th>\n",
       "      <th>Iron-deficiency anaemia</th>\n",
       "      <th>Other nutritional deficiencies</th>\n",
       "      <th>Diabetes mellitus</th>\n",
       "      <th>Ischaemic heart disease</th>\n",
       "      <th>overweight among adults</th>\n",
       "      <th>obesity among adults</th>\n",
       "      <th>overweight among children and adolescents</th>\n",
       "      <th>obesity among children and adolescents</th>\n",
       "      <th>Mean body mass index adults</th>\n",
       "      <th>Mean body mass index 5-19 years</th>\n",
       "      <th>Blood glucose</th>\n",
       "    </tr>\n",
       "  </thead>\n",
       "  <tbody>\n",
       "    <tr>\n",
       "      <th>france</th>\n",
       "      <td>64721.0</td>\n",
       "      <td>82.9</td>\n",
       "      <td>21.8</td>\n",
       "      <td>68.5</td>\n",
       "      <td>16.9</td>\n",
       "      <td>0.006518</td>\n",
       "      <td>0.005111</td>\n",
       "      <td>0.000001</td>\n",
       "      <td>0.001236</td>\n",
       "      <td>0.000155</td>\n",
       "      <td>0.019121</td>\n",
       "      <td>0.095569</td>\n",
       "      <td>59.5</td>\n",
       "      <td>23.2</td>\n",
       "      <td>28.9</td>\n",
       "      <td>8.1</td>\n",
       "      <td>25.6</td>\n",
       "      <td>19.5</td>\n",
       "      <td>5.9</td>\n",
       "    </tr>\n",
       "    <tr>\n",
       "      <th>us</th>\n",
       "      <td>322180.0</td>\n",
       "      <td>78.5</td>\n",
       "      <td>23.3</td>\n",
       "      <td>68.5</td>\n",
       "      <td>17.8</td>\n",
       "      <td>0.002986</td>\n",
       "      <td>0.001966</td>\n",
       "      <td>0.000001</td>\n",
       "      <td>0.000924</td>\n",
       "      <td>0.000096</td>\n",
       "      <td>0.026175</td>\n",
       "      <td>0.155290</td>\n",
       "      <td>67.9</td>\n",
       "      <td>37.3</td>\n",
       "      <td>41.2</td>\n",
       "      <td>21.4</td>\n",
       "      <td>29.1</td>\n",
       "      <td>21.5</td>\n",
       "      <td>7.3</td>\n",
       "    </tr>\n",
       "  </tbody>\n",
       "</table>\n",
       "</div>"
      ],
      "text/plain": [
       "        Population  Life expectancy at birth  Life expectancy at age 60  \\\n",
       "france     64721.0                      82.9                       21.8   \n",
       "us        322180.0                      78.5                       23.3   \n",
       "\n",
       "        Healty life expectancy (HALE) at birth  \\\n",
       "france                                    68.5   \n",
       "us                                        68.5   \n",
       "\n",
       "        Healty life expectancy (HALE) at age 60  Nutritional deficiencies  \\\n",
       "france                                     16.9                  0.006518   \n",
       "us                                         17.8                  0.002986   \n",
       "\n",
       "        Protein-energy malnutrition  Iodine deficiency  \\\n",
       "france                     0.005111           0.000001   \n",
       "us                         0.001966           0.000001   \n",
       "\n",
       "        Iron-deficiency anaemia  Other nutritional deficiencies  \\\n",
       "france                 0.001236                        0.000155   \n",
       "us                     0.000924                        0.000096   \n",
       "\n",
       "        Diabetes mellitus  Ischaemic heart disease  overweight among adults  \\\n",
       "france           0.019121                 0.095569                     59.5   \n",
       "us               0.026175                 0.155290                     67.9   \n",
       "\n",
       "        obesity among adults  overweight among children and adolescents  \\\n",
       "france                  23.2                                       28.9   \n",
       "us                      37.3                                       41.2   \n",
       "\n",
       "        obesity among children and adolescents  Mean body mass index adults  \\\n",
       "france                                     8.1                         25.6   \n",
       "us                                        21.4                         29.1   \n",
       "\n",
       "        Mean body mass index 5-19 years  Blood glucose  \n",
       "france                             19.5            5.9  \n",
       "us                                 21.5            7.3  "
      ]
     },
     "execution_count": 2,
     "metadata": {},
     "output_type": "execute_result"
    }
   ],
   "source": [
    "index = ['france','us']\n",
    "columns = ['Population',\n",
    "    'Life expectancy at birth',\n",
    "    'Life expectancy at age 60',\n",
    "    'Healty life expectancy (HALE) at birth' ,\n",
    "    'Healty life expectancy (HALE) at age 60',\n",
    "    'Nutritional deficiencies',\n",
    "    'Protein-energy malnutrition',\n",
    "    'Iodine deficiency',\n",
    "    'Iron-deficiency anaemia',\n",
    "    'Other nutritional deficiencies',\n",
    "    'Diabetes mellitus',\n",
    "    'Ischaemic heart disease',\n",
    "    'overweight among adults',\n",
    "    'obesity among adults',\n",
    "    'overweight among children and adolescents',\n",
    "    'obesity among children and adolescents',\n",
    "    'Mean body mass index adults',\n",
    "    'Mean body mass index 5-19 years',\n",
    "    'Blood glucose' ]\n",
    "data = np.array([\n",
    "    [64721, 82.9, 21.8, 68.5, 16.9, 0.006518, 0.005111, 0.000001, 0.001236, 0.000155, 0.019121, 0.095569, 59.5,\n",
    "     23.2, 28.9, 8.1, 25.6, 19.5, 5.9],\n",
    "    [322180, 78.5, 23.3, 68.5, 17.8, 0.002986, 0.001966, 0.000001, 0.000924, 0.000096, 0.026175, 0.155290, 67.9,\n",
    "     37.3, 41.2, 21.4, 29.1, 21.5, 7.3]\n",
    "])\n",
    "healthIndices= pd.DataFrame(data, index=index, columns=columns)\n",
    "healthIndices"
   ]
  },
  {
   "cell_type": "code",
   "execution_count": 3,
   "metadata": {},
   "outputs": [],
   "source": [
    "data_folder = \"./data/\""
   ]
  },
  {
   "cell_type": "code",
   "execution_count": 4,
   "metadata": {},
   "outputs": [],
   "source": [
    "database = pd.read_csv(data_folder + \"en.openfoodfacts.org.products.csv\", sep='\\t', dtype=object)"
   ]
  },
  {
   "cell_type": "markdown",
   "metadata": {},
   "source": [
    "We take a look at the data:"
   ]
  },
  {
   "cell_type": "code",
   "execution_count": 5,
   "metadata": {},
   "outputs": [
    {
     "data": {
      "text/html": [
       "<div>\n",
       "<style scoped>\n",
       "    .dataframe tbody tr th:only-of-type {\n",
       "        vertical-align: middle;\n",
       "    }\n",
       "\n",
       "    .dataframe tbody tr th {\n",
       "        vertical-align: top;\n",
       "    }\n",
       "\n",
       "    .dataframe thead th {\n",
       "        text-align: right;\n",
       "    }\n",
       "</style>\n",
       "<table border=\"1\" class=\"dataframe\">\n",
       "  <thead>\n",
       "    <tr style=\"text-align: right;\">\n",
       "      <th></th>\n",
       "      <th>code</th>\n",
       "      <th>url</th>\n",
       "      <th>creator</th>\n",
       "      <th>created_t</th>\n",
       "      <th>created_datetime</th>\n",
       "      <th>last_modified_t</th>\n",
       "      <th>last_modified_datetime</th>\n",
       "      <th>product_name</th>\n",
       "      <th>generic_name</th>\n",
       "      <th>quantity</th>\n",
       "      <th>...</th>\n",
       "      <th>carbon-footprint_100g</th>\n",
       "      <th>nutrition-score-fr_100g</th>\n",
       "      <th>nutrition-score-uk_100g</th>\n",
       "      <th>glycemic-index_100g</th>\n",
       "      <th>water-hardness_100g</th>\n",
       "      <th>choline_100g</th>\n",
       "      <th>phylloquinone_100g</th>\n",
       "      <th>beta-glucan_100g</th>\n",
       "      <th>inositol_100g</th>\n",
       "      <th>carnitine_100g</th>\n",
       "    </tr>\n",
       "  </thead>\n",
       "  <tbody>\n",
       "    <tr>\n",
       "      <th>count</th>\n",
       "      <td>696770</td>\n",
       "      <td>696770</td>\n",
       "      <td>696801</td>\n",
       "      <td>696800</td>\n",
       "      <td>696794</td>\n",
       "      <td>696804</td>\n",
       "      <td>696804</td>\n",
       "      <td>670800</td>\n",
       "      <td>77415</td>\n",
       "      <td>194249</td>\n",
       "      <td>...</td>\n",
       "      <td>344</td>\n",
       "      <td>140760</td>\n",
       "      <td>140760</td>\n",
       "      <td>2</td>\n",
       "      <td>1</td>\n",
       "      <td>27</td>\n",
       "      <td>1</td>\n",
       "      <td>14</td>\n",
       "      <td>33</td>\n",
       "      <td>13</td>\n",
       "    </tr>\n",
       "    <tr>\n",
       "      <th>unique</th>\n",
       "      <td>696731</td>\n",
       "      <td>696733</td>\n",
       "      <td>6656</td>\n",
       "      <td>562201</td>\n",
       "      <td>562207</td>\n",
       "      <td>551516</td>\n",
       "      <td>551515</td>\n",
       "      <td>479331</td>\n",
       "      <td>58231</td>\n",
       "      <td>22537</td>\n",
       "      <td>...</td>\n",
       "      <td>211</td>\n",
       "      <td>56</td>\n",
       "      <td>56</td>\n",
       "      <td>2</td>\n",
       "      <td>1</td>\n",
       "      <td>18</td>\n",
       "      <td>1</td>\n",
       "      <td>10</td>\n",
       "      <td>19</td>\n",
       "      <td>8</td>\n",
       "    </tr>\n",
       "    <tr>\n",
       "      <th>top</th>\n",
       "      <td>0638097545939</td>\n",
       "      <td>http://world-en.openfoodfacts.org/product/3280...</td>\n",
       "      <td>kiliweb</td>\n",
       "      <td>1489055829</td>\n",
       "      <td>2017-03-09T10:37:09Z</td>\n",
       "      <td>France</td>\n",
       "      <td>en:france</td>\n",
       "      <td>Comté</td>\n",
       "      <td>Pâtes alimentaires au blé dur de qualité supér...</td>\n",
       "      <td>500 g</td>\n",
       "      <td>...</td>\n",
       "      <td>0</td>\n",
       "      <td>0</td>\n",
       "      <td>0</td>\n",
       "      <td>3</td>\n",
       "      <td>2</td>\n",
       "      <td>0.069</td>\n",
       "      <td>1.6e-05</td>\n",
       "      <td>4</td>\n",
       "      <td>0.02</td>\n",
       "      <td>0.007</td>\n",
       "    </tr>\n",
       "    <tr>\n",
       "      <th>freq</th>\n",
       "      <td>2</td>\n",
       "      <td>2</td>\n",
       "      <td>312135</td>\n",
       "      <td>20</td>\n",
       "      <td>20</td>\n",
       "      <td>29</td>\n",
       "      <td>31</td>\n",
       "      <td>451</td>\n",
       "      <td>181</td>\n",
       "      <td>7881</td>\n",
       "      <td>...</td>\n",
       "      <td>82</td>\n",
       "      <td>7338</td>\n",
       "      <td>10150</td>\n",
       "      <td>1</td>\n",
       "      <td>1</td>\n",
       "      <td>4</td>\n",
       "      <td>1</td>\n",
       "      <td>3</td>\n",
       "      <td>6</td>\n",
       "      <td>2</td>\n",
       "    </tr>\n",
       "  </tbody>\n",
       "</table>\n",
       "<p>4 rows × 173 columns</p>\n",
       "</div>"
      ],
      "text/plain": [
       "                 code                                                url  \\\n",
       "count          696770                                             696770   \n",
       "unique         696731                                             696733   \n",
       "top     0638097545939  http://world-en.openfoodfacts.org/product/3280...   \n",
       "freq                2                                                  2   \n",
       "\n",
       "        creator   created_t      created_datetime last_modified_t  \\\n",
       "count    696801      696800                696794          696804   \n",
       "unique     6656      562201                562207          551516   \n",
       "top     kiliweb  1489055829  2017-03-09T10:37:09Z          France   \n",
       "freq     312135          20                    20              29   \n",
       "\n",
       "       last_modified_datetime product_name  \\\n",
       "count                  696804       670800   \n",
       "unique                 551515       479331   \n",
       "top                 en:france        Comté   \n",
       "freq                       31          451   \n",
       "\n",
       "                                             generic_name quantity  \\\n",
       "count                                               77415   194249   \n",
       "unique                                              58231    22537   \n",
       "top     Pâtes alimentaires au blé dur de qualité supér...    500 g   \n",
       "freq                                                  181     7881   \n",
       "\n",
       "            ...       carbon-footprint_100g nutrition-score-fr_100g  \\\n",
       "count       ...                         344                  140760   \n",
       "unique      ...                         211                      56   \n",
       "top         ...                           0                       0   \n",
       "freq        ...                          82                    7338   \n",
       "\n",
       "       nutrition-score-uk_100g glycemic-index_100g water-hardness_100g  \\\n",
       "count                   140760                   2                   1   \n",
       "unique                      56                   2                   1   \n",
       "top                          0                   3                   2   \n",
       "freq                     10150                   1                   1   \n",
       "\n",
       "       choline_100g phylloquinone_100g beta-glucan_100g inositol_100g  \\\n",
       "count            27                  1               14            33   \n",
       "unique           18                  1               10            19   \n",
       "top           0.069            1.6e-05                4          0.02   \n",
       "freq              4                  1                3             6   \n",
       "\n",
       "       carnitine_100g  \n",
       "count              13  \n",
       "unique              8  \n",
       "top             0.007  \n",
       "freq                2  \n",
       "\n",
       "[4 rows x 173 columns]"
      ]
     },
     "execution_count": 5,
     "metadata": {},
     "output_type": "execute_result"
    }
   ],
   "source": [
    "database.describe()"
   ]
  },
  {
   "cell_type": "markdown",
   "metadata": {},
   "source": [
    "We have a lot of different types of data, 173 columns. This means that the `describe` method does not really give us information that is easy to survey - we need to explore the data in another way. "
   ]
  },
  {
   "cell_type": "markdown",
   "metadata": {},
   "source": [
    "# Finding the column with the country data\n",
    "We are interested in doing out analysis based on which country the food item comes from. We therefore filter the data to find the columns which starts with the string `countr` for \"countries\":"
   ]
  },
  {
   "cell_type": "code",
   "execution_count": 6,
   "metadata": {},
   "outputs": [
    {
     "data": {
      "text/plain": [
       "['countries', 'countries_tags', 'countries_en']"
      ]
     },
     "execution_count": 6,
     "metadata": {},
     "output_type": "execute_result"
    }
   ],
   "source": [
    "filter_col = [col for col in database if col.startswith('countr')]\n",
    "filter_col"
   ]
  },
  {
   "cell_type": "markdown",
   "metadata": {},
   "source": [
    "We have three different columns regarding country data. Let's try to find out which one is relevant for us. A guess is that it is the `countries_en` column that we need, since the name presumably means that the column contain data of the origin country in English.\n",
    "\n",
    "Looking at the `countries` column, we notice that there are duplicates:"
   ]
  },
  {
   "cell_type": "code",
   "execution_count": 7,
   "metadata": {},
   "outputs": [
    {
     "data": {
      "text/plain": [
       "en:france    205162\n",
       "France       179274\n",
       "US           168473\n",
       "en:FR         28054\n",
       "Suisse         9097\n",
       "Name: countries, dtype: int64"
      ]
     },
     "execution_count": 7,
     "metadata": {},
     "output_type": "execute_result"
    }
   ],
   "source": [
    "database.countries.value_counts().head(5)"
   ]
  },
  {
   "cell_type": "markdown",
   "metadata": {},
   "source": [
    "France appears several times! By comparing the number of unique values for each of the three different columns we see that the other two columns contain less than half the number of unique values:"
   ]
  },
  {
   "cell_type": "code",
   "execution_count": 8,
   "metadata": {},
   "outputs": [
    {
     "name": "stdout",
     "output_type": "stream",
     "text": [
      "Number of unique country labels in column 'countries': 3227\n",
      "Number of unique country labels in column 'countries_tags': 1227\n",
      "Number of unique country labels in column 'countries_en': 1227\n"
     ]
    }
   ],
   "source": [
    "for col in filter_col:\n",
    "    print(\"Number of unique country labels in column '{}': \".format(col) + str(database[col].value_counts().shape[0]))\n"
   ]
  },
  {
   "cell_type": "markdown",
   "metadata": {},
   "source": [
    "Taking a look at `countries_tags` and `countries_en` gives us the information that they are basically identical, just with a different format for each country:"
   ]
  },
  {
   "cell_type": "code",
   "execution_count": 9,
   "metadata": {},
   "outputs": [
    {
     "data": {
      "text/plain": [
       "en:france               421492\n",
       "en:united-states        173575\n",
       "en:switzerland           13463\n",
       "en:germany               11845\n",
       "en:france,en:germany      6309\n",
       "en:spain                  6234\n",
       "Name: countries_tags, dtype: int64"
      ]
     },
     "execution_count": 9,
     "metadata": {},
     "output_type": "execute_result"
    }
   ],
   "source": [
    "database.countries_tags.value_counts().head(6)"
   ]
  },
  {
   "cell_type": "code",
   "execution_count": 10,
   "metadata": {},
   "outputs": [
    {
     "data": {
      "text/plain": [
       "France            421492\n",
       "United States     173575\n",
       "Switzerland        13463\n",
       "Germany            11845\n",
       "France,Germany      6309\n",
       "Spain               6234\n",
       "Name: countries_en, dtype: int64"
      ]
     },
     "execution_count": 10,
     "metadata": {},
     "output_type": "execute_result"
    }
   ],
   "source": [
    "database.countries_en.value_counts().head(6)"
   ]
  },
  {
   "cell_type": "markdown",
   "metadata": {},
   "source": [
    "Because of this, we decide to use the `countries_en` column. We note the format of the column, that each country starts with a capital letter and that if there are several countries they are separated by a comma without and whitespace."
   ]
  },
  {
   "cell_type": "markdown",
   "metadata": {},
   "source": [
    "# Filtering out France and the United States\n",
    "We are only interested in comparing France against the United States. Because of this, we want to compile the rows of the database which contain data for these two countries into two new dataframes respectively."
   ]
  },
  {
   "cell_type": "code",
   "execution_count": 11,
   "metadata": {},
   "outputs": [],
   "source": [
    "# na=False drops all the rows where countries_en is NaN\n",
    "france_data = database[database.countries_en.str.contains(\"France\", na=False)]\n",
    "us_data = database[database.countries_en.str.contains(\"United States\", na=False)]"
   ]
  },
  {
   "cell_type": "markdown",
   "metadata": {},
   "source": [
    "# Filtering out relevant columns"
   ]
  },
  {
   "cell_type": "markdown",
   "metadata": {},
   "source": [
    "Relevant columns are columns with values for several products. We define that a column is relevant to look at if it has at least 10 000 defined values."
   ]
  },
  {
   "cell_type": "code",
   "execution_count": 12,
   "metadata": {},
   "outputs": [],
   "source": [
    "columns10000 = ((france_data.count() > 10000) & (us_data.count() > 10000))"
   ]
  },
  {
   "cell_type": "code",
   "execution_count": 13,
   "metadata": {},
   "outputs": [
    {
     "data": {
      "text/plain": [
       "Index(['code', 'url', 'creator', 'created_t', 'created_datetime',\n",
       "       'last_modified_t', 'last_modified_datetime', 'product_name', 'brands',\n",
       "       'brands_tags', 'countries', 'countries_tags', 'countries_en',\n",
       "       'ingredients_text', 'serving_size', 'serving_quantity', 'additives_n',\n",
       "       'additives', 'additives_tags', 'additives_en',\n",
       "       'ingredients_from_palm_oil_n',\n",
       "       'ingredients_that_may_be_from_palm_oil_n', 'states', 'states_tags',\n",
       "       'states_en', 'energy_100g', 'fat_100g', 'saturated-fat_100g',\n",
       "       'carbohydrates_100g', 'sugars_100g', 'fiber_100g', 'proteins_100g',\n",
       "       'salt_100g', 'sodium_100g'],\n",
       "      dtype='object')"
      ]
     },
     "execution_count": 13,
     "metadata": {},
     "output_type": "execute_result"
    }
   ],
   "source": [
    "france_data.columns[columns10000]"
   ]
  },
  {
   "cell_type": "markdown",
   "metadata": {},
   "source": [
    "From the resulting columns, we will use the ones relevant for nutrition. These are the ones with values per 100g, servings and the product names. In addition to these, we will save the column \"category\", as we will use it to categorise our data. We will also save some additional vitamins and minerals, as well as two columns with nutrition facts. An overview of all columns can be found here: https://static.openfoodfacts.org/data/data-fields.txt"
   ]
  },
  {
   "cell_type": "code",
   "execution_count": 14,
   "metadata": {},
   "outputs": [],
   "source": [
    "re_columns = ['product_name', 'brands', 'brands_tags', 'ingredients_text', 'serving_size', 'categories',\n",
    "              'categories_tags', 'categories_en',\n",
    "              'serving_quantity', 'energy_100g', 'proteins_100g', 'carbohydrates_100g', 'sugars_100g', 'fat_100g',\n",
    "              'saturated-fat_100g','monounsaturated-fat_100g', 'polyunsaturated-fat_100g', 'omega-3-fat_100g',\n",
    "              'omega-6-fat_100g','omega-9-fat_100g', 'trans-fat_100g', 'cholesterol_100g', 'fiber_100g',\n",
    "              'sodium_100g', 'vitamin-a_100g','vitamin-d_100g', 'vitamin-e_100g', 'vitamin-k_100g', 'vitamin-c_100g',\n",
    "              'vitamin-b1_100g','vitamin-b2_100g', 'vitamin-pp_100g', 'vitamin-b6_100g', 'vitamin-b9_100g',\n",
    "              'vitamin-b12_100g',\n",
    "              'biotin_100g', 'calcium_100g', 'phosphorus_100g', 'iron_100g', 'magnesium_100g', 'zinc_100g',\n",
    "              'copper_100g', 'manganese_100g', 'fluoride_100g', 'selenium_100g', 'chromium_100g', 'molybdenum_100g',\n",
    "              'iodine_100g', 'nutrition-score-fr_100g', 'nutrition-score-uk_100g']"
   ]
  },
  {
   "cell_type": "code",
   "execution_count": 15,
   "metadata": {},
   "outputs": [],
   "source": [
    "france_data = france_data[re_columns]\n",
    "us_data = us_data[re_columns]"
   ]
  },
  {
   "cell_type": "markdown",
   "metadata": {},
   "source": [
    "# Cleaning data\n",
    "### Drop rows which are unusable\n",
    "Rows which only has NaN, and rows which does not have either any of the three food item category columns (`categories_en`, `categories` or `categories_tags`) or the `product name` category are not usable for us as we would not be able to use them in any comparison later on. For this reason we remove them:"
   ]
  },
  {
   "cell_type": "code",
   "execution_count": 16,
   "metadata": {
    "scrolled": true
   },
   "outputs": [],
   "source": [
    "# drop rows with all NaNs.\n",
    "france_data.dropna(how='all', inplace=True)\n",
    "us_data.dropna(how='all', inplace=True)"
   ]
  },
  {
   "cell_type": "code",
   "execution_count": 17,
   "metadata": {},
   "outputs": [],
   "source": [
    "# drop rows if there are NaNs in all of the columns in `cols`\n",
    "cols = ['categories_en', 'categories', 'categories_tags', 'product_name']\n",
    "france_data.dropna(subset=cols, how='all', inplace=True)\n",
    "us_data.dropna(subset=cols, how='all', inplace=True)"
   ]
  },
  {
   "cell_type": "markdown",
   "metadata": {},
   "source": [
    "### Inspection of values"
   ]
  },
  {
   "cell_type": "markdown",
   "metadata": {},
   "source": [
    "We continue the cleaning cleaning by reading calculating number of rows in the two dataframes."
   ]
  },
  {
   "cell_type": "code",
   "execution_count": 18,
   "metadata": {},
   "outputs": [
    {
     "name": "stdout",
     "output_type": "stream",
     "text": [
      "There are 438674 products sold in France\n",
      "There are 174595 products sold in the USA\n"
     ]
    }
   ],
   "source": [
    "# number of products\n",
    "print(\"There are %d products sold in France\" % len(france_data))\n",
    "print(\"There are %d products sold in the USA\" % len(us_data))"
   ]
  },
  {
   "cell_type": "code",
   "execution_count": 19,
   "metadata": {},
   "outputs": [],
   "source": [
    "#us_data.to_csv(data_folder + \"us_data.csv\")\n",
    "#france_data.to_csv(data_folder + \"france_data.csv\")\n",
    "\n",
    "#france_data2 = pd.read_csv(data_folder + 'france_data.csv')\n",
    "#us_data2 = pd.read_csv(data_folder + 'us_data.csv')"
   ]
  },
  {
   "cell_type": "markdown",
   "metadata": {},
   "source": [
    "We will start to look at the data by considering the max and min of each column."
   ]
  },
  {
   "cell_type": "code",
   "execution_count": 20,
   "metadata": {
    "scrolled": true
   },
   "outputs": [
    {
     "data": {
      "text/plain": [
       "serving_quantity                     2601059.00\n",
       "energy_100g                          1841546.00\n",
       "proteins_100g                           4400.00\n",
       "carbohydrates_100g                     72000.00\n",
       "sugars_100g                            68000.00\n",
       "fat_100g                                 915.00\n",
       "saturated-fat_100g                       612.00\n",
       "monounsaturated-fat_100g                  82.00\n",
       "polyunsaturated-fat_100g                  75.00\n",
       "omega-3-fat_100g                         485.00\n",
       "omega-6-fat_100g                          71.00\n",
       "omega-9-fat_100g                          75.00\n",
       "trans-fat_100g                            31.00\n",
       "cholesterol_100g                          28.00\n",
       "fiber_100g                        5570000000.00\n",
       "sodium_100g                              800.00\n",
       "vitamin-a_100g                           800.00\n",
       "vitamin-d_100g                             8.00\n",
       "vitamin-e_100g                            22.90\n",
       "vitamin-k_100g                             0.14\n",
       "vitamin-c_100g                           100.00\n",
       "vitamin-b1_100g                          167.00\n",
       "vitamin-b2_100g                            1.42\n",
       "vitamin-pp_100g                           16.00\n",
       "vitamin-b6_100g                           92.50\n",
       "vitamin-b9_100g                            0.70\n",
       "vitamin-b12_100g                           2.10\n",
       "biotin_100g                                0.01\n",
       "calcium_100g                             760.00\n",
       "phosphorus_100g                          137.00\n",
       "iron_100g                                 25.00\n",
       "magnesium_100g                           657.14\n",
       "zinc_100g                                  5.70\n",
       "copper_100g                               37.60\n",
       "manganese_100g                             4.00\n",
       "fluoride_100g                              0.56\n",
       "selenium_100g                             13.90\n",
       "chromium_100g                              0.00\n",
       "molybdenum_100g                            0.00\n",
       "iodine_100g                               29.00\n",
       "nutrition-score-fr_100g                   40.00\n",
       "nutrition-score-uk_100g                   39.00\n",
       "dtype: float64"
      ]
     },
     "execution_count": 20,
     "metadata": {},
     "output_type": "execute_result"
    }
   ],
   "source": [
    "pd.options.display.float_format = '{:20.2f}'.format\n",
    "\n",
    "# Convert to numeric columns where possible, otherwise ignore errors\n",
    "france_data = france_data.apply(pd.to_numeric, errors='ignore')\n",
    "us_data = us_data.apply(pd.to_numeric, errors='ignore')\n",
    "\n",
    "france_data.max(numeric_only=True)"
   ]
  },
  {
   "cell_type": "markdown",
   "metadata": {},
   "source": [
    "The max is out of range for a lot of the columns with values of a 100g. We will clean these columns by assuming that the values should be in the range 0 to 100."
   ]
  },
  {
   "cell_type": "code",
   "execution_count": 21,
   "metadata": {},
   "outputs": [],
   "source": [
    "def clean_with_range(df, column_names, max_value, min_value):\n",
    "    for column in column_names:\n",
    "        mask_max = df[column] > max_value\n",
    "        mask_min = df[column] < min_value\n",
    "        df.loc[mask_max, column] = np.nan\n",
    "        df.loc[mask_min, column] = np.nan\n",
    "    return df"
   ]
  },
  {
   "cell_type": "code",
   "execution_count": 22,
   "metadata": {},
   "outputs": [],
   "source": [
    "numeric_columns = france_data.select_dtypes(include=[np.number]).columns.tolist()\n",
    "columns_to_clean = [x for x in numeric_columns if x not in ['Unnamed: 0', 'energy_100g']]\n",
    "france_data = clean_with_range(france_data, columns_to_clean, 100, 0)\n",
    "# use same columns for the usa\n",
    "us_data = clean_with_range(us_data, columns_to_clean, 100, 0)"
   ]
  },
  {
   "cell_type": "markdown",
   "metadata": {},
   "source": [
    "Below we can see the cleaned max values."
   ]
  },
  {
   "cell_type": "code",
   "execution_count": 23,
   "metadata": {},
   "outputs": [
    {
     "data": {
      "text/plain": [
       "serving_quantity                         100.00\n",
       "energy_100g                          1841546.00\n",
       "proteins_100g                            100.00\n",
       "carbohydrates_100g                       100.00\n",
       "sugars_100g                              100.00\n",
       "fat_100g                                 100.00\n",
       "saturated-fat_100g                       100.00\n",
       "monounsaturated-fat_100g                  82.00\n",
       "polyunsaturated-fat_100g                  75.00\n",
       "omega-3-fat_100g                          68.00\n",
       "omega-6-fat_100g                          71.00\n",
       "omega-9-fat_100g                          75.00\n",
       "trans-fat_100g                            31.00\n",
       "cholesterol_100g                          28.00\n",
       "fiber_100g                               100.00\n",
       "sodium_100g                               98.43\n",
       "vitamin-a_100g                            73.00\n",
       "vitamin-d_100g                             8.00\n",
       "vitamin-e_100g                            22.90\n",
       "vitamin-k_100g                             0.14\n",
       "vitamin-c_100g                           100.00\n",
       "vitamin-b1_100g                           89.30\n",
       "vitamin-b2_100g                            1.42\n",
       "vitamin-pp_100g                           16.00\n",
       "vitamin-b6_100g                           92.50\n",
       "vitamin-b9_100g                            0.70\n",
       "vitamin-b12_100g                           2.10\n",
       "biotin_100g                                0.01\n",
       "calcium_100g                             100.00\n",
       "phosphorus_100g                           55.00\n",
       "iron_100g                                 25.00\n",
       "magnesium_100g                            89.00\n",
       "zinc_100g                                  5.70\n",
       "copper_100g                               37.60\n",
       "manganese_100g                             4.00\n",
       "fluoride_100g                              0.56\n",
       "selenium_100g                             13.90\n",
       "chromium_100g                              0.00\n",
       "molybdenum_100g                            0.00\n",
       "iodine_100g                               29.00\n",
       "nutrition-score-fr_100g                   40.00\n",
       "nutrition-score-uk_100g                   39.00\n",
       "dtype: float64"
      ]
     },
     "execution_count": 23,
     "metadata": {},
     "output_type": "execute_result"
    }
   ],
   "source": [
    "france_data.max()"
   ]
  },
  {
   "cell_type": "markdown",
   "metadata": {},
   "source": [
    "# Downsampling the France dataset\n",
    "The France dataset contains a considerate amount more entries than the US dataset. Because of this, we downsample the France dataset at this stage so that both datasets have the same number of entries."
   ]
  },
  {
   "cell_type": "code",
   "execution_count": 24,
   "metadata": {},
   "outputs": [
    {
     "name": "stdout",
     "output_type": "stream",
     "text": [
      "Size of France dataset: 438674\n",
      "Size of US dataset: 174595\n"
     ]
    }
   ],
   "source": [
    "print(\"Size of France dataset: \" + str(france_data.shape[0]))\n",
    "print(\"Size of US dataset: \"+ str(us_data.shape[0]))"
   ]
  },
  {
   "cell_type": "code",
   "execution_count": 25,
   "metadata": {},
   "outputs": [
    {
     "name": "stdout",
     "output_type": "stream",
     "text": [
      "Size of France dataset: 174595\n",
      "Size of US dataset: 174595\n"
     ]
    }
   ],
   "source": [
    "france_data = france_data.sample(us_data.shape[0])\n",
    "print(\"Size of France dataset: \" + str(france_data.shape[0]))\n",
    "print(\"Size of US dataset: \"+ str(us_data.shape[0]))"
   ]
  },
  {
   "cell_type": "markdown",
   "metadata": {},
   "source": [
    "# Define categories for comparisons\n",
    "For doing comparisons between the US and France we need to categorize the data into comparable parts. As seen in the data there are already 3 columns containing (possibly overlapping) category information for the food items. These category columns needs to be investigated further, which we do starting with looking at the entries in each category which are most common:"
   ]
  },
  {
   "cell_type": "code",
   "execution_count": 26,
   "metadata": {},
   "outputs": [
    {
     "data": {
      "text/plain": [
       "en:beverages                                  2706\n",
       "en:fats                                        666\n",
       "en:milks                                       257\n",
       "Chocolats noirs                                240\n",
       "Snacks sucrés,Biscuits et gâteaux,Biscuits     142\n",
       "Name: categories, dtype: int64"
      ]
     },
     "execution_count": 26,
     "metadata": {},
     "output_type": "execute_result"
    }
   ],
   "source": [
    "france_data.categories.value_counts().head(5)"
   ]
  },
  {
   "cell_type": "code",
   "execution_count": 27,
   "metadata": {},
   "outputs": [
    {
     "data": {
      "text/plain": [
       "Beverages,Non-Alcoholic beverages           2006\n",
       "Fats                                         697\n",
       "Beverages,Sugared beverages                  647\n",
       "Sugary snacks,Chocolates,Dark chocolates     421\n",
       "Dairies,Milks                                382\n",
       "Name: categories_en, dtype: int64"
      ]
     },
     "execution_count": 27,
     "metadata": {},
     "output_type": "execute_result"
    }
   ],
   "source": [
    "france_data.categories_en.value_counts().head(5)"
   ]
  },
  {
   "cell_type": "code",
   "execution_count": 28,
   "metadata": {},
   "outputs": [
    {
     "data": {
      "text/plain": [
       "en:beverages,en:non-alcoholic-beverages              2006\n",
       "en:fats                                               697\n",
       "en:beverages,en:sugared-beverages                     647\n",
       "en:sugary-snacks,en:chocolates,en:dark-chocolates     421\n",
       "en:dairies,en:milks                                   382\n",
       "Name: categories_tags, dtype: int64"
      ]
     },
     "execution_count": 28,
     "metadata": {},
     "output_type": "execute_result"
    }
   ],
   "source": [
    "france_data.categories_tags.value_counts().head(5)"
   ]
  },
  {
   "cell_type": "markdown",
   "metadata": {},
   "source": [
    "We see that the three columns are very similar, but there are some differences between them. An example is that for the most common entry, the categories `categories_en` and `categories_tags` provide additional information in the form of the tag \"Non-Alcoholic beverages\". On the other hand, the column `categories` provides us with the names of things in French. Having additional information increases the chance that an item is found and correctly identified as being in a certain category.\n",
    "\n",
    "As the two columns `categories_en` and `categories_tags` contain the same information (just in a slightly different format), we can choose to use only one, the `categories_en` column. This gives us two categories to use, `categories` and `categories_en`.\n",
    "\n",
    "It might be a good strategy for us to search through both of the two categories when we want find items for a comparison, for example searching for items with the keywords \"yoghurt\" and \"dairies\", especially since it would not be taking any considerable amount of time to do (the computations are not very heavy)."
   ]
  },
  {
   "cell_type": "markdown",
   "metadata": {},
   "source": [
    "We will also be using the `product_name` column for finding items that match certain categories, as the names can be descriptive and contain strings that are associated with a certain food category. An example of the most common food items in the US can be seen here:"
   ]
  },
  {
   "cell_type": "code",
   "execution_count": 29,
   "metadata": {},
   "outputs": [
    {
     "data": {
      "text/plain": [
       "Ice Cream                 408\n",
       "Extra Virgin Olive Oil    296\n",
       "Potato Chips              281\n",
       "Premium Ice Cream         226\n",
       "Beef Jerky                165\n",
       "Pinto Beans               162\n",
       "Popcorn                   150\n",
       "Salsa                     149\n",
       "Cookies                   144\n",
       "Tomato Sauce              140\n",
       "Name: product_name, dtype: int64"
      ]
     },
     "execution_count": 29,
     "metadata": {},
     "output_type": "execute_result"
    }
   ],
   "source": [
    "us_data.product_name.value_counts().head(10)"
   ]
  },
  {
   "cell_type": "markdown",
   "metadata": {},
   "source": [
    "We define a function which takes a dataframe and a list of strings and returns a dataframe with the rows of that original dataframe in which the string exists in any of the four columns `categories_en`, `categories`, `categories_tags` or `product name`. "
   ]
  },
  {
   "cell_type": "code",
   "execution_count": 30,
   "metadata": {},
   "outputs": [],
   "source": [
    "def select_entries(df, tag_list):\n",
    "    cols = ['categories_en', 'categories', 'product_name']\n",
    "    combinations = [df[col].str.contains(tag, na=False, flags=re.IGNORECASE)\n",
    "                    for tag in tag_list for col in cols]\n",
    "    mask = functools.reduce(lambda x, y: x | y, combinations)\n",
    "    return df[mask]"
   ]
  },
  {
   "cell_type": "code",
   "execution_count": 31,
   "metadata": {},
   "outputs": [
    {
     "data": {
      "text/html": [
       "<div>\n",
       "<style scoped>\n",
       "    .dataframe tbody tr th:only-of-type {\n",
       "        vertical-align: middle;\n",
       "    }\n",
       "\n",
       "    .dataframe tbody tr th {\n",
       "        vertical-align: top;\n",
       "    }\n",
       "\n",
       "    .dataframe thead th {\n",
       "        text-align: right;\n",
       "    }\n",
       "</style>\n",
       "<table border=\"1\" class=\"dataframe\">\n",
       "  <thead>\n",
       "    <tr style=\"text-align: right;\">\n",
       "      <th></th>\n",
       "      <th>product_name</th>\n",
       "      <th>brands</th>\n",
       "      <th>brands_tags</th>\n",
       "      <th>ingredients_text</th>\n",
       "      <th>serving_size</th>\n",
       "      <th>categories</th>\n",
       "      <th>categories_tags</th>\n",
       "      <th>categories_en</th>\n",
       "      <th>serving_quantity</th>\n",
       "      <th>energy_100g</th>\n",
       "      <th>...</th>\n",
       "      <th>zinc_100g</th>\n",
       "      <th>copper_100g</th>\n",
       "      <th>manganese_100g</th>\n",
       "      <th>fluoride_100g</th>\n",
       "      <th>selenium_100g</th>\n",
       "      <th>chromium_100g</th>\n",
       "      <th>molybdenum_100g</th>\n",
       "      <th>iodine_100g</th>\n",
       "      <th>nutrition-score-fr_100g</th>\n",
       "      <th>nutrition-score-uk_100g</th>\n",
       "    </tr>\n",
       "  </thead>\n",
       "  <tbody>\n",
       "    <tr>\n",
       "      <th>615</th>\n",
       "      <td>Ice Cream, Vanilla</td>\n",
       "      <td>Lactaid</td>\n",
       "      <td>lactaid</td>\n",
       "      <td>Milk, cream, sugar, corn syrup, guar gum, locu...</td>\n",
       "      <td>71 g (0.5 cup)</td>\n",
       "      <td>NaN</td>\n",
       "      <td>NaN</td>\n",
       "      <td>NaN</td>\n",
       "      <td>71.00</td>\n",
       "      <td>883.00</td>\n",
       "      <td>...</td>\n",
       "      <td>nan</td>\n",
       "      <td>nan</td>\n",
       "      <td>nan</td>\n",
       "      <td>nan</td>\n",
       "      <td>nan</td>\n",
       "      <td>nan</td>\n",
       "      <td>nan</td>\n",
       "      <td>nan</td>\n",
       "      <td>nan</td>\n",
       "      <td>nan</td>\n",
       "    </tr>\n",
       "    <tr>\n",
       "      <th>616</th>\n",
       "      <td>Ice Cream, Butter Pecan</td>\n",
       "      <td>Lactaid</td>\n",
       "      <td>lactaid</td>\n",
       "      <td>Milk, cream, sugar, corn syrup, pecans (pecans...</td>\n",
       "      <td>71 g (0.5 cup)</td>\n",
       "      <td>NaN</td>\n",
       "      <td>NaN</td>\n",
       "      <td>NaN</td>\n",
       "      <td>71.00</td>\n",
       "      <td>1000.00</td>\n",
       "      <td>...</td>\n",
       "      <td>nan</td>\n",
       "      <td>nan</td>\n",
       "      <td>nan</td>\n",
       "      <td>nan</td>\n",
       "      <td>nan</td>\n",
       "      <td>nan</td>\n",
       "      <td>nan</td>\n",
       "      <td>nan</td>\n",
       "      <td>nan</td>\n",
       "      <td>nan</td>\n",
       "    </tr>\n",
       "    <tr>\n",
       "      <th>2629</th>\n",
       "      <td>Ice Cream, Vanilla Bean</td>\n",
       "      <td>Private Selection</td>\n",
       "      <td>private-selection</td>\n",
       "      <td>Milk, cream, sugar, corn syrup, whey protein c...</td>\n",
       "      <td>93 g (0.5 cup)</td>\n",
       "      <td>NaN</td>\n",
       "      <td>NaN</td>\n",
       "      <td>NaN</td>\n",
       "      <td>93.00</td>\n",
       "      <td>946.00</td>\n",
       "      <td>...</td>\n",
       "      <td>nan</td>\n",
       "      <td>nan</td>\n",
       "      <td>nan</td>\n",
       "      <td>nan</td>\n",
       "      <td>nan</td>\n",
       "      <td>nan</td>\n",
       "      <td>nan</td>\n",
       "      <td>nan</td>\n",
       "      <td>nan</td>\n",
       "      <td>nan</td>\n",
       "    </tr>\n",
       "    <tr>\n",
       "      <th>2630</th>\n",
       "      <td>Ice Cream, Classic Country Vanilla</td>\n",
       "      <td>Private Selection</td>\n",
       "      <td>private-selection</td>\n",
       "      <td>Milk, cream, sugar, corn syrup, egg yolks, nat...</td>\n",
       "      <td>93 g (0.5 cup)</td>\n",
       "      <td>NaN</td>\n",
       "      <td>NaN</td>\n",
       "      <td>NaN</td>\n",
       "      <td>93.00</td>\n",
       "      <td>946.00</td>\n",
       "      <td>...</td>\n",
       "      <td>nan</td>\n",
       "      <td>nan</td>\n",
       "      <td>nan</td>\n",
       "      <td>nan</td>\n",
       "      <td>nan</td>\n",
       "      <td>nan</td>\n",
       "      <td>nan</td>\n",
       "      <td>nan</td>\n",
       "      <td>nan</td>\n",
       "      <td>nan</td>\n",
       "    </tr>\n",
       "    <tr>\n",
       "      <th>2631</th>\n",
       "      <td>Ice Cream, Denali Extreme Moose Tracks</td>\n",
       "      <td>Private Selection</td>\n",
       "      <td>private-selection</td>\n",
       "      <td>Ice cream - milk, cream, sugar, corn syrup, co...</td>\n",
       "      <td>85 g (0.5 cup)</td>\n",
       "      <td>NaN</td>\n",
       "      <td>NaN</td>\n",
       "      <td>NaN</td>\n",
       "      <td>85.00</td>\n",
       "      <td>1230.00</td>\n",
       "      <td>...</td>\n",
       "      <td>nan</td>\n",
       "      <td>nan</td>\n",
       "      <td>nan</td>\n",
       "      <td>nan</td>\n",
       "      <td>nan</td>\n",
       "      <td>nan</td>\n",
       "      <td>nan</td>\n",
       "      <td>nan</td>\n",
       "      <td>nan</td>\n",
       "      <td>nan</td>\n",
       "    </tr>\n",
       "  </tbody>\n",
       "</table>\n",
       "<p>5 rows × 50 columns</p>\n",
       "</div>"
      ],
      "text/plain": [
       "                                product_name             brands  \\\n",
       "615                       Ice Cream, Vanilla            Lactaid   \n",
       "616                  Ice Cream, Butter Pecan            Lactaid   \n",
       "2629                 Ice Cream, Vanilla Bean  Private Selection   \n",
       "2630      Ice Cream, Classic Country Vanilla  Private Selection   \n",
       "2631  Ice Cream, Denali Extreme Moose Tracks  Private Selection   \n",
       "\n",
       "            brands_tags                                   ingredients_text  \\\n",
       "615             lactaid  Milk, cream, sugar, corn syrup, guar gum, locu...   \n",
       "616             lactaid  Milk, cream, sugar, corn syrup, pecans (pecans...   \n",
       "2629  private-selection  Milk, cream, sugar, corn syrup, whey protein c...   \n",
       "2630  private-selection  Milk, cream, sugar, corn syrup, egg yolks, nat...   \n",
       "2631  private-selection  Ice cream - milk, cream, sugar, corn syrup, co...   \n",
       "\n",
       "        serving_size categories categories_tags categories_en  \\\n",
       "615   71 g (0.5 cup)        NaN             NaN           NaN   \n",
       "616   71 g (0.5 cup)        NaN             NaN           NaN   \n",
       "2629  93 g (0.5 cup)        NaN             NaN           NaN   \n",
       "2630  93 g (0.5 cup)        NaN             NaN           NaN   \n",
       "2631  85 g (0.5 cup)        NaN             NaN           NaN   \n",
       "\n",
       "         serving_quantity          energy_100g           ...             \\\n",
       "615                 71.00               883.00           ...              \n",
       "616                 71.00              1000.00           ...              \n",
       "2629                93.00               946.00           ...              \n",
       "2630                93.00               946.00           ...              \n",
       "2631                85.00              1230.00           ...              \n",
       "\n",
       "                zinc_100g          copper_100g       manganese_100g  \\\n",
       "615                   nan                  nan                  nan   \n",
       "616                   nan                  nan                  nan   \n",
       "2629                  nan                  nan                  nan   \n",
       "2630                  nan                  nan                  nan   \n",
       "2631                  nan                  nan                  nan   \n",
       "\n",
       "            fluoride_100g        selenium_100g        chromium_100g  \\\n",
       "615                   nan                  nan                  nan   \n",
       "616                   nan                  nan                  nan   \n",
       "2629                  nan                  nan                  nan   \n",
       "2630                  nan                  nan                  nan   \n",
       "2631                  nan                  nan                  nan   \n",
       "\n",
       "          molybdenum_100g          iodine_100g  nutrition-score-fr_100g  \\\n",
       "615                   nan                  nan                      nan   \n",
       "616                   nan                  nan                      nan   \n",
       "2629                  nan                  nan                      nan   \n",
       "2630                  nan                  nan                      nan   \n",
       "2631                  nan                  nan                      nan   \n",
       "\n",
       "      nutrition-score-uk_100g  \n",
       "615                       nan  \n",
       "616                       nan  \n",
       "2629                      nan  \n",
       "2630                      nan  \n",
       "2631                      nan  \n",
       "\n",
       "[5 rows x 50 columns]"
      ]
     },
     "execution_count": 31,
     "metadata": {},
     "output_type": "execute_result"
    }
   ],
   "source": [
    "ice_cream = select_entries(us_data, ['Ice Cream'])\n",
    "ice_cream.head(5)"
   ]
  },
  {
   "cell_type": "code",
   "execution_count": 32,
   "metadata": {},
   "outputs": [
    {
     "data": {
      "text/plain": [
       "(3131, 50)"
      ]
     },
     "execution_count": 32,
     "metadata": {},
     "output_type": "execute_result"
    }
   ],
   "source": [
    "select_entries(us_data, ['Ice Cream']).shape"
   ]
  },
  {
   "cell_type": "markdown",
   "metadata": {},
   "source": [
    "Here we see that the number of items related to the word `Ice Cream` in the data for USA is as many as 3131. As this is more than 6 times more items than what we found for `Ice Cream` in the `product_name` category we can therefore use this data if we want to find the products with the most entries in the database, e.g. the food item type with the most variants."
   ]
  },
  {
   "cell_type": "markdown",
   "metadata": {},
   "source": [
    "This function lets us easily find all of the relevant rows to a category we define by our own. The categories we will use are “Dairy”, “Snacks”, “Bread and Dry goods”, \"Fats\" and “Meat, Poultry, Fish, Seafood, etc.”"
   ]
  },
  {
   "cell_type": "markdown",
   "metadata": {},
   "source": [
    "We also define a function for omitting rows with cerain words from the columns, including an option to omit rows which have certain ingredients."
   ]
  },
  {
   "cell_type": "code",
   "execution_count": 33,
   "metadata": {},
   "outputs": [],
   "source": [
    "def clean_categories(df, wrong_strings, wrong_ingredients=[]):\n",
    "    cols = ['categories_en', 'categories', 'product_name']\n",
    "    combinations = [df[col].str.contains(wrong, na=False, flags=re.IGNORECASE)\n",
    "                    for wrong in wrong_strings for col in cols]\n",
    "    ingredient_combinations = [\n",
    "        df['ingredients_text'].str.contains(\n",
    "            wrong, na=False, flags=re.IGNORECASE\n",
    "        )\n",
    "        for wrong in wrong_ingredients\n",
    "    ]\n",
    "    mask = functools.reduce(\n",
    "        lambda x, y: x | y, combinations + ingredient_combinations\n",
    "    )\n",
    "    return df[~mask]"
   ]
  },
  {
   "cell_type": "markdown",
   "metadata": {},
   "source": [
    "# Category example\n",
    "As an example, we now filter the data for food items relating to `fats`, using the functions defined. "
   ]
  },
  {
   "cell_type": "code",
   "execution_count": 34,
   "metadata": {},
   "outputs": [],
   "source": [
    "butter = r'^(?:.*\\s)?butter(?:\\s.*)?$'\n",
    "oil = r'^(?:.*\\s)?oil(?:\\s.*)?$'\n",
    "fat_words = [butter, \"fats\", oil, \"beurre\", \"lätta\", \"milda\", \"margarin\", \"huile\", \"coconut fat\" ]\n",
    "non_fat_words = [\"butter cups\", \"pop corn\", \"chicken\", \"popcorn\", \"potato\", \"toffee\", \"in oil\", \"with olive oil\", \"with oil\", \"protein bar\",\"olive oil &\", \"marinat\", \"in olive oil\", \"bean\", \"snack\", \"ice cream\", \"cheese\", \"fromage\", \"a l'huile\", \"à l'huile\", \"caramel beurre\", \"petits beurre\", \"granola\", \"frits\", \"fried\", \"au beurre\", \"croissant\", \"all butter\", \"yaourt\", \"cookie\", \"chip\", \"sans huile\", \"sandwich\", \"soup\", \"pur beurre\", \"thon\", \"sauce\", \"chocolat\", \"chip\", \"cookie\", \"biscuits\", \"cake\", \"seafood\"]"
   ]
  },
  {
   "cell_type": "markdown",
   "metadata": {},
   "source": [
    "We now filter the france data:"
   ]
  },
  {
   "cell_type": "code",
   "execution_count": 35,
   "metadata": {},
   "outputs": [
    {
     "name": "stdout",
     "output_type": "stream",
     "text": [
      "Fat related items in France before cleaning: 6218\n",
      "Fat related items in France after cleaning: 3080\n"
     ]
    }
   ],
   "source": [
    "france_fats = select_entries(france_data, fat_words)\n",
    "print(\"Fat related items in France before cleaning: \" + str(france_fats.shape[0]))\n",
    "\n",
    "france_fats = clean_categories(france_fats, non_fat_words, ['flour'])\n",
    "print(\"Fat related items in France after cleaning: \" + str(france_fats.shape[0]))"
   ]
  },
  {
   "cell_type": "markdown",
   "metadata": {},
   "source": [
    "A peek at the data reveals that we have somewhat succeeded:"
   ]
  },
  {
   "cell_type": "code",
   "execution_count": 36,
   "metadata": {
    "scrolled": true
   },
   "outputs": [
    {
     "data": {
      "text/html": [
       "<div>\n",
       "<style scoped>\n",
       "    .dataframe tbody tr th:only-of-type {\n",
       "        vertical-align: middle;\n",
       "    }\n",
       "\n",
       "    .dataframe tbody tr th {\n",
       "        vertical-align: top;\n",
       "    }\n",
       "\n",
       "    .dataframe thead th {\n",
       "        text-align: right;\n",
       "    }\n",
       "</style>\n",
       "<table border=\"1\" class=\"dataframe\">\n",
       "  <thead>\n",
       "    <tr style=\"text-align: right;\">\n",
       "      <th></th>\n",
       "      <th>product_name</th>\n",
       "      <th>brands</th>\n",
       "      <th>brands_tags</th>\n",
       "      <th>ingredients_text</th>\n",
       "      <th>serving_size</th>\n",
       "      <th>categories</th>\n",
       "      <th>categories_tags</th>\n",
       "      <th>categories_en</th>\n",
       "      <th>serving_quantity</th>\n",
       "      <th>energy_100g</th>\n",
       "      <th>...</th>\n",
       "      <th>zinc_100g</th>\n",
       "      <th>copper_100g</th>\n",
       "      <th>manganese_100g</th>\n",
       "      <th>fluoride_100g</th>\n",
       "      <th>selenium_100g</th>\n",
       "      <th>chromium_100g</th>\n",
       "      <th>molybdenum_100g</th>\n",
       "      <th>iodine_100g</th>\n",
       "      <th>nutrition-score-fr_100g</th>\n",
       "      <th>nutrition-score-uk_100g</th>\n",
       "    </tr>\n",
       "  </thead>\n",
       "  <tbody>\n",
       "    <tr>\n",
       "      <th>350390</th>\n",
       "      <td>Beurre Doux</td>\n",
       "      <td>Moulin d'or</td>\n",
       "      <td>moulin-d-or</td>\n",
       "      <td>Beurre (_lait_).</td>\n",
       "      <td>NaN</td>\n",
       "      <td>Produits à tartiner,Produits laitiers,Matières...</td>\n",
       "      <td>en:spreads,en:dairies,en:fats,en:spreadable-fa...</td>\n",
       "      <td>Spreads,Dairies,Fats,Spreadable fats,Animal fa...</td>\n",
       "      <td>0.00</td>\n",
       "      <td>3121.00</td>\n",
       "      <td>...</td>\n",
       "      <td>nan</td>\n",
       "      <td>nan</td>\n",
       "      <td>nan</td>\n",
       "      <td>nan</td>\n",
       "      <td>nan</td>\n",
       "      <td>nan</td>\n",
       "      <td>nan</td>\n",
       "      <td>nan</td>\n",
       "      <td>20.00</td>\n",
       "      <td>20.00</td>\n",
       "    </tr>\n",
       "    <tr>\n",
       "      <th>72037</th>\n",
       "      <td>Beurre D?arachide Crémeux Léger</td>\n",
       "      <td>NaN</td>\n",
       "      <td>NaN</td>\n",
       "      <td>NaN</td>\n",
       "      <td>NaN</td>\n",
       "      <td>NaN</td>\n",
       "      <td>NaN</td>\n",
       "      <td>NaN</td>\n",
       "      <td>0.00</td>\n",
       "      <td>1925.00</td>\n",
       "      <td>...</td>\n",
       "      <td>nan</td>\n",
       "      <td>nan</td>\n",
       "      <td>nan</td>\n",
       "      <td>nan</td>\n",
       "      <td>nan</td>\n",
       "      <td>nan</td>\n",
       "      <td>nan</td>\n",
       "      <td>nan</td>\n",
       "      <td>nan</td>\n",
       "      <td>nan</td>\n",
       "    </tr>\n",
       "    <tr>\n",
       "      <th>263198</th>\n",
       "      <td>Huile d'olive au basilic</td>\n",
       "      <td>NaN</td>\n",
       "      <td>NaN</td>\n",
       "      <td>NaN</td>\n",
       "      <td>NaN</td>\n",
       "      <td>NaN</td>\n",
       "      <td>NaN</td>\n",
       "      <td>NaN</td>\n",
       "      <td>0.00</td>\n",
       "      <td>3766.00</td>\n",
       "      <td>...</td>\n",
       "      <td>nan</td>\n",
       "      <td>nan</td>\n",
       "      <td>nan</td>\n",
       "      <td>nan</td>\n",
       "      <td>nan</td>\n",
       "      <td>nan</td>\n",
       "      <td>nan</td>\n",
       "      <td>nan</td>\n",
       "      <td>nan</td>\n",
       "      <td>nan</td>\n",
       "    </tr>\n",
       "    <tr>\n",
       "      <th>30448</th>\n",
       "      <td>Godiva Truffles Traditionelles Cornet</td>\n",
       "      <td>Godiva</td>\n",
       "      <td>godiva</td>\n",
       "      <td>GODIVA Truffes Traditionnelles IOCHOCOLATETRUF...</td>\n",
       "      <td>NaN</td>\n",
       "      <td>en:fats</td>\n",
       "      <td>en:fats</td>\n",
       "      <td>Fats</td>\n",
       "      <td>0.00</td>\n",
       "      <td>2460.00</td>\n",
       "      <td>...</td>\n",
       "      <td>nan</td>\n",
       "      <td>nan</td>\n",
       "      <td>nan</td>\n",
       "      <td>nan</td>\n",
       "      <td>nan</td>\n",
       "      <td>nan</td>\n",
       "      <td>nan</td>\n",
       "      <td>nan</td>\n",
       "      <td>25.00</td>\n",
       "      <td>25.00</td>\n",
       "    </tr>\n",
       "    <tr>\n",
       "      <th>440379</th>\n",
       "      <td>Huile d'olive</td>\n",
       "      <td>Auchan</td>\n",
       "      <td>auchan</td>\n",
       "      <td>huile dlotive vierge extra Huile d'olive de su...</td>\n",
       "      <td>NaN</td>\n",
       "      <td>en:fats</td>\n",
       "      <td>en:fats</td>\n",
       "      <td>Fats</td>\n",
       "      <td>0.00</td>\n",
       "      <td>3766.00</td>\n",
       "      <td>...</td>\n",
       "      <td>nan</td>\n",
       "      <td>nan</td>\n",
       "      <td>nan</td>\n",
       "      <td>nan</td>\n",
       "      <td>nan</td>\n",
       "      <td>nan</td>\n",
       "      <td>nan</td>\n",
       "      <td>nan</td>\n",
       "      <td>11.00</td>\n",
       "      <td>20.00</td>\n",
       "    </tr>\n",
       "  </tbody>\n",
       "</table>\n",
       "<p>5 rows × 50 columns</p>\n",
       "</div>"
      ],
      "text/plain": [
       "                                 product_name       brands  brands_tags  \\\n",
       "350390                            Beurre Doux  Moulin d'or  moulin-d-or   \n",
       "72037         Beurre D?arachide Crémeux Léger          NaN          NaN   \n",
       "263198               Huile d'olive au basilic          NaN          NaN   \n",
       "30448   Godiva Truffles Traditionelles Cornet       Godiva       godiva   \n",
       "440379                          Huile d'olive       Auchan       auchan   \n",
       "\n",
       "                                         ingredients_text serving_size  \\\n",
       "350390                                   Beurre (_lait_).          NaN   \n",
       "72037                                                 NaN          NaN   \n",
       "263198                                                NaN          NaN   \n",
       "30448   GODIVA Truffes Traditionnelles IOCHOCOLATETRUF...          NaN   \n",
       "440379  huile dlotive vierge extra Huile d'olive de su...          NaN   \n",
       "\n",
       "                                               categories  \\\n",
       "350390  Produits à tartiner,Produits laitiers,Matières...   \n",
       "72037                                                 NaN   \n",
       "263198                                                NaN   \n",
       "30448                                             en:fats   \n",
       "440379                                            en:fats   \n",
       "\n",
       "                                          categories_tags  \\\n",
       "350390  en:spreads,en:dairies,en:fats,en:spreadable-fa...   \n",
       "72037                                                 NaN   \n",
       "263198                                                NaN   \n",
       "30448                                             en:fats   \n",
       "440379                                            en:fats   \n",
       "\n",
       "                                            categories_en  \\\n",
       "350390  Spreads,Dairies,Fats,Spreadable fats,Animal fa...   \n",
       "72037                                                 NaN   \n",
       "263198                                                NaN   \n",
       "30448                                                Fats   \n",
       "440379                                               Fats   \n",
       "\n",
       "           serving_quantity          energy_100g           ...             \\\n",
       "350390                 0.00              3121.00           ...              \n",
       "72037                  0.00              1925.00           ...              \n",
       "263198                 0.00              3766.00           ...              \n",
       "30448                  0.00              2460.00           ...              \n",
       "440379                 0.00              3766.00           ...              \n",
       "\n",
       "                  zinc_100g          copper_100g       manganese_100g  \\\n",
       "350390                  nan                  nan                  nan   \n",
       "72037                   nan                  nan                  nan   \n",
       "263198                  nan                  nan                  nan   \n",
       "30448                   nan                  nan                  nan   \n",
       "440379                  nan                  nan                  nan   \n",
       "\n",
       "              fluoride_100g        selenium_100g        chromium_100g  \\\n",
       "350390                  nan                  nan                  nan   \n",
       "72037                   nan                  nan                  nan   \n",
       "263198                  nan                  nan                  nan   \n",
       "30448                   nan                  nan                  nan   \n",
       "440379                  nan                  nan                  nan   \n",
       "\n",
       "            molybdenum_100g          iodine_100g  nutrition-score-fr_100g  \\\n",
       "350390                  nan                  nan                    20.00   \n",
       "72037                   nan                  nan                      nan   \n",
       "263198                  nan                  nan                      nan   \n",
       "30448                   nan                  nan                    25.00   \n",
       "440379                  nan                  nan                    11.00   \n",
       "\n",
       "        nutrition-score-uk_100g  \n",
       "350390                    20.00  \n",
       "72037                       nan  \n",
       "263198                      nan  \n",
       "30448                     25.00  \n",
       "440379                    20.00  \n",
       "\n",
       "[5 rows x 50 columns]"
      ]
     },
     "execution_count": 36,
     "metadata": {},
     "output_type": "execute_result"
    }
   ],
   "source": [
    "france_fats.head(5)"
   ]
  },
  {
   "cell_type": "markdown",
   "metadata": {},
   "source": [
    "Now the same for the US:"
   ]
  },
  {
   "cell_type": "code",
   "execution_count": 37,
   "metadata": {},
   "outputs": [
    {
     "name": "stdout",
     "output_type": "stream",
     "text": [
      "Fat related items in the US before cleaning: 6373\n",
      "Fat related items in the US after cleaning: 3306\n"
     ]
    }
   ],
   "source": [
    "us_fats = select_entries(us_data, fat_words)\n",
    "print(\"Fat related items in the US before cleaning: \" + str(us_fats.shape[0]))\n",
    "\n",
    "us_fats = clean_categories(us_fats, non_fat_words, ['flour'])\n",
    "print(\"Fat related items in the US after cleaning: \" + str(us_fats.shape[0]))"
   ]
  },
  {
   "cell_type": "code",
   "execution_count": 38,
   "metadata": {},
   "outputs": [
    {
     "data": {
      "text/html": [
       "<div>\n",
       "<style scoped>\n",
       "    .dataframe tbody tr th:only-of-type {\n",
       "        vertical-align: middle;\n",
       "    }\n",
       "\n",
       "    .dataframe tbody tr th {\n",
       "        vertical-align: top;\n",
       "    }\n",
       "\n",
       "    .dataframe thead th {\n",
       "        text-align: right;\n",
       "    }\n",
       "</style>\n",
       "<table border=\"1\" class=\"dataframe\">\n",
       "  <thead>\n",
       "    <tr style=\"text-align: right;\">\n",
       "      <th></th>\n",
       "      <th>product_name</th>\n",
       "      <th>brands</th>\n",
       "      <th>brands_tags</th>\n",
       "      <th>ingredients_text</th>\n",
       "      <th>serving_size</th>\n",
       "      <th>categories</th>\n",
       "      <th>categories_tags</th>\n",
       "      <th>categories_en</th>\n",
       "      <th>serving_quantity</th>\n",
       "      <th>energy_100g</th>\n",
       "      <th>...</th>\n",
       "      <th>zinc_100g</th>\n",
       "      <th>copper_100g</th>\n",
       "      <th>manganese_100g</th>\n",
       "      <th>fluoride_100g</th>\n",
       "      <th>selenium_100g</th>\n",
       "      <th>chromium_100g</th>\n",
       "      <th>molybdenum_100g</th>\n",
       "      <th>iodine_100g</th>\n",
       "      <th>nutrition-score-fr_100g</th>\n",
       "      <th>nutrition-score-uk_100g</th>\n",
       "    </tr>\n",
       "  </thead>\n",
       "  <tbody>\n",
       "    <tr>\n",
       "      <th>70</th>\n",
       "      <td>Organic Sunflower Oil</td>\n",
       "      <td>Napa Valley Naturals</td>\n",
       "      <td>napa-valley-naturals</td>\n",
       "      <td>Organic expeller pressed, refined high oleic s...</td>\n",
       "      <td>14 g (1 Tbsp)</td>\n",
       "      <td>NaN</td>\n",
       "      <td>NaN</td>\n",
       "      <td>NaN</td>\n",
       "      <td>14.00</td>\n",
       "      <td>3586.00</td>\n",
       "      <td>...</td>\n",
       "      <td>nan</td>\n",
       "      <td>nan</td>\n",
       "      <td>nan</td>\n",
       "      <td>nan</td>\n",
       "      <td>nan</td>\n",
       "      <td>nan</td>\n",
       "      <td>nan</td>\n",
       "      <td>nan</td>\n",
       "      <td>nan</td>\n",
       "      <td>nan</td>\n",
       "    </tr>\n",
       "    <tr>\n",
       "      <th>166</th>\n",
       "      <td>Organic Canola Oil Refined</td>\n",
       "      <td>Spectrum</td>\n",
       "      <td>spectrum</td>\n",
       "      <td>Organic expeller pressed refined canola oil</td>\n",
       "      <td>14 ml (1 Tbsp)</td>\n",
       "      <td>NaN</td>\n",
       "      <td>NaN</td>\n",
       "      <td>NaN</td>\n",
       "      <td>14.00</td>\n",
       "      <td>3586.00</td>\n",
       "      <td>...</td>\n",
       "      <td>nan</td>\n",
       "      <td>nan</td>\n",
       "      <td>nan</td>\n",
       "      <td>nan</td>\n",
       "      <td>nan</td>\n",
       "      <td>nan</td>\n",
       "      <td>nan</td>\n",
       "      <td>nan</td>\n",
       "      <td>nan</td>\n",
       "      <td>nan</td>\n",
       "    </tr>\n",
       "    <tr>\n",
       "      <th>233</th>\n",
       "      <td>Organic Unrefined Extra Virgin Coconut Oil</td>\n",
       "      <td>Aunt Patty</td>\n",
       "      <td>aunt-patty</td>\n",
       "      <td>Organic unrefined extra virgin coconuts oil</td>\n",
       "      <td>14 g (1 Tbsp)</td>\n",
       "      <td>NaN</td>\n",
       "      <td>NaN</td>\n",
       "      <td>NaN</td>\n",
       "      <td>14.00</td>\n",
       "      <td>3586.00</td>\n",
       "      <td>...</td>\n",
       "      <td>nan</td>\n",
       "      <td>nan</td>\n",
       "      <td>nan</td>\n",
       "      <td>nan</td>\n",
       "      <td>nan</td>\n",
       "      <td>nan</td>\n",
       "      <td>nan</td>\n",
       "      <td>nan</td>\n",
       "      <td>nan</td>\n",
       "      <td>nan</td>\n",
       "    </tr>\n",
       "    <tr>\n",
       "      <th>549</th>\n",
       "      <td>100% Pure Canola Oil</td>\n",
       "      <td>Canola Harvest</td>\n",
       "      <td>canola-harvest</td>\n",
       "      <td>100% canola oil .</td>\n",
       "      <td>14 g (1 Tbsp)</td>\n",
       "      <td>NaN</td>\n",
       "      <td>NaN</td>\n",
       "      <td>NaN</td>\n",
       "      <td>14.00</td>\n",
       "      <td>3586.00</td>\n",
       "      <td>...</td>\n",
       "      <td>nan</td>\n",
       "      <td>nan</td>\n",
       "      <td>nan</td>\n",
       "      <td>nan</td>\n",
       "      <td>nan</td>\n",
       "      <td>nan</td>\n",
       "      <td>nan</td>\n",
       "      <td>nan</td>\n",
       "      <td>nan</td>\n",
       "      <td>nan</td>\n",
       "    </tr>\n",
       "    <tr>\n",
       "      <th>551</th>\n",
       "      <td>Buttery Spread, With Flaxseed Oil</td>\n",
       "      <td>Canola Harvest</td>\n",
       "      <td>canola-harvest</td>\n",
       "      <td>Canola oil, water, palm oil, flax oil, palm ke...</td>\n",
       "      <td>14 g (1 Tbsp)</td>\n",
       "      <td>NaN</td>\n",
       "      <td>NaN</td>\n",
       "      <td>NaN</td>\n",
       "      <td>14.00</td>\n",
       "      <td>2389.00</td>\n",
       "      <td>...</td>\n",
       "      <td>nan</td>\n",
       "      <td>nan</td>\n",
       "      <td>nan</td>\n",
       "      <td>nan</td>\n",
       "      <td>nan</td>\n",
       "      <td>nan</td>\n",
       "      <td>nan</td>\n",
       "      <td>nan</td>\n",
       "      <td>nan</td>\n",
       "      <td>nan</td>\n",
       "    </tr>\n",
       "  </tbody>\n",
       "</table>\n",
       "<p>5 rows × 50 columns</p>\n",
       "</div>"
      ],
      "text/plain": [
       "                                   product_name                brands  \\\n",
       "70                        Organic Sunflower Oil  Napa Valley Naturals   \n",
       "166                  Organic Canola Oil Refined              Spectrum   \n",
       "233  Organic Unrefined Extra Virgin Coconut Oil            Aunt Patty   \n",
       "549                        100% Pure Canola Oil        Canola Harvest   \n",
       "551           Buttery Spread, With Flaxseed Oil        Canola Harvest   \n",
       "\n",
       "              brands_tags                                   ingredients_text  \\\n",
       "70   napa-valley-naturals  Organic expeller pressed, refined high oleic s...   \n",
       "166              spectrum        Organic expeller pressed refined canola oil   \n",
       "233            aunt-patty        Organic unrefined extra virgin coconuts oil   \n",
       "549        canola-harvest                                  100% canola oil .   \n",
       "551        canola-harvest  Canola oil, water, palm oil, flax oil, palm ke...   \n",
       "\n",
       "       serving_size categories categories_tags categories_en  \\\n",
       "70    14 g (1 Tbsp)        NaN             NaN           NaN   \n",
       "166  14 ml (1 Tbsp)        NaN             NaN           NaN   \n",
       "233   14 g (1 Tbsp)        NaN             NaN           NaN   \n",
       "549   14 g (1 Tbsp)        NaN             NaN           NaN   \n",
       "551   14 g (1 Tbsp)        NaN             NaN           NaN   \n",
       "\n",
       "        serving_quantity          energy_100g           ...             \\\n",
       "70                 14.00              3586.00           ...              \n",
       "166                14.00              3586.00           ...              \n",
       "233                14.00              3586.00           ...              \n",
       "549                14.00              3586.00           ...              \n",
       "551                14.00              2389.00           ...              \n",
       "\n",
       "               zinc_100g          copper_100g       manganese_100g  \\\n",
       "70                   nan                  nan                  nan   \n",
       "166                  nan                  nan                  nan   \n",
       "233                  nan                  nan                  nan   \n",
       "549                  nan                  nan                  nan   \n",
       "551                  nan                  nan                  nan   \n",
       "\n",
       "           fluoride_100g        selenium_100g        chromium_100g  \\\n",
       "70                   nan                  nan                  nan   \n",
       "166                  nan                  nan                  nan   \n",
       "233                  nan                  nan                  nan   \n",
       "549                  nan                  nan                  nan   \n",
       "551                  nan                  nan                  nan   \n",
       "\n",
       "         molybdenum_100g          iodine_100g  nutrition-score-fr_100g  \\\n",
       "70                   nan                  nan                      nan   \n",
       "166                  nan                  nan                      nan   \n",
       "233                  nan                  nan                      nan   \n",
       "549                  nan                  nan                      nan   \n",
       "551                  nan                  nan                      nan   \n",
       "\n",
       "     nutrition-score-uk_100g  \n",
       "70                       nan  \n",
       "166                      nan  \n",
       "233                      nan  \n",
       "549                      nan  \n",
       "551                      nan  \n",
       "\n",
       "[5 rows x 50 columns]"
      ]
     },
     "execution_count": 38,
     "metadata": {},
     "output_type": "execute_result"
    }
   ],
   "source": [
    "us_fats.head(5)"
   ]
  },
  {
   "cell_type": "markdown",
   "metadata": {},
   "source": [
    "As can be seen, the number of items in each dataset continues to be similar."
   ]
  },
  {
   "cell_type": "markdown",
   "metadata": {},
   "source": [
    "# Saving data\n",
    "We finish by writing the divided and curated data into two csv-files, one for France and one for the US. This yields two files of the much more managable size of around 100 MB each, compared to the original 1.7 GB."
   ]
  },
  {
   "cell_type": "code",
   "execution_count": 39,
   "metadata": {},
   "outputs": [],
   "source": [
    "france_data = france_data.reset_index(drop=True)\n",
    "us_data = us_data.reset_index(drop=True)\n",
    "us_data.to_csv(data_folder + \"us_data.csv\")\n",
    "france_data.to_csv(data_folder + \"france_data.csv\")"
   ]
  },
  {
   "cell_type": "markdown",
   "metadata": {},
   "source": [
    "# Data category analysis\n",
    "As mentioned before, the categories we will divide the data set into and investigate are: “Dairy”, “Snacks”, “Bread and Dry goods”, \"Fats\" and “Meat, Poultry, Fish, Seafood, etc.”. In the following, we filter out the data into the categories using the already defined functions `select_entries` and `clean_categories`. We then explore the resulting data and plot the interesting metrics, saving the plots we want to use in our data story using the library `pygal`."
   ]
  },
  {
   "cell_type": "markdown",
   "metadata": {},
   "source": [
    "## Read data\n",
    "We read in the data we saved. The reason for the save is to create a \"checkpoint\", to be able to start again in the middle of the notebook"
   ]
  },
  {
   "cell_type": "code",
   "execution_count": 40,
   "metadata": {},
   "outputs": [],
   "source": [
    "france = pd.read_csv(data_folder + \"france_data.csv\", sep=',', dtype=object)\n",
    "us = pd.read_csv(data_folder + \"us_data.csv\", sep=',', dtype=object)"
   ]
  },
  {
   "cell_type": "markdown",
   "metadata": {},
   "source": [
    "## Category: Dairy"
   ]
  },
  {
   "cell_type": "markdown",
   "metadata": {},
   "source": [
    "We define the words which are dairy-related and non-dairy-related, respectively:"
   ]
  },
  {
   "cell_type": "code",
   "execution_count": 41,
   "metadata": {},
   "outputs": [],
   "source": [
    "dairy_words = [\"dairy\",\"milk\",\"cream\",\"cheese\",\"yaourt\",\"fromage\",\"de lait\",\"yog\"]\n",
    "non_dairy_words = [\"dairy free\",\"non dairy\",\"dairy-free\",\"milk chocolat\",\"cheeseburger\",\n",
    "                   \"bacon\",\"sandwich\", \"pasta\",\"macaroni\",\"non-dairy\",\" pain \", \"beurre\", \" cake \"]"
   ]
  },
  {
   "cell_type": "markdown",
   "metadata": {},
   "source": [
    "We now use the `select_entries` function to filter out the entries in the database that are related to dairy."
   ]
  },
  {
   "cell_type": "code",
   "execution_count": 42,
   "metadata": {},
   "outputs": [
    {
     "name": "stdout",
     "output_type": "stream",
     "text": [
      "Dairy related items in France before cleaning: 12640\n",
      "Dairy related items in US before cleaning: 26093\n"
     ]
    }
   ],
   "source": [
    "france_dairy = select_entries(france, dairy_words)\n",
    "print(\"Dairy related items in France before cleaning: \" + str(france_dairy.shape[0]))\n",
    "us_dairy = select_entries(us, dairy_words)\n",
    "print(\"Dairy related items in US before cleaning: \" + str(us_dairy.shape[0]))\n"
   ]
  },
  {
   "cell_type": "markdown",
   "metadata": {},
   "source": [
    "We use the `clean_categories` function to remove food items unrelated to dairy, based on words that should not be in a food item's category/product name."
   ]
  },
  {
   "cell_type": "code",
   "execution_count": 43,
   "metadata": {},
   "outputs": [
    {
     "name": "stdout",
     "output_type": "stream",
     "text": [
      "Dairy related items in France after cleaning: 10957\n",
      "Dairy related items in US after cleaning: 22529\n"
     ]
    }
   ],
   "source": [
    "france_dairy = clean_categories(france_dairy, non_dairy_words)\n",
    "print(\"Dairy related items in France after cleaning: \" + str(france_dairy.shape[0]))\n",
    "us_dairy = clean_categories(us_dairy, non_dairy_words)\n",
    "print(\"Dairy related items in US after cleaning: \" + str(us_dairy.shape[0]))"
   ]
  },
  {
   "cell_type": "markdown",
   "metadata": {},
   "source": [
    "### Distribution of subcategories within the dairy category"
   ]
  },
  {
   "cell_type": "markdown",
   "metadata": {},
   "source": [
    "We want to investigate what different kinds of subcategories exist within the dairy category. We therefore create a helper function to help us calculate the distribution of subcategories in a dataframe."
   ]
  },
  {
   "cell_type": "code",
   "execution_count": 44,
   "metadata": {},
   "outputs": [],
   "source": [
    "def create_distribution(df, categories):\n",
    "    distribution = pd.DataFrame(columns=['tag','category','count'])\n",
    "    for i in range(categories.shape[0]):\n",
    "        tag = categories[i,0]\n",
    "        category = categories[i,1]\n",
    "        newRow = pd.DataFrame([[tag, category, select_entries(df,[tag]).shape[0]]], columns=['tag','category','count'])\n",
    "        distribution = distribution.append(newRow)\n",
    "        df = clean_categories(df, [tag])\n",
    "    return distribution, df.shape[0], df"
   ]
  },
  {
   "cell_type": "markdown",
   "metadata": {},
   "source": [
    "The `categories` variable in the `create_distribution` function is supposed to contain a mapping between the category tag name and what we want to display it as. As an example, in the subcategory `yogurt`, we want to include items that has the word `yogurt` as well as `yaourt` and `yog` in it. This is expressed in `tag_mapping` as following:"
   ]
  },
  {
   "cell_type": "code",
   "execution_count": 45,
   "metadata": {},
   "outputs": [],
   "source": [
    "tag_mapping = np.matrix([['yaourt', \"yogurt\"], \n",
    "                  [\"yogurt\", \"yogurt\"],\n",
    "                  [\"yog\", \"yogurt\"],\n",
    "                  [\"cheddar\", \"cheese\"],\n",
    "                  [\"cheese\", \"cheese\"],\n",
    "                  [\"fromage\", \"cheese\"],\n",
    "                  [\"ice\", \"ice cream\"],\n",
    "                  [\"cream\", \"cream\"],\n",
    "                  [\"dessert\", \"dessert\"],\n",
    "                  [\"milk\", \"milk\"],\n",
    "                ])"
   ]
  },
  {
   "cell_type": "markdown",
   "metadata": {},
   "source": [
    "We do the partitioning into subcategories for France and the US:"
   ]
  },
  {
   "cell_type": "code",
   "execution_count": 46,
   "metadata": {},
   "outputs": [],
   "source": [
    "france_distri, leftovers, rest = create_distribution(france_dairy, tag_mapping)\n",
    "france_distri_grouped = france_distri.groupby(['category']).sum().drop('tag', axis = 1)\n",
    "france_distri_grouped['percent'] = france_distri_grouped['count'].apply(lambda x: \n",
    "                                                                        x/france_distri_grouped['count'].sum())\n",
    "france_distri_grouped['country'] = \"France\"\n",
    "\n",
    "us_distri, leftovers , rest = create_distribution(us_dairy,tag_mapping)\n",
    "us_distri_grouped = us_distri.groupby(['category']).sum().drop('tag', axis = 1)\n",
    "us_distri_grouped['percent'] = us_distri_grouped['count'].apply(lambda x: \n",
    "                                                                x/us_distri_grouped['count'].sum())\n",
    "us_distri_grouped['country'] = \"US\""
   ]
  },
  {
   "cell_type": "markdown",
   "metadata": {},
   "source": [
    "We define a helper function to be able to obtain the percentage of a category within a subcategory, e.g. percentage of `cheddar` in `cheese`. "
   ]
  },
  {
   "cell_type": "code",
   "execution_count": 47,
   "metadata": {},
   "outputs": [],
   "source": [
    "def getSubProcent(tag,category,distri):\n",
    "    nr_with_tag = distri[distri['tag'] == tag]['count'][0]\n",
    "    total_products = distri.sum()['count']\n",
    "    return nr_with_tag / total_products * 100"
   ]
  },
  {
   "cell_type": "code",
   "execution_count": 48,
   "metadata": {},
   "outputs": [],
   "source": [
    "# As we want to display the percentage of cheddar in the subcategory cheese we have to \n",
    "# reconstruct us_distri_grouped into us_distri_full.\n",
    "us_distri_full= [{'value': us_distri_grouped['percent'][0],'label': 'of which ' + \"{0:.1f}\".format(getSubProcent(\"cheddar\",\"cheese\",us_distri)) + '% is Cheddar'},\n",
    "                 {'value': us_distri_grouped['percent'][1]},\n",
    "                 {'value': us_distri_grouped['percent'][2]},\n",
    "                 {'value': us_distri_grouped['percent'][3]},\n",
    "                 {'value': us_distri_grouped['percent'][4]},\n",
    "                 {'value': us_distri_grouped['percent'][5]},\n",
    "                ]\n"
   ]
  },
  {
   "cell_type": "markdown",
   "metadata": {},
   "source": [
    "Plot and save as svg using pygal:"
   ]
  },
  {
   "cell_type": "code",
   "execution_count": 49,
   "metadata": {},
   "outputs": [],
   "source": [
    "# Custom pygal style for plot, this gives the right colors when france is added first to the plot:\n",
    "custom_style_france_first = Style(\n",
    "    background='transparent',\n",
    "    plot_background='#FFFFFF',\n",
    "    font_family='googlefont:Muli',\n",
    "    title_font_size=14,\n",
    "    opacity='.7',\n",
    "    opacity_hover='.95',\n",
    "    transition='400ms ease-in',\n",
    "    colors=('#002395', '#B22234')\n",
    ")"
   ]
  },
  {
   "cell_type": "code",
   "execution_count": 50,
   "metadata": {},
   "outputs": [],
   "source": [
    "bar_chart_distri = pygal.Bar(style=custom_style_france_first)\n",
    "bar_chart_distri.title = 'Distribution within dairy products'\n",
    "bar_chart_distri.x_labels = list(us_distri_grouped.T)\n",
    "bar_chart_distri.add('France', france_distri_grouped['percent'] , formatter=lambda y: \"{0:.1f}%\".format(y*100))\n",
    "bar_chart_distri.add('US', us_distri_full, formatter=lambda y: \"{0:.1f}%\".format(y*100))\n",
    "bar_chart_distri.render_to_file('dairy_distribution.svg')  "
   ]
  },
  {
   "cell_type": "markdown",
   "metadata": {},
   "source": [
    "### Investigation of nutrients in dairy products:"
   ]
  },
  {
   "cell_type": "markdown",
   "metadata": {},
   "source": [
    "We now investigate the amount of different kinds of nutrients in dairy products in both countries:"
   ]
  },
  {
   "cell_type": "markdown",
   "metadata": {},
   "source": [
    "#### Fats\n",
    "Extract columns for different kinds of fats from the dairy data:"
   ]
  },
  {
   "cell_type": "code",
   "execution_count": 51,
   "metadata": {},
   "outputs": [],
   "source": [
    "france_interesting_fats = france_dairy[['fat_100g','saturated-fat_100g','monounsaturated-fat_100g',\n",
    "'polyunsaturated-fat_100g']].astype(float).replace({0.0:np.nan})\n",
    "us_interesting_fats = us_dairy[['fat_100g','saturated-fat_100g','monounsaturated-fat_100g',\n",
    "'polyunsaturated-fat_100g']].astype(float).replace({0.0:np.nan})"
   ]
  },
  {
   "cell_type": "markdown",
   "metadata": {},
   "source": [
    "We create a helper function to rearrange the dataframes to be more suitable for a boxplot, and use it to prepare our data:"
   ]
  },
  {
   "cell_type": "code",
   "execution_count": 52,
   "metadata": {},
   "outputs": [],
   "source": [
    "def rearrange_for_boxplot(df,country):\n",
    "    new_df = pd.DataFrame(columns=['Y','X','country'])\n",
    "    column_names = list(df)\n",
    "    for i in range(df.shape[0]):\n",
    "        for j in range(df.shape[1]):\n",
    "            fat_sort = column_names[j]\n",
    "            value = df.iloc[i,j]\n",
    "            newRow = pd.DataFrame([[value,fat_sort,country]],columns=['Y','X','country'])\n",
    "            new_df = new_df.append(newRow)\n",
    "        \n",
    "    return new_df\n",
    "\n",
    "data_boxplot = rearrange_for_boxplot(france_interesting_fats,\"France\").append(rearrange_for_boxplot(us_interesting_fats,\"US\"))"
   ]
  },
  {
   "cell_type": "code",
   "execution_count": 53,
   "metadata": {},
   "outputs": [
    {
     "data": {
      "text/plain": [
       "(0, 40)"
      ]
     },
     "execution_count": 53,
     "metadata": {},
     "output_type": "execute_result"
    },
    {
     "data": {
      "image/png": "[encoded data removed]",
      "text/plain": [
       "<Figure size 864x360 with 1 Axes>"
      ]
     },
     "metadata": {
      "needs_background": "light"
     },
     "output_type": "display_data"
    }
   ],
   "source": [
    "plt.figure(figsize=(12,5))\n",
    "sns.set(style=\"whitegrid\")\n",
    "sns.boxplot(x=\"X\",y =\"Y\", hue=\"country\", data=data_boxplot, palette=\"Set1\")\n",
    "plt.ylim(0, 40)"
   ]
  },
  {
   "cell_type": "markdown",
   "metadata": {},
   "source": [
    "With this plot we see some substantial differences between France and US."
   ]
  },
  {
   "cell_type": "markdown",
   "metadata": {},
   "source": [
    "#### Sugar and protein\n",
    "Extract columns for sugar and protein for the dairy data:"
   ]
  },
  {
   "cell_type": "code",
   "execution_count": 54,
   "metadata": {},
   "outputs": [],
   "source": [
    "france_interesting_nutri = france_dairy[['sugars_100g','proteins_100g']].astype(float).replace({0.0:np.nan})\n",
    "us_interesting_nutri = us_dairy[['sugars_100g','proteins_100g']].astype(float).replace({0.0:np.nan})"
   ]
  },
  {
   "cell_type": "markdown",
   "metadata": {},
   "source": [
    "Continue in the same way as for the fats:"
   ]
  },
  {
   "cell_type": "code",
   "execution_count": 55,
   "metadata": {},
   "outputs": [],
   "source": [
    "data_boxplot_other_nutri = rearrange_for_boxplot(france_interesting_nutri,\"France\").append(rearrange_for_boxplot(us_interesting_nutri,\"US\"))"
   ]
  },
  {
   "cell_type": "code",
   "execution_count": 56,
   "metadata": {},
   "outputs": [
    {
     "data": {
      "text/plain": [
       "(0, 40)"
      ]
     },
     "execution_count": 56,
     "metadata": {},
     "output_type": "execute_result"
    },
    {
     "data": {
      "image/png": "[encoded data removed]",
      "text/plain": [
       "<Figure size 864x360 with 1 Axes>"
      ]
     },
     "metadata": {},
     "output_type": "display_data"
    }
   ],
   "source": [
    "plt.figure(figsize=(12,5))\n",
    "sns.set(style=\"whitegrid\")\n",
    "sns.boxplot(x=\"X\",y =\"Y\", hue=\"country\", data=data_boxplot_other_nutri, palette=\"Set1\")\n",
    "plt.ylim(0, 40)"
   ]
  },
  {
   "cell_type": "markdown",
   "metadata": {},
   "source": [
    "To visualize the results of the fats, sugar and protein in the same plot for the data story we create a radar plot using the `pygal` library."
   ]
  },
  {
   "cell_type": "code",
   "execution_count": 58,
   "metadata": {},
   "outputs": [],
   "source": [
    "france_interesting_nutri = france_dairy[\n",
    "    ['sugars_100g','proteins_100g','fat_100g','saturated-fat_100g','monounsaturated-fat_100g',\n",
    "     'polyunsaturated-fat_100g','carbohydrates_100g']\n",
    "].astype(float).replace({0.0:np.nan}).dropna().mean()\n",
    "us_interesting_nutri = us_dairy[\n",
    "    ['sugars_100g','proteins_100g','fat_100g','saturated-fat_100g','monounsaturated-fat_100g',\n",
    "     'polyunsaturated-fat_100g','carbohydrates_100g']\n",
    "].astype(float).replace({0.0:np.nan}).dropna().mean()"
   ]
  },
  {
   "cell_type": "code",
   "execution_count": 59,
   "metadata": {},
   "outputs": [],
   "source": [
    "# Custom pygal style for the radar plot\n",
    "radar_style = Style(\n",
    "    background='transparent',\n",
    "    font_family='googlefont:Muli',\n",
    "    opacity='.6',\n",
    "    opacity_hover='.9',\n",
    "    label_font_size = 14,\n",
    "    title_font_size = 17,\n",
    "    legend_font_size = 15,\n",
    "    colors=('#B22234', '#002395')\n",
    ")"
   ]
  },
  {
   "cell_type": "code",
   "execution_count": 60,
   "metadata": {},
   "outputs": [],
   "source": [
    "radar_chart = pygal.Radar(fill = True, style=radar_style)\n",
    "radar_chart.title = 'Number of grams per 100g in dairy products'\n",
    "radar_chart.x_labels = ['Sugars','Proteins','Fat','Saturated fat','Monounsaturated fat',\n",
    "'Polyunsaturated fat','Carbohydrates']\n",
    "radar_chart.add('US', us_interesting_nutri, formatter=lambda y: \"{0:.2f}%\".format(y))\n",
    "radar_chart.add('France', france_interesting_nutri, formatter=lambda y: \"{0:.2f}%\".format(y))\n",
    "radar_chart.render_to_file('dairy_nutri_radar_big.svg')"
   ]
  },
  {
   "cell_type": "markdown",
   "metadata": {},
   "source": [
    "#### Minerals and vitamins"
   ]
  },
  {
   "cell_type": "markdown",
   "metadata": {},
   "source": [
    "We also investigate minerals and vitamins in dairy products, but since these nutrients are in a much smaller quantity than the fats, protein or sugar we treat these separately and plot them in another plot (however using the same method)."
   ]
  },
  {
   "cell_type": "code",
   "execution_count": 61,
   "metadata": {},
   "outputs": [],
   "source": [
    "tags = ['sodium_100g','calcium_100g',]\n",
    "\n",
    "france_interesting_small = france_dairy[tags].astype(float).replace({0.0:np.nan})\n",
    "us_interesting_small = us_dairy[tags].astype(float).replace({0.0:np.nan})"
   ]
  },
  {
   "cell_type": "markdown",
   "metadata": {},
   "source": [
    "To give more context to the plot we display the data as a fraction of the recommended daily intake. This is 2.3 mg for sodium and 0.8 mg for calcium."
   ]
  },
  {
   "cell_type": "code",
   "execution_count": 62,
   "metadata": {},
   "outputs": [],
   "source": [
    "daily_rec = [2.3,0.8]\n",
    "\n",
    "radar_chart = pygal.Bar(fill = True, style=custom_style_france_first)\n",
    "radar_chart.title = 'Nutrients per 100g in dairy products as a fraction of the recommended daily intake'\n",
    "radar_chart.x_labels = tags\n",
    "radar_chart.add('France', (france_interesting_small/daily_rec).mean(), formatter=lambda y: \"{0:.3f}\".format(y))\n",
    "radar_chart.add('US', (us_interesting_small/daily_rec).mean(), formatter=lambda y: \"{0:.3f}\".format(y))\n",
    "radar_chart.render_to_file('dairy_nutri_small.svg')"
   ]
  },
  {
   "cell_type": "markdown",
   "metadata": {},
   "source": [
    "## Category: Fats"
   ]
  },
  {
   "cell_type": "markdown",
   "metadata": {},
   "source": [
    "Here we proceed similarily as we did for the dairy category, starting with defining the words we want to see in the food item data and specifying the words we do not want to see."
   ]
  },
  {
   "cell_type": "code",
   "execution_count": 63,
   "metadata": {},
   "outputs": [],
   "source": [
    "# These two regexps are here to make sure that there is either a white space or a word start/end before the end\n",
    "# or the start of the words butter and oil.\n",
    "butter = r'^(?:.*\\s)?butter(?:\\s.*)?$'\n",
    "oil = r'^(?:.*\\s)?oil(?:\\s.*)?$'\n",
    "fat_words = [\n",
    "    butter, \"fats\", oil, \"beurre\", \"lätta\", \"milda\", \"margarin\", \"huile\", \"coconut fat\",\n",
    "    \"kerrygold\", \"lurpark\", \"plugra\" \n",
    "]\n",
    "non_fat_words = [\n",
    "    \"butter cups\", \"pop corn\", \"chicken\", \"popcorn\", \"potato\", \"toffee\", \"in oil\", \n",
    "    \"with olive oil\", \"with oil\", \"protein bar\",\"olive oil &\", \"marinat\", \"in olive oil\", \n",
    "    \"bean\", \"snack\", \"ice cream\", \"cheese\", \"fromage\", \"a l'huile\", \"à l'huile\", \"caramel beurre\", \n",
    "    \"petits beurre\", \"granola\", \"frits\", \"fried\", \"au beurre\", \"croissant\", \"all butter\", \"yaourt\", \n",
    "    \"cookie\", \"chip\", \"sans huile\", \"sandwich\", \"soup\", \"pur beurre\", \"thon\", \"sauce\", \"chocolat\", \"chip\", \n",
    "    \"cookie\", \"biscuits\", \"cake\", \"seafood\",\"chorizo\", \"joghurt\",\"Foie gras\",\"canard\",\"Mayonnaise\"\n",
    "]"
   ]
  },
  {
   "cell_type": "code",
   "execution_count": 64,
   "metadata": {},
   "outputs": [
    {
     "name": "stdout",
     "output_type": "stream",
     "text": [
      "Fat related items in France before cleaning: 6218\n",
      "Fat related items in France after cleaning: 3052\n"
     ]
    }
   ],
   "source": [
    "france_fats = select_entries(france, fat_words)\n",
    "print(\"Fat related items in France before cleaning: \" + str(france_fats.shape[0]))\n",
    "\n",
    "france_fats = clean_categories(france_fats, non_fat_words, ['flour'])\n",
    "print(\"Fat related items in France after cleaning: \" + str(france_fats.shape[0]))"
   ]
  },
  {
   "cell_type": "code",
   "execution_count": 65,
   "metadata": {},
   "outputs": [
    {
     "name": "stdout",
     "output_type": "stream",
     "text": [
      "Fat related items in the US before cleaning: 6373\n",
      "Fat related items in the US after cleaning: 3305\n"
     ]
    }
   ],
   "source": [
    "us_fats = select_entries(us, fat_words)\n",
    "print(\"Fat related items in the US before cleaning: \" + str(us_fats.shape[0]))\n",
    "\n",
    "us_fats = clean_categories(us_fats, non_fat_words, ['flour'])\n",
    "print(\"Fat related items in the US after cleaning: \" + str(us_fats.shape[0]))"
   ]
  },
  {
   "cell_type": "markdown",
   "metadata": {},
   "source": [
    "### Distribution in Fats\n",
    "We not create a plot of the distribution of subcategory in the fats category, exactly analogously to what we did in the dairy category."
   ]
  },
  {
   "cell_type": "code",
   "execution_count": 66,
   "metadata": {},
   "outputs": [],
   "source": [
    "tags = np.matrix([['cooking spray', \"cooking spray\"], \n",
    "                 [\"oliv\", \"oil\"],\n",
    "                 [\"peanut\", \"peanut butter\"],\n",
    "                 [\"oil\", \"oil\"],\n",
    "                 [\"beurre\", \"butter\"],\n",
    "                 [\"margarin\", \"margarin\"],\n",
    "                 [\"butter\", \"butter\"],\n",
    "                 [\"huile\", \"oil\" ],\n",
    "                 [\"lätta\", \"margarin\"],\n",
    "                 [\"becel\", \"margarin\"],\n",
    "                 [\"original\", \"butter\"],\n",
    "                 [\"öl\", \"oil\"],\n",
    "                ])"
   ]
  },
  {
   "cell_type": "code",
   "execution_count": 67,
   "metadata": {},
   "outputs": [],
   "source": [
    "france_distri, _, _ = create_distribution(france_fats,tags)\n",
    "france_distri_grouped = france_distri.groupby(['category']).sum().drop('tag', axis = 1)\n",
    "france_distri_grouped['procent'] = france_distri_grouped['count'].apply(lambda x: x/france_distri_grouped['count'].sum())\n",
    "france_distri_grouped['country'] = \"France\""
   ]
  },
  {
   "cell_type": "code",
   "execution_count": 68,
   "metadata": {},
   "outputs": [],
   "source": [
    "us_distri, _, _ = create_distribution(us_fats,tags)\n",
    "us_distri_grouped = us_distri.groupby(['category']).sum().drop('tag', axis = 1)\n",
    "us_distri_grouped['procent'] = us_distri_grouped['count'].apply(lambda x: x/us_distri_grouped['count'].sum() )\n",
    "us_distri_grouped['country'] = \"US\""
   ]
  },
  {
   "cell_type": "code",
   "execution_count": 69,
   "metadata": {},
   "outputs": [],
   "source": [
    "# Same thing as for the dairy category, but we want to highlight the percentage of olive oil in the \n",
    "# oil sub category.\n",
    "france_distri_full= [{'value': france_distri_grouped['procent'][0]},\n",
    "                   {'value': france_distri_grouped['procent'][1]},\n",
    "                   {'value': france_distri_grouped['procent'][2]},\n",
    "                   {'value': france_distri_grouped['procent'][3], 'label': 'of which ' + \"{0:.1f}\".format(getSubProcent(\"oliv\",\"oil\",france_distri)) + '% is Olive oil'},\n",
    "                   {'value': france_distri_grouped['procent'][4]},\n",
    "                  ]\n",
    "us_distri_full= [{'value': us_distri_grouped['procent'][0]},\n",
    "                   {'value': us_distri_grouped['procent'][1]},\n",
    "                   {'value': us_distri_grouped['procent'][2]},\n",
    "                   {'value': us_distri_grouped['procent'][3], 'label': 'of which ' + \"{0:.1f}\".format(getSubProcent(\"oliv\",\"oil\",us_distri)) + '% is Olive oil'},\n",
    "                   {'value': us_distri_grouped['procent'][4]},\n",
    "                  ]"
   ]
  },
  {
   "cell_type": "code",
   "execution_count": 70,
   "metadata": {},
   "outputs": [],
   "source": [
    "bar_chart_distri = pygal.Bar(style=custom_style_france_first)\n",
    "bar_chart_distri.title = 'Distribution of subcategories within fats'\n",
    "bar_chart_distri.x_labels = list(us_distri_grouped.T)\n",
    "bar_chart_distri.add('France', france_distri_full, formatter=lambda y: \"{0:.1f}%\".format(y*100))\n",
    "bar_chart_distri.add('US', us_distri_full, formatter=lambda y: \"{0:.1f}%\".format(y*100))\n",
    "bar_chart_distri.render_to_file('fats_distribution.svg')  "
   ]
  },
  {
   "cell_type": "markdown",
   "metadata": {},
   "source": [
    "### Investigation of nutrients in items classified as fats:"
   ]
  },
  {
   "cell_type": "markdown",
   "metadata": {},
   "source": [
    "Here we are interested in the distributions of the different kinds (saturated fat, monounsaturated fat or polyunsaturated fat) of fats per 100g in each fat food item. We also want to take a look at the amount of sodium per 100g."
   ]
  },
  {
   "cell_type": "code",
   "execution_count": 71,
   "metadata": {},
   "outputs": [],
   "source": [
    "france_interesting_fats = france_fats[['saturated-fat_100g','monounsaturated-fat_100g',\n",
    "'polyunsaturated-fat_100g']].astype(float).replace({0.0:np.nan})\n",
    "us_interesting_fats = us_fats[['saturated-fat_100g','monounsaturated-fat_100g',\n",
    "'polyunsaturated-fat_100g']].astype(float).replace({0.0:np.nan})"
   ]
  },
  {
   "cell_type": "code",
   "execution_count": 72,
   "metadata": {},
   "outputs": [],
   "source": [
    "box_chart = pygal.Box()\n",
    "box_chart.title = 'Saturated fat per 100g'\n",
    "box_chart.add('France', france_interesting_fats['saturated-fat_100g'].dropna())\n",
    "box_chart.add('US', us_interesting_fats['saturated-fat_100g'].dropna())\n",
    "box_chart.render_to_file('fats_saturated-fat.svg')  \n",
    "\n",
    "box_chart = pygal.Box()\n",
    "box_chart.title = 'Polyunsaturated fat per 100g'\n",
    "box_chart.add('France', france_interesting_fats['polyunsaturated-fat_100g'].dropna())\n",
    "box_chart.add('US', us_interesting_fats['polyunsaturated-fat_100g'].dropna())\n",
    "box_chart.render_to_file('fats_polyunsaturated-fat.svg') \n",
    "\n",
    "box_chart = pygal.Box()\n",
    "box_chart.title = 'Monounsaturated fat per 100g'\n",
    "box_chart.add('France', france_interesting_fats['monounsaturated-fat_100g'].dropna())\n",
    "box_chart.add('US', us_interesting_fats['monounsaturated-fat_100g'].dropna())\n",
    "box_chart.render_to_file('fats_monounsaturated-fat.svg') "
   ]
  },
  {
   "cell_type": "markdown",
   "metadata": {},
   "source": [
    "We explore the data by creating boxplots, just like in the case of the dairy category."
   ]
  },
  {
   "cell_type": "code",
   "execution_count": 73,
   "metadata": {},
   "outputs": [],
   "source": [
    "data_boxplot = rearrange_for_boxplot(france_interesting_fats,\"France\").append(rearrange_for_boxplot(us_interesting_fats,\"US\"))"
   ]
  },
  {
   "cell_type": "code",
   "execution_count": 74,
   "metadata": {
    "scrolled": true
   },
   "outputs": [
    {
     "data": {
      "text/plain": [
       "<matplotlib.axes._subplots.AxesSubplot at 0x1a680e04e0>"
      ]
     },
     "execution_count": 74,
     "metadata": {},
     "output_type": "execute_result"
    },
    {
     "data": {
      "image/png": "[encoded data removed]",
      "text/plain": [
       "<Figure size 864x360 with 1 Axes>"
      ]
     },
     "metadata": {},
     "output_type": "display_data"
    }
   ],
   "source": [
    "plt.figure(figsize=(12,5))\n",
    "sns.set(style=\"whitegrid\")\n",
    "sns.boxplot(x=\"X\",y =\"Y\", hue=\"country\", data=data_boxplot, palette=\"Set1\")"
   ]
  },
  {
   "cell_type": "markdown",
   "metadata": {},
   "source": [
    "We notice some substantial differences here as well, and save the boxplots of the different kinds of fats using pygal:"
   ]
  },
  {
   "cell_type": "code",
   "execution_count": 75,
   "metadata": {},
   "outputs": [],
   "source": [
    "box_chart = pygal.Box(box_mode=\"tukey\", style=custom_style_france_first)\n",
    "box_chart.title = 'Saturated fat per 100g'\n",
    "box_chart.add('France', france_interesting_fats['saturated-fat_100g'].dropna())\n",
    "box_chart.add('US', us_interesting_fats['saturated-fat_100g'].dropna())\n",
    "box_chart.render_to_file('fats_saturated-fat.svg')  \n",
    "\n",
    "box_chart = pygal.Box(box_mode=\"tukey\", style=custom_style_france_first)\n",
    "box_chart.title = 'Polyunsaturated fat per 100g'\n",
    "box_chart.add('France', france_interesting_fats['polyunsaturated-fat_100g'].dropna())\n",
    "box_chart.add('US', us_interesting_fats['polyunsaturated-fat_100g'].dropna())\n",
    "box_chart.render_to_file('fats_polyunsaturated-fat.svg') \n",
    "\n",
    "box_chart = pygal.Box(box_mode=\"tukey\", style=custom_style_france_first)\n",
    "box_chart.title = 'Monounsaturated fat per 100g'\n",
    "box_chart.add('France', france_interesting_fats['monounsaturated-fat_100g'].dropna())\n",
    "box_chart.add('US', us_interesting_fats['monounsaturated-fat_100g'].dropna())\n",
    "box_chart.render_to_file('fats_monounsaturated-fat.svg') "
   ]
  },
  {
   "cell_type": "markdown",
   "metadata": {},
   "source": [
    "We also plot a boxplot of the amount of sodium per 100g in each country:"
   ]
  },
  {
   "cell_type": "code",
   "execution_count": 76,
   "metadata": {},
   "outputs": [],
   "source": [
    "france_fats_salt = france_fats[['sodium_100g']].astype(float).replace({0.0:np.nan})\n",
    "us_fats_salt = us_fats[['sodium_100g']].astype(float).replace({0.0:np.nan})\n",
    "data_boxplot_salt = rearrange_for_boxplot(france_fats_salt,\"France\").append(rearrange_for_boxplot(us_fats_salt,\"US\"))"
   ]
  },
  {
   "cell_type": "code",
   "execution_count": 77,
   "metadata": {},
   "outputs": [
    {
     "data": {
      "image/png": "[encoded data removed]",
      "text/plain": [
       "<Figure size 720x360 with 1 Axes>"
      ]
     },
     "metadata": {},
     "output_type": "display_data"
    }
   ],
   "source": [
    "plt.figure(figsize=(10,5))\n",
    "sns.set(style=\"whitegrid\")\n",
    "plt.ylim(0, 3)\n",
    "sns.boxplot(x=\"X\",y =\"Y\", hue=\"country\", data=data_boxplot_salt, \n",
    "            palette=\"Set1\").set_title=\"Number of grams of sodium per 100g\""
   ]
  },
  {
   "cell_type": "markdown",
   "metadata": {},
   "source": [
    "Here the difference is not very big between the countries."
   ]
  },
  {
   "cell_type": "markdown",
   "metadata": {},
   "source": [
    "## Category: bread"
   ]
  },
  {
   "cell_type": "markdown",
   "metadata": {},
   "source": [
    "Read the data again without the conversion to object, to let pandas automatically infer types:"
   ]
  },
  {
   "cell_type": "code",
   "execution_count": 78,
   "metadata": {},
   "outputs": [],
   "source": [
    "france = pd.read_csv(data_folder + 'france_data.csv')\n",
    "usa = pd.read_csv(data_folder + 'us_data.csv')"
   ]
  },
  {
   "cell_type": "markdown",
   "metadata": {},
   "source": [
    "### Filtering data"
   ]
  },
  {
   "cell_type": "markdown",
   "metadata": {},
   "source": [
    "Here we find all the data which contain anything that can be considerer bread:"
   ]
  },
  {
   "cell_type": "code",
   "execution_count": 79,
   "metadata": {},
   "outputs": [],
   "source": [
    "bread_words = [\"bread\", \"pain\", \"toast\", \"whole grain\", \"grains entiers\", \"sourdough\", \"levain\", \"brioche\",\n",
    "               \"baguette\", \"ciabatta\", \"focaccia\", \"multigrain\", \"pita\", \"rye\", \"wheat\", \"loaf\", \"crumb\", \n",
    "               \"crouton\", \"pumpernickel\", \"english muffin\", \"walkorn\"]"
   ]
  },
  {
   "cell_type": "code",
   "execution_count": 80,
   "metadata": {},
   "outputs": [],
   "source": [
    "non_bread_words = [\"choco\", \"pour pain\", \"palets\", \"sablé\", \"cookie\", \"shortbread\",\n",
    "                   \"galette\", \"Toastinade\", \"the noir\", \"seafood\", \"nugget\", \"sardines\", \"dairy\", \"dairi\",\n",
    "                   \"pasta\", \"spaghetti\", \"farine de\", \"boissons\", \"Cordon bleu\", \"biscuit\", \"meat\",\n",
    "                   \"chicken\", \"cheese\", \"chip\", \"fromage\", \"beverage\", \"wheat flake\", \"cereal\", \"bread mix\",\n",
    "                   \"lasagn\", \"breading\", \"wheat berries\", \"toaster pastry\", \"toasted\", \"cracker\",\n",
    "                   \"soy nut\", \"pâtes\"]\n",
    "not_allowed_ingredients = [\"pasta\"]"
   ]
  },
  {
   "cell_type": "code",
   "execution_count": 81,
   "metadata": {},
   "outputs": [
    {
     "name": "stdout",
     "output_type": "stream",
     "text": [
      "Bread items in France before cleaning: 6171\n",
      "Bread items in France after cleaning: 3107\n",
      "\n",
      "Bread items in USA before cleaning: 8802\n",
      "Bread items in USA after cleaning: 5404\n"
     ]
    }
   ],
   "source": [
    "breads_france = select_entries(france, bread_words)\n",
    "breads_usa = select_entries(usa, bread_words)\n",
    "\n",
    "breads_france_before = breads_france.shape[0]\n",
    "breads_usa_before = breads_usa.shape[0]\n",
    "\n",
    "breads_france = clean_categories(breads_france, non_bread_words, not_allowed_ingredients)\n",
    "breads_usa = clean_categories(breads_usa, non_bread_words, not_allowed_ingredients)\n",
    "\n",
    "print(\"Bread items in France before cleaning: {}\".format(breads_france_before))\n",
    "print(\"Bread items in France after cleaning: {}\".format(breads_france.shape[0]))\n",
    "print(\"\")\n",
    "print(\"Bread items in USA before cleaning: {}\".format(breads_usa_before))\n",
    "print(\"Bread items in USA after cleaning: {}\".format(breads_usa.shape[0]))"
   ]
  },
  {
   "cell_type": "markdown",
   "metadata": {},
   "source": [
    "Here we see that in our data there is a higher amount of bread-related items in the US compared to France. One reason for this could be that buying bread at a bakery is much more common in France compared to the US, resulting in that the demand for bread as a product in stores is not as high."
   ]
  },
  {
   "cell_type": "markdown",
   "metadata": {},
   "source": [
    "### Plotting distributions of nutrients"
   ]
  },
  {
   "cell_type": "markdown",
   "metadata": {},
   "source": [
    "We start with the amount of sugars in bread."
   ]
  },
  {
   "cell_type": "code",
   "execution_count": 82,
   "metadata": {},
   "outputs": [],
   "source": [
    "france_interesting_cols = breads_france[['sugars_100g', 'fat_100g', 'fiber_100g', 'carbohydrates_100g']].astype(float).replace({0.0:np.nan})\n",
    "usa_interesting_cols = breads_usa[['sugars_100g', 'fat_100g', 'fiber_100g', 'carbohydrates_100g']].astype(float).replace({0.0:np.nan})"
   ]
  },
  {
   "cell_type": "code",
   "execution_count": 83,
   "metadata": {},
   "outputs": [],
   "source": [
    "data_boxplot = rearrange_for_boxplot(france_interesting_cols,\"France\").append(\n",
    "    rearrange_for_boxplot(usa_interesting_cols,\"US\"))"
   ]
  },
  {
   "cell_type": "code",
   "execution_count": 84,
   "metadata": {
    "scrolled": false
   },
   "outputs": [
    {
     "data": {
      "text/plain": [
       "<matplotlib.axes._subplots.AxesSubplot at 0x1a1b038e10>"
      ]
     },
     "execution_count": 84,
     "metadata": {},
     "output_type": "execute_result"
    },
    {
     "data": {
      "image/png": "[encoded data removed]",
      "text/plain": [
       "<Figure size 864x360 with 1 Axes>"
      ]
     },
     "metadata": {},
     "output_type": "display_data"
    }
   ],
   "source": [
    "plt.figure(figsize=(12,5))\n",
    "sns.set(style=\"whitegrid\")\n",
    "sns.boxplot(x=\"X\",y =\"Y\", hue=\"country\", data=data_boxplot, palette=\"Set1\")"
   ]
  },
  {
   "cell_type": "markdown",
   "metadata": {},
   "source": [
    "With the boxplot we observe that the majority of the bread items have around 2-15 grams of sugar per 100g, which makes sense. Based on this plot it seems like the sugar levels are little bit lower for the bread in France compared to in the US, but the variance is bigger in France.\n",
    "\n",
    "The big difference is that carbohydrates are in general higher per 100g in the US."
   ]
  },
  {
   "cell_type": "markdown",
   "metadata": {},
   "source": [
    "We create boxplots for the data story for carbohydrates, fibers and sugar:"
   ]
  },
  {
   "cell_type": "code",
   "execution_count": 85,
   "metadata": {},
   "outputs": [],
   "source": [
    "box_chart = pygal.Box(box_mode=\"tukey\", style=custom_style_france_first)\n",
    "box_chart.title = 'Carbohydrates in bread items per 100g'\n",
    "\n",
    "box_chart.add('France', breads_france['carbohydrates_100g'].dropna())\n",
    "# Transform into log(x + 1) to be able to plot logarithmic scale with the zero values\n",
    "box_chart.add('US', breads_usa['carbohydrates_100g'].dropna())\n",
    "#box_chart.y_labels = np.log((np.array([0, 1, 5, 10, 50, 100]) + 1)).tolist()\n",
    "# Transform the y-axis to exp(y) - 1 to match the x-axis\n",
    "#box_chart.value_formatter = lambda y: \"{:10.2f}\".format(math.exp(float(y)) - 1)\n",
    "box_chart.render_to_file('breads_carbs.svg')"
   ]
  },
  {
   "cell_type": "code",
   "execution_count": 86,
   "metadata": {},
   "outputs": [],
   "source": [
    "box_chart = pygal.Box(box_mode=\"tukey\", style=custom_style_france_first)\n",
    "box_chart.title = 'Fiber in bread items per 100g'\n",
    "\n",
    "box_chart.add('France', breads_france['fiber_100g'].dropna())\n",
    "# Transform into log(x + 1) to be able to plot logarithmic scale with the zero values\n",
    "box_chart.add('US', breads_usa['fiber_100g'].dropna())\n",
    "#box_chart.y_labels = np.log((np.array([0, 1, 5, 10, 50, 100]) + 1)).tolist()\n",
    "# Transform the y-axis to exp(y) - 1 to match the x-axis\n",
    "#box_chart.value_formatter = lambda y: \"{:10.2f}\".format(math.exp(float(y)) - 1)\n",
    "box_chart.render_to_file('breads_fiber.svg')"
   ]
  },
  {
   "cell_type": "code",
   "execution_count": 87,
   "metadata": {},
   "outputs": [],
   "source": [
    "box_chart = pygal.Box(box_mode=\"tukey\", style=custom_style_france_first)\n",
    "box_chart.title = 'Sugar in bread items per 100g'\n",
    "\n",
    "box_chart.add('France', breads_france['sugars_100g'].dropna())\n",
    "# Transform into log(x + 1) to be able to plot logarithmic scale with the zero values\n",
    "box_chart.add('US', breads_usa['sugars_100g'].dropna())\n",
    "#box_chart.y_labels = np.log((np.array([0, 1, 5, 10, 50, 100]) + 1)).tolist()\n",
    "# Transform the y-axis to exp(y) - 1 to match the x-axis\n",
    "#box_chart.value_formatter = lambda y: \"{:10.2f}\".format(math.exp(float(y)) - 1)\n",
    "box_chart.render_to_file('breads_sugars.svg')"
   ]
  },
  {
   "cell_type": "markdown",
   "metadata": {},
   "source": [
    "## Category: meat, poultry, fish and seafood"
   ]
  },
  {
   "cell_type": "markdown",
   "metadata": {},
   "source": [
    "Here we find all the data which contain anything that can be considerer meat, poultry, fish and seafood:"
   ]
  },
  {
   "cell_type": "code",
   "execution_count": 88,
   "metadata": {},
   "outputs": [],
   "source": [
    "allowed_words = [\"meat\", \"poultry\", \"fish\", \"seafood\", \"chicken\", \"pork\", \"cow\", \"veal\", \"veau\", \"shrimp\",\n",
    "               \"beef\", \"steak\", \"turkey\", \"duck\", \"foie gras\", \"agneau\", \"porc\", \"cheval\", \"viande\",\n",
    "                \"rib\", \"loin\", \"boeuf\", \"bœuf\", \"vache\", \"poule\", \"poisson\", \"crayfish\", \"lobster\", \"saumon\",\n",
    "                \"salmon\", \"thon\", \"tuna\", \"sardine\", \"charcuterie\"]"
   ]
  },
  {
   "cell_type": "code",
   "execution_count": 89,
   "metadata": {},
   "outputs": [],
   "source": [
    "not_allowed_words = [\"cheese\", \"sauce\", \"sandwich\", \"pizza\", \"fromage\", \"frites\", \"ravioli\", \"dairi\", \"dairy\", \n",
    "                     \"soup\", \"yaourt\", \"nugget\", \"gravy\", \"cracker\", \"pie\", \"broth\", \"bouillon\", \"quiche\",\n",
    "                     \"chicken dinner\", \"salad\", \"base\", \"dumpling\", \"chowder\", \"panini\", \"bread\", \"popcorn\",\n",
    "                     \"seasoning mix\", \"creole\", \"beefless\", \"tagliatelle\", \"terrine\", \"taboule\", \"risotto\",\n",
    "                     \"rice\", \"riz\", \"creme\", \"crème\", \"boulghour\", \"mousse\", \"fisherman\", \"beverage\", \"ice cream\",\n",
    "                     \"aceituna\", \"haribo\"]\n",
    "not_allowed_ingredients = [\"pasta\", \"légume\", \"vegetable\"]"
   ]
  },
  {
   "cell_type": "code",
   "execution_count": 90,
   "metadata": {},
   "outputs": [
    {
     "name": "stdout",
     "output_type": "stream",
     "text": [
      "Meat, poultry, fish and seafood items in France before cleaning: 18327\n",
      "Meat, poultry, fish and seafood items in France after cleaning: 12544\n",
      "\n",
      "Meat, poultry, fish and seafood items in USA before cleaning: 14011\n",
      "Meat, poultry, fish and seafood items in USA after cleaning: 8558\n"
     ]
    }
   ],
   "source": [
    "meats_france = select_entries(france, allowed_words)\n",
    "meats_usa = select_entries(usa, allowed_words)\n",
    "\n",
    "meats_france_before = meats_france.shape[0]\n",
    "meats_usa_before = meats_usa.shape[0]\n",
    "\n",
    "\n",
    "meats_france = clean_categories(meats_france, not_allowed_words, not_allowed_ingredients)\n",
    "meats_usa = clean_categories(meats_usa, not_allowed_words, not_allowed_ingredients)\n",
    "\n",
    "print(\"Meat, poultry, fish and seafood items in France before cleaning: {}\".format(meats_france_before))\n",
    "print(\"Meat, poultry, fish and seafood items in France after cleaning: {}\".format(meats_france.shape[0]))\n",
    "print(\"\")\n",
    "print(\"Meat, poultry, fish and seafood items in USA before cleaning: {}\".format(meats_usa_before))\n",
    "print(\"Meat, poultry, fish and seafood items in USA after cleaning: {}\".format(meats_usa.shape[0]))"
   ]
  },
  {
   "cell_type": "markdown",
   "metadata": {},
   "source": [
    "### Plotting distribution of nutrients"
   ]
  },
  {
   "cell_type": "code",
   "execution_count": 91,
   "metadata": {},
   "outputs": [],
   "source": [
    "france_interesting_cols = meats_france[['proteins_100g', 'fat_100g', 'fiber_100g', 'carbohydrates_100g', 'sugars_100g']].astype(float).replace({0.0:np.nan})\n",
    "usa_interesting_cols = meats_usa[['proteins_100g', 'fat_100g', 'fiber_100g', 'carbohydrates_100g', 'sugars_100g']].astype(float).replace({0.0:np.nan})"
   ]
  },
  {
   "cell_type": "code",
   "execution_count": 92,
   "metadata": {},
   "outputs": [],
   "source": [
    "data_boxplot = rearrange_for_boxplot(france_interesting_cols,\"France\").append(\n",
    "    rearrange_for_boxplot(usa_interesting_cols,\"US\"))"
   ]
  },
  {
   "cell_type": "code",
   "execution_count": 93,
   "metadata": {},
   "outputs": [
    {
     "data": {
      "text/plain": [
       "<matplotlib.axes._subplots.AxesSubplot at 0x1a1c9b5d30>"
      ]
     },
     "execution_count": 93,
     "metadata": {},
     "output_type": "execute_result"
    },
    {
     "data": {
      "image/png": "[encoded data removed]",
      "text/plain": [
       "<Figure size 864x360 with 1 Axes>"
      ]
     },
     "metadata": {},
     "output_type": "display_data"
    }
   ],
   "source": [
    "plt.figure(figsize=(12,5))\n",
    "sns.set(style=\"whitegrid\")\n",
    "sns.boxplot(x=\"X\",y =\"Y\", hue=\"country\", data=data_boxplot, palette=\"Set1\")"
   ]
  },
  {
   "cell_type": "markdown",
   "metadata": {},
   "source": [
    "Here we see that when it comes to protein levels the food items in the US and in France are fairly equal. As for the fats it seems to be the case that france has more fat in the food items in this category than the US. Let's investigate this by looking at the meat items in the France data with fat between 50g and 80g per 100g:"
   ]
  },
  {
   "cell_type": "code",
   "execution_count": 94,
   "metadata": {},
   "outputs": [
    {
     "data": {
      "text/plain": [
       "143178    Panache Des Landes Foie Gras De Canard Entier ...\n",
       "159583                       Foie gras d'oie entier mi-cuit\n",
       "66008                Foie gras de canard entier du Perigord\n",
       "71624               Foie gras de Canard entier du Sud-Ouest\n",
       "10531                           Bloc de foie gras de Canard\n",
       "15872                          Bloc de foie gras des Landes\n",
       "Name: product_name, dtype: object"
      ]
     },
     "execution_count": 94,
     "metadata": {},
     "output_type": "execute_result"
    }
   ],
   "source": [
    "high_fat = meats_france[meats_france['fat_100g'] > 50]\n",
    "high_fat = high_fat[high_fat['fat_100g'] < 90]['product_name']\n",
    "high_fat.sample(6)"
   ]
  },
  {
   "cell_type": "markdown",
   "metadata": {},
   "source": [
    "We see that there is almost exclusively variants of foie gras there, which might explain the big difference, as this dish is not as popular in the US as it is in France."
   ]
  },
  {
   "cell_type": "markdown",
   "metadata": {},
   "source": [
    "The big difference between the two countries however can be seen in the amount of carbohydrates. The US has much more than France.\n",
    "What could be the reason for this? An hypothesis is that for the products in the US, more things containing a lot of calories are often added to the food items, for example sauces, or that the items are fried. "
   ]
  },
  {
   "cell_type": "markdown",
   "metadata": {},
   "source": [
    "Finally, let's save the boxplots for sugar and carbohydrates for this category, using a log scale for better visibility:"
   ]
  },
  {
   "cell_type": "code",
   "execution_count": 95,
   "metadata": {},
   "outputs": [],
   "source": [
    "box_chart = pygal.Box(box_mode=\"tukey\", style=custom_style_france_first)\n",
    "box_chart.title = 'Sugars per 100g'\n",
    "\n",
    "box_chart.add('France', np.log(meats_france['sugars_100g'] + 1).dropna())\n",
    "# Transform into log(x + 1) to be able to plot logarithmic scale with the zero values\n",
    "box_chart.add('US', np.log(meats_usa['sugars_100g'] + 1).dropna())\n",
    "box_chart.y_labels = np.log((np.array([0, 1, 5, 10, 50, 100]) + 1)).tolist()\n",
    "# Transform the y-axis to exp(y) - 1 to match the x-axis\n",
    "box_chart.value_formatter = lambda y: \"{:10.2f}\".format(math.exp(float(y)) - 1)\n",
    "box_chart.render_to_file('meats_sugars.svg')\n"
   ]
  },
  {
   "cell_type": "code",
   "execution_count": 96,
   "metadata": {},
   "outputs": [],
   "source": [
    "box_chart = pygal.Box(box_mode=\"tukey\", style=custom_style_france_first)\n",
    "box_chart.title = 'Carbohydrates per 100g'\n",
    "\n",
    "box_chart.add('France', np.log(meats_france['carbohydrates_100g'] + 1).dropna())\n",
    "# Transform into log(x + 1) to be able to plot logarithmic scale with the zero values\n",
    "box_chart.add('US', np.log(meats_usa['carbohydrates_100g'] + 1).dropna())\n",
    "box_chart.y_labels = np.log((np.array([0, 1, 5, 10, 50, 100]) + 1)).tolist()\n",
    "# Transform the y-axis to exp(y) - 1 to match the x-axis\n",
    "box_chart.value_formatter = lambda y: \"{:10.2f}\".format(math.exp(float(y)) - 1)\n",
    "box_chart.render_to_file('meats_carbs.svg')"
   ]
  },
  {
   "cell_type": "markdown",
   "metadata": {},
   "source": [
    "## Category: Snacks"
   ]
  },
  {
   "cell_type": "markdown",
   "metadata": {},
   "source": [
    "First we select all rows that is associated with snacks. Then we clean out the category to smaller categories."
   ]
  },
  {
   "cell_type": "code",
   "execution_count": 97,
   "metadata": {},
   "outputs": [],
   "source": [
    "snacks = [\n",
    "    'snack', 'bar', 'ice cream', 'chips', 'popcorn', 'cake', 'cookie', 'choco', 'sugary', 'salty'\n",
    "]"
   ]
  },
  {
   "cell_type": "code",
   "execution_count": 98,
   "metadata": {},
   "outputs": [],
   "source": [
    "snacks_france = select_entries(france, snacks)\n",
    "snacks_usa = select_entries(usa, snacks)"
   ]
  },
  {
   "cell_type": "code",
   "execution_count": 99,
   "metadata": {},
   "outputs": [
    {
     "name": "stdout",
     "output_type": "stream",
     "text": [
      "There are 22364 entries that are classified as snacks for France.\n",
      "There are 31544 entries that are classified as snacks for USA.\n"
     ]
    }
   ],
   "source": [
    "print(\"There are %d entries that are classified as snacks for France.\" % len(snacks_france))\n",
    "print(\"There are %d entries that are classified as snacks for USA.\" % len(snacks_usa))"
   ]
  },
  {
   "cell_type": "markdown",
   "metadata": {},
   "source": [
    "### Sugary snacks"
   ]
  },
  {
   "cell_type": "markdown",
   "metadata": {},
   "source": [
    "We create one category called `sugary_snacks`. This category will have all snacks defined as sugary and not salty. Then we will devide this category in smaller categories. We also create a dataframe to be used when calculating the distribution."
   ]
  },
  {
   "cell_type": "code",
   "execution_count": 100,
   "metadata": {},
   "outputs": [],
   "source": [
    "sugary = [\n",
    "    'choco', 'coco', 'cookie', 'candy', 'candies', 'candi', 'bonbon', 'fudge', 'caramel', 'bar', 'nougat',\n",
    "    'sugar', 'sucr', 'cake', 'gâteux', 'ice cream'\n",
    "]"
   ]
  },
  {
   "cell_type": "code",
   "execution_count": 101,
   "metadata": {},
   "outputs": [],
   "source": [
    "sugary_snacks_france = select_entries(snacks_france, sugary)\n",
    "sugary_snacks_usa = select_entries(snacks_usa, sugary)"
   ]
  },
  {
   "cell_type": "code",
   "execution_count": 102,
   "metadata": {},
   "outputs": [],
   "source": [
    "not_sugary_snacks = [\n",
    "    'popcorn', 'chips', 'patate', 'potato', 'Snacks salés'\n",
    "]\n",
    "not_sugary_snacks_ingredients = ['patate', 'salé', 'salt']"
   ]
  },
  {
   "cell_type": "code",
   "execution_count": 103,
   "metadata": {},
   "outputs": [],
   "source": [
    "sugary_snacks_france = clean_categories(sugary_snacks_france, not_sugary_snacks, not_sugary_snacks_ingredients)\n",
    "sugary_snacks_usa = clean_categories(sugary_snacks_usa, not_sugary_snacks, not_sugary_snacks_ingredients)"
   ]
  },
  {
   "cell_type": "code",
   "execution_count": 104,
   "metadata": {},
   "outputs": [
    {
     "name": "stdout",
     "output_type": "stream",
     "text": [
      "Number of sugary snacks in France: 18164\n",
      "Number of sugary snacks in USA: 11177\n"
     ]
    }
   ],
   "source": [
    "print(\"Number of sugary snacks in France: %d\" % len(sugary_snacks_france))\n",
    "print(\"Number of sugary snacks in USA: %d\" % len(sugary_snacks_usa))"
   ]
  },
  {
   "cell_type": "code",
   "execution_count": 105,
   "metadata": {},
   "outputs": [],
   "source": [
    "sugary_snacks_distr = pd.DataFrame(columns = ['category', 'count', 'country'])"
   ]
  },
  {
   "cell_type": "markdown",
   "metadata": {},
   "source": [
    "The category contains a lot of rows. We will divide the category into sub-categories `chocolates`, `bars`, `candy` and `cookies`. We start with chocolates."
   ]
  },
  {
   "cell_type": "code",
   "execution_count": 106,
   "metadata": {},
   "outputs": [],
   "source": [
    "chocolate = [\n",
    "    'chocolate', 'chocolat', 'choco', 'cacao', 'coco'\n",
    "]"
   ]
  },
  {
   "cell_type": "code",
   "execution_count": 107,
   "metadata": {},
   "outputs": [],
   "source": [
    "chocolates_france = select_entries(sugary_snacks_france, chocolate)\n",
    "chocolates_usa = select_entries(sugary_snacks_usa, chocolate)"
   ]
  },
  {
   "cell_type": "markdown",
   "metadata": {},
   "source": [
    "Looking at the frames we do not find any values that clearly should not be there and therefore we skip cleaning the category."
   ]
  },
  {
   "cell_type": "code",
   "execution_count": 108,
   "metadata": {},
   "outputs": [
    {
     "name": "stdout",
     "output_type": "stream",
     "text": [
      "Sugary snacks that are made with chocolate in France: 10613\n",
      "Sugary snacks that are made with chocolate in USA: 5742\n"
     ]
    }
   ],
   "source": [
    "print(\"Sugary snacks that are made with chocolate in France: %d\" % len(chocolates_france))\n",
    "print(\"Sugary snacks that are made with chocolate in USA: %d\" % len(chocolates_usa))"
   ]
  },
  {
   "cell_type": "code",
   "execution_count": 109,
   "metadata": {},
   "outputs": [],
   "source": [
    "sugary_snacks_distr = sugary_snacks_distr.append(\n",
    "    pd.DataFrame([['Chocolates', len(chocolates_france), 'France']], columns=['category', 'count', 'country'])\n",
    ")\n",
    "sugary_snacks_distr = sugary_snacks_distr.append(\n",
    "    pd.DataFrame([['Chocolates', len(chocolates_usa), 'USA']], columns=['category', 'count', 'country'])\n",
    ")"
   ]
  },
  {
   "cell_type": "markdown",
   "metadata": {},
   "source": [
    "We then move forward to `bars`."
   ]
  },
  {
   "cell_type": "code",
   "execution_count": 110,
   "metadata": {},
   "outputs": [],
   "source": [
    "bars = ['bar', 'bars']"
   ]
  },
  {
   "cell_type": "code",
   "execution_count": 111,
   "metadata": {},
   "outputs": [],
   "source": [
    "bars_france = select_entries(sugary_snacks_france, bars)\n",
    "bars_usa = select_entries(sugary_snacks_usa, bars)"
   ]
  },
  {
   "cell_type": "markdown",
   "metadata": {},
   "source": [
    "We look at the dataframes to decide what should not be classified as bars and then remove based on words that are not associated with bars. Note that we keep all bars that are made with chocolate even though these are also in the `chocolates` category."
   ]
  },
  {
   "cell_type": "code",
   "execution_count": 112,
   "metadata": {},
   "outputs": [],
   "source": [
    "not_bars = ['barbecue', 'rhubarb', 'barbe', 'baratte', 'barley']"
   ]
  },
  {
   "cell_type": "code",
   "execution_count": 113,
   "metadata": {},
   "outputs": [],
   "source": [
    "bars_france = clean_categories(bars_france, not_bars)\n",
    "bars_usa = clean_categories(bars_usa, not_bars)"
   ]
  },
  {
   "cell_type": "code",
   "execution_count": 114,
   "metadata": {},
   "outputs": [
    {
     "name": "stdout",
     "output_type": "stream",
     "text": [
      "Number of bars in France: 2265\n",
      "Number of bars in the USA: 2261\n"
     ]
    }
   ],
   "source": [
    "print('Number of bars in France: %d' % len(bars_france))\n",
    "print('Number of bars in the USA: %d' % len(bars_usa))"
   ]
  },
  {
   "cell_type": "code",
   "execution_count": 115,
   "metadata": {},
   "outputs": [],
   "source": [
    "sugary_snacks_distr = sugary_snacks_distr.append(\n",
    "    pd.DataFrame([['Bars', len(bars_france), 'France']], columns=['category', 'count', 'country'])\n",
    ")\n",
    "sugary_snacks_distr = sugary_snacks_distr.append(\n",
    "    pd.DataFrame([['Bars', len(bars_usa), 'USA']], columns=['category', 'count', 'country'])\n",
    ")"
   ]
  },
  {
   "cell_type": "markdown",
   "metadata": {},
   "source": [
    "Next up is `candy`."
   ]
  },
  {
   "cell_type": "code",
   "execution_count": 116,
   "metadata": {},
   "outputs": [],
   "source": [
    "candy = [\n",
    "    'candy', 'candies', 'bonbon', 'candi', 'confectioneries', 'pastilles', 'mints', 'caramels', 'gummies',\n",
    "    'lollipop'\n",
    "]"
   ]
  },
  {
   "cell_type": "code",
   "execution_count": 117,
   "metadata": {},
   "outputs": [],
   "source": [
    "candy_france = select_entries(sugary_snacks_france, candy)\n",
    "candy_usa = select_entries(sugary_snacks_usa, candy)"
   ]
  },
  {
   "cell_type": "markdown",
   "metadata": {},
   "source": [
    "Looking at the frames no values seem to be out of place."
   ]
  },
  {
   "cell_type": "code",
   "execution_count": 118,
   "metadata": {},
   "outputs": [
    {
     "name": "stdout",
     "output_type": "stream",
     "text": [
      "Rows classified as candy in France: 1943\n",
      "Rows classified as candy in the USA: 419\n"
     ]
    }
   ],
   "source": [
    "print(\"Rows classified as candy in France: %d\" % len(candy_france))\n",
    "print(\"Rows classified as candy in the USA: %d\" % len(candy_usa))"
   ]
  },
  {
   "cell_type": "code",
   "execution_count": 119,
   "metadata": {},
   "outputs": [],
   "source": [
    "sugary_snacks_distr = sugary_snacks_distr.append(\n",
    "    pd.DataFrame([['Candy', len(candy_france), 'France']], columns=['category', 'count', 'country'])\n",
    ")\n",
    "sugary_snacks_distr = sugary_snacks_distr.append(\n",
    "    pd.DataFrame([['Candy', len(candy_usa), 'USA']], columns=['category', 'count', 'country'])\n",
    ")"
   ]
  },
  {
   "cell_type": "markdown",
   "metadata": {},
   "source": [
    "Lastly we create the category `cookies`."
   ]
  },
  {
   "cell_type": "code",
   "execution_count": 120,
   "metadata": {},
   "outputs": [],
   "source": [
    "cookies_france = select_entries(sugary_snacks_france, ['cookie', 'biscuit'])\n",
    "cookies_usa = select_entries(sugary_snacks_usa, ['cookie', 'biscuit'])"
   ]
  },
  {
   "cell_type": "code",
   "execution_count": 121,
   "metadata": {},
   "outputs": [],
   "source": [
    "not_cookies = [\n",
    "    'brownie', 'muffin', 'candy', 'candies', 'candi', 'kit kat', 'tourteaux fromagés', 'gaufres', 'gâteau à la',\n",
    "    'cakes ', 'fondants ', 'pancake', 'ice cream'\n",
    "]"
   ]
  },
  {
   "cell_type": "code",
   "execution_count": 122,
   "metadata": {},
   "outputs": [],
   "source": [
    "cookies_france = clean_categories(cookies_france, not_cookies)\n",
    "cookies_usa = clean_categories(cookies_usa, not_cookies)"
   ]
  },
  {
   "cell_type": "code",
   "execution_count": 123,
   "metadata": {},
   "outputs": [
    {
     "name": "stdout",
     "output_type": "stream",
     "text": [
      "Number of cookies in France: 4343\n",
      "Number of cookies in USA: 1822\n"
     ]
    }
   ],
   "source": [
    "print(\"Number of cookies in France: %d\" % len(cookies_france))\n",
    "print(\"Number of cookies in USA: %d\" % len(cookies_usa))"
   ]
  },
  {
   "cell_type": "code",
   "execution_count": 124,
   "metadata": {},
   "outputs": [],
   "source": [
    "sugary_snacks_distr = sugary_snacks_distr.append(\n",
    "    pd.DataFrame([['Cookies', len(cookies_france), 'France']], columns=['category', 'count', 'country'])\n",
    ")\n",
    "sugary_snacks_distr = sugary_snacks_distr.append(\n",
    "    pd.DataFrame([['Cookies', len(cookies_usa), 'USA']], columns=['category', 'count', 'country'])\n",
    ")"
   ]
  },
  {
   "cell_type": "markdown",
   "metadata": {},
   "source": [
    "### Salty snacks"
   ]
  },
  {
   "cell_type": "markdown",
   "metadata": {},
   "source": [
    "The second big category will be `salty_snacks`. We will then divide this category into smaller categories."
   ]
  },
  {
   "cell_type": "code",
   "execution_count": 125,
   "metadata": {},
   "outputs": [],
   "source": [
    "salty = [\n",
    "    'salt', 'salé', 'chips', 'popcorn', 'sodium', 'crisps'\n",
    "]"
   ]
  },
  {
   "cell_type": "code",
   "execution_count": 126,
   "metadata": {},
   "outputs": [],
   "source": [
    "salty_snacks_france = select_entries(snacks_france, salty)\n",
    "salty_snacks_usa = select_entries(snacks_usa, salty)"
   ]
  },
  {
   "cell_type": "code",
   "execution_count": 127,
   "metadata": {},
   "outputs": [],
   "source": [
    "not_salty = [\n",
    "    'sucr', 'sugar', 'cake', 'caramel'\n",
    "]"
   ]
  },
  {
   "cell_type": "code",
   "execution_count": 128,
   "metadata": {},
   "outputs": [],
   "source": [
    "salty_snacks_france = clean_categories(salty_snacks_france, not_salty)\n",
    "salty_snacks_usa = clean_categories(salty_snacks_usa, not_salty)"
   ]
  },
  {
   "cell_type": "code",
   "execution_count": 129,
   "metadata": {},
   "outputs": [
    {
     "name": "stdout",
     "output_type": "stream",
     "text": [
      "Number of salty snacks in France: 2682\n",
      "Number of salty snacks in USA: 5692\n"
     ]
    }
   ],
   "source": [
    "print(\"Number of salty snacks in France: %d\" % len(salty_snacks_france))\n",
    "print(\"Number of salty snacks in USA: %d\" % len(salty_snacks_usa))"
   ]
  },
  {
   "cell_type": "code",
   "execution_count": 130,
   "metadata": {},
   "outputs": [],
   "source": [
    "salty_snacks_distr = pd.DataFrame(columns = ['category', 'count', 'country'])"
   ]
  },
  {
   "cell_type": "markdown",
   "metadata": {},
   "source": [
    "We divide the category into `chips` and `popcorn`, starting out with `chips`."
   ]
  },
  {
   "cell_type": "code",
   "execution_count": 131,
   "metadata": {},
   "outputs": [],
   "source": [
    "chips_france = select_entries(salty_snacks_france, ['chips', 'crisps'])\n",
    "chips_usa = select_entries(salty_snacks_usa, ['chips', 'crisps'])"
   ]
  },
  {
   "cell_type": "code",
   "execution_count": 132,
   "metadata": {},
   "outputs": [
    {
     "name": "stdout",
     "output_type": "stream",
     "text": [
      "Number of chips in France: 1563\n",
      "Number of chips in USA: 4102\n"
     ]
    }
   ],
   "source": [
    "print(\"Number of chips in France: %d\" % len(chips_france))\n",
    "print(\"Number of chips in USA: %d\" % len(chips_usa))"
   ]
  },
  {
   "cell_type": "code",
   "execution_count": 133,
   "metadata": {},
   "outputs": [],
   "source": [
    "salty_snacks_distr = salty_snacks_distr.append(\n",
    "    pd.DataFrame([['Chips', len(chips_france), 'France']], columns=['category', 'count', 'country'])\n",
    ")\n",
    "salty_snacks_distr = salty_snacks_distr.append(\n",
    "    pd.DataFrame([['Chips', len(chips_usa), 'USA']], columns=['category', 'count', 'country'])\n",
    ")"
   ]
  },
  {
   "cell_type": "markdown",
   "metadata": {},
   "source": [
    "We then proceed to `popcorn`."
   ]
  },
  {
   "cell_type": "code",
   "execution_count": 134,
   "metadata": {},
   "outputs": [],
   "source": [
    "popcorn_france = select_entries(salty_snacks_france, ['popcorn'])\n",
    "popcorn_usa = select_entries(salty_snacks_usa, ['popcorn'])"
   ]
  },
  {
   "cell_type": "code",
   "execution_count": 135,
   "metadata": {},
   "outputs": [
    {
     "name": "stdout",
     "output_type": "stream",
     "text": [
      "Number of popcorn in France: 112\n",
      "Number of popcorn in USA: 1110\n"
     ]
    }
   ],
   "source": [
    "print(\"Number of popcorn in France: %d\" % len(popcorn_france))\n",
    "print(\"Number of popcorn in USA: %d\" % len(popcorn_usa))"
   ]
  },
  {
   "cell_type": "code",
   "execution_count": 136,
   "metadata": {},
   "outputs": [],
   "source": [
    "salty_snacks_distr = salty_snacks_distr.append(\n",
    "    pd.DataFrame([['Popcorn', len(popcorn_france), 'France']], columns=['category', 'count', 'country'])\n",
    ")\n",
    "salty_snacks_distr = salty_snacks_distr.append(\n",
    "    pd.DataFrame([['Popcorn', len(popcorn_usa), 'USA']], columns=['category', 'count', 'country'])\n",
    ")"
   ]
  },
  {
   "cell_type": "markdown",
   "metadata": {},
   "source": [
    "### Distribution of snacks"
   ]
  },
  {
   "cell_type": "markdown",
   "metadata": {},
   "source": [
    "We start by creating dataframes for both sugary and salty snacks."
   ]
  },
  {
   "cell_type": "code",
   "execution_count": 137,
   "metadata": {},
   "outputs": [],
   "source": [
    "sugary_snacks_distr['procent'] = sugary_snacks_distr['count'].apply(\n",
    "    lambda x: x/sugary_snacks_distr['count'].sum()\n",
    ")"
   ]
  },
  {
   "cell_type": "code",
   "execution_count": 138,
   "metadata": {},
   "outputs": [],
   "source": [
    "salty_snacks_distr['procent'] = salty_snacks_distr['count'].apply(\n",
    "    lambda x: x/salty_snacks_distr['count'].sum()\n",
    ")"
   ]
  },
  {
   "cell_type": "code",
   "execution_count": 139,
   "metadata": {},
   "outputs": [
    {
     "data": {
      "text/html": [
       "<div>\n",
       "<style scoped>\n",
       "    .dataframe tbody tr th:only-of-type {\n",
       "        vertical-align: middle;\n",
       "    }\n",
       "\n",
       "    .dataframe tbody tr th {\n",
       "        vertical-align: top;\n",
       "    }\n",
       "\n",
       "    .dataframe thead th {\n",
       "        text-align: right;\n",
       "    }\n",
       "</style>\n",
       "<table border=\"1\" class=\"dataframe\">\n",
       "  <thead>\n",
       "    <tr style=\"text-align: right;\">\n",
       "      <th></th>\n",
       "      <th>category</th>\n",
       "      <th>count</th>\n",
       "      <th>country</th>\n",
       "      <th>procent</th>\n",
       "    </tr>\n",
       "  </thead>\n",
       "  <tbody>\n",
       "    <tr>\n",
       "      <th>0</th>\n",
       "      <td>Chips</td>\n",
       "      <td>1563</td>\n",
       "      <td>France</td>\n",
       "      <td>0.23</td>\n",
       "    </tr>\n",
       "    <tr>\n",
       "      <th>0</th>\n",
       "      <td>Chips</td>\n",
       "      <td>4102</td>\n",
       "      <td>USA</td>\n",
       "      <td>0.60</td>\n",
       "    </tr>\n",
       "    <tr>\n",
       "      <th>0</th>\n",
       "      <td>Popcorn</td>\n",
       "      <td>112</td>\n",
       "      <td>France</td>\n",
       "      <td>0.02</td>\n",
       "    </tr>\n",
       "    <tr>\n",
       "      <th>0</th>\n",
       "      <td>Popcorn</td>\n",
       "      <td>1110</td>\n",
       "      <td>USA</td>\n",
       "      <td>0.16</td>\n",
       "    </tr>\n",
       "  </tbody>\n",
       "</table>\n",
       "</div>"
      ],
      "text/plain": [
       "  category count country              procent\n",
       "0    Chips  1563  France                 0.23\n",
       "0    Chips  4102     USA                 0.60\n",
       "0  Popcorn   112  France                 0.02\n",
       "0  Popcorn  1110     USA                 0.16"
      ]
     },
     "execution_count": 139,
     "metadata": {},
     "output_type": "execute_result"
    }
   ],
   "source": [
    "salty_snacks_distr"
   ]
  },
  {
   "cell_type": "code",
   "execution_count": 140,
   "metadata": {},
   "outputs": [
    {
     "data": {
      "image/png": "[encoded data removed]",
      "text/plain": [
       "<Figure size 432x288 with 1 Axes>"
      ]
     },
     "metadata": {},
     "output_type": "display_data"
    }
   ],
   "source": [
    "sns.set(style=\"whitegrid\")\n",
    "\n",
    "g = sns.barplot(x='category', y=\"procent\", hue=\"country\", data=sugary_snacks_distr, palette=\"muted\")"
   ]
  },
  {
   "cell_type": "code",
   "execution_count": 141,
   "metadata": {
    "scrolled": true
   },
   "outputs": [
    {
     "data": {
      "image/png": "[encoded data removed]",
      "text/plain": [
       "<Figure size 432x288 with 1 Axes>"
      ]
     },
     "metadata": {},
     "output_type": "display_data"
    }
   ],
   "source": [
    "sns.set(style=\"whitegrid\")\n",
    "\n",
    "g = sns.barplot(x='category', y=\"procent\", hue=\"country\", data=salty_snacks_distr, palette=\"muted\")"
   ]
  },
  {
   "cell_type": "markdown",
   "metadata": {},
   "source": [
    "We want to save these distribution plots using pygal:"
   ]
  },
  {
   "cell_type": "code",
   "execution_count": 142,
   "metadata": {},
   "outputs": [],
   "source": [
    "sugary_france_distr = sugary_snacks_distr[sugary_snacks_distr.country == 'France']\n",
    "sugary_usa_distr = sugary_snacks_distr[sugary_snacks_distr.country == 'USA']\n",
    "salty_france_distr = salty_snacks_distr[salty_snacks_distr.country == 'France']\n",
    "salty_usa_distr = salty_snacks_distr[salty_snacks_distr.country == 'USA']"
   ]
  },
  {
   "cell_type": "code",
   "execution_count": 143,
   "metadata": {},
   "outputs": [],
   "source": [
    "bar_chart_distri = pygal.Bar(style=custom_style_france_first)\n",
    "bar_chart_distri.x_title = 'Categories'\n",
    "bar_chart_distri.y_title = 'Percent of total sugary snacks'\n",
    "bar_chart_distri.x_labels = list(sugary_snacks_distr.category.unique())\n",
    "bar_chart_distri.y_labels = [\n",
    "    {'label': '0%', 'value': 0.0},\n",
    "    {'label': '10%', 'value': 0.1},\n",
    "    {'label': '20%', 'value': 0.2},\n",
    "    {'label': '30%', 'value': 0.3},\n",
    "    {'label': '40%', 'value': 0.4},\n",
    "    {'label': '50%', 'value': 0.5},\n",
    "    {'label': '60%', 'value': 0.6}\n",
    "]\n",
    "bar_chart_distri.add('France', sugary_france_distr['procent'], formatter=lambda y: \"{0:.1f}%\".format(y*100))\n",
    "bar_chart_distri.add('USA', sugary_usa_distr['procent'], formatter=lambda y: \"{0:.1f}%\".format(y*100))\n",
    "bar_chart_distri.render_to_file('sugary_snacks_distribution.svg')  "
   ]
  },
  {
   "cell_type": "code",
   "execution_count": 144,
   "metadata": {},
   "outputs": [],
   "source": [
    "bar_chart_distri2 = pygal.Bar(style=custom_style_france_first)\n",
    "bar_chart_distri2.x_title = 'Categories'\n",
    "bar_chart_distri2.y_title = 'Percent of total salty snacks'\n",
    "bar_chart_distri2.x_labels = list(salty_snacks_distr.category.unique())\n",
    "bar_chart_distri2.y_labels = [\n",
    "    {'label': '0%', 'value': 0.0},\n",
    "    {'label': '10%', 'value': 0.1},\n",
    "    {'label': '20%', 'value': 0.2},\n",
    "    {'label': '30%', 'value': 0.3},\n",
    "    {'label': '40%', 'value': 0.4},\n",
    "    {'label': '50%', 'value': 0.5},\n",
    "    {'label': '60%', 'value': 0.6}\n",
    "]\n",
    "bar_chart_distri2.add('France', salty_france_distr['procent'], formatter=lambda y: \"{0:.1f}%\".format(y*100))\n",
    "bar_chart_distri2.add('USA', salty_usa_distr['procent'], formatter=lambda y: \"{0:.1f}%\".format(y*100))\n",
    "bar_chart_distri2.render_to_file('salty_snacks_distribution.svg')  "
   ]
  },
  {
   "cell_type": "markdown",
   "metadata": {},
   "source": [
    "### Nutrition"
   ]
  },
  {
   "cell_type": "markdown",
   "metadata": {},
   "source": [
    "We'll start by looking at the sugar content in `sugary_snacks`."
   ]
  },
  {
   "cell_type": "code",
   "execution_count": 145,
   "metadata": {},
   "outputs": [],
   "source": [
    "france_nutrition = sugary_snacks_france[['sugars_100g','energy_100g',\n",
    "'carbohydrates_100g']].astype(float).replace({0.0:np.nan})\n",
    "usa_nutrition = sugary_snacks_usa[['sugars_100g','energy_100g',\n",
    "'carbohydrates_100g']].astype(float).replace({0.0:np.nan})"
   ]
  },
  {
   "cell_type": "code",
   "execution_count": 146,
   "metadata": {},
   "outputs": [],
   "source": [
    "box_chart = pygal.Box(box_mode=\"tukey\", style=custom_style_france_first)\n",
    "box_chart.title = 'Sugar per 100g'\n",
    "box_chart.add('France', france_nutrition['sugars_100g'].dropna())\n",
    "box_chart.add('USA', usa_nutrition['sugars_100g'].dropna())\n",
    "box_chart.render_to_file('snacks_sugars.svg')  "
   ]
  },
  {
   "cell_type": "code",
   "execution_count": 147,
   "metadata": {},
   "outputs": [],
   "source": [
    "box_chart = pygal.Box(box_mode=\"tukey\", style=custom_style_france_first)\n",
    "box_chart.title = 'Energy per 100g'\n",
    "box_chart.add('France', france_nutrition['energy_100g'].dropna())\n",
    "box_chart.add('USA', usa_nutrition['energy_100g'].dropna())\n",
    "box_chart.render_to_file('snacks_sugary_energy.svg')  "
   ]
  },
  {
   "cell_type": "markdown",
   "metadata": {},
   "source": [
    "The result in the energy plot is really hard to see because of have two single outliers (out of 18000+ data points). We will remove these for this visualisation to see the distribution clearly."
   ]
  },
  {
   "cell_type": "code",
   "execution_count": 148,
   "metadata": {},
   "outputs": [],
   "source": [
    "france_nutrition_cleaned = france_nutrition.copy()\n",
    "usa_nutrition_cleaned = usa_nutrition.copy()"
   ]
  },
  {
   "cell_type": "code",
   "execution_count": 149,
   "metadata": {},
   "outputs": [],
   "source": [
    "mask_max_f = france_nutrition_cleaned.energy_100g > 3000\n",
    "france_nutrition_cleaned.loc[mask_max_f, 'energy_100g'] = np.nan\n",
    "mask_max_u = usa_nutrition_cleaned.energy_100g > 3000\n",
    "usa_nutrition_cleaned.loc[mask_max_u, 'energy_100g'] = np.nan"
   ]
  },
  {
   "cell_type": "markdown",
   "metadata": {},
   "source": [
    "Removing outliers gives a plot that more clearly shows the distribution in the countries."
   ]
  },
  {
   "cell_type": "code",
   "execution_count": 150,
   "metadata": {},
   "outputs": [],
   "source": [
    "box_chart = pygal.Box(box_mode=\"tukey\", style=custom_style_france_first)\n",
    "box_chart.title = 'Energy per 100g'\n",
    "box_chart.add('France', france_nutrition_cleaned['energy_100g'].dropna())\n",
    "box_chart.add('USA', usa_nutrition_cleaned['energy_100g'].dropna())\n",
    "box_chart.render_to_file('snacks_sugary_energy.svg') "
   ]
  },
  {
   "cell_type": "markdown",
   "metadata": {},
   "source": [
    "This concludes our data exploration/analysis. For further analysis and conclusion, see the data story."
   ]
  }
 ],
 "metadata": {
  "kernelspec": {
   "display_name": "Python 3",
   "language": "python",
   "name": "python3"
  },
  "language_info": {
   "codemirror_mode": {
    "name": "ipython",
    "version": 3
   },
   "file_extension": ".py",
   "mimetype": "text/x-python",
   "name": "python",
   "nbconvert_exporter": "python",
   "pygments_lexer": "ipython3",
   "version": "3.6.7"
  }
 },
 "nbformat": 4,
 "nbformat_minor": 2
}
