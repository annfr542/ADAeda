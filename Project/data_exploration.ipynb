{
 "cells": [
  {
   "cell_type": "markdown",
   "metadata": {},
   "source": [
    "# Data collection and descriptive analysis\n",
    "From [Open Food Facts](https://world.openfoodfacts.org/) we have a 1.7 GB `.csv` file which contains information of over 600 000 unique food products. Our purpose with this notebook is to explore this dataset and compile the availible information into one/several files of a smaller format containing only what is needed and can be used for our project."
   ]
  },
  {
   "cell_type": "code",
   "execution_count": 1,
   "metadata": {},
   "outputs": [],
   "source": [
    "import pandas as pd\n"
   ]
  },
  {
   "cell_type": "code",
   "execution_count": 2,
   "metadata": {},
   "outputs": [],
   "source": [
    "data_folder = \"./data/\""
   ]
  },
  {
   "cell_type": "code",
   "execution_count": 67,
   "metadata": {},
   "outputs": [],
   "source": [
    "database = pd.read_csv(data_folder + \"en.openfoodfacts.org.products.csv\", sep='\\t', dtype=object)"
   ]
  },
  {
   "cell_type": "markdown",
   "metadata": {},
   "source": [
    "We take a look at the data:"
   ]
  },
  {
   "cell_type": "code",
   "execution_count": 68,
   "metadata": {},
   "outputs": [
    {
     "data": {
      "text/html": [
       "<div>\n",
       "<style scoped>\n",
       "    .dataframe tbody tr th:only-of-type {\n",
       "        vertical-align: middle;\n",
       "    }\n",
       "\n",
       "    .dataframe tbody tr th {\n",
       "        vertical-align: top;\n",
       "    }\n",
       "\n",
       "    .dataframe thead th {\n",
       "        text-align: right;\n",
       "    }\n",
       "</style>\n",
       "<table border=\"1\" class=\"dataframe\">\n",
       "  <thead>\n",
       "    <tr style=\"text-align: right;\">\n",
       "      <th></th>\n",
       "      <th>code</th>\n",
       "      <th>url</th>\n",
       "      <th>creator</th>\n",
       "      <th>created_t</th>\n",
       "      <th>created_datetime</th>\n",
       "      <th>last_modified_t</th>\n",
       "      <th>last_modified_datetime</th>\n",
       "      <th>product_name</th>\n",
       "      <th>generic_name</th>\n",
       "      <th>quantity</th>\n",
       "      <th>...</th>\n",
       "      <th>carbon-footprint_100g</th>\n",
       "      <th>nutrition-score-fr_100g</th>\n",
       "      <th>nutrition-score-uk_100g</th>\n",
       "      <th>glycemic-index_100g</th>\n",
       "      <th>water-hardness_100g</th>\n",
       "      <th>choline_100g</th>\n",
       "      <th>phylloquinone_100g</th>\n",
       "      <th>beta-glucan_100g</th>\n",
       "      <th>inositol_100g</th>\n",
       "      <th>carnitine_100g</th>\n",
       "    </tr>\n",
       "  </thead>\n",
       "  <tbody>\n",
       "    <tr>\n",
       "      <th>count</th>\n",
       "      <td>696770</td>\n",
       "      <td>696770</td>\n",
       "      <td>696801</td>\n",
       "      <td>696800</td>\n",
       "      <td>696794</td>\n",
       "      <td>696804</td>\n",
       "      <td>696804</td>\n",
       "      <td>670800</td>\n",
       "      <td>77415</td>\n",
       "      <td>194249</td>\n",
       "      <td>...</td>\n",
       "      <td>344</td>\n",
       "      <td>140760</td>\n",
       "      <td>140760</td>\n",
       "      <td>2</td>\n",
       "      <td>1</td>\n",
       "      <td>27</td>\n",
       "      <td>1</td>\n",
       "      <td>14</td>\n",
       "      <td>33</td>\n",
       "      <td>13</td>\n",
       "    </tr>\n",
       "    <tr>\n",
       "      <th>unique</th>\n",
       "      <td>696731</td>\n",
       "      <td>696733</td>\n",
       "      <td>6656</td>\n",
       "      <td>562201</td>\n",
       "      <td>562207</td>\n",
       "      <td>551516</td>\n",
       "      <td>551515</td>\n",
       "      <td>479331</td>\n",
       "      <td>58231</td>\n",
       "      <td>22537</td>\n",
       "      <td>...</td>\n",
       "      <td>211</td>\n",
       "      <td>56</td>\n",
       "      <td>56</td>\n",
       "      <td>2</td>\n",
       "      <td>1</td>\n",
       "      <td>18</td>\n",
       "      <td>1</td>\n",
       "      <td>10</td>\n",
       "      <td>19</td>\n",
       "      <td>8</td>\n",
       "    </tr>\n",
       "    <tr>\n",
       "      <th>top</th>\n",
       "      <td>5021507162997</td>\n",
       "      <td>http://world-en.openfoodfacts.org/product/8421...</td>\n",
       "      <td>kiliweb</td>\n",
       "      <td>1489055829</td>\n",
       "      <td>2017-03-09T16:32:00Z</td>\n",
       "      <td>France</td>\n",
       "      <td>en:france</td>\n",
       "      <td>Comté</td>\n",
       "      <td>Pâtes alimentaires au blé dur de qualité supér...</td>\n",
       "      <td>500 g</td>\n",
       "      <td>...</td>\n",
       "      <td>0</td>\n",
       "      <td>0</td>\n",
       "      <td>0</td>\n",
       "      <td>14</td>\n",
       "      <td>2</td>\n",
       "      <td>0.06</td>\n",
       "      <td>1.6e-05</td>\n",
       "      <td>4</td>\n",
       "      <td>0.02</td>\n",
       "      <td>0.007</td>\n",
       "    </tr>\n",
       "    <tr>\n",
       "      <th>freq</th>\n",
       "      <td>2</td>\n",
       "      <td>2</td>\n",
       "      <td>312135</td>\n",
       "      <td>20</td>\n",
       "      <td>20</td>\n",
       "      <td>29</td>\n",
       "      <td>31</td>\n",
       "      <td>451</td>\n",
       "      <td>181</td>\n",
       "      <td>7881</td>\n",
       "      <td>...</td>\n",
       "      <td>82</td>\n",
       "      <td>7338</td>\n",
       "      <td>10150</td>\n",
       "      <td>1</td>\n",
       "      <td>1</td>\n",
       "      <td>4</td>\n",
       "      <td>1</td>\n",
       "      <td>3</td>\n",
       "      <td>6</td>\n",
       "      <td>2</td>\n",
       "    </tr>\n",
       "  </tbody>\n",
       "</table>\n",
       "<p>4 rows × 173 columns</p>\n",
       "</div>"
      ],
      "text/plain": [
       "                 code                                                url  \\\n",
       "count          696770                                             696770   \n",
       "unique         696731                                             696733   \n",
       "top     5021507162997  http://world-en.openfoodfacts.org/product/8421...   \n",
       "freq                2                                                  2   \n",
       "\n",
       "        creator   created_t      created_datetime last_modified_t  \\\n",
       "count    696801      696800                696794          696804   \n",
       "unique     6656      562201                562207          551516   \n",
       "top     kiliweb  1489055829  2017-03-09T16:32:00Z          France   \n",
       "freq     312135          20                    20              29   \n",
       "\n",
       "       last_modified_datetime product_name  \\\n",
       "count                  696804       670800   \n",
       "unique                 551515       479331   \n",
       "top                 en:france        Comté   \n",
       "freq                       31          451   \n",
       "\n",
       "                                             generic_name quantity  \\\n",
       "count                                               77415   194249   \n",
       "unique                                              58231    22537   \n",
       "top     Pâtes alimentaires au blé dur de qualité supér...    500 g   \n",
       "freq                                                  181     7881   \n",
       "\n",
       "            ...       carbon-footprint_100g nutrition-score-fr_100g  \\\n",
       "count       ...                         344                  140760   \n",
       "unique      ...                         211                      56   \n",
       "top         ...                           0                       0   \n",
       "freq        ...                          82                    7338   \n",
       "\n",
       "       nutrition-score-uk_100g glycemic-index_100g water-hardness_100g  \\\n",
       "count                   140760                   2                   1   \n",
       "unique                      56                   2                   1   \n",
       "top                          0                  14                   2   \n",
       "freq                     10150                   1                   1   \n",
       "\n",
       "       choline_100g phylloquinone_100g beta-glucan_100g inositol_100g  \\\n",
       "count            27                  1               14            33   \n",
       "unique           18                  1               10            19   \n",
       "top            0.06            1.6e-05                4          0.02   \n",
       "freq              4                  1                3             6   \n",
       "\n",
       "       carnitine_100g  \n",
       "count              13  \n",
       "unique              8  \n",
       "top             0.007  \n",
       "freq                2  \n",
       "\n",
       "[4 rows x 173 columns]"
      ]
     },
     "execution_count": 68,
     "metadata": {},
     "output_type": "execute_result"
    }
   ],
   "source": [
    "database.describe()"
   ]
  },
  {
   "cell_type": "markdown",
   "metadata": {},
   "source": [
    "We have a lot of different types of data, 173 columns. This means that the `describe` method does not really give us information that is easy to survey - we need to explore the data in another way. "
   ]
  },
  {
   "cell_type": "markdown",
   "metadata": {},
   "source": [
    "# Finding the column with the country data\n",
    "We are interested in doing out analysis based on which country the food item comes from. We therefore filter the data to find the columns which starts with the string `countr` for \"countries\":"
   ]
  },
  {
   "cell_type": "code",
   "execution_count": 70,
   "metadata": {},
   "outputs": [
    {
     "data": {
      "text/plain": [
       "['countries', 'countries_tags', 'countries_en']"
      ]
     },
     "execution_count": 70,
     "metadata": {},
     "output_type": "execute_result"
    }
   ],
   "source": [
    "filter_col = [col for col in database if col.startswith('countr')]\n",
    "filter_col"
   ]
  },
  {
   "cell_type": "markdown",
   "metadata": {},
   "source": [
    "We have three different columns regarding country data. Let's try to find out which one is relevant for us. A guess is that it is the `countries_en` column that we need, since the name presumably means that the column contain data of the origin country in English.\n",
    "\n",
    "Looking at the `countries` column, we notice that there are duplicates:"
   ]
  },
  {
   "cell_type": "code",
   "execution_count": 114,
   "metadata": {},
   "outputs": [
    {
     "data": {
      "text/plain": [
       "en:france    205162\n",
       "France       179274\n",
       "US           168473\n",
       "en:FR         28054\n",
       "Suisse         9097\n",
       "Name: countries, dtype: int64"
      ]
     },
     "execution_count": 114,
     "metadata": {},
     "output_type": "execute_result"
    }
   ],
   "source": [
    "database.countries.value_counts().head(5)"
   ]
  },
  {
   "cell_type": "markdown",
   "metadata": {},
   "source": [
    "France appears several times! By comparing the number of unique values for each of the three different columns we see that the other two columns contain less than half the number of unique values:"
   ]
  },
  {
   "cell_type": "code",
   "execution_count": 117,
   "metadata": {},
   "outputs": [
    {
     "name": "stdout",
     "output_type": "stream",
     "text": [
      "Number of unique country labels in column 'countries': 3227\n",
      "Number of unique country labels in column 'countries_tags': 1227\n",
      "Number of unique country labels in column 'countries_en': 1227\n"
     ]
    }
   ],
   "source": [
    "for col in filter_col:\n",
    "    print(\"Number of unique country labels in column '{}': \".format(col) + str(database[col].value_counts().shape[0]))\n"
   ]
  },
  {
   "cell_type": "markdown",
   "metadata": {},
   "source": [
    "Taking a look at `countries_tags` and `countries_en` gives us the information that they are basically identical, just with a different format for each country:"
   ]
  },
  {
   "cell_type": "code",
   "execution_count": 120,
   "metadata": {},
   "outputs": [
    {
     "data": {
      "text/plain": [
       "en:france               421492\n",
       "en:united-states        173575\n",
       "en:switzerland           13463\n",
       "en:germany               11845\n",
       "en:france,en:germany      6309\n",
       "en:spain                  6234\n",
       "Name: countries_tags, dtype: int64"
      ]
     },
     "execution_count": 120,
     "metadata": {},
     "output_type": "execute_result"
    }
   ],
   "source": [
    "database.countries_tags.value_counts().head(6)"
   ]
  },
  {
   "cell_type": "code",
   "execution_count": 121,
   "metadata": {},
   "outputs": [
    {
     "data": {
      "text/plain": [
       "France            421492\n",
       "United States     173575\n",
       "Switzerland        13463\n",
       "Germany            11845\n",
       "France,Germany      6309\n",
       "Spain               6234\n",
       "Name: countries_en, dtype: int64"
      ]
     },
     "execution_count": 121,
     "metadata": {},
     "output_type": "execute_result"
    }
   ],
   "source": [
    "database.countries_en.value_counts().head(6)"
   ]
  },
  {
   "cell_type": "markdown",
   "metadata": {},
   "source": [
    "Because of this, we decide to use the `countries_en` column. We note the format of the column, that each country starts with a capital letter and that if there are several countries they are separated by a comma without and whitespace."
   ]
  },
  {
   "cell_type": "markdown",
   "metadata": {},
   "source": [
    "# Filtering out France and the United States\n",
    "We are only interested in comparing France against the United States. Because of this, we want to compile the rows of the database which contain data for these two countries into two new dataframes respectively."
   ]
  },
  {
   "cell_type": "code",
   "execution_count": 164,
   "metadata": {},
   "outputs": [],
   "source": [
    "# na=False drops all the rows where countries_en is NaN\n",
    "france_data = database[database.countries_en.str.contains(\"France\", na=False)]\n",
    "us_data = database[database.countries_en.str.contains(\"United States\", na=False)]"
   ]
  },
  {
   "cell_type": "markdown",
   "metadata": {},
   "source": [
    "# Filtering out relevant columns"
   ]
  }
 ],
 "metadata": {
  "kernelspec": {
   "display_name": "Python [conda env:anaconda3]",
   "language": "python",
   "name": "conda-env-anaconda3-py"
  },
  "language_info": {
   "codemirror_mode": {
    "name": "ipython",
    "version": 3
   },
   "file_extension": ".py",
   "mimetype": "text/x-python",
   "name": "python",
   "nbconvert_exporter": "python",
   "pygments_lexer": "ipython3",
   "version": "3.6.5"
  }
 },
 "nbformat": 4,
 "nbformat_minor": 2
}
