{
 "cells": [
  {
   "cell_type": "markdown",
   "metadata": {},
   "source": [
    "# Data collection and descriptive analysis\n",
    "From [Open Food Facts](https://world.openfoodfacts.org/) we have a 1.7 GB `.csv` file which contains information of over 600 000 unique food products. Our purpose with this notebook is to explore this dataset and compile the availible information into one/several files of a smaller format containing only what is needed and can be used for our project."
   ]
  },
  {
   "cell_type": "code",
   "execution_count": 1,
   "metadata": {},
   "outputs": [],
   "source": [
    "import pandas as pd\n",
    "import numpy as np"
   ]
  },
  {
   "cell_type": "code",
   "execution_count": 2,
   "metadata": {},
   "outputs": [],
   "source": [
    "data_folder = \"./data/\""
   ]
  },
  {
   "cell_type": "code",
   "execution_count": 3,
   "metadata": {},
   "outputs": [],
   "source": [
    "database = pd.read_csv(data_folder + \"en.openfoodfacts.org.products.csv\", sep='\\t', dtype=object)"
   ]
  },
  {
   "cell_type": "markdown",
   "metadata": {},
   "source": [
    "We take a look at the data:"
   ]
  },
  {
   "cell_type": "code",
   "execution_count": 4,
   "metadata": {},
   "outputs": [
    {
     "data": {
      "text/html": [
       "<div>\n",
       "<style scoped>\n",
       "    .dataframe tbody tr th:only-of-type {\n",
       "        vertical-align: middle;\n",
       "    }\n",
       "\n",
       "    .dataframe tbody tr th {\n",
       "        vertical-align: top;\n",
       "    }\n",
       "\n",
       "    .dataframe thead th {\n",
       "        text-align: right;\n",
       "    }\n",
       "</style>\n",
       "<table border=\"1\" class=\"dataframe\">\n",
       "  <thead>\n",
       "    <tr style=\"text-align: right;\">\n",
       "      <th></th>\n",
       "      <th>code</th>\n",
       "      <th>url</th>\n",
       "      <th>creator</th>\n",
       "      <th>created_t</th>\n",
       "      <th>created_datetime</th>\n",
       "      <th>last_modified_t</th>\n",
       "      <th>last_modified_datetime</th>\n",
       "      <th>product_name</th>\n",
       "      <th>generic_name</th>\n",
       "      <th>quantity</th>\n",
       "      <th>...</th>\n",
       "      <th>carbon-footprint_100g</th>\n",
       "      <th>nutrition-score-fr_100g</th>\n",
       "      <th>nutrition-score-uk_100g</th>\n",
       "      <th>glycemic-index_100g</th>\n",
       "      <th>water-hardness_100g</th>\n",
       "      <th>choline_100g</th>\n",
       "      <th>phylloquinone_100g</th>\n",
       "      <th>beta-glucan_100g</th>\n",
       "      <th>inositol_100g</th>\n",
       "      <th>carnitine_100g</th>\n",
       "    </tr>\n",
       "  </thead>\n",
       "  <tbody>\n",
       "    <tr>\n",
       "      <th>count</th>\n",
       "      <td>696770</td>\n",
       "      <td>696770</td>\n",
       "      <td>696801</td>\n",
       "      <td>696800</td>\n",
       "      <td>696794</td>\n",
       "      <td>696804</td>\n",
       "      <td>696804</td>\n",
       "      <td>670800</td>\n",
       "      <td>77415</td>\n",
       "      <td>194249</td>\n",
       "      <td>...</td>\n",
       "      <td>344</td>\n",
       "      <td>140760</td>\n",
       "      <td>140760</td>\n",
       "      <td>2</td>\n",
       "      <td>1</td>\n",
       "      <td>27</td>\n",
       "      <td>1</td>\n",
       "      <td>14</td>\n",
       "      <td>33</td>\n",
       "      <td>13</td>\n",
       "    </tr>\n",
       "    <tr>\n",
       "      <th>unique</th>\n",
       "      <td>696731</td>\n",
       "      <td>696733</td>\n",
       "      <td>6656</td>\n",
       "      <td>562201</td>\n",
       "      <td>562207</td>\n",
       "      <td>551516</td>\n",
       "      <td>551515</td>\n",
       "      <td>479331</td>\n",
       "      <td>58231</td>\n",
       "      <td>22537</td>\n",
       "      <td>...</td>\n",
       "      <td>211</td>\n",
       "      <td>56</td>\n",
       "      <td>56</td>\n",
       "      <td>2</td>\n",
       "      <td>1</td>\n",
       "      <td>18</td>\n",
       "      <td>1</td>\n",
       "      <td>10</td>\n",
       "      <td>19</td>\n",
       "      <td>8</td>\n",
       "    </tr>\n",
       "    <tr>\n",
       "      <th>top</th>\n",
       "      <td>3350033435445</td>\n",
       "      <td>http://world-en.openfoodfacts.org/product/3760...</td>\n",
       "      <td>kiliweb</td>\n",
       "      <td>1489077120</td>\n",
       "      <td>2017-03-09T16:32:00Z</td>\n",
       "      <td>France</td>\n",
       "      <td>en:france</td>\n",
       "      <td>Comté</td>\n",
       "      <td>Pâtes alimentaires au blé dur de qualité supér...</td>\n",
       "      <td>500 g</td>\n",
       "      <td>...</td>\n",
       "      <td>0</td>\n",
       "      <td>0</td>\n",
       "      <td>0</td>\n",
       "      <td>3</td>\n",
       "      <td>2</td>\n",
       "      <td>0.06</td>\n",
       "      <td>1.6e-05</td>\n",
       "      <td>4</td>\n",
       "      <td>0.02</td>\n",
       "      <td>0.007</td>\n",
       "    </tr>\n",
       "    <tr>\n",
       "      <th>freq</th>\n",
       "      <td>2</td>\n",
       "      <td>2</td>\n",
       "      <td>312135</td>\n",
       "      <td>20</td>\n",
       "      <td>20</td>\n",
       "      <td>29</td>\n",
       "      <td>31</td>\n",
       "      <td>451</td>\n",
       "      <td>181</td>\n",
       "      <td>7881</td>\n",
       "      <td>...</td>\n",
       "      <td>82</td>\n",
       "      <td>7338</td>\n",
       "      <td>10150</td>\n",
       "      <td>1</td>\n",
       "      <td>1</td>\n",
       "      <td>4</td>\n",
       "      <td>1</td>\n",
       "      <td>3</td>\n",
       "      <td>6</td>\n",
       "      <td>2</td>\n",
       "    </tr>\n",
       "  </tbody>\n",
       "</table>\n",
       "<p>4 rows × 173 columns</p>\n",
       "</div>"
      ],
      "text/plain": [
       "                 code                                                url  \\\n",
       "count          696770                                             696770   \n",
       "unique         696731                                             696733   \n",
       "top     3350033435445  http://world-en.openfoodfacts.org/product/3760...   \n",
       "freq                2                                                  2   \n",
       "\n",
       "        creator   created_t      created_datetime last_modified_t  \\\n",
       "count    696801      696800                696794          696804   \n",
       "unique     6656      562201                562207          551516   \n",
       "top     kiliweb  1489077120  2017-03-09T16:32:00Z          France   \n",
       "freq     312135          20                    20              29   \n",
       "\n",
       "       last_modified_datetime product_name  \\\n",
       "count                  696804       670800   \n",
       "unique                 551515       479331   \n",
       "top                 en:france        Comté   \n",
       "freq                       31          451   \n",
       "\n",
       "                                             generic_name quantity  \\\n",
       "count                                               77415   194249   \n",
       "unique                                              58231    22537   \n",
       "top     Pâtes alimentaires au blé dur de qualité supér...    500 g   \n",
       "freq                                                  181     7881   \n",
       "\n",
       "            ...       carbon-footprint_100g nutrition-score-fr_100g  \\\n",
       "count       ...                         344                  140760   \n",
       "unique      ...                         211                      56   \n",
       "top         ...                           0                       0   \n",
       "freq        ...                          82                    7338   \n",
       "\n",
       "       nutrition-score-uk_100g glycemic-index_100g water-hardness_100g  \\\n",
       "count                   140760                   2                   1   \n",
       "unique                      56                   2                   1   \n",
       "top                          0                   3                   2   \n",
       "freq                     10150                   1                   1   \n",
       "\n",
       "       choline_100g phylloquinone_100g beta-glucan_100g inositol_100g  \\\n",
       "count            27                  1               14            33   \n",
       "unique           18                  1               10            19   \n",
       "top            0.06            1.6e-05                4          0.02   \n",
       "freq              4                  1                3             6   \n",
       "\n",
       "       carnitine_100g  \n",
       "count              13  \n",
       "unique              8  \n",
       "top             0.007  \n",
       "freq                2  \n",
       "\n",
       "[4 rows x 173 columns]"
      ]
     },
     "execution_count": 4,
     "metadata": {},
     "output_type": "execute_result"
    }
   ],
   "source": [
    "database.describe()"
   ]
  },
  {
   "cell_type": "markdown",
   "metadata": {},
   "source": [
    "We have a lot of different types of data, 173 columns. This means that the `describe` method does not really give us information that is easy to survey - we need to explore the data in another way. "
   ]
  },
  {
   "cell_type": "markdown",
   "metadata": {},
   "source": [
    "# Finding the column with the country data\n",
    "We are interested in doing out analysis based on which country the food item comes from. We therefore filter the data to find the columns which starts with the string `countr` for \"countries\":"
   ]
  },
  {
   "cell_type": "code",
   "execution_count": 5,
   "metadata": {},
   "outputs": [
    {
     "data": {
      "text/plain": [
       "['countries', 'countries_tags', 'countries_en']"
      ]
     },
     "execution_count": 5,
     "metadata": {},
     "output_type": "execute_result"
    }
   ],
   "source": [
    "filter_col = [col for col in database if col.startswith('countr')]\n",
    "filter_col"
   ]
  },
  {
   "cell_type": "markdown",
   "metadata": {},
   "source": [
    "We have three different columns regarding country data. Let's try to find out which one is relevant for us. A guess is that it is the `countries_en` column that we need, since the name presumably means that the column contain data of the origin country in English.\n",
    "\n",
    "Looking at the `countries` column, we notice that there are duplicates:"
   ]
  },
  {
   "cell_type": "code",
   "execution_count": 6,
   "metadata": {},
   "outputs": [
    {
     "data": {
      "text/plain": [
       "en:france    205162\n",
       "France       179274\n",
       "US           168473\n",
       "en:FR         28054\n",
       "Suisse         9097\n",
       "Name: countries, dtype: int64"
      ]
     },
     "execution_count": 6,
     "metadata": {},
     "output_type": "execute_result"
    }
   ],
   "source": [
    "database.countries.value_counts().head(5)"
   ]
  },
  {
   "cell_type": "markdown",
   "metadata": {},
   "source": [
    "France appears several times! By comparing the number of unique values for each of the three different columns we see that the other two columns contain less than half the number of unique values:"
   ]
  },
  {
   "cell_type": "code",
   "execution_count": 7,
   "metadata": {},
   "outputs": [
    {
     "name": "stdout",
     "output_type": "stream",
     "text": [
      "Number of unique country labels in column 'countries': 3227\n",
      "Number of unique country labels in column 'countries_tags': 1227\n",
      "Number of unique country labels in column 'countries_en': 1227\n"
     ]
    }
   ],
   "source": [
    "for col in filter_col:\n",
    "    print(\"Number of unique country labels in column '{}': \".format(col) + str(database[col].value_counts().shape[0]))\n"
   ]
  },
  {
   "cell_type": "markdown",
   "metadata": {},
   "source": [
    "Taking a look at `countries_tags` and `countries_en` gives us the information that they are basically identical, just with a different format for each country:"
   ]
  },
  {
   "cell_type": "code",
   "execution_count": 8,
   "metadata": {},
   "outputs": [
    {
     "data": {
      "text/plain": [
       "en:france               421492\n",
       "en:united-states        173575\n",
       "en:switzerland           13463\n",
       "en:germany               11845\n",
       "en:france,en:germany      6309\n",
       "en:spain                  6234\n",
       "Name: countries_tags, dtype: int64"
      ]
     },
     "execution_count": 8,
     "metadata": {},
     "output_type": "execute_result"
    }
   ],
   "source": [
    "database.countries_tags.value_counts().head(6)"
   ]
  },
  {
   "cell_type": "code",
   "execution_count": 9,
   "metadata": {},
   "outputs": [
    {
     "data": {
      "text/plain": [
       "France            421492\n",
       "United States     173575\n",
       "Switzerland        13463\n",
       "Germany            11845\n",
       "France,Germany      6309\n",
       "Spain               6234\n",
       "Name: countries_en, dtype: int64"
      ]
     },
     "execution_count": 9,
     "metadata": {},
     "output_type": "execute_result"
    }
   ],
   "source": [
    "database.countries_en.value_counts().head(6)"
   ]
  },
  {
   "cell_type": "markdown",
   "metadata": {},
   "source": [
    "Because of this, we decide to use the `countries_en` column. We note the format of the column, that each country starts with a capital letter and that if there are several countries they are separated by a comma without and whitespace."
   ]
  },
  {
   "cell_type": "markdown",
   "metadata": {},
   "source": [
    "# Filtering out France and the United States\n",
    "We are only interested in comparing France against the United States. Because of this, we want to compile the rows of the database which contain data for these two countries into two new dataframes respectively."
   ]
  },
  {
   "cell_type": "code",
   "execution_count": 10,
   "metadata": {},
   "outputs": [],
   "source": [
    "# na=False drops all the rows where countries_en is NaN\n",
    "france_data = database[database.countries_en.str.contains(\"France\", na=False)]\n",
    "us_data = database[database.countries_en.str.contains(\"United States\", na=False)]"
   ]
  },
  {
   "cell_type": "markdown",
   "metadata": {},
   "source": [
    "# Filtering out relevant columns"
   ]
  },
  {
   "cell_type": "markdown",
   "metadata": {},
   "source": [
    "Relevant columns are columns with values for several products. We define that a column is relevant to look at if it has at least 10 000 defined values."
   ]
  },
  {
   "cell_type": "code",
   "execution_count": 11,
   "metadata": {},
   "outputs": [],
   "source": [
    "columns10000 = ((france_data.count() > 10000) & (us_data.count() > 10000))"
   ]
  },
  {
   "cell_type": "code",
   "execution_count": 12,
   "metadata": {},
   "outputs": [
    {
     "data": {
      "text/plain": [
       "Index(['code', 'url', 'creator', 'created_t', 'created_datetime',\n",
       "       'last_modified_t', 'last_modified_datetime', 'product_name', 'brands',\n",
       "       'brands_tags', 'countries', 'countries_tags', 'countries_en',\n",
       "       'ingredients_text', 'serving_size', 'serving_quantity', 'additives_n',\n",
       "       'additives', 'additives_tags', 'additives_en',\n",
       "       'ingredients_from_palm_oil_n',\n",
       "       'ingredients_that_may_be_from_palm_oil_n', 'states', 'states_tags',\n",
       "       'states_en', 'energy_100g', 'fat_100g', 'saturated-fat_100g',\n",
       "       'carbohydrates_100g', 'sugars_100g', 'fiber_100g', 'proteins_100g',\n",
       "       'salt_100g', 'sodium_100g'],\n",
       "      dtype='object')"
      ]
     },
     "execution_count": 12,
     "metadata": {},
     "output_type": "execute_result"
    }
   ],
   "source": [
    "france_data.columns[columns10000]"
   ]
  },
  {
   "cell_type": "markdown",
   "metadata": {},
   "source": [
    "From the resulting columns, we will use the ones relevant for nutrition. These are the ones with values per 100g, servings and the product names. In addition to these, we will save the column \"category\", as we will use it to categorise our data. We will also save some additional vitamins and minerals, as well as two columns with nutrition facts. An overview of all columns can be found here: https://static.openfoodfacts.org/data/data-fields.txt"
   ]
  },
  {
   "cell_type": "code",
   "execution_count": 13,
   "metadata": {},
   "outputs": [],
   "source": [
    "re_columns = ['product_name', 'brands', 'brands_tags', 'ingredients_text', 'serving_size', 'categories',\n",
    "              'categories_tags', 'categories_en',\n",
    "              'serving_quantity', 'energy_100g', 'proteins_100g', 'carbohydrates_100g', 'sugars_100g', 'fat_100g',\n",
    "              'saturated-fat_100g','monounsaturated-fat_100g', 'polyunsaturated-fat_100g', 'omega-3-fat_100g',\n",
    "              'omega-6-fat_100g','omega-9-fat_100g', 'trans-fat_100g', 'cholesterol_100g', 'fiber_100g',\n",
    "              'sodium_100g', 'vitamin-a_100g','vitamin-d_100g', 'vitamin-e_100g', 'vitamin-k_100g', 'vitamin-c_100g',\n",
    "              'vitamin-b1_100g','vitamin-b2_100g', 'vitamin-pp_100g', 'vitamin-b6_100g', 'vitamin-b9_100g',\n",
    "              'vitamin-b12_100g',\n",
    "              'biotin_100g', 'calcium_100g', 'phosphorus_100g', 'iron_100g', 'magnesium_100g', 'zinc_100g',\n",
    "              'copper_100g', 'manganese_100g', 'fluoride_100g', 'selenium_100g', 'chromium_100g', 'molybdenum_100g',\n",
    "              'iodine_100g', 'nutrition-score-fr_100g', 'nutrition-score-uk_100g']"
   ]
  },
  {
   "cell_type": "code",
   "execution_count": 14,
   "metadata": {},
   "outputs": [],
   "source": [
    "france_data = france_data[re_columns]\n",
    "us_data = us_data[re_columns]"
   ]
  },
  {
   "cell_type": "markdown",
   "metadata": {},
   "source": [
    "# Drop rows which are unusable\n",
    "Rows which only has NaN, and rows which does not have either any of the three food item category columns (`categories_en`, `categories` or `categories_tags`) or the `product name` category are not usable for us as we would not be able to use them in any comparison later on. For this reason we remove them:"
   ]
  },
  {
   "cell_type": "code",
   "execution_count": 17,
   "metadata": {
    "scrolled": true
   },
   "outputs": [],
   "source": [
    "# drop rows with all NaNs.\n",
    "france_data.dropna(how='all', inplace=True)\n",
    "us_data.dropna(how='all', inplace=True)"
   ]
  },
  {
   "cell_type": "code",
   "execution_count": 20,
   "metadata": {},
   "outputs": [],
   "source": [
    "# drop rows if there are NaNs in all of the columns in `cols`\n",
    "cols = ['categories_en', 'categories', 'categories_tags', 'product_name']\n",
    "france_data.dropna(subset=cols, how='all', inplace=True)\n",
    "us_data.dropna(subset=cols, how='all', inplace=True)"
   ]
  },
  {
   "cell_type": "markdown",
   "metadata": {},
   "source": [
    "# Define categories for comparisons\n",
    "For doing comparisons between the US and France we need to categorize the data into comparable parts. As seen in the data there are already 3 columns containing (possibly overlapping) category information for the food items. These category columns needs to be investigated further, which we do starting with looking at the entries in each category which are most common:"
   ]
  },
  {
   "cell_type": "code",
   "execution_count": 34,
   "metadata": {},
   "outputs": [
    {
     "data": {
      "text/plain": [
       "en:beverages                                  6842\n",
       "en:fats                                       1685\n",
       "en:milks                                       652\n",
       "Chocolats noirs                                612\n",
       "Snacks sucrés,Biscuits et gâteaux,Biscuits     361\n",
       "Name: categories, dtype: int64"
      ]
     },
     "execution_count": 34,
     "metadata": {},
     "output_type": "execute_result"
    }
   ],
   "source": [
    "france_data.categories.value_counts().head(5)"
   ]
  },
  {
   "cell_type": "code",
   "execution_count": 35,
   "metadata": {},
   "outputs": [
    {
     "data": {
      "text/plain": [
       "Beverages,Non-Alcoholic beverages           5051\n",
       "Fats                                        1779\n",
       "Beverages,Sugared beverages                 1630\n",
       "Sugary snacks,Chocolates,Dark chocolates    1082\n",
       "Dairies,Milks                                927\n",
       "Name: categories_en, dtype: int64"
      ]
     },
     "execution_count": 35,
     "metadata": {},
     "output_type": "execute_result"
    }
   ],
   "source": [
    "france_data.categories_en.value_counts().head(5)"
   ]
  },
  {
   "cell_type": "code",
   "execution_count": 36,
   "metadata": {},
   "outputs": [
    {
     "data": {
      "text/plain": [
       "en:beverages,en:non-alcoholic-beverages              5051\n",
       "en:fats                                              1779\n",
       "en:beverages,en:sugared-beverages                    1630\n",
       "en:sugary-snacks,en:chocolates,en:dark-chocolates    1082\n",
       "en:dairies,en:milks                                   927\n",
       "Name: categories_tags, dtype: int64"
      ]
     },
     "execution_count": 36,
     "metadata": {},
     "output_type": "execute_result"
    }
   ],
   "source": [
    "france_data.categories_tags.value_counts().head(5)"
   ]
  },
  {
   "cell_type": "markdown",
   "metadata": {},
   "source": [
    "We see that the three columns are very similar, but there are some differences between them. An example is that for the most common entry, the categories `categories_en` and `categories_tags` provide additional information in the form of the tag \"Non-Alcoholic beverages\". On the other hand, the column `categories` provides us with the names of things in French. Having additional information increases the chance that an item is found and correctly identified as being in a certain category.\n",
    "\n",
    "It might therefore be a good strategy for us to search through all three of these categories when we want find items for a comparison, for example searching for items with the keywords \"yoghurt\" and \"dairies\", especially since it would not be taking any considerable amount of time to do (the computations are not very heavy)."
   ]
  },
  {
   "cell_type": "markdown",
   "metadata": {},
   "source": [
    "We will also be using the `product_name` column for finding items that match certain categories, as the names can be descriptive and contain strings that are associated with a certain food category."
   ]
  },
  {
   "cell_type": "code",
   "execution_count": 46,
   "metadata": {},
   "outputs": [
    {
     "data": {
      "text/plain": [
       "Ice Cream                                                                             408\n",
       "Extra Virgin Olive Oil                                                                296\n",
       "Potato Chips                                                                          281\n",
       "Premium Ice Cream                                                                     226\n",
       "Beef Jerky                                                                            165\n",
       "Pinto Beans                                                                           162\n",
       "Popcorn                                                                               150\n",
       "Salsa                                                                                 149\n",
       "Cookies                                                                               144\n",
       "Tomato Sauce                                                                          140\n",
       "Cut Green Beans                                                                       140\n",
       "Tomato Ketchup                                                                        135\n",
       "Black Beans                                                                           133\n",
       "Creamy Peanut Butter                                                                  131\n",
       "Apple Sauce                                                                           120\n",
       "Candy                                                                                 117\n",
       "Tortilla Chips                                                                        117\n",
       "Milk Chocolate                                                                        111\n",
       "Pasta Sauce                                                                           110\n",
       "Chicken Broth                                                                         108\n",
       "Greek Nonfat Yogurt                                                                   106\n",
       "2% Reduced Fat Milk                                                                   106\n",
       "Soda                                                                                  103\n",
       "Cottage Cheese                                                                         99\n",
       "Trail Mix                                                                              99\n",
       "Diced Tomatoes                                                                         99\n",
       "Real Mayonnaise                                                                        98\n",
       "Protein Bar                                                                            98\n",
       "Hot Sauce                                                                              97\n",
       "Sweet Peas                                                                             93\n",
       "                                                                                     ... \n",
       "Salt and pepper crisps                                                                  1\n",
       "Ticklebaby, Cakebabies, Sweet Vanilla                                                   1\n",
       "Dill Spears Picnic Perfect Pickles                                                      1\n",
       "Cira, Aloe Drink With Pulp, Fruit Punch                                                 1\n",
       "Potato Chips, Salt, Pepper                                                              1\n",
       "Oil Cured Olives, With Olive Oil                                                        1\n",
       "Mediterrancean Patties                                                                  1\n",
       "Peanut Butter Crisp Patties                                                             1\n",
       "Fruit Slices Jelly                                                                      1\n",
       "Organic Unsalted Cultured Butter                                                        1\n",
       "Ninja Squirrel, Spiracha Hot Sauce                                                      1\n",
       "Matcha Green Tea, Mint + Honey                                                          1\n",
       "Light & Crunchy Bagel Chips, Sea Salt                                                   1\n",
       "Low Sodium Chunk Chicken Breast                                                         1\n",
       "Nature's Promise, Sesame Tahini                                                         1\n",
       "Chocolate chip cookie Dunkers                                                           1\n",
       "Cheetos Puffs Chese Flavor                                                              1\n",
       "Abdallah, Sea Salt Caramels                                                             1\n",
       "Purely Crushed Tomatoes                                                                 1\n",
       "Mini Chocolate Dipped Cannoli Pastry                                                    1\n",
       "Graham Cracker Spoons                                                                   1\n",
       "Sugarcane Juice                                                                         1\n",
       "Organic Jalapeno Nacho Slices, Hot                                                      1\n",
       "Baba Ghanouj Creamy Roasted Eggplant Dip                                                1\n",
       "yogurtsmootg and creamy                                                                 1\n",
       "Enriched Rice Drink                                                                     1\n",
       "Black Bean & Quinoa Chili                                                               1\n",
       "Cashews Roasted With Sea Salt                                                           1\n",
       "Fischer & Wiser, Handcrafted One Jar At A Time, Mustard Sauce, Sweet, Sour & Smoky      1\n",
       "Candy Store, Puffs Candy, Peppermint                                                    1\n",
       "Name: product_name, Length: 117397, dtype: int64"
      ]
     },
     "execution_count": 46,
     "metadata": {},
     "output_type": "execute_result"
    }
   ],
   "source": [
    "us_data.product_name.value_counts()"
   ]
  },
  {
   "cell_type": "code",
   "execution_count": null,
   "metadata": {},
   "outputs": [],
   "source": []
  },
  {
   "cell_type": "code",
   "execution_count": null,
   "metadata": {},
   "outputs": [],
   "source": []
  },
  {
   "cell_type": "code",
   "execution_count": null,
   "metadata": {},
   "outputs": [],
   "source": []
  },
  {
   "cell_type": "code",
   "execution_count": null,
   "metadata": {},
   "outputs": [],
   "source": []
  },
  {
   "cell_type": "code",
   "execution_count": null,
   "metadata": {},
   "outputs": [],
   "source": [
    "# to_csv"
   ]
  },
  {
   "cell_type": "markdown",
   "metadata": {},
   "source": [
    "# Future plan\n",
    "\n",
    "1. Implement algorithm for calculating nutrition score.\n",
    "2. Define the categories that we are going to compare between.\n",
    "    * Some data is not categorized, these can still be extracted by using the product names. Example: Item is not in category bread, but the product name is \"Wholegrain bread\". \n",
    "    * Sugary snacks in the same category. \n",
    "    * Salty snacks in another.\n",
    "    * Dairies in another. Use keyword search on product names to find more.\n",
    "    * Yoghurts for example, separate dairies into one category and cheeses in another perhaps.\n",
    "3. Compare the amount of poly saturated vs monosaturated fats in the fats category\n",
    "3. Quantify differences between France and the US for each category, in particular:\n",
    "    * Compare the nutrition score which already exists in dataset.\n",
    "    * Compare the nutrition score which already \n",
    "    * Compare amount of sugar in the food items.\n",
    "    * Compare amount of saturated fat in the food items.\n",
    "4. Compare results with WHO-data, in particular:\n",
    "    * Relate nutrition scores with WHO-data on obesity.\n",
    "    * Relate the results of sugar and saturated fat to WHO-data on obesity.\n",
    "    * Relate the results of sugar and saturated fat to WHO-data on deaths from specific diseases (caused by for example too much sugar), see if there might be a link.\n",
    "5. Create graphs/tables of the results that we have found.\n",
    "5. Compile and display process and data story into pdf, alternatively just in a notebook.\n",
    "6. Construct poster for presentation."
   ]
  }
 ],
 "metadata": {
  "kernelspec": {
   "display_name": "Python [conda env:anaconda3]",
   "language": "python",
   "name": "conda-env-anaconda3-py"
  },
  "language_info": {
   "codemirror_mode": {
    "name": "ipython",
    "version": 3
   },
   "file_extension": ".py",
   "mimetype": "text/x-python",
   "name": "python",
   "nbconvert_exporter": "python",
   "pygments_lexer": "ipython3",
   "version": "3.6.5"
  }
 },
 "nbformat": 4,
 "nbformat_minor": 2
}
