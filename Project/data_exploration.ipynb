{
 "cells": [
  {
   "cell_type": "markdown",
   "metadata": {},
   "source": [
    "# Data collection and descriptive analysis\n",
    "From [Open Food Facts](https://world.openfoodfacts.org/) we have a 1.7 GB `.csv` file which contains information of over 600 000 unique food products. Our purpose with this notebook is to explore this dataset and compile the availible information into one/several files of a smaller format containing only what is needed and can be used for our project."
   ]
  },
  {
   "cell_type": "code",
   "execution_count": 1,
   "metadata": {},
   "outputs": [],
   "source": [
    "import pandas as pd\n",
    "import numpy as np\n",
    "import functools\n",
    "import re"
   ]
  },
  {
   "cell_type": "code",
   "execution_count": 2,
   "metadata": {},
   "outputs": [],
   "source": [
    "data_folder = \"./data/\""
   ]
  },
  {
   "cell_type": "code",
   "execution_count": 3,
   "metadata": {},
   "outputs": [],
   "source": [
    "database = pd.read_csv(data_folder + \"en.openfoodfacts.org.products.csv\", sep='\\t', dtype=object)"
   ]
  },
  {
   "cell_type": "markdown",
   "metadata": {},
   "source": [
    "We take a look at the data:"
   ]
  },
  {
   "cell_type": "code",
   "execution_count": 4,
   "metadata": {},
   "outputs": [
    {
     "data": {
      "text/html": [
       "<div>\n",
       "<style scoped>\n",
       "    .dataframe tbody tr th:only-of-type {\n",
       "        vertical-align: middle;\n",
       "    }\n",
       "\n",
       "    .dataframe tbody tr th {\n",
       "        vertical-align: top;\n",
       "    }\n",
       "\n",
       "    .dataframe thead th {\n",
       "        text-align: right;\n",
       "    }\n",
       "</style>\n",
       "<table border=\"1\" class=\"dataframe\">\n",
       "  <thead>\n",
       "    <tr style=\"text-align: right;\">\n",
       "      <th></th>\n",
       "      <th>code</th>\n",
       "      <th>url</th>\n",
       "      <th>creator</th>\n",
       "      <th>created_t</th>\n",
       "      <th>created_datetime</th>\n",
       "      <th>last_modified_t</th>\n",
       "      <th>last_modified_datetime</th>\n",
       "      <th>product_name</th>\n",
       "      <th>generic_name</th>\n",
       "      <th>quantity</th>\n",
       "      <th>...</th>\n",
       "      <th>carbon-footprint_100g</th>\n",
       "      <th>nutrition-score-fr_100g</th>\n",
       "      <th>nutrition-score-uk_100g</th>\n",
       "      <th>glycemic-index_100g</th>\n",
       "      <th>water-hardness_100g</th>\n",
       "      <th>choline_100g</th>\n",
       "      <th>phylloquinone_100g</th>\n",
       "      <th>beta-glucan_100g</th>\n",
       "      <th>inositol_100g</th>\n",
       "      <th>carnitine_100g</th>\n",
       "    </tr>\n",
       "  </thead>\n",
       "  <tbody>\n",
       "    <tr>\n",
       "      <th>count</th>\n",
       "      <td>696770</td>\n",
       "      <td>696770</td>\n",
       "      <td>696801</td>\n",
       "      <td>696800</td>\n",
       "      <td>696794</td>\n",
       "      <td>696804</td>\n",
       "      <td>696804</td>\n",
       "      <td>670800</td>\n",
       "      <td>77415</td>\n",
       "      <td>194249</td>\n",
       "      <td>...</td>\n",
       "      <td>344</td>\n",
       "      <td>140760</td>\n",
       "      <td>140760</td>\n",
       "      <td>2</td>\n",
       "      <td>1</td>\n",
       "      <td>27</td>\n",
       "      <td>1</td>\n",
       "      <td>14</td>\n",
       "      <td>33</td>\n",
       "      <td>13</td>\n",
       "    </tr>\n",
       "    <tr>\n",
       "      <th>unique</th>\n",
       "      <td>696731</td>\n",
       "      <td>696733</td>\n",
       "      <td>6656</td>\n",
       "      <td>562201</td>\n",
       "      <td>562207</td>\n",
       "      <td>551516</td>\n",
       "      <td>551515</td>\n",
       "      <td>479331</td>\n",
       "      <td>58231</td>\n",
       "      <td>22537</td>\n",
       "      <td>...</td>\n",
       "      <td>211</td>\n",
       "      <td>56</td>\n",
       "      <td>56</td>\n",
       "      <td>2</td>\n",
       "      <td>1</td>\n",
       "      <td>18</td>\n",
       "      <td>1</td>\n",
       "      <td>10</td>\n",
       "      <td>19</td>\n",
       "      <td>8</td>\n",
       "    </tr>\n",
       "    <tr>\n",
       "      <th>top</th>\n",
       "      <td>0067275001132</td>\n",
       "      <td>http://world-en.openfoodfacts.org/product/0055...</td>\n",
       "      <td>kiliweb</td>\n",
       "      <td>1489077120</td>\n",
       "      <td>2017-03-09T10:37:09Z</td>\n",
       "      <td>France</td>\n",
       "      <td>en:france</td>\n",
       "      <td>Comté</td>\n",
       "      <td>Pâtes alimentaires au blé dur de qualité supér...</td>\n",
       "      <td>500 g</td>\n",
       "      <td>...</td>\n",
       "      <td>0</td>\n",
       "      <td>0</td>\n",
       "      <td>0</td>\n",
       "      <td>3</td>\n",
       "      <td>2</td>\n",
       "      <td>0.06</td>\n",
       "      <td>1.6e-05</td>\n",
       "      <td>4</td>\n",
       "      <td>0.02</td>\n",
       "      <td>0.007</td>\n",
       "    </tr>\n",
       "    <tr>\n",
       "      <th>freq</th>\n",
       "      <td>2</td>\n",
       "      <td>2</td>\n",
       "      <td>312135</td>\n",
       "      <td>20</td>\n",
       "      <td>20</td>\n",
       "      <td>29</td>\n",
       "      <td>31</td>\n",
       "      <td>451</td>\n",
       "      <td>181</td>\n",
       "      <td>7881</td>\n",
       "      <td>...</td>\n",
       "      <td>82</td>\n",
       "      <td>7338</td>\n",
       "      <td>10150</td>\n",
       "      <td>1</td>\n",
       "      <td>1</td>\n",
       "      <td>4</td>\n",
       "      <td>1</td>\n",
       "      <td>3</td>\n",
       "      <td>6</td>\n",
       "      <td>2</td>\n",
       "    </tr>\n",
       "  </tbody>\n",
       "</table>\n",
       "<p>4 rows × 173 columns</p>\n",
       "</div>"
      ],
      "text/plain": [
       "                 code                                                url  \\\n",
       "count          696770                                             696770   \n",
       "unique         696731                                             696733   \n",
       "top     0067275001132  http://world-en.openfoodfacts.org/product/0055...   \n",
       "freq                2                                                  2   \n",
       "\n",
       "        creator   created_t      created_datetime last_modified_t  \\\n",
       "count    696801      696800                696794          696804   \n",
       "unique     6656      562201                562207          551516   \n",
       "top     kiliweb  1489077120  2017-03-09T10:37:09Z          France   \n",
       "freq     312135          20                    20              29   \n",
       "\n",
       "       last_modified_datetime product_name  \\\n",
       "count                  696804       670800   \n",
       "unique                 551515       479331   \n",
       "top                 en:france        Comté   \n",
       "freq                       31          451   \n",
       "\n",
       "                                             generic_name quantity  \\\n",
       "count                                               77415   194249   \n",
       "unique                                              58231    22537   \n",
       "top     Pâtes alimentaires au blé dur de qualité supér...    500 g   \n",
       "freq                                                  181     7881   \n",
       "\n",
       "            ...       carbon-footprint_100g nutrition-score-fr_100g  \\\n",
       "count       ...                         344                  140760   \n",
       "unique      ...                         211                      56   \n",
       "top         ...                           0                       0   \n",
       "freq        ...                          82                    7338   \n",
       "\n",
       "       nutrition-score-uk_100g glycemic-index_100g water-hardness_100g  \\\n",
       "count                   140760                   2                   1   \n",
       "unique                      56                   2                   1   \n",
       "top                          0                   3                   2   \n",
       "freq                     10150                   1                   1   \n",
       "\n",
       "       choline_100g phylloquinone_100g beta-glucan_100g inositol_100g  \\\n",
       "count            27                  1               14            33   \n",
       "unique           18                  1               10            19   \n",
       "top            0.06            1.6e-05                4          0.02   \n",
       "freq              4                  1                3             6   \n",
       "\n",
       "       carnitine_100g  \n",
       "count              13  \n",
       "unique              8  \n",
       "top             0.007  \n",
       "freq                2  \n",
       "\n",
       "[4 rows x 173 columns]"
      ]
     },
     "execution_count": 4,
     "metadata": {},
     "output_type": "execute_result"
    }
   ],
   "source": [
    "database.describe()"
   ]
  },
  {
   "cell_type": "markdown",
   "metadata": {},
   "source": [
    "We have a lot of different types of data, 173 columns. This means that the `describe` method does not really give us information that is easy to survey - we need to explore the data in another way. "
   ]
  },
  {
   "cell_type": "markdown",
   "metadata": {},
   "source": [
    "# Finding the column with the country data\n",
    "We are interested in doing out analysis based on which country the food item comes from. We therefore filter the data to find the columns which starts with the string `countr` for \"countries\":"
   ]
  },
  {
   "cell_type": "code",
   "execution_count": 5,
   "metadata": {},
   "outputs": [
    {
     "data": {
      "text/plain": [
       "['countries', 'countries_tags', 'countries_en']"
      ]
     },
     "execution_count": 5,
     "metadata": {},
     "output_type": "execute_result"
    }
   ],
   "source": [
    "filter_col = [col for col in database if col.startswith('countr')]\n",
    "filter_col"
   ]
  },
  {
   "cell_type": "markdown",
   "metadata": {},
   "source": [
    "We have three different columns regarding country data. Let's try to find out which one is relevant for us. A guess is that it is the `countries_en` column that we need, since the name presumably means that the column contain data of the origin country in English.\n",
    "\n",
    "Looking at the `countries` column, we notice that there are duplicates:"
   ]
  },
  {
   "cell_type": "code",
   "execution_count": 6,
   "metadata": {},
   "outputs": [
    {
     "data": {
      "text/plain": [
       "en:france    205162\n",
       "France       179274\n",
       "US           168473\n",
       "en:FR         28054\n",
       "Suisse         9097\n",
       "Name: countries, dtype: int64"
      ]
     },
     "execution_count": 6,
     "metadata": {},
     "output_type": "execute_result"
    }
   ],
   "source": [
    "database.countries.value_counts().head(5)"
   ]
  },
  {
   "cell_type": "markdown",
   "metadata": {},
   "source": [
    "France appears several times! By comparing the number of unique values for each of the three different columns we see that the other two columns contain less than half the number of unique values:"
   ]
  },
  {
   "cell_type": "code",
   "execution_count": 7,
   "metadata": {},
   "outputs": [
    {
     "name": "stdout",
     "output_type": "stream",
     "text": [
      "Number of unique country labels in column 'countries': 3227\n",
      "Number of unique country labels in column 'countries_tags': 1227\n",
      "Number of unique country labels in column 'countries_en': 1227\n"
     ]
    }
   ],
   "source": [
    "for col in filter_col:\n",
    "    print(\"Number of unique country labels in column '{}': \".format(col) + str(database[col].value_counts().shape[0]))\n"
   ]
  },
  {
   "cell_type": "markdown",
   "metadata": {},
   "source": [
    "Taking a look at `countries_tags` and `countries_en` gives us the information that they are basically identical, just with a different format for each country:"
   ]
  },
  {
   "cell_type": "code",
   "execution_count": 8,
   "metadata": {},
   "outputs": [
    {
     "data": {
      "text/plain": [
       "en:france               421492\n",
       "en:united-states        173575\n",
       "en:switzerland           13463\n",
       "en:germany               11845\n",
       "en:france,en:germany      6309\n",
       "en:spain                  6234\n",
       "Name: countries_tags, dtype: int64"
      ]
     },
     "execution_count": 8,
     "metadata": {},
     "output_type": "execute_result"
    }
   ],
   "source": [
    "database.countries_tags.value_counts().head(6)"
   ]
  },
  {
   "cell_type": "code",
   "execution_count": 9,
   "metadata": {},
   "outputs": [
    {
     "data": {
      "text/plain": [
       "France            421492\n",
       "United States     173575\n",
       "Switzerland        13463\n",
       "Germany            11845\n",
       "France,Germany      6309\n",
       "Spain               6234\n",
       "Name: countries_en, dtype: int64"
      ]
     },
     "execution_count": 9,
     "metadata": {},
     "output_type": "execute_result"
    }
   ],
   "source": [
    "database.countries_en.value_counts().head(6)"
   ]
  },
  {
   "cell_type": "markdown",
   "metadata": {},
   "source": [
    "Because of this, we decide to use the `countries_en` column. We note the format of the column, that each country starts with a capital letter and that if there are several countries they are separated by a comma without and whitespace."
   ]
  },
  {
   "cell_type": "markdown",
   "metadata": {},
   "source": [
    "# Filtering out France and the United States\n",
    "We are only interested in comparing France against the United States. Because of this, we want to compile the rows of the database which contain data for these two countries into two new dataframes respectively."
   ]
  },
  {
   "cell_type": "code",
   "execution_count": 10,
   "metadata": {},
   "outputs": [],
   "source": [
    "# na=False drops all the rows where countries_en is NaN\n",
    "france_data = database[database.countries_en.str.contains(\"France\", na=False)]\n",
    "us_data = database[database.countries_en.str.contains(\"United States\", na=False)]"
   ]
  },
  {
   "cell_type": "markdown",
   "metadata": {},
   "source": [
    "# Filtering out relevant columns"
   ]
  },
  {
   "cell_type": "markdown",
   "metadata": {},
   "source": [
    "Relevant columns are columns with values for several products. We define that a column is relevant to look at if it has at least 10 000 defined values."
   ]
  },
  {
   "cell_type": "code",
   "execution_count": 11,
   "metadata": {},
   "outputs": [],
   "source": [
    "columns10000 = ((france_data.count() > 10000) & (us_data.count() > 10000))"
   ]
  },
  {
   "cell_type": "code",
   "execution_count": 12,
   "metadata": {},
   "outputs": [
    {
     "data": {
      "text/plain": [
       "Index(['code', 'url', 'creator', 'created_t', 'created_datetime',\n",
       "       'last_modified_t', 'last_modified_datetime', 'product_name', 'brands',\n",
       "       'brands_tags', 'countries', 'countries_tags', 'countries_en',\n",
       "       'ingredients_text', 'serving_size', 'serving_quantity', 'additives_n',\n",
       "       'additives', 'additives_tags', 'additives_en',\n",
       "       'ingredients_from_palm_oil_n',\n",
       "       'ingredients_that_may_be_from_palm_oil_n', 'states', 'states_tags',\n",
       "       'states_en', 'energy_100g', 'fat_100g', 'saturated-fat_100g',\n",
       "       'carbohydrates_100g', 'sugars_100g', 'fiber_100g', 'proteins_100g',\n",
       "       'salt_100g', 'sodium_100g'],\n",
       "      dtype='object')"
      ]
     },
     "execution_count": 12,
     "metadata": {},
     "output_type": "execute_result"
    }
   ],
   "source": [
    "france_data.columns[columns10000]"
   ]
  },
  {
   "cell_type": "markdown",
   "metadata": {},
   "source": [
    "From the resulting columns, we will use the ones relevant for nutrition. These are the ones with values per 100g, servings and the product names. In addition to these, we will save the column \"category\", as we will use it to categorise our data. We will also save some additional vitamins and minerals, as well as two columns with nutrition facts. An overview of all columns can be found here: https://static.openfoodfacts.org/data/data-fields.txt"
   ]
  },
  {
   "cell_type": "code",
   "execution_count": 13,
   "metadata": {},
   "outputs": [],
   "source": [
    "re_columns = ['product_name', 'brands', 'brands_tags', 'ingredients_text', 'serving_size', 'categories',\n",
    "              'categories_tags', 'categories_en',\n",
    "              'serving_quantity', 'energy_100g', 'proteins_100g', 'carbohydrates_100g', 'sugars_100g', 'fat_100g',\n",
    "              'saturated-fat_100g','monounsaturated-fat_100g', 'polyunsaturated-fat_100g', 'omega-3-fat_100g',\n",
    "              'omega-6-fat_100g','omega-9-fat_100g', 'trans-fat_100g', 'cholesterol_100g', 'fiber_100g',\n",
    "              'sodium_100g', 'vitamin-a_100g','vitamin-d_100g', 'vitamin-e_100g', 'vitamin-k_100g', 'vitamin-c_100g',\n",
    "              'vitamin-b1_100g','vitamin-b2_100g', 'vitamin-pp_100g', 'vitamin-b6_100g', 'vitamin-b9_100g',\n",
    "              'vitamin-b12_100g',\n",
    "              'biotin_100g', 'calcium_100g', 'phosphorus_100g', 'iron_100g', 'magnesium_100g', 'zinc_100g',\n",
    "              'copper_100g', 'manganese_100g', 'fluoride_100g', 'selenium_100g', 'chromium_100g', 'molybdenum_100g',\n",
    "              'iodine_100g', 'nutrition-score-fr_100g', 'nutrition-score-uk_100g']"
   ]
  },
  {
   "cell_type": "code",
   "execution_count": 14,
   "metadata": {},
   "outputs": [],
   "source": [
    "france_data = france_data[re_columns]\n",
    "us_data = us_data[re_columns]"
   ]
  },
  {
   "cell_type": "markdown",
   "metadata": {},
   "source": [
    "# Cleaning data\n",
    "### Drop rows which are unusable\n",
    "Rows which only has NaN, and rows which does not have either any of the three food item category columns (`categories_en`, `categories` or `categories_tags`) or the `product name` category are not usable for us as we would not be able to use them in any comparison later on. For this reason we remove them:"
   ]
  },
  {
   "cell_type": "code",
   "execution_count": 15,
   "metadata": {
    "scrolled": true
   },
   "outputs": [],
   "source": [
    "# drop rows with all NaNs.\n",
    "france_data.dropna(how='all', inplace=True)\n",
    "us_data.dropna(how='all', inplace=True)"
   ]
  },
  {
   "cell_type": "code",
   "execution_count": 16,
   "metadata": {},
   "outputs": [],
   "source": [
    "# drop rows if there are NaNs in all of the columns in `cols`\n",
    "cols = ['categories_en', 'categories', 'categories_tags', 'product_name']\n",
    "france_data.dropna(subset=cols, how='all', inplace=True)\n",
    "us_data.dropna(subset=cols, how='all', inplace=True)"
   ]
  },
  {
   "cell_type": "markdown",
   "metadata": {},
   "source": [
    "### Inspection of values"
   ]
  },
  {
   "cell_type": "markdown",
   "metadata": {},
   "source": [
    "We continue the cleaning cleaning by reading calculating number of rows in the two dataframes."
   ]
  },
  {
   "cell_type": "code",
   "execution_count": 17,
   "metadata": {},
   "outputs": [
    {
     "name": "stdout",
     "output_type": "stream",
     "text": [
      "There are 438674 products sold in France\n",
      "There are 174595 products sold in the USA\n"
     ]
    }
   ],
   "source": [
    "# number of products\n",
    "print(\"There are %d products sold in France\" % len(france_data))\n",
    "print(\"There are %d products sold in the USA\" % len(us_data))"
   ]
  },
  {
   "cell_type": "code",
   "execution_count": 18,
   "metadata": {},
   "outputs": [],
   "source": [
    "#us_data.to_csv(data_folder + \"us_data.csv\")\n",
    "#france_data.to_csv(data_folder + \"france_data.csv\")\n",
    "\n",
    "#france_data2 = pd.read_csv(data_folder + 'france_data.csv')\n",
    "#us_data2 = pd.read_csv(data_folder + 'us_data.csv')"
   ]
  },
  {
   "cell_type": "markdown",
   "metadata": {},
   "source": [
    "We will start to look at the data by considering the max and min of each column."
   ]
  },
  {
   "cell_type": "code",
   "execution_count": 19,
   "metadata": {
    "scrolled": true
   },
   "outputs": [
    {
     "data": {
      "text/plain": [
       "serving_quantity                     2601059.00\n",
       "energy_100g                          1841546.00\n",
       "proteins_100g                           4400.00\n",
       "carbohydrates_100g                     72000.00\n",
       "sugars_100g                            68000.00\n",
       "fat_100g                                 915.00\n",
       "saturated-fat_100g                       612.00\n",
       "monounsaturated-fat_100g                  82.00\n",
       "polyunsaturated-fat_100g                  75.00\n",
       "omega-3-fat_100g                         485.00\n",
       "omega-6-fat_100g                          71.00\n",
       "omega-9-fat_100g                          75.00\n",
       "trans-fat_100g                            31.00\n",
       "cholesterol_100g                          28.00\n",
       "fiber_100g                        5570000000.00\n",
       "sodium_100g                              800.00\n",
       "vitamin-a_100g                           800.00\n",
       "vitamin-d_100g                             8.00\n",
       "vitamin-e_100g                            22.90\n",
       "vitamin-k_100g                             0.14\n",
       "vitamin-c_100g                           100.00\n",
       "vitamin-b1_100g                          167.00\n",
       "vitamin-b2_100g                            1.42\n",
       "vitamin-pp_100g                           16.00\n",
       "vitamin-b6_100g                           92.50\n",
       "vitamin-b9_100g                            0.70\n",
       "vitamin-b12_100g                           2.10\n",
       "biotin_100g                                0.01\n",
       "calcium_100g                             760.00\n",
       "phosphorus_100g                          137.00\n",
       "iron_100g                                 25.00\n",
       "magnesium_100g                           657.14\n",
       "zinc_100g                                  5.70\n",
       "copper_100g                               37.60\n",
       "manganese_100g                             4.00\n",
       "fluoride_100g                              0.56\n",
       "selenium_100g                             13.90\n",
       "chromium_100g                              0.00\n",
       "molybdenum_100g                            0.00\n",
       "iodine_100g                               29.00\n",
       "nutrition-score-fr_100g                   40.00\n",
       "nutrition-score-uk_100g                   39.00\n",
       "dtype: float64"
      ]
     },
     "execution_count": 19,
     "metadata": {},
     "output_type": "execute_result"
    }
   ],
   "source": [
    "pd.options.display.float_format = '{:20.2f}'.format\n",
    "\n",
    "# Convert to numeric columns where possible, otherwise ignore errors\n",
    "france_data = france_data.apply(pd.to_numeric, errors='ignore')\n",
    "us_data = us_data.apply(pd.to_numeric, errors='ignore')\n",
    "\n",
    "france_data.max(numeric_only=True)"
   ]
  },
  {
   "cell_type": "markdown",
   "metadata": {},
   "source": [
    "The max is out of range for a lot of the columns with values of a 100g. We will clean these columns by assuming that the values should be in the range 0 to 100."
   ]
  },
  {
   "cell_type": "code",
   "execution_count": 20,
   "metadata": {},
   "outputs": [],
   "source": [
    "def clean_with_range(df, column_names, max_value, min_value):\n",
    "    for column in column_names:\n",
    "        mask_max = df[column] > max_value\n",
    "        mask_min = df[column] < min_value\n",
    "        df.loc[mask_max, column] = np.nan\n",
    "        df.loc[mask_min, column] = np.nan\n",
    "    return df"
   ]
  },
  {
   "cell_type": "code",
   "execution_count": 21,
   "metadata": {},
   "outputs": [],
   "source": [
    "numeric_columns = france_data.select_dtypes(include=[np.number]).columns.tolist()\n",
    "columns_to_clean = [x for x in numeric_columns if x not in ['Unnamed: 0', 'energy_100g']]\n",
    "france_data = clean_with_range(france_data, columns_to_clean, 100, 0)\n",
    "# use same columns for the usa\n",
    "us_data = clean_with_range(us_data, columns_to_clean, 100, 0)"
   ]
  },
  {
   "cell_type": "markdown",
   "metadata": {},
   "source": [
    "Below we can see the cleaned max values."
   ]
  },
  {
   "cell_type": "code",
   "execution_count": 22,
   "metadata": {},
   "outputs": [
    {
     "data": {
      "text/plain": [
       "serving_quantity                         100.00\n",
       "energy_100g                          1841546.00\n",
       "proteins_100g                            100.00\n",
       "carbohydrates_100g                       100.00\n",
       "sugars_100g                              100.00\n",
       "fat_100g                                 100.00\n",
       "saturated-fat_100g                       100.00\n",
       "monounsaturated-fat_100g                  82.00\n",
       "polyunsaturated-fat_100g                  75.00\n",
       "omega-3-fat_100g                          68.00\n",
       "omega-6-fat_100g                          71.00\n",
       "omega-9-fat_100g                          75.00\n",
       "trans-fat_100g                            31.00\n",
       "cholesterol_100g                          28.00\n",
       "fiber_100g                               100.00\n",
       "sodium_100g                               98.43\n",
       "vitamin-a_100g                            73.00\n",
       "vitamin-d_100g                             8.00\n",
       "vitamin-e_100g                            22.90\n",
       "vitamin-k_100g                             0.14\n",
       "vitamin-c_100g                           100.00\n",
       "vitamin-b1_100g                           89.30\n",
       "vitamin-b2_100g                            1.42\n",
       "vitamin-pp_100g                           16.00\n",
       "vitamin-b6_100g                           92.50\n",
       "vitamin-b9_100g                            0.70\n",
       "vitamin-b12_100g                           2.10\n",
       "biotin_100g                                0.01\n",
       "calcium_100g                             100.00\n",
       "phosphorus_100g                           55.00\n",
       "iron_100g                                 25.00\n",
       "magnesium_100g                            89.00\n",
       "zinc_100g                                  5.70\n",
       "copper_100g                               37.60\n",
       "manganese_100g                             4.00\n",
       "fluoride_100g                              0.56\n",
       "selenium_100g                             13.90\n",
       "chromium_100g                              0.00\n",
       "molybdenum_100g                            0.00\n",
       "iodine_100g                               29.00\n",
       "nutrition-score-fr_100g                   40.00\n",
       "nutrition-score-uk_100g                   39.00\n",
       "dtype: float64"
      ]
     },
     "execution_count": 22,
     "metadata": {},
     "output_type": "execute_result"
    }
   ],
   "source": [
    "france_data.max()"
   ]
  },
  {
   "cell_type": "markdown",
   "metadata": {},
   "source": [
    "# Downsampling the France dataset\n",
    "The France dataset contains a considerate amount more entries than the US dataset. Because of this, we downsample the France dataset at this stage so that both datasets have the same number of entries."
   ]
  },
  {
   "cell_type": "code",
   "execution_count": 23,
   "metadata": {},
   "outputs": [
    {
     "name": "stdout",
     "output_type": "stream",
     "text": [
      "Size of France dataset: 438674\n",
      "Size of US dataset: 174595\n"
     ]
    }
   ],
   "source": [
    "print(\"Size of France dataset: \" + str(france_data.shape[0]))\n",
    "print(\"Size of US dataset: \"+ str(us_data.shape[0]))"
   ]
  },
  {
   "cell_type": "code",
   "execution_count": 24,
   "metadata": {},
   "outputs": [
    {
     "name": "stdout",
     "output_type": "stream",
     "text": [
      "Size of France dataset: 174595\n",
      "Size of US dataset: 174595\n"
     ]
    }
   ],
   "source": [
    "france_data = france_data.sample(us_data.shape[0])\n",
    "print(\"Size of France dataset: \" + str(france_data.shape[0]))\n",
    "print(\"Size of US dataset: \"+ str(us_data.shape[0]))"
   ]
  },
  {
   "cell_type": "markdown",
   "metadata": {},
   "source": [
    "# Define categories for comparisons\n",
    "For doing comparisons between the US and France we need to categorize the data into comparable parts. As seen in the data there are already 3 columns containing (possibly overlapping) category information for the food items. These category columns needs to be investigated further, which we do starting with looking at the entries in each category which are most common:"
   ]
  },
  {
   "cell_type": "code",
   "execution_count": 25,
   "metadata": {},
   "outputs": [
    {
     "data": {
      "text/plain": [
       "en:beverages                                  2730\n",
       "en:fats                                        661\n",
       "en:milks                                       269\n",
       "Chocolats noirs                                254\n",
       "Snacks sucrés,Biscuits et gâteaux,Biscuits     147\n",
       "Name: categories, dtype: int64"
      ]
     },
     "execution_count": 25,
     "metadata": {},
     "output_type": "execute_result"
    }
   ],
   "source": [
    "france_data.categories.value_counts().head(5)"
   ]
  },
  {
   "cell_type": "code",
   "execution_count": 26,
   "metadata": {},
   "outputs": [
    {
     "data": {
      "text/plain": [
       "Beverages,Non-Alcoholic beverages           2021\n",
       "Fats                                         712\n",
       "Beverages,Sugared beverages                  645\n",
       "Sugary snacks,Chocolates,Dark chocolates     449\n",
       "Dairies,Milks                                371\n",
       "Name: categories_en, dtype: int64"
      ]
     },
     "execution_count": 26,
     "metadata": {},
     "output_type": "execute_result"
    }
   ],
   "source": [
    "france_data.categories_en.value_counts().head(5)"
   ]
  },
  {
   "cell_type": "code",
   "execution_count": 27,
   "metadata": {},
   "outputs": [
    {
     "data": {
      "text/plain": [
       "en:beverages,en:non-alcoholic-beverages              2021\n",
       "en:fats                                               712\n",
       "en:beverages,en:sugared-beverages                     645\n",
       "en:sugary-snacks,en:chocolates,en:dark-chocolates     449\n",
       "en:dairies,en:milks                                   371\n",
       "Name: categories_tags, dtype: int64"
      ]
     },
     "execution_count": 27,
     "metadata": {},
     "output_type": "execute_result"
    }
   ],
   "source": [
    "france_data.categories_tags.value_counts().head(5)"
   ]
  },
  {
   "cell_type": "markdown",
   "metadata": {},
   "source": [
    "We see that the three columns are very similar, but there are some differences between them. An example is that for the most common entry, the categories `categories_en` and `categories_tags` provide additional information in the form of the tag \"Non-Alcoholic beverages\". On the other hand, the column `categories` provides us with the names of things in French. Having additional information increases the chance that an item is found and correctly identified as being in a certain category.\n",
    "\n",
    "As the two columns `categories_en` and `categories_tags` contain the same information (just in a slightly different format), we can choose to use only one, the `categories_en` column. This gives us two categories to use, `categories` and `categories_en`.\n",
    "\n",
    "It might be a good strategy for us to search through both of the two categories when we want find items for a comparison, for example searching for items with the keywords \"yoghurt\" and \"dairies\", especially since it would not be taking any considerable amount of time to do (the computations are not very heavy)."
   ]
  },
  {
   "cell_type": "markdown",
   "metadata": {},
   "source": [
    "We will also be using the `product_name` column for finding items that match certain categories, as the names can be descriptive and contain strings that are associated with a certain food category. An example of the most common food items in the US can be seen here:"
   ]
  },
  {
   "cell_type": "code",
   "execution_count": 28,
   "metadata": {},
   "outputs": [
    {
     "data": {
      "text/plain": [
       "Ice Cream                 408\n",
       "Extra Virgin Olive Oil    296\n",
       "Potato Chips              281\n",
       "Premium Ice Cream         226\n",
       "Beef Jerky                165\n",
       "Pinto Beans               162\n",
       "Popcorn                   150\n",
       "Salsa                     149\n",
       "Cookies                   144\n",
       "Tomato Sauce              140\n",
       "Name: product_name, dtype: int64"
      ]
     },
     "execution_count": 28,
     "metadata": {},
     "output_type": "execute_result"
    }
   ],
   "source": [
    "us_data.product_name.value_counts().head(10)"
   ]
  },
  {
   "cell_type": "markdown",
   "metadata": {},
   "source": [
    "We define a function which takes a dataframe and a list of strings and returns a dataframe with the rows of that original dataframe in which the string exists in any of the four columns `categories_en`, `categories`, `categories_tags` or `product name`. "
   ]
  },
  {
   "cell_type": "code",
   "execution_count": 29,
   "metadata": {},
   "outputs": [],
   "source": [
    "def relevant_rows(df, tag_list):\n",
    "    import functools\n",
    "    import re\n",
    "    cols = ['categories_en', 'categories', 'product_name']\n",
    "    combinations = [df[col].str.contains(tag, na=False, flags=re.IGNORECASE) for tag in tag_list for col in cols]\n",
    "    mask = functools.reduce(lambda x,y: x | y, combinations)\n",
    "    return df[mask]"
   ]
  },
  {
   "cell_type": "code",
   "execution_count": 30,
   "metadata": {},
   "outputs": [
    {
     "data": {
      "text/html": [
       "<div>\n",
       "<style scoped>\n",
       "    .dataframe tbody tr th:only-of-type {\n",
       "        vertical-align: middle;\n",
       "    }\n",
       "\n",
       "    .dataframe tbody tr th {\n",
       "        vertical-align: top;\n",
       "    }\n",
       "\n",
       "    .dataframe thead th {\n",
       "        text-align: right;\n",
       "    }\n",
       "</style>\n",
       "<table border=\"1\" class=\"dataframe\">\n",
       "  <thead>\n",
       "    <tr style=\"text-align: right;\">\n",
       "      <th></th>\n",
       "      <th>product_name</th>\n",
       "      <th>brands</th>\n",
       "      <th>brands_tags</th>\n",
       "      <th>ingredients_text</th>\n",
       "      <th>serving_size</th>\n",
       "      <th>categories</th>\n",
       "      <th>categories_tags</th>\n",
       "      <th>categories_en</th>\n",
       "      <th>serving_quantity</th>\n",
       "      <th>energy_100g</th>\n",
       "      <th>...</th>\n",
       "      <th>zinc_100g</th>\n",
       "      <th>copper_100g</th>\n",
       "      <th>manganese_100g</th>\n",
       "      <th>fluoride_100g</th>\n",
       "      <th>selenium_100g</th>\n",
       "      <th>chromium_100g</th>\n",
       "      <th>molybdenum_100g</th>\n",
       "      <th>iodine_100g</th>\n",
       "      <th>nutrition-score-fr_100g</th>\n",
       "      <th>nutrition-score-uk_100g</th>\n",
       "    </tr>\n",
       "  </thead>\n",
       "  <tbody>\n",
       "    <tr>\n",
       "      <th>615</th>\n",
       "      <td>Ice Cream, Vanilla</td>\n",
       "      <td>Lactaid</td>\n",
       "      <td>lactaid</td>\n",
       "      <td>Milk, cream, sugar, corn syrup, guar gum, locu...</td>\n",
       "      <td>71 g (0.5 cup)</td>\n",
       "      <td>NaN</td>\n",
       "      <td>NaN</td>\n",
       "      <td>NaN</td>\n",
       "      <td>71.00</td>\n",
       "      <td>883.00</td>\n",
       "      <td>...</td>\n",
       "      <td>nan</td>\n",
       "      <td>nan</td>\n",
       "      <td>nan</td>\n",
       "      <td>nan</td>\n",
       "      <td>nan</td>\n",
       "      <td>nan</td>\n",
       "      <td>nan</td>\n",
       "      <td>nan</td>\n",
       "      <td>nan</td>\n",
       "      <td>nan</td>\n",
       "    </tr>\n",
       "    <tr>\n",
       "      <th>616</th>\n",
       "      <td>Ice Cream, Butter Pecan</td>\n",
       "      <td>Lactaid</td>\n",
       "      <td>lactaid</td>\n",
       "      <td>Milk, cream, sugar, corn syrup, pecans (pecans...</td>\n",
       "      <td>71 g (0.5 cup)</td>\n",
       "      <td>NaN</td>\n",
       "      <td>NaN</td>\n",
       "      <td>NaN</td>\n",
       "      <td>71.00</td>\n",
       "      <td>1000.00</td>\n",
       "      <td>...</td>\n",
       "      <td>nan</td>\n",
       "      <td>nan</td>\n",
       "      <td>nan</td>\n",
       "      <td>nan</td>\n",
       "      <td>nan</td>\n",
       "      <td>nan</td>\n",
       "      <td>nan</td>\n",
       "      <td>nan</td>\n",
       "      <td>nan</td>\n",
       "      <td>nan</td>\n",
       "    </tr>\n",
       "    <tr>\n",
       "      <th>2629</th>\n",
       "      <td>Ice Cream, Vanilla Bean</td>\n",
       "      <td>Private Selection</td>\n",
       "      <td>private-selection</td>\n",
       "      <td>Milk, cream, sugar, corn syrup, whey protein c...</td>\n",
       "      <td>93 g (0.5 cup)</td>\n",
       "      <td>NaN</td>\n",
       "      <td>NaN</td>\n",
       "      <td>NaN</td>\n",
       "      <td>93.00</td>\n",
       "      <td>946.00</td>\n",
       "      <td>...</td>\n",
       "      <td>nan</td>\n",
       "      <td>nan</td>\n",
       "      <td>nan</td>\n",
       "      <td>nan</td>\n",
       "      <td>nan</td>\n",
       "      <td>nan</td>\n",
       "      <td>nan</td>\n",
       "      <td>nan</td>\n",
       "      <td>nan</td>\n",
       "      <td>nan</td>\n",
       "    </tr>\n",
       "    <tr>\n",
       "      <th>2630</th>\n",
       "      <td>Ice Cream, Classic Country Vanilla</td>\n",
       "      <td>Private Selection</td>\n",
       "      <td>private-selection</td>\n",
       "      <td>Milk, cream, sugar, corn syrup, egg yolks, nat...</td>\n",
       "      <td>93 g (0.5 cup)</td>\n",
       "      <td>NaN</td>\n",
       "      <td>NaN</td>\n",
       "      <td>NaN</td>\n",
       "      <td>93.00</td>\n",
       "      <td>946.00</td>\n",
       "      <td>...</td>\n",
       "      <td>nan</td>\n",
       "      <td>nan</td>\n",
       "      <td>nan</td>\n",
       "      <td>nan</td>\n",
       "      <td>nan</td>\n",
       "      <td>nan</td>\n",
       "      <td>nan</td>\n",
       "      <td>nan</td>\n",
       "      <td>nan</td>\n",
       "      <td>nan</td>\n",
       "    </tr>\n",
       "    <tr>\n",
       "      <th>2631</th>\n",
       "      <td>Ice Cream, Denali Extreme Moose Tracks</td>\n",
       "      <td>Private Selection</td>\n",
       "      <td>private-selection</td>\n",
       "      <td>Ice cream - milk, cream, sugar, corn syrup, co...</td>\n",
       "      <td>85 g (0.5 cup)</td>\n",
       "      <td>NaN</td>\n",
       "      <td>NaN</td>\n",
       "      <td>NaN</td>\n",
       "      <td>85.00</td>\n",
       "      <td>1230.00</td>\n",
       "      <td>...</td>\n",
       "      <td>nan</td>\n",
       "      <td>nan</td>\n",
       "      <td>nan</td>\n",
       "      <td>nan</td>\n",
       "      <td>nan</td>\n",
       "      <td>nan</td>\n",
       "      <td>nan</td>\n",
       "      <td>nan</td>\n",
       "      <td>nan</td>\n",
       "      <td>nan</td>\n",
       "    </tr>\n",
       "  </tbody>\n",
       "</table>\n",
       "<p>5 rows × 50 columns</p>\n",
       "</div>"
      ],
      "text/plain": [
       "                                product_name             brands  \\\n",
       "615                       Ice Cream, Vanilla            Lactaid   \n",
       "616                  Ice Cream, Butter Pecan            Lactaid   \n",
       "2629                 Ice Cream, Vanilla Bean  Private Selection   \n",
       "2630      Ice Cream, Classic Country Vanilla  Private Selection   \n",
       "2631  Ice Cream, Denali Extreme Moose Tracks  Private Selection   \n",
       "\n",
       "            brands_tags                                   ingredients_text  \\\n",
       "615             lactaid  Milk, cream, sugar, corn syrup, guar gum, locu...   \n",
       "616             lactaid  Milk, cream, sugar, corn syrup, pecans (pecans...   \n",
       "2629  private-selection  Milk, cream, sugar, corn syrup, whey protein c...   \n",
       "2630  private-selection  Milk, cream, sugar, corn syrup, egg yolks, nat...   \n",
       "2631  private-selection  Ice cream - milk, cream, sugar, corn syrup, co...   \n",
       "\n",
       "        serving_size categories categories_tags categories_en  \\\n",
       "615   71 g (0.5 cup)        NaN             NaN           NaN   \n",
       "616   71 g (0.5 cup)        NaN             NaN           NaN   \n",
       "2629  93 g (0.5 cup)        NaN             NaN           NaN   \n",
       "2630  93 g (0.5 cup)        NaN             NaN           NaN   \n",
       "2631  85 g (0.5 cup)        NaN             NaN           NaN   \n",
       "\n",
       "         serving_quantity          energy_100g           ...             \\\n",
       "615                 71.00               883.00           ...              \n",
       "616                 71.00              1000.00           ...              \n",
       "2629                93.00               946.00           ...              \n",
       "2630                93.00               946.00           ...              \n",
       "2631                85.00              1230.00           ...              \n",
       "\n",
       "                zinc_100g          copper_100g       manganese_100g  \\\n",
       "615                   nan                  nan                  nan   \n",
       "616                   nan                  nan                  nan   \n",
       "2629                  nan                  nan                  nan   \n",
       "2630                  nan                  nan                  nan   \n",
       "2631                  nan                  nan                  nan   \n",
       "\n",
       "            fluoride_100g        selenium_100g        chromium_100g  \\\n",
       "615                   nan                  nan                  nan   \n",
       "616                   nan                  nan                  nan   \n",
       "2629                  nan                  nan                  nan   \n",
       "2630                  nan                  nan                  nan   \n",
       "2631                  nan                  nan                  nan   \n",
       "\n",
       "          molybdenum_100g          iodine_100g  nutrition-score-fr_100g  \\\n",
       "615                   nan                  nan                      nan   \n",
       "616                   nan                  nan                      nan   \n",
       "2629                  nan                  nan                      nan   \n",
       "2630                  nan                  nan                      nan   \n",
       "2631                  nan                  nan                      nan   \n",
       "\n",
       "      nutrition-score-uk_100g  \n",
       "615                       nan  \n",
       "616                       nan  \n",
       "2629                      nan  \n",
       "2630                      nan  \n",
       "2631                      nan  \n",
       "\n",
       "[5 rows x 50 columns]"
      ]
     },
     "execution_count": 30,
     "metadata": {},
     "output_type": "execute_result"
    }
   ],
   "source": [
    "ice_cream = relevant_rows(us_data, ['Ice Cream'])\n",
    "ice_cream.head(5)"
   ]
  },
  {
   "cell_type": "code",
   "execution_count": 31,
   "metadata": {},
   "outputs": [
    {
     "data": {
      "text/plain": [
       "(3131, 50)"
      ]
     },
     "execution_count": 31,
     "metadata": {},
     "output_type": "execute_result"
    }
   ],
   "source": [
    "relevant_rows(us_data, ['Ice Cream']).shape"
   ]
  },
  {
   "cell_type": "markdown",
   "metadata": {},
   "source": [
    "Here we see that the number of items related to the word `Ice Cream` in the data for USA is as many as 3131. As this is more than 6 times more items than what we found for `Ice Cream` in the `product_name` category we can therefore use this data if we want to find the products with the most entries in the database, e.g. the food item type with the most variants."
   ]
  },
  {
   "cell_type": "markdown",
   "metadata": {},
   "source": [
    "This function lets us easily find all of the relevant rows to a category we define by our own. The preliminary categories we will use are “Dairy”, “Snacks”, “Bread and Dry goods”, \"Fats\" and “Meat, Poultry, Fish, Seafood, etc.”"
   ]
  },
  {
   "cell_type": "markdown",
   "metadata": {},
   "source": [
    "We also define a function for omitting rows with cerain words from the columns, including an option to omit rows which have certain ingredients."
   ]
  },
  {
   "cell_type": "code",
   "execution_count": 32,
   "metadata": {},
   "outputs": [],
   "source": [
    "def clean_categories(df, wrong_strings, wrong_ingredients = []):\n",
    "    cols = ['categories_en', 'categories', 'product_name']\n",
    "    combinations = [df[col].str.contains(wrong, na=False, flags=re.IGNORECASE) for wrong in wrong_strings for col in cols]\n",
    "    ingredient_combinations = [df['ingredients_text'].str.contains(wrong, na=False, flags=re.IGNORECASE) for wrong in wrong_ingredients]\n",
    "    mask = functools.reduce(lambda x,y: x | y, combinations + ingredient_combinations)\n",
    "    return df[~mask]"
   ]
  },
  {
   "cell_type": "markdown",
   "metadata": {},
   "source": [
    "# Category example\n",
    "As an example, we now filter the data for food items relating to `fats`, using the functions defined. "
   ]
  },
  {
   "cell_type": "code",
   "execution_count": 33,
   "metadata": {},
   "outputs": [],
   "source": [
    "butter = r'^(?:.*\\s)?butter(?:\\s.*)?$'\n",
    "oil = r'^(?:.*\\s)?oil(?:\\s.*)?$'\n",
    "fat_words = [butter, \"fats\", oil, \"beurre\", \"lätta\", \"milda\", \"margarin\", \"huile\", \"coconut fat\" ]\n",
    "non_fat_words = [\"butter cups\", \"pop corn\", \"chicken\", \"popcorn\", \"potato\", \"toffee\", \"in oil\", \"with olive oil\", \"with oil\", \"protein bar\",\"olive oil &\", \"marinat\", \"in olive oil\", \"bean\", \"snack\", \"ice cream\", \"cheese\", \"fromage\", \"a l'huile\", \"à l'huile\", \"caramel beurre\", \"petits beurre\", \"granola\", \"frits\", \"fried\", \"au beurre\", \"croissant\", \"all butter\", \"yaourt\", \"cookie\", \"chip\", \"sans huile\", \"sandwich\", \"soup\", \"pur beurre\", \"thon\", \"sauce\", \"chocolat\", \"chip\", \"cookie\", \"biscuits\", \"cake\", \"seafood\"]"
   ]
  },
  {
   "cell_type": "markdown",
   "metadata": {},
   "source": [
    "We now filter the france data:"
   ]
  },
  {
   "cell_type": "code",
   "execution_count": 34,
   "metadata": {},
   "outputs": [
    {
     "name": "stdout",
     "output_type": "stream",
     "text": [
      "Fat related items in France before cleaning: 6257\n",
      "Fat related items in France after cleaning: 3215\n"
     ]
    }
   ],
   "source": [
    "france_fats = relevant_rows(france_data, fat_words)\n",
    "print(\"Fat related items in France before cleaning: \" + str(france_fats.shape[0]))\n",
    "\n",
    "france_fats = clean_categories(france_fats, non_fat_words, ['flour'])\n",
    "print(\"Fat related items in France after cleaning: \" + str(france_fats.shape[0]))"
   ]
  },
  {
   "cell_type": "markdown",
   "metadata": {},
   "source": [
    "A peek at the data reveals that we have somewhat succeeded:"
   ]
  },
  {
   "cell_type": "code",
   "execution_count": 35,
   "metadata": {
    "scrolled": true
   },
   "outputs": [
    {
     "data": {
      "text/html": [
       "<div>\n",
       "<style scoped>\n",
       "    .dataframe tbody tr th:only-of-type {\n",
       "        vertical-align: middle;\n",
       "    }\n",
       "\n",
       "    .dataframe tbody tr th {\n",
       "        vertical-align: top;\n",
       "    }\n",
       "\n",
       "    .dataframe thead th {\n",
       "        text-align: right;\n",
       "    }\n",
       "</style>\n",
       "<table border=\"1\" class=\"dataframe\">\n",
       "  <thead>\n",
       "    <tr style=\"text-align: right;\">\n",
       "      <th></th>\n",
       "      <th>product_name</th>\n",
       "      <th>brands</th>\n",
       "      <th>brands_tags</th>\n",
       "      <th>ingredients_text</th>\n",
       "      <th>serving_size</th>\n",
       "      <th>categories</th>\n",
       "      <th>categories_tags</th>\n",
       "      <th>categories_en</th>\n",
       "      <th>serving_quantity</th>\n",
       "      <th>energy_100g</th>\n",
       "      <th>...</th>\n",
       "      <th>zinc_100g</th>\n",
       "      <th>copper_100g</th>\n",
       "      <th>manganese_100g</th>\n",
       "      <th>fluoride_100g</th>\n",
       "      <th>selenium_100g</th>\n",
       "      <th>chromium_100g</th>\n",
       "      <th>molybdenum_100g</th>\n",
       "      <th>iodine_100g</th>\n",
       "      <th>nutrition-score-fr_100g</th>\n",
       "      <th>nutrition-score-uk_100g</th>\n",
       "    </tr>\n",
       "  </thead>\n",
       "  <tbody>\n",
       "    <tr>\n",
       "      <th>399395</th>\n",
       "      <td>Huile d'olive</td>\n",
       "      <td>NaN</td>\n",
       "      <td>NaN</td>\n",
       "      <td>NaN</td>\n",
       "      <td>NaN</td>\n",
       "      <td>NaN</td>\n",
       "      <td>NaN</td>\n",
       "      <td>NaN</td>\n",
       "      <td>0.00</td>\n",
       "      <td>nan</td>\n",
       "      <td>...</td>\n",
       "      <td>nan</td>\n",
       "      <td>nan</td>\n",
       "      <td>nan</td>\n",
       "      <td>nan</td>\n",
       "      <td>nan</td>\n",
       "      <td>nan</td>\n",
       "      <td>nan</td>\n",
       "      <td>nan</td>\n",
       "      <td>nan</td>\n",
       "      <td>nan</td>\n",
       "    </tr>\n",
       "    <tr>\n",
       "      <th>350400</th>\n",
       "      <td>Beurre doux</td>\n",
       "      <td>NaN</td>\n",
       "      <td>NaN</td>\n",
       "      <td>NaN</td>\n",
       "      <td>NaN</td>\n",
       "      <td>NaN</td>\n",
       "      <td>NaN</td>\n",
       "      <td>NaN</td>\n",
       "      <td>0.00</td>\n",
       "      <td>3117.00</td>\n",
       "      <td>...</td>\n",
       "      <td>nan</td>\n",
       "      <td>nan</td>\n",
       "      <td>nan</td>\n",
       "      <td>nan</td>\n",
       "      <td>nan</td>\n",
       "      <td>nan</td>\n",
       "      <td>nan</td>\n",
       "      <td>nan</td>\n",
       "      <td>nan</td>\n",
       "      <td>nan</td>\n",
       "    </tr>\n",
       "    <tr>\n",
       "      <th>558664</th>\n",
       "      <td>Huile D'olive Bio 500ml</td>\n",
       "      <td>Delhaize</td>\n",
       "      <td>delhaize</td>\n",
       "      <td>extra en rijk aan vitamine E et riche en vitam...</td>\n",
       "      <td>10g</td>\n",
       "      <td>NaN</td>\n",
       "      <td>NaN</td>\n",
       "      <td>NaN</td>\n",
       "      <td>10.00</td>\n",
       "      <td>3700.00</td>\n",
       "      <td>...</td>\n",
       "      <td>nan</td>\n",
       "      <td>nan</td>\n",
       "      <td>nan</td>\n",
       "      <td>nan</td>\n",
       "      <td>nan</td>\n",
       "      <td>nan</td>\n",
       "      <td>nan</td>\n",
       "      <td>nan</td>\n",
       "      <td>nan</td>\n",
       "      <td>nan</td>\n",
       "    </tr>\n",
       "    <tr>\n",
       "      <th>324403</th>\n",
       "      <td>Haricots beurre extra fins</td>\n",
       "      <td>NaN</td>\n",
       "      <td>NaN</td>\n",
       "      <td>NaN</td>\n",
       "      <td>NaN</td>\n",
       "      <td>NaN</td>\n",
       "      <td>NaN</td>\n",
       "      <td>NaN</td>\n",
       "      <td>0.00</td>\n",
       "      <td>105.00</td>\n",
       "      <td>...</td>\n",
       "      <td>nan</td>\n",
       "      <td>nan</td>\n",
       "      <td>nan</td>\n",
       "      <td>nan</td>\n",
       "      <td>nan</td>\n",
       "      <td>nan</td>\n",
       "      <td>nan</td>\n",
       "      <td>nan</td>\n",
       "      <td>nan</td>\n",
       "      <td>nan</td>\n",
       "    </tr>\n",
       "    <tr>\n",
       "      <th>540594</th>\n",
       "      <td>Crunchy Peanut Butter</td>\n",
       "      <td>NaN</td>\n",
       "      <td>NaN</td>\n",
       "      <td>NaN</td>\n",
       "      <td>NaN</td>\n",
       "      <td>NaN</td>\n",
       "      <td>NaN</td>\n",
       "      <td>NaN</td>\n",
       "      <td>0.00</td>\n",
       "      <td>2690.00</td>\n",
       "      <td>...</td>\n",
       "      <td>nan</td>\n",
       "      <td>nan</td>\n",
       "      <td>nan</td>\n",
       "      <td>nan</td>\n",
       "      <td>nan</td>\n",
       "      <td>nan</td>\n",
       "      <td>nan</td>\n",
       "      <td>nan</td>\n",
       "      <td>nan</td>\n",
       "      <td>nan</td>\n",
       "    </tr>\n",
       "  </tbody>\n",
       "</table>\n",
       "<p>5 rows × 50 columns</p>\n",
       "</div>"
      ],
      "text/plain": [
       "                      product_name    brands brands_tags  \\\n",
       "399395               Huile d'olive       NaN         NaN   \n",
       "350400                 Beurre doux       NaN         NaN   \n",
       "558664     Huile D'olive Bio 500ml  Delhaize    delhaize   \n",
       "324403  Haricots beurre extra fins       NaN         NaN   \n",
       "540594       Crunchy Peanut Butter       NaN         NaN   \n",
       "\n",
       "                                         ingredients_text serving_size  \\\n",
       "399395                                                NaN          NaN   \n",
       "350400                                                NaN          NaN   \n",
       "558664  extra en rijk aan vitamine E et riche en vitam...          10g   \n",
       "324403                                                NaN          NaN   \n",
       "540594                                                NaN          NaN   \n",
       "\n",
       "       categories categories_tags categories_en     serving_quantity  \\\n",
       "399395        NaN             NaN           NaN                 0.00   \n",
       "350400        NaN             NaN           NaN                 0.00   \n",
       "558664        NaN             NaN           NaN                10.00   \n",
       "324403        NaN             NaN           NaN                 0.00   \n",
       "540594        NaN             NaN           NaN                 0.00   \n",
       "\n",
       "                energy_100g           ...                       zinc_100g  \\\n",
       "399395                  nan           ...                             nan   \n",
       "350400              3117.00           ...                             nan   \n",
       "558664              3700.00           ...                             nan   \n",
       "324403               105.00           ...                             nan   \n",
       "540594              2690.00           ...                             nan   \n",
       "\n",
       "                copper_100g       manganese_100g        fluoride_100g  \\\n",
       "399395                  nan                  nan                  nan   \n",
       "350400                  nan                  nan                  nan   \n",
       "558664                  nan                  nan                  nan   \n",
       "324403                  nan                  nan                  nan   \n",
       "540594                  nan                  nan                  nan   \n",
       "\n",
       "              selenium_100g        chromium_100g      molybdenum_100g  \\\n",
       "399395                  nan                  nan                  nan   \n",
       "350400                  nan                  nan                  nan   \n",
       "558664                  nan                  nan                  nan   \n",
       "324403                  nan                  nan                  nan   \n",
       "540594                  nan                  nan                  nan   \n",
       "\n",
       "                iodine_100g  nutrition-score-fr_100g  nutrition-score-uk_100g  \n",
       "399395                  nan                      nan                      nan  \n",
       "350400                  nan                      nan                      nan  \n",
       "558664                  nan                      nan                      nan  \n",
       "324403                  nan                      nan                      nan  \n",
       "540594                  nan                      nan                      nan  \n",
       "\n",
       "[5 rows x 50 columns]"
      ]
     },
     "execution_count": 35,
     "metadata": {},
     "output_type": "execute_result"
    }
   ],
   "source": [
    "france_fats.head(5)"
   ]
  },
  {
   "cell_type": "markdown",
   "metadata": {},
   "source": [
    "Now the same for the US:"
   ]
  },
  {
   "cell_type": "code",
   "execution_count": 36,
   "metadata": {},
   "outputs": [
    {
     "name": "stdout",
     "output_type": "stream",
     "text": [
      "Fat related items in the US before cleaning: 6373\n",
      "Fat related items in the US after cleaning: 3306\n"
     ]
    }
   ],
   "source": [
    "us_fats = relevant_rows(us_data, fat_words)\n",
    "print(\"Fat related items in the US before cleaning: \" + str(us_fats.shape[0]))\n",
    "\n",
    "us_fats = clean_categories(us_fats, non_fat_words, ['flour'])\n",
    "print(\"Fat related items in the US after cleaning: \" + str(us_fats.shape[0]))"
   ]
  },
  {
   "cell_type": "code",
   "execution_count": 37,
   "metadata": {},
   "outputs": [
    {
     "data": {
      "text/html": [
       "<div>\n",
       "<style scoped>\n",
       "    .dataframe tbody tr th:only-of-type {\n",
       "        vertical-align: middle;\n",
       "    }\n",
       "\n",
       "    .dataframe tbody tr th {\n",
       "        vertical-align: top;\n",
       "    }\n",
       "\n",
       "    .dataframe thead th {\n",
       "        text-align: right;\n",
       "    }\n",
       "</style>\n",
       "<table border=\"1\" class=\"dataframe\">\n",
       "  <thead>\n",
       "    <tr style=\"text-align: right;\">\n",
       "      <th></th>\n",
       "      <th>product_name</th>\n",
       "      <th>brands</th>\n",
       "      <th>brands_tags</th>\n",
       "      <th>ingredients_text</th>\n",
       "      <th>serving_size</th>\n",
       "      <th>categories</th>\n",
       "      <th>categories_tags</th>\n",
       "      <th>categories_en</th>\n",
       "      <th>serving_quantity</th>\n",
       "      <th>energy_100g</th>\n",
       "      <th>...</th>\n",
       "      <th>zinc_100g</th>\n",
       "      <th>copper_100g</th>\n",
       "      <th>manganese_100g</th>\n",
       "      <th>fluoride_100g</th>\n",
       "      <th>selenium_100g</th>\n",
       "      <th>chromium_100g</th>\n",
       "      <th>molybdenum_100g</th>\n",
       "      <th>iodine_100g</th>\n",
       "      <th>nutrition-score-fr_100g</th>\n",
       "      <th>nutrition-score-uk_100g</th>\n",
       "    </tr>\n",
       "  </thead>\n",
       "  <tbody>\n",
       "    <tr>\n",
       "      <th>70</th>\n",
       "      <td>Organic Sunflower Oil</td>\n",
       "      <td>Napa Valley Naturals</td>\n",
       "      <td>napa-valley-naturals</td>\n",
       "      <td>Organic expeller pressed, refined high oleic s...</td>\n",
       "      <td>14 g (1 Tbsp)</td>\n",
       "      <td>NaN</td>\n",
       "      <td>NaN</td>\n",
       "      <td>NaN</td>\n",
       "      <td>14.00</td>\n",
       "      <td>3586.00</td>\n",
       "      <td>...</td>\n",
       "      <td>nan</td>\n",
       "      <td>nan</td>\n",
       "      <td>nan</td>\n",
       "      <td>nan</td>\n",
       "      <td>nan</td>\n",
       "      <td>nan</td>\n",
       "      <td>nan</td>\n",
       "      <td>nan</td>\n",
       "      <td>nan</td>\n",
       "      <td>nan</td>\n",
       "    </tr>\n",
       "    <tr>\n",
       "      <th>166</th>\n",
       "      <td>Organic Canola Oil Refined</td>\n",
       "      <td>Spectrum</td>\n",
       "      <td>spectrum</td>\n",
       "      <td>Organic expeller pressed refined canola oil</td>\n",
       "      <td>14 ml (1 Tbsp)</td>\n",
       "      <td>NaN</td>\n",
       "      <td>NaN</td>\n",
       "      <td>NaN</td>\n",
       "      <td>14.00</td>\n",
       "      <td>3586.00</td>\n",
       "      <td>...</td>\n",
       "      <td>nan</td>\n",
       "      <td>nan</td>\n",
       "      <td>nan</td>\n",
       "      <td>nan</td>\n",
       "      <td>nan</td>\n",
       "      <td>nan</td>\n",
       "      <td>nan</td>\n",
       "      <td>nan</td>\n",
       "      <td>nan</td>\n",
       "      <td>nan</td>\n",
       "    </tr>\n",
       "    <tr>\n",
       "      <th>233</th>\n",
       "      <td>Organic Unrefined Extra Virgin Coconut Oil</td>\n",
       "      <td>Aunt Patty</td>\n",
       "      <td>aunt-patty</td>\n",
       "      <td>Organic unrefined extra virgin coconuts oil</td>\n",
       "      <td>14 g (1 Tbsp)</td>\n",
       "      <td>NaN</td>\n",
       "      <td>NaN</td>\n",
       "      <td>NaN</td>\n",
       "      <td>14.00</td>\n",
       "      <td>3586.00</td>\n",
       "      <td>...</td>\n",
       "      <td>nan</td>\n",
       "      <td>nan</td>\n",
       "      <td>nan</td>\n",
       "      <td>nan</td>\n",
       "      <td>nan</td>\n",
       "      <td>nan</td>\n",
       "      <td>nan</td>\n",
       "      <td>nan</td>\n",
       "      <td>nan</td>\n",
       "      <td>nan</td>\n",
       "    </tr>\n",
       "    <tr>\n",
       "      <th>549</th>\n",
       "      <td>100% Pure Canola Oil</td>\n",
       "      <td>Canola Harvest</td>\n",
       "      <td>canola-harvest</td>\n",
       "      <td>100% canola oil .</td>\n",
       "      <td>14 g (1 Tbsp)</td>\n",
       "      <td>NaN</td>\n",
       "      <td>NaN</td>\n",
       "      <td>NaN</td>\n",
       "      <td>14.00</td>\n",
       "      <td>3586.00</td>\n",
       "      <td>...</td>\n",
       "      <td>nan</td>\n",
       "      <td>nan</td>\n",
       "      <td>nan</td>\n",
       "      <td>nan</td>\n",
       "      <td>nan</td>\n",
       "      <td>nan</td>\n",
       "      <td>nan</td>\n",
       "      <td>nan</td>\n",
       "      <td>nan</td>\n",
       "      <td>nan</td>\n",
       "    </tr>\n",
       "    <tr>\n",
       "      <th>551</th>\n",
       "      <td>Buttery Spread, With Flaxseed Oil</td>\n",
       "      <td>Canola Harvest</td>\n",
       "      <td>canola-harvest</td>\n",
       "      <td>Canola oil, water, palm oil, flax oil, palm ke...</td>\n",
       "      <td>14 g (1 Tbsp)</td>\n",
       "      <td>NaN</td>\n",
       "      <td>NaN</td>\n",
       "      <td>NaN</td>\n",
       "      <td>14.00</td>\n",
       "      <td>2389.00</td>\n",
       "      <td>...</td>\n",
       "      <td>nan</td>\n",
       "      <td>nan</td>\n",
       "      <td>nan</td>\n",
       "      <td>nan</td>\n",
       "      <td>nan</td>\n",
       "      <td>nan</td>\n",
       "      <td>nan</td>\n",
       "      <td>nan</td>\n",
       "      <td>nan</td>\n",
       "      <td>nan</td>\n",
       "    </tr>\n",
       "  </tbody>\n",
       "</table>\n",
       "<p>5 rows × 50 columns</p>\n",
       "</div>"
      ],
      "text/plain": [
       "                                   product_name                brands  \\\n",
       "70                        Organic Sunflower Oil  Napa Valley Naturals   \n",
       "166                  Organic Canola Oil Refined              Spectrum   \n",
       "233  Organic Unrefined Extra Virgin Coconut Oil            Aunt Patty   \n",
       "549                        100% Pure Canola Oil        Canola Harvest   \n",
       "551           Buttery Spread, With Flaxseed Oil        Canola Harvest   \n",
       "\n",
       "              brands_tags                                   ingredients_text  \\\n",
       "70   napa-valley-naturals  Organic expeller pressed, refined high oleic s...   \n",
       "166              spectrum        Organic expeller pressed refined canola oil   \n",
       "233            aunt-patty        Organic unrefined extra virgin coconuts oil   \n",
       "549        canola-harvest                                  100% canola oil .   \n",
       "551        canola-harvest  Canola oil, water, palm oil, flax oil, palm ke...   \n",
       "\n",
       "       serving_size categories categories_tags categories_en  \\\n",
       "70    14 g (1 Tbsp)        NaN             NaN           NaN   \n",
       "166  14 ml (1 Tbsp)        NaN             NaN           NaN   \n",
       "233   14 g (1 Tbsp)        NaN             NaN           NaN   \n",
       "549   14 g (1 Tbsp)        NaN             NaN           NaN   \n",
       "551   14 g (1 Tbsp)        NaN             NaN           NaN   \n",
       "\n",
       "        serving_quantity          energy_100g           ...             \\\n",
       "70                 14.00              3586.00           ...              \n",
       "166                14.00              3586.00           ...              \n",
       "233                14.00              3586.00           ...              \n",
       "549                14.00              3586.00           ...              \n",
       "551                14.00              2389.00           ...              \n",
       "\n",
       "               zinc_100g          copper_100g       manganese_100g  \\\n",
       "70                   nan                  nan                  nan   \n",
       "166                  nan                  nan                  nan   \n",
       "233                  nan                  nan                  nan   \n",
       "549                  nan                  nan                  nan   \n",
       "551                  nan                  nan                  nan   \n",
       "\n",
       "           fluoride_100g        selenium_100g        chromium_100g  \\\n",
       "70                   nan                  nan                  nan   \n",
       "166                  nan                  nan                  nan   \n",
       "233                  nan                  nan                  nan   \n",
       "549                  nan                  nan                  nan   \n",
       "551                  nan                  nan                  nan   \n",
       "\n",
       "         molybdenum_100g          iodine_100g  nutrition-score-fr_100g  \\\n",
       "70                   nan                  nan                      nan   \n",
       "166                  nan                  nan                      nan   \n",
       "233                  nan                  nan                      nan   \n",
       "549                  nan                  nan                      nan   \n",
       "551                  nan                  nan                      nan   \n",
       "\n",
       "     nutrition-score-uk_100g  \n",
       "70                       nan  \n",
       "166                      nan  \n",
       "233                      nan  \n",
       "549                      nan  \n",
       "551                      nan  \n",
       "\n",
       "[5 rows x 50 columns]"
      ]
     },
     "execution_count": 37,
     "metadata": {},
     "output_type": "execute_result"
    }
   ],
   "source": [
    "us_fats.head(5)"
   ]
  },
  {
   "cell_type": "markdown",
   "metadata": {},
   "source": [
    "As can be seen, the number of items in each dataset continues to be similar."
   ]
  },
  {
   "cell_type": "markdown",
   "metadata": {},
   "source": [
    "# Saving data\n",
    "We finish by writing the divided and curated data into two csv-files, one for France and one for the US. This yields two files of the much more managable size of around 100 MB each, compared to the original 1.7 GB."
   ]
  },
  {
   "cell_type": "code",
   "execution_count": 39,
   "metadata": {},
   "outputs": [],
   "source": [
    "france_data = france_data.reset_index(drop=True)\n",
    "us_data = us_data.reset_index(drop=True)\n",
    "us_data.to_csv(data_folder + \"us_data.csv\")\n",
    "france_data.to_csv(data_folder + \"france_data.csv\")"
   ]
  }
 ],
 "metadata": {
  "kernelspec": {
   "display_name": "Python [default]",
   "language": "python",
   "name": "python3"
  },
  "language_info": {
   "codemirror_mode": {
    "name": "ipython",
    "version": 3
   },
   "file_extension": ".py",
   "mimetype": "text/x-python",
   "name": "python",
   "nbconvert_exporter": "python",
   "pygments_lexer": "ipython3",
   "version": "3.6.5"
  }
 },
 "nbformat": 4,
 "nbformat_minor": 2
}
