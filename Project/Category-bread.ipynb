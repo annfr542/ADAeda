{
 "cells": [
  {
   "cell_type": "code",
   "execution_count": 20,
   "metadata": {},
   "outputs": [],
   "source": [
    "import pandas as pd\n",
    "import numpy as np\n",
    "from helpers import select_entries, clean_categories, re_arrange_for_boxplot\n",
    "import matplotlib.pyplot as plt\n",
    "import seaborn as sns\n",
    "import pygal\n",
    "from pygal.style import Style\n",
    "import math"
   ]
  },
  {
   "cell_type": "code",
   "execution_count": 2,
   "metadata": {},
   "outputs": [],
   "source": [
    "data_folder = \"./data/\""
   ]
  },
  {
   "cell_type": "code",
   "execution_count": 3,
   "metadata": {},
   "outputs": [],
   "source": [
    "france = pd.read_csv(data_folder + 'france_data.csv')\n",
    "usa = pd.read_csv(data_folder + 'us_data.csv')"
   ]
  },
  {
   "cell_type": "markdown",
   "metadata": {},
   "source": [
    "# Category: bread"
   ]
  },
  {
   "cell_type": "markdown",
   "metadata": {},
   "source": [
    "### Filtering data"
   ]
  },
  {
   "cell_type": "markdown",
   "metadata": {},
   "source": [
    "Here we find all the data which contain anything that can be considerer bread:"
   ]
  },
  {
   "cell_type": "code",
   "execution_count": 4,
   "metadata": {},
   "outputs": [],
   "source": [
    "bread_words = [\"bread\", \"pain\", \"toast\", \"whole grain\", \"grains entiers\", \"sourdough\", \"levain\", \"brioche\",\n",
    "               \"baguette\", \"ciabatta\", \"focaccia\", \"multigrain\", \"pita\", \"rye\", \"wheat\", \"loaf\", \"crumb\", \n",
    "               \"crouton\", \"pumpernickel\", \"english muffin\", \"walkorn\"]"
   ]
  },
  {
   "cell_type": "code",
   "execution_count": 5,
   "metadata": {},
   "outputs": [],
   "source": [
    "non_bread_words = [\"choco\", \"pour pain\", \"palets\", \"sablé\", \"cookie\", \"shortbread\",\n",
    "                   \"galette\", \"Toastinade\", \"the noir\", \"seafood\", \"nugget\", \"sardines\", \"dairy\", \"dairi\",\n",
    "                   \"pasta\", \"spaghetti\", \"farine de\", \"boissons\", \"Cordon bleu\", \"biscuit\", \"meat\",\n",
    "                   \"chicken\", \"cheese\", \"chip\", \"fromage\", \"beverage\", \"wheat flake\", \"cereal\", \"bread mix\",\n",
    "                   \"lasagn\", \"breading\", \"wheat berries\", \"toaster pastry\", \"toasted\", \"cracker\",\n",
    "                   \"soy nut\", \"pâtes\"]\n",
    "not_allowed_ingredients = [\"pasta\"]"
   ]
  },
  {
   "cell_type": "code",
   "execution_count": 6,
   "metadata": {},
   "outputs": [
    {
     "name": "stdout",
     "output_type": "stream",
     "text": [
      "Bread items in France before cleaning: 6186\n",
      "Bread items in France after cleaning: 3094\n",
      "\n",
      "Bread items in USA before cleaning: 8802\n",
      "Bread items in USA after cleaning: 5404\n"
     ]
    }
   ],
   "source": [
    "breads_france = select_entries(france, bread_words)\n",
    "breads_usa = select_entries(usa, bread_words)\n",
    "\n",
    "breads_france_before = breads_france.shape[0]\n",
    "breads_usa_before = breads_usa.shape[0]\n",
    "\n",
    "breads_france = clean_categories(breads_france, non_bread_words, not_allowed_ingredients)\n",
    "breads_usa = clean_categories(breads_usa, non_bread_words, not_allowed_ingredients)\n",
    "\n",
    "print(\"Bread items in France before cleaning: {}\".format(breads_france_before))\n",
    "print(\"Bread items in France after cleaning: {}\".format(breads_france.shape[0]))\n",
    "print(\"\")\n",
    "print(\"Bread items in USA before cleaning: {}\".format(breads_usa_before))\n",
    "print(\"Bread items in USA after cleaning: {}\".format(breads_usa.shape[0]))"
   ]
  },
  {
   "cell_type": "markdown",
   "metadata": {},
   "source": [
    "Here we see that in our data there is a higher amount of bread-related items in the US compared to France. One reason for this could be that buying bread at a bakery is much more common in France compared to the US, resulting in that the demand for bread as a product in stores is not as high."
   ]
  },
  {
   "cell_type": "markdown",
   "metadata": {},
   "source": [
    "### Plotting distributions of nutrients"
   ]
  },
  {
   "cell_type": "markdown",
   "metadata": {},
   "source": [
    "We start with the amount of sugars in bread."
   ]
  },
  {
   "cell_type": "code",
   "execution_count": 48,
   "metadata": {},
   "outputs": [],
   "source": [
    "france_interesting_cols = breads_france[['sugars_100g', 'fat_100g', 'fiber_100g', 'carbohydrates_100g']].astype(float).replace({0.0:np.nan})\n",
    "usa_interesting_cols = breads_usa[['sugars_100g', 'fat_100g', 'fiber_100g', 'carbohydrates_100g']].astype(float).replace({0.0:np.nan})"
   ]
  },
  {
   "cell_type": "code",
   "execution_count": 49,
   "metadata": {},
   "outputs": [],
   "source": [
    "data_boxplot = re_arrange_for_boxplot(france_interesting_cols,\"France\").append(\n",
    "    re_arrange_for_boxplot(usa_interesting_cols,\"US\"))"
   ]
  },
  {
   "cell_type": "code",
   "execution_count": 50,
   "metadata": {
    "scrolled": false
   },
   "outputs": [
    {
     "data": {
      "text/plain": [
       "<matplotlib.axes._subplots.AxesSubplot at 0x7f2efaafab38>"
      ]
     },
     "execution_count": 50,
     "metadata": {},
     "output_type": "execute_result"
    },
    {
     "data": {
      "image/png": "[encoded data removed]",
      "text/plain": [
       "<Figure size 864x360 with 1 Axes>"
      ]
     },
     "metadata": {},
     "output_type": "display_data"
    }
   ],
   "source": [
    "plt.figure(figsize=(12,5))\n",
    "sns.set(style=\"whitegrid\")\n",
    "sns.boxplot(x=\"X\",y =\"Y\", hue=\"country\", data=data_boxplot, palette=\"Set1\")"
   ]
  },
  {
   "cell_type": "markdown",
   "metadata": {},
   "source": [
    "With the boxplot we observe that the majority of the bread items have around 2-15 grams of sugar per 100g, which makes sense. Based on this plot it seems like the sugar levels are little bit lower for the bread in France compared to in the US, but the variance is bigger in France.\n",
    "\n",
    "Carbohydrates are in general higher per 100g in the US."
   ]
  },
  {
   "cell_type": "code",
   "execution_count": 17,
   "metadata": {},
   "outputs": [],
   "source": [
    "custom_style_france_first = Style(\n",
    "    background='transparent',\n",
    "    plot_background='#FFFFFF',\n",
    "    font_family='googlefont:Muli',\n",
    "    title_font_size=14,\n",
    "    opacity='.7',\n",
    "    opacity_hover='.95',\n",
    "    transition='400ms ease-in',\n",
    "    colors=('#002395', '#B22234')\n",
    ")"
   ]
  },
  {
   "cell_type": "code",
   "execution_count": 24,
   "metadata": {},
   "outputs": [],
   "source": [
    "box_chart = pygal.Box(box_mode=\"tukey\", style=custom_style_france_first)\n",
    "box_chart.title = 'Carbohydrates per 100g'\n",
    "\n",
    "box_chart.add('France', breads_france['carbohydrates_100g'].dropna())\n",
    "# Transform into log(x + 1) to be able to plot logarithmic scale with the zero values\n",
    "box_chart.add('US', breads_usa['carbohydrates_100g'].dropna())\n",
    "#box_chart.y_labels = np.log((np.array([0, 1, 5, 10, 50, 100]) + 1)).tolist()\n",
    "# Transform the y-axis to exp(y) - 1 to match the x-axis\n",
    "#box_chart.value_formatter = lambda y: \"{:10.2f}\".format(math.exp(float(y)) - 1)\n",
    "box_chart.render_to_file('breads_carbs.svg')"
   ]
  },
  {
   "cell_type": "code",
   "execution_count": 25,
   "metadata": {},
   "outputs": [],
   "source": [
    "box_chart = pygal.Box(box_mode=\"tukey\", style=custom_style_france_first)\n",
    "box_chart.title = 'Fiber per 100g'\n",
    "\n",
    "box_chart.add('France', breads_france['fiber_100g'].dropna())\n",
    "# Transform into log(x + 1) to be able to plot logarithmic scale with the zero values\n",
    "box_chart.add('US', breads_usa['fiber_100g'].dropna())\n",
    "#box_chart.y_labels = np.log((np.array([0, 1, 5, 10, 50, 100]) + 1)).tolist()\n",
    "# Transform the y-axis to exp(y) - 1 to match the x-axis\n",
    "#box_chart.value_formatter = lambda y: \"{:10.2f}\".format(math.exp(float(y)) - 1)\n",
    "box_chart.render_to_file('breads_fiber.svg')"
   ]
  }
 ],
 "metadata": {
  "kernelspec": {
   "display_name": "Python [conda env:anaconda3]",
   "language": "python",
   "name": "conda-env-anaconda3-py"
  },
  "language_info": {
   "codemirror_mode": {
    "name": "ipython",
    "version": 3
   },
   "file_extension": ".py",
   "mimetype": "text/x-python",
   "name": "python",
   "nbconvert_exporter": "python",
   "pygments_lexer": "ipython3",
   "version": "3.6.5"
  }
 },
 "nbformat": 4,
 "nbformat_minor": 2
}
