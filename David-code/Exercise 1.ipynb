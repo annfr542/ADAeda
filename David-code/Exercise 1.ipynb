{
 "cells": [
  {
   "cell_type": "markdown",
   "metadata": {},
   "source": [
    "# Exercise 1\n",
    " <p><div class=\"lev1\"><a href=\"#Task-A.-Another-LEGO-brick-in-the-wall\"><span class=\"toc-item-num\">Task A.&nbsp;&nbsp;</span>Another LEGO brick in the wall</a></div>\n",
    " <p><div class=\"lev1\"><a href=\"#Task-B.-Drop-the-Bike\"><span class=\"toc-item-num\">Task B.&nbsp;&nbsp;</span>Drop the Bike</a></div>"
   ]
  },
  {
   "cell_type": "code",
   "execution_count": 8,
   "metadata": {},
   "outputs": [],
   "source": [
    "# Add your imports here\n",
    "# Importing pandas and numpy\n",
    "import pandas as pd\n",
    "import numpy as np\n",
    "import re\n",
    "import matplotlib.pyplot as plt"
   ]
  },
  {
   "cell_type": "code",
   "execution_count": 9,
   "metadata": {},
   "outputs": [],
   "source": [
    "DATA_FOLDER = 'data'"
   ]
  },
  {
   "cell_type": "markdown",
   "metadata": {},
   "source": [
    "## Task A. Another LEGO brick in the wall\n",
    "\n",
    "LEGO is a popular brand of toy building bricks. They are often sold in sets in order to build a specific object. Each set contains a number of parts in different shapes, sizes and colors. This database contains information on which parts are included in different LEGO sets. It was originally compiled to help people who owned some LEGO sets already figure out what other sets they could build with the pieces they had.\n",
    "\n",
    "This dataset contains the official LEGO colors, parts, inventories (i.e., sets of LEGO parts which assembled create an object in the LEGO world) and sets (i.e., sets of LEGO inventories which assembled create a LEGO ecosystem). The schema of the dataset can be shown in the following UML diagram: \n",
    "\n",
    "![lego-schema](lego-schema.png)\n",
    "\n",
    "In this task you have to apply the following Data Wrangling pipeline:\n",
    "1. Load your data into `Pandas`\n",
    "* Explore it and clean its dirty parts\n",
    "* Use it to answer a set of queries\n",
    "\n",
    "Each of these subtasks are described in detail below."
   ]
  },
  {
   "cell_type": "markdown",
   "metadata": {},
   "source": [
    "### A1. Loading phase\n",
    "Load all the csv files into different `DataFrames`. Use meaningful names for your `DataFrames` (e.g., the respective filenames).\n",
    "\n",
    "*Hint: You can load files without first unzipping them (for `Pandas` version >= 0.18.1).*"
   ]
  },
  {
   "cell_type": "code",
   "execution_count": 4,
   "metadata": {},
   "outputs": [],
   "source": [
    "LEGO_DATA_FOLDER = DATA_FOLDER + '/lego'"
   ]
  },
  {
   "cell_type": "code",
   "execution_count": 5,
   "metadata": {},
   "outputs": [],
   "source": [
    "# Write your code here\n",
    "colors = pd.read_csv(LEGO_DATA_FOLDER + \"/colors.csv.zip\")\n",
    "inventories = pd.read_csv(LEGO_DATA_FOLDER + \"/inventories.csv.zip\")\n",
    "inventory_parts = pd.read_csv(LEGO_DATA_FOLDER + \"/inventory_parts.csv.zip\")\n",
    "inventory_sets = pd.read_csv(LEGO_DATA_FOLDER + \"/inventory_sets.csv.zip\")\n",
    "part_categories = pd.read_csv(LEGO_DATA_FOLDER + \"/part_categories.csv.zip\")\n",
    "parts = pd.read_csv(LEGO_DATA_FOLDER + \"/parts.csv.zip\")\n",
    "sets = pd.read_csv(LEGO_DATA_FOLDER + \"/sets.csv.zip\")\n",
    "themes = pd.read_csv(LEGO_DATA_FOLDER + \"/themes.csv.zip\")"
   ]
  },
  {
   "cell_type": "code",
   "execution_count": 6,
   "metadata": {},
   "outputs": [
    {
     "data": {
      "text/plain": [
       "(432, 6)"
      ]
     },
     "execution_count": 6,
     "metadata": {},
     "output_type": "execute_result"
    }
   ],
   "source": [
    "df = inventory_parts.set_index('inventory_id').join(inventory_sets.set_index(\"inventory_id\"), how=\"inner\", on=\"inventory_id\", lsuffix=\"_inventories\", rsuffix=\"_parts\")\n",
    "df.shape"
   ]
  },
  {
   "cell_type": "markdown",
   "metadata": {},
   "source": [
    "### A2. Cleaning phase\n",
    "Explore the following columns from your dataset:\n",
    "\n",
    "1. sets: year\n",
    "* inventory_parts: quantity\n",
    "\n",
    "What is the time range of the sets? \n",
    "What is the average quantity of the inventory parts? \n",
    "Do you see any inconsistencies? \n",
    "Provide code that detects and cleans such inconsistencies and validates the coherence of your dataset. "
   ]
  },
  {
   "cell_type": "code",
   "execution_count": 7,
   "metadata": {},
   "outputs": [],
   "source": [
    "def cleanCheck(data):\n",
    "    # Check whether any set has an undefined year\n",
    "    is_nan = data.isna().sum() \n",
    "\n",
    "    # Take out the data that is incorrect\n",
    "    is_bad = data.apply(lambda x: len(x) != 4).sum()\n",
    "    \n",
    "    print(is_nan)\n",
    "    print(is_bad)\n",
    "    \n",
    "    "
   ]
  },
  {
   "cell_type": "code",
   "execution_count": 8,
   "metadata": {},
   "outputs": [
    {
     "name": "stdout",
     "output_type": "stream",
     "text": [
      "3085\n",
      "0\n",
      "0\n"
     ]
    }
   ],
   "source": [
    "# Write your code here\n",
    "\n",
    "# Cleaning sets.year \n",
    "\n",
    "# Count number of inconsistencies in the set\n",
    "sets_bad = sets[sets['year'].apply(lambda x: len(x) != 4)]\n",
    "print(sets_bad.year.count())\n",
    "\n",
    "# Make all negative years positive\n",
    "sets['year'] = sets['year'].apply(lambda x: x[1:] if x[0] == \"-\" else x)\n",
    "\n",
    "# Delete last number in years with 5 digits\n",
    "sets['year'] = sets['year'].apply(lambda x: x[:-1] if len(x) == 5 else x)\n",
    "\n",
    "# Change 70s to nan\n",
    "sets['year'] = sets['year'].apply(lambda x: np.nan if len(x) == 3 else x)\n",
    "\n",
    "clean_sets = sets.dropna(axis = 0, subset=['year'])\n",
    "cleanCheck(clean_sets.year)\n",
    "\n",
    "\n"
   ]
  },
  {
   "cell_type": "code",
   "execution_count": 10,
   "metadata": {},
   "outputs": [
    {
     "data": {
      "text/plain": [
       "1        1978\n",
       "2        1987\n",
       "3        1979\n",
       "4        1979\n",
       "5        1979\n",
       "6        1979\n",
       "7        1978\n",
       "8        1976\n",
       "9        1976\n",
       "10       1976\n",
       "11       1965\n",
       "12       1985\n",
       "13       1976\n",
       "14       1965\n",
       "15       1968\n",
       "16       1968\n",
       "17       1968\n",
       "18       1999\n",
       "19       1968\n",
       "20       1968\n",
       "21       1968\n",
       "22       1968\n",
       "23       1967\n",
       "24       1969\n",
       "25       2001\n",
       "26       2001\n",
       "27       2001\n",
       "28       2001\n",
       "29       2001\n",
       "30       2001\n",
       "         ... \n",
       "11643    2014\n",
       "11644    1991\n",
       "11645    2012\n",
       "11646    2012\n",
       "11647    2013\n",
       "11648    1995\n",
       "11649    2003\n",
       "11650    2000\n",
       "11651    2000\n",
       "11652    1995\n",
       "11653    1998\n",
       "11654    2000\n",
       "11655    1985\n",
       "11656    2001\n",
       "11657    2000\n",
       "11658    2000\n",
       "11659    1997\n",
       "11660    2006\n",
       "11661    1997\n",
       "11662    2000\n",
       "11663    2003\n",
       "11664    1959\n",
       "11665    2006\n",
       "11666    2009\n",
       "11667    2013\n",
       "11668    2012\n",
       "11669    2015\n",
       "11670    2010\n",
       "11671    2013\n",
       "11672    1996\n",
       "Name: year, Length: 11559, dtype: object"
      ]
     },
     "execution_count": 10,
     "metadata": {},
     "output_type": "execute_result"
    }
   ],
   "source": [
    "clean_sets['year'].replace(pd.to_datetime(clean_sets.year).dt.year)\n"
   ]
  },
  {
   "cell_type": "code",
   "execution_count": 11,
   "metadata": {},
   "outputs": [
    {
     "name": "stdout",
     "output_type": "stream",
     "text": [
      "The time range is 67 years, between 1950 and 2017.\n"
     ]
    }
   ],
   "source": [
    "# Calculate time range\n",
    "start_year = clean_sets.year.min()\n",
    "end_year = clean_sets.year.max()\n",
    "time_range = int(clean_sets.year.max()) - int(clean_sets.year.min())\n",
    "print('The time range is ' + str(time_range) + \" years, between \" + str(start_year) + \" and \" + str(end_year) + \".\")"
   ]
  },
  {
   "cell_type": "code",
   "execution_count": 12,
   "metadata": {},
   "outputs": [
    {
     "name": "stdout",
     "output_type": "stream",
     "text": [
      "0\n",
      "161796\n",
      "1605586.0\n",
      "% of zero values: 0.10077068434826911\n",
      "2.7670542575540584\n"
     ]
    }
   ],
   "source": [
    "# Cleaning inventory_parts.quantity\n",
    "\n",
    "# Check whether any i_p has an undefined quntity\n",
    "print(inventory_parts.quantity.isna().sum())\n",
    "\n",
    "# Replace all infinite values with 0 to simplify counting them\n",
    "inventory_parts.quantity = inventory_parts.quantity.replace([np.inf, -np.inf], 0.0)\n",
    "\n",
    "# Count amount of values equaling zero\n",
    "quantity_zero = (inventory_parts['quantity'] < 1).sum()\n",
    "print(quantity_zero)\n",
    "print(inventory_parts.quantity.sum())\n",
    "\n",
    "# Calculate % of values equaling zero\n",
    "print(\"% of zero values: \" + str(quantity_zero/inventory_parts.quantity.sum()))\n",
    "\n",
    "print(inventory_parts.quantity.mean())"
   ]
  },
  {
   "cell_type": "markdown",
   "metadata": {},
   "source": [
    "__\\* Briefly explain your approach here \\*__\n",
    "\n",
    "#### Cleaning sets by the column year\n",
    "1. First check whether all years are defined\n",
    "2. Print years to see examples of inconsistencies in the data. Examples of inconsistencies are negative years, years with five digits and years written as decade+\"s\"(70s, 80s, etc).\n",
    "3. Cleaning:\n",
    "    1. First, all negative years are turned positive.\n",
    "    2. Secondly, all years with 5 digits are turned into 4 digit numbers. We assume that the last digit has been repeated and therefore remove it. For example, 20011 is turned into 2001.\n",
    "    3. Lastly we omit all rows where the year is written as decade+\"s\", as there is no way of knowing in which year of the decade the set is from.\n",
    "    \n",
    "#### Cleaning inventory_parts by the column quantity\n",
    "1. First check whether quantity is defined for each row\n",
    "2. Print quantity to see examples of inconsistencies in the data. An example of an inconsistency is that some of the quantities are written as \"-inf\".\n",
    "3. Cleaning:\n",
    "    1. Set all quantities with the value \"-inf\" to 0.0 instead, as 0.0 is not used in the rest of the array. This way the data will remain but functions such as count, sum etc. can be applied to the column.\n"
   ]
  },
  {
   "cell_type": "markdown",
   "metadata": {},
   "source": [
    "### A3. Querying phase\n",
    "Answer the following queries using the functionality of `Pandas`:\n",
    "\n",
    "1. List the ids of the inventories that belong to sets that contain cars. (*Hint: Find a smart way to distinguish which sets contain cars based on the sets' name*).\n",
    "* Plot the distribution of part categories as a (horizontal) bar chart. Restrict yourself to the 20 largest part categories (in terms of the number of parts belonging to the category).\n",
    "* Find the dominant color of each set. Then, plot using a (horizontal) bar chart, the number of sets per dominant color. Color each bar with the respective color that it represents.\n",
    "* Create a scatter plot of the *luminance*\\* of the sets vs their publishing year. What do you observe for the years 1980-1981? How do you interpret what you see?\n",
    "\n",
    "\\*The luminance of a color is a [measure of brightness](https://en.wikipedia.org/wiki/Luminance) which, given its RGB representation, can be computed as follows:\n",
    "\n",
    "$luminance = \\sqrt{0.299*R^2 + 0.587*G^2 + 0.114*B^2}$"
   ]
  },
  {
   "cell_type": "code",
   "execution_count": 13,
   "metadata": {},
   "outputs": [
    {
     "data": {
      "text/plain": [
       "0     13941\n",
       "1     10158\n",
       "2     13083\n",
       "5      5358\n",
       "6     13380\n",
       "7      8202\n",
       "8     16131\n",
       "9      1716\n",
       "11    10406\n",
       "12    14174\n",
       "13     7430\n",
       "14    14711\n",
       "16    12851\n",
       "18    10515\n",
       "19    14919\n",
       "20     2814\n",
       "21    15010\n",
       "22     5904\n",
       "23     7151\n",
       "24    11966\n",
       "26     8140\n",
       "27     6066\n",
       "28     1649\n",
       "29     6530\n",
       "30    14011\n",
       "31     2917\n",
       "32     6086\n",
       "34     1371\n",
       "35    13427\n",
       "37      528\n",
       "38    14493\n",
       "39      908\n",
       "41     2559\n",
       "42     6296\n",
       "43    10028\n",
       "44    12110\n",
       "45     1401\n",
       "46     1418\n",
       "47     1732\n",
       "48     3109\n",
       "49     3764\n",
       "50     4430\n",
       "51     4969\n",
       "52     5857\n",
       "54    11861\n",
       "55    13696\n",
       "56    15694\n",
       "57     7363\n",
       "58     4051\n",
       "59     8820\n",
       "62     7881\n",
       "64     4187\n",
       "65    13355\n",
       "66    13398\n",
       "67     8348\n",
       "69     9426\n",
       "70    12437\n",
       "71      500\n",
       "Name: inventory_id, dtype: int64"
      ]
     },
     "execution_count": 13,
     "metadata": {},
     "output_type": "execute_result"
    }
   ],
   "source": [
    "# Task 1\n",
    "# Get sets with \"car\\s\" in the name:\n",
    "set_with_cars = sets[sets.name.str.contains(r'^(?:.*\\s)?cars?(?:\\s.*)?$', flags=re.IGNORECASE)].set_index('id')\n",
    "\n",
    "# Merge these sets with the inventory sets that has the same set_id:\n",
    "inventory_cars = pd.merge(set_with_cars, inventory_sets, left_on='id', right_on='set_id')\n",
    "\n",
    "# Pick out the inventory id's (dropping duplicates):\n",
    "inventory_cars.drop_duplicates('inventory_id').inventory_id\n"
   ]
  },
  {
   "cell_type": "code",
   "execution_count": 14,
   "metadata": {},
   "outputs": [
    {
     "data": {
      "text/plain": [
       "Text(0.5,1,'Distribution of parts')"
      ]
     },
     "execution_count": 14,
     "metadata": {},
     "output_type": "execute_result"
    },
    {
     "data": {
      "image/png": "[encoded data removed]",
      "text/plain": [
       "<Figure size 720x504 with 1 Axes>"
      ]
     },
     "metadata": {},
     "output_type": "display_data"
    }
   ],
   "source": [
    "# Task 2 \n",
    "# Plot the distribution of part categories as a (horizontal) bar chart. \n",
    "# Restrict yourself to the 20 largest part categories (in terms of the number of parts belonging to the category).\n",
    "\n",
    "# Count most used parts \n",
    "most_used_parts = parts.part_cat_id.value_counts().head(20)\n",
    "\n",
    "# Join the most used parts with the part categories to get access to the part category names:\n",
    "names = most_used_parts.to_frame().join(part_categories.set_index('id')).name.values\n",
    "\n",
    "# Plotting\n",
    "y_pos = np.arange(len(names))\n",
    "how_many = most_used_parts.values\n",
    "\n",
    "plt.rcParams[\"figure.figsize\"] = [10, 7]\n",
    "plt.barh(y_pos, how_many, align='center', alpha=0.5)\n",
    "plt.yticks(y_pos, names)\n",
    "plt.xlabel('Number of parts in category')\n",
    "plt.title('Distribution of parts')"
   ]
  },
  {
   "cell_type": "code",
   "execution_count": 140,
   "metadata": {},
   "outputs": [
    {
     "name": "stdout",
     "output_type": "stream",
     "text": [
      "(3089, 7)\n",
      "False\n"
     ]
    }
   ],
   "source": [
    "# Task 3\n",
    "# Merge inventory_sets and inventory_parts on inventory_id\n",
    "# Making sure that the quantity columns are correctly labeled (in inventory_sets the \n",
    "# quantity denotes #inventories, in inventory_parts the quantity denotes #parts)\n",
    "df = inventory_sets.join(inventory_parts.set_index(\"inventory_id\"), how=\"left\", on=\"inventory_id\", lsuffix=\"_inventories\", rsuffix=\"_parts\")\n",
    "print(df.shape)\n",
    "# Remove rows in which the number of parts are 0. (There are never any rows in which the quantity_inventories are 0)\n",
    "df = df[df['quantity_parts'] != 0]\n",
    "\n",
    "# Create a new column with the total quantity of parts by multiplying the quantity of inventories and the quantity\n",
    "# of parts for a set\n",
    "# The total quantity means the number of colors for a set.\n",
    "df['total_quantity'] = df.quantity_inventories * df.quantity_parts\n",
    "print(df.set_index(['set_id', 'color_id']).index.is_unique)\n",
    "\n",
    "# sort by total quantity and remove the rows where there is a set with fewer colors (keeping the colors with \n",
    "# the highest count)\n",
    "df = df.sort_values('total_quantity', ascending=False).drop_duplicates(['set_id'])\n",
    "\n",
    "color_distribution = df.color_id.value_counts().to_frame(name = 'freq')\n",
    "\n",
    "# join with colors to get the rgb values\n",
    "color_distribution = colors.loc[:,['id','rgb', 'name']].set_index('id').join(color_distribution).dropna()\n",
    "\n",
    "# sort cells by freq \n",
    "color_distribution = color_distribution.sort_values('freq')"
   ]
  },
  {
   "cell_type": "code",
   "execution_count": 44,
   "metadata": {},
   "outputs": [
    {
     "data": {
      "image/png": "[encoded data removed]",
      "text/plain": [
       "<Figure size 1080x720 with 1 Axes>"
      ]
     },
     "metadata": {},
     "output_type": "display_data"
    }
   ],
   "source": [
    "# plot\n",
    "y = color_distribution.name\n",
    "y_pos = np.arange(len(y))\n",
    "x = color_distribution.freq\n",
    "\n",
    "plt.rcParams[\"figure.figsize\"] = [15, 10]\n",
    "# Use the rgb value to pick the colors for the bars\n",
    "plt.barh(y_pos, x, align='center', alpha=0.5, color = '#' + color_distribution.rgb)\n",
    "plt.yticks(y_pos, y)\n",
    "plt.title('Distribution of dominant colors in sets')\n",
    "\n",
    "plt.show()"
   ]
  },
  {
   "cell_type": "code",
   "execution_count": 82,
   "metadata": {},
   "outputs": [
    {
     "data": {
      "text/plain": [
       "<matplotlib.axes._subplots.AxesSubplot at 0x7fc244f895f8>"
      ]
     },
     "execution_count": 82,
     "metadata": {},
     "output_type": "execute_result"
    },
    {
     "data": {
      "image/png": "[encoded data removed]",
      "text/plain": [
       "<Figure size 1080x720 with 1 Axes>"
      ]
     },
     "metadata": {},
     "output_type": "display_data"
    }
   ],
   "source": [
    "# Part 4 Create a scatter plot of the luminance* of the sets vs their publishing year. \n",
    "# What do you observe for the years 1980-1981? How do you interpret what you see?\n",
    "\n",
    "# Join with colors to get the rgb values for each set\n",
    "lum_df = colors.loc[:,['id','rgb', 'name']].set_index('id').join(df.set_index('color_id')).dropna()\n",
    "\n",
    "# Join with clean sets to get the years\n",
    "lum_df = lum_df.set_index('set_id').join(clean_sets.set_index('id'), lsuffix='_color', rsuffix='_set')\n",
    "lum_df = lum_df.loc[:, ['rgb', 'year']]\n",
    "\n",
    "\n",
    "from math import sqrt\n",
    "def rgb_to_lum(x):\n",
    "    R, G, B = (int(x[i:i+2], 16) for i in (0, 2, 4))\n",
    "    return sqrt(0.299*(R**2) + 0.587*(G**2) + 0.114*(B**2))\n",
    "\n",
    "# calculate the luminance based on the rgb-values\n",
    "lum_df['luminance'] = lum_df['rgb'].apply(rgb_to_lum)\n",
    "\n",
    "# Drop the years in which we have NaNs\n",
    "lum_df = lum_df.dropna(subset=['year'])\n",
    "\n",
    "# Convert the years from dftype object\n",
    "lum_df['year'] = lum_df['year'].astype(str).astype(int)\n",
    "\n",
    "lum_df.plot.scatter(x='year', y='luminance')"
   ]
  },
  {
   "cell_type": "code",
   "execution_count": 27,
   "metadata": {},
   "outputs": [
    {
     "ename": "NameError",
     "evalue": "name 'sets_dominant_color' is not defined",
     "output_type": "error",
     "traceback": [
      "\u001b[0;31m---------------------------------------------------------------------------\u001b[0m",
      "\u001b[0;31mNameError\u001b[0m                                 Traceback (most recent call last)",
      "\u001b[0;32m<ipython-input-27-38cb3b1a804e>\u001b[0m in \u001b[0;36m<module>\u001b[0;34m()\u001b[0m\n\u001b[0;32m----> 1\u001b[0;31m \u001b[0mall_data\u001b[0m \u001b[0;34m=\u001b[0m \u001b[0mpd\u001b[0m\u001b[0;34m.\u001b[0m\u001b[0mmerge\u001b[0m\u001b[0;34m(\u001b[0m\u001b[0mclean_sets\u001b[0m\u001b[0;34m,\u001b[0m \u001b[0msets_dominant_color\u001b[0m\u001b[0;34m,\u001b[0m \u001b[0mhow\u001b[0m\u001b[0;34m=\u001b[0m\u001b[0;34m'left'\u001b[0m\u001b[0;34m,\u001b[0m \u001b[0mleft_on\u001b[0m\u001b[0;34m=\u001b[0m\u001b[0;34m[\u001b[0m\u001b[0;34m'id'\u001b[0m\u001b[0;34m]\u001b[0m\u001b[0;34m,\u001b[0m \u001b[0mright_on\u001b[0m\u001b[0;34m=\u001b[0m\u001b[0;34m[\u001b[0m\u001b[0;34m'set_id'\u001b[0m\u001b[0;34m]\u001b[0m\u001b[0;34m)\u001b[0m\u001b[0;34m.\u001b[0m\u001b[0mdropna\u001b[0m\u001b[0;34m(\u001b[0m\u001b[0;34m)\u001b[0m\u001b[0;34m.\u001b[0m\u001b[0mloc\u001b[0m\u001b[0;34m[\u001b[0m\u001b[0;34m:\u001b[0m\u001b[0;34m,\u001b[0m\u001b[0;34m[\u001b[0m\u001b[0;34m'year'\u001b[0m\u001b[0;34m,\u001b[0m\u001b[0;34m'color_id'\u001b[0m\u001b[0;34m]\u001b[0m\u001b[0;34m]\u001b[0m\u001b[0;34m\u001b[0m\u001b[0m\n\u001b[0m\u001b[1;32m      2\u001b[0m \u001b[0;34m\u001b[0m\u001b[0m\n\u001b[1;32m      3\u001b[0m \u001b[0myear_color\u001b[0m \u001b[0;34m=\u001b[0m \u001b[0mcolors\u001b[0m\u001b[0;34m.\u001b[0m\u001b[0mloc\u001b[0m\u001b[0;34m[\u001b[0m\u001b[0;34m:\u001b[0m\u001b[0;34m,\u001b[0m\u001b[0;34m[\u001b[0m\u001b[0;34m'id'\u001b[0m\u001b[0;34m,\u001b[0m\u001b[0;34m'rgb'\u001b[0m\u001b[0;34m]\u001b[0m\u001b[0;34m]\u001b[0m\u001b[0;34m.\u001b[0m\u001b[0mset_index\u001b[0m\u001b[0;34m(\u001b[0m\u001b[0;34m'id'\u001b[0m\u001b[0;34m)\u001b[0m\u001b[0;34m.\u001b[0m\u001b[0mjoin\u001b[0m\u001b[0;34m(\u001b[0m\u001b[0mall_data\u001b[0m\u001b[0;34m)\u001b[0m\u001b[0;34m.\u001b[0m\u001b[0mdropna\u001b[0m\u001b[0;34m(\u001b[0m\u001b[0;34m)\u001b[0m\u001b[0;34m\u001b[0m\u001b[0m\n",
      "\u001b[0;31mNameError\u001b[0m: name 'sets_dominant_color' is not defined"
     ]
    }
   ],
   "source": [
    "all_data = pd.merge(clean_sets, sets_dominant_color, how='left', left_on=['id'], right_on=['set_id']).dropna().loc[:,['year','color_id']]\n",
    "\n",
    "year_color = colors.loc[:,['id','rgb']].set_index('id').join(all_data).dropna()\n",
    "\n"
   ]
  },
  {
   "cell_type": "markdown",
   "metadata": {},
   "source": [
    "__\\* Briefly explain your approach for every query here \\*__"
   ]
  },
  {
   "cell_type": "markdown",
   "metadata": {},
   "source": [
    "## Task B. Drop the bike\n",
    "\n",
    "*Los Angeles Metro* has been sharing publicly [anonymized *Metro Bike Share* trip data](https://bikeshare.metro.net/about/data/) under the [Open Database License (ODbL)](http://opendatacommons.org/licenses/odbl/1.0/).\n",
    "\n",
    "In this task you will again perform data wrangling and interpretation."
   ]
  },
  {
   "cell_type": "markdown",
   "metadata": {},
   "source": [
    "### B1. Loading phase\n",
    "Load the json file into a `DataFrame`.\n"
   ]
  },
  {
   "cell_type": "code",
   "execution_count": 10,
   "metadata": {},
   "outputs": [],
   "source": [
    "BIKES_DATA_FOLDER = DATA_FOLDER + '/bikes'"
   ]
  },
  {
   "cell_type": "code",
   "execution_count": 11,
   "metadata": {},
   "outputs": [],
   "source": [
    "# Write your code here\n",
    "bikes = pd.read_json(BIKES_DATA_FOLDER + '/metro-bike-share-trip-data.json.zip')\n",
    "df = bikes"
   ]
  },
  {
   "cell_type": "code",
   "execution_count": 95,
   "metadata": {},
   "outputs": [
    {
     "data": {
      "text/html": [
       "<div>\n",
       "<style scoped>\n",
       "    .dataframe tbody tr th:only-of-type {\n",
       "        vertical-align: middle;\n",
       "    }\n",
       "\n",
       "    .dataframe tbody tr th {\n",
       "        vertical-align: top;\n",
       "    }\n",
       "\n",
       "    .dataframe thead th {\n",
       "        text-align: right;\n",
       "    }\n",
       "</style>\n",
       "<table border=\"1\" class=\"dataframe\">\n",
       "  <thead>\n",
       "    <tr style=\"text-align: right;\">\n",
       "      <th></th>\n",
       "      <th>Bike ID</th>\n",
       "      <th>Duration</th>\n",
       "      <th>End Time</th>\n",
       "      <th>Ending Station ID</th>\n",
       "      <th>Ending Station Latitude</th>\n",
       "      <th>Ending Station Longitude</th>\n",
       "      <th>Passholder Type</th>\n",
       "      <th>Plan Duration</th>\n",
       "      <th>Start Time</th>\n",
       "      <th>Starting Station ID</th>\n",
       "      <th>Starting Station Latitude</th>\n",
       "      <th>Starting Station Longitude</th>\n",
       "      <th>Trip ID</th>\n",
       "      <th>Trip Route Category</th>\n",
       "    </tr>\n",
       "  </thead>\n",
       "  <tbody>\n",
       "    <tr>\n",
       "      <th>0</th>\n",
       "      <td>6281.0</td>\n",
       "      <td>180</td>\n",
       "      <td>2016-07-07T04:20:00</td>\n",
       "      <td>3014.0</td>\n",
       "      <td>34.056610</td>\n",
       "      <td>-118.23721</td>\n",
       "      <td>Monthly Pass</td>\n",
       "      <td>30.0</td>\n",
       "      <td>2016-07-07T04:17:00</td>\n",
       "      <td>3014.0</td>\n",
       "      <td>34.056610</td>\n",
       "      <td>-118.23721</td>\n",
       "      <td>1912818</td>\n",
       "      <td>Round Trip</td>\n",
       "    </tr>\n",
       "    <tr>\n",
       "      <th>1</th>\n",
       "      <td>6281.0</td>\n",
       "      <td>1980</td>\n",
       "      <td>2016-07-07T06:33:00</td>\n",
       "      <td>3014.0</td>\n",
       "      <td>34.056610</td>\n",
       "      <td>-118.23721</td>\n",
       "      <td>Monthly Pass</td>\n",
       "      <td>30.0</td>\n",
       "      <td>2016-07-07T06:00:00</td>\n",
       "      <td>3014.0</td>\n",
       "      <td>34.056610</td>\n",
       "      <td>-118.23721</td>\n",
       "      <td>1919661</td>\n",
       "      <td>Round Trip</td>\n",
       "    </tr>\n",
       "    <tr>\n",
       "      <th>2</th>\n",
       "      <td>5861.0</td>\n",
       "      <td>300</td>\n",
       "      <td>2016-07-07T10:37:00</td>\n",
       "      <td>3016.0</td>\n",
       "      <td>34.052898</td>\n",
       "      <td>-118.24156</td>\n",
       "      <td>Flex Pass</td>\n",
       "      <td>365.0</td>\n",
       "      <td>2016-07-07T10:32:00</td>\n",
       "      <td>3016.0</td>\n",
       "      <td>34.052898</td>\n",
       "      <td>-118.24156</td>\n",
       "      <td>1933383</td>\n",
       "      <td>Round Trip</td>\n",
       "    </tr>\n",
       "    <tr>\n",
       "      <th>3</th>\n",
       "      <td>5861.0</td>\n",
       "      <td>10860</td>\n",
       "      <td>2016-07-07T13:38:00</td>\n",
       "      <td>3016.0</td>\n",
       "      <td>34.052898</td>\n",
       "      <td>-118.24156</td>\n",
       "      <td>Flex Pass</td>\n",
       "      <td>365.0</td>\n",
       "      <td>2016-07-07T10:37:00</td>\n",
       "      <td>3016.0</td>\n",
       "      <td>34.052898</td>\n",
       "      <td>-118.24156</td>\n",
       "      <td>1944197</td>\n",
       "      <td>Round Trip</td>\n",
       "    </tr>\n",
       "    <tr>\n",
       "      <th>4</th>\n",
       "      <td>6674.0</td>\n",
       "      <td>420</td>\n",
       "      <td>2016-07-07T12:58:00</td>\n",
       "      <td>3032.0</td>\n",
       "      <td>34.049889</td>\n",
       "      <td>-118.25588</td>\n",
       "      <td>Walk-up</td>\n",
       "      <td>0.0</td>\n",
       "      <td>2016-07-07T12:51:00</td>\n",
       "      <td>3032.0</td>\n",
       "      <td>34.049889</td>\n",
       "      <td>-118.25588</td>\n",
       "      <td>1940317</td>\n",
       "      <td>Round Trip</td>\n",
       "    </tr>\n",
       "    <tr>\n",
       "      <th>5</th>\n",
       "      <td>6717.0</td>\n",
       "      <td>780</td>\n",
       "      <td>2016-07-07T13:04:00</td>\n",
       "      <td>3054.0</td>\n",
       "      <td>34.039219</td>\n",
       "      <td>-118.23649</td>\n",
       "      <td>Monthly Pass</td>\n",
       "      <td>30.0</td>\n",
       "      <td>2016-07-07T12:51:00</td>\n",
       "      <td>3021.0</td>\n",
       "      <td>34.045609</td>\n",
       "      <td>-118.23703</td>\n",
       "      <td>1944075</td>\n",
       "      <td>One Way</td>\n",
       "    </tr>\n",
       "    <tr>\n",
       "      <th>6</th>\n",
       "      <td>5721.0</td>\n",
       "      <td>600</td>\n",
       "      <td>2016-07-07T13:04:00</td>\n",
       "      <td>3014.0</td>\n",
       "      <td>34.056610</td>\n",
       "      <td>-118.23721</td>\n",
       "      <td>Monthly Pass</td>\n",
       "      <td>30.0</td>\n",
       "      <td>2016-07-07T12:54:00</td>\n",
       "      <td>3022.0</td>\n",
       "      <td>34.046070</td>\n",
       "      <td>-118.23309</td>\n",
       "      <td>1944073</td>\n",
       "      <td>One Way</td>\n",
       "    </tr>\n",
       "    <tr>\n",
       "      <th>7</th>\n",
       "      <td>5957.0</td>\n",
       "      <td>600</td>\n",
       "      <td>2016-07-07T13:09:00</td>\n",
       "      <td>3005.0</td>\n",
       "      <td>34.048550</td>\n",
       "      <td>-118.25905</td>\n",
       "      <td>Flex Pass</td>\n",
       "      <td>365.0</td>\n",
       "      <td>2016-07-07T12:59:00</td>\n",
       "      <td>3076.0</td>\n",
       "      <td>34.040600</td>\n",
       "      <td>-118.25384</td>\n",
       "      <td>1944067</td>\n",
       "      <td>One Way</td>\n",
       "    </tr>\n",
       "    <tr>\n",
       "      <th>8</th>\n",
       "      <td>6137.0</td>\n",
       "      <td>2880</td>\n",
       "      <td>2016-07-07T13:49:00</td>\n",
       "      <td>3031.0</td>\n",
       "      <td>34.044701</td>\n",
       "      <td>-118.25244</td>\n",
       "      <td>Flex Pass</td>\n",
       "      <td>365.0</td>\n",
       "      <td>2016-07-07T13:01:00</td>\n",
       "      <td>3031.0</td>\n",
       "      <td>34.044701</td>\n",
       "      <td>-118.25244</td>\n",
       "      <td>1944062</td>\n",
       "      <td>Round Trip</td>\n",
       "    </tr>\n",
       "    <tr>\n",
       "      <th>9</th>\n",
       "      <td>6351.0</td>\n",
       "      <td>960</td>\n",
       "      <td>2016-07-07T13:17:00</td>\n",
       "      <td>3078.0</td>\n",
       "      <td>34.064281</td>\n",
       "      <td>-118.23894</td>\n",
       "      <td>Monthly Pass</td>\n",
       "      <td>30.0</td>\n",
       "      <td>2016-07-07T13:01:00</td>\n",
       "      <td>3031.0</td>\n",
       "      <td>34.044701</td>\n",
       "      <td>-118.25244</td>\n",
       "      <td>1944063</td>\n",
       "      <td>One Way</td>\n",
       "    </tr>\n",
       "  </tbody>\n",
       "</table>\n",
       "</div>"
      ],
      "text/plain": [
       "   Bike ID  Duration             End Time  Ending Station ID  \\\n",
       "0   6281.0       180  2016-07-07T04:20:00             3014.0   \n",
       "1   6281.0      1980  2016-07-07T06:33:00             3014.0   \n",
       "2   5861.0       300  2016-07-07T10:37:00             3016.0   \n",
       "3   5861.0     10860  2016-07-07T13:38:00             3016.0   \n",
       "4   6674.0       420  2016-07-07T12:58:00             3032.0   \n",
       "5   6717.0       780  2016-07-07T13:04:00             3054.0   \n",
       "6   5721.0       600  2016-07-07T13:04:00             3014.0   \n",
       "7   5957.0       600  2016-07-07T13:09:00             3005.0   \n",
       "8   6137.0      2880  2016-07-07T13:49:00             3031.0   \n",
       "9   6351.0       960  2016-07-07T13:17:00             3078.0   \n",
       "\n",
       "   Ending Station Latitude  Ending Station Longitude Passholder Type  \\\n",
       "0                34.056610                -118.23721    Monthly Pass   \n",
       "1                34.056610                -118.23721    Monthly Pass   \n",
       "2                34.052898                -118.24156       Flex Pass   \n",
       "3                34.052898                -118.24156       Flex Pass   \n",
       "4                34.049889                -118.25588         Walk-up   \n",
       "5                34.039219                -118.23649    Monthly Pass   \n",
       "6                34.056610                -118.23721    Monthly Pass   \n",
       "7                34.048550                -118.25905       Flex Pass   \n",
       "8                34.044701                -118.25244       Flex Pass   \n",
       "9                34.064281                -118.23894    Monthly Pass   \n",
       "\n",
       "   Plan Duration           Start Time  Starting Station ID  \\\n",
       "0           30.0  2016-07-07T04:17:00               3014.0   \n",
       "1           30.0  2016-07-07T06:00:00               3014.0   \n",
       "2          365.0  2016-07-07T10:32:00               3016.0   \n",
       "3          365.0  2016-07-07T10:37:00               3016.0   \n",
       "4            0.0  2016-07-07T12:51:00               3032.0   \n",
       "5           30.0  2016-07-07T12:51:00               3021.0   \n",
       "6           30.0  2016-07-07T12:54:00               3022.0   \n",
       "7          365.0  2016-07-07T12:59:00               3076.0   \n",
       "8          365.0  2016-07-07T13:01:00               3031.0   \n",
       "9           30.0  2016-07-07T13:01:00               3031.0   \n",
       "\n",
       "   Starting Station Latitude  Starting Station Longitude  Trip ID  \\\n",
       "0                  34.056610                  -118.23721  1912818   \n",
       "1                  34.056610                  -118.23721  1919661   \n",
       "2                  34.052898                  -118.24156  1933383   \n",
       "3                  34.052898                  -118.24156  1944197   \n",
       "4                  34.049889                  -118.25588  1940317   \n",
       "5                  34.045609                  -118.23703  1944075   \n",
       "6                  34.046070                  -118.23309  1944073   \n",
       "7                  34.040600                  -118.25384  1944067   \n",
       "8                  34.044701                  -118.25244  1944062   \n",
       "9                  34.044701                  -118.25244  1944063   \n",
       "\n",
       "  Trip Route Category  \n",
       "0          Round Trip  \n",
       "1          Round Trip  \n",
       "2          Round Trip  \n",
       "3          Round Trip  \n",
       "4          Round Trip  \n",
       "5             One Way  \n",
       "6             One Way  \n",
       "7             One Way  \n",
       "8          Round Trip  \n",
       "9             One Way  "
      ]
     },
     "execution_count": 95,
     "metadata": {},
     "output_type": "execute_result"
    }
   ],
   "source": [
    "bikes.head(10)\n"
   ]
  },
  {
   "cell_type": "markdown",
   "metadata": {},
   "source": [
    "### B2. Cleaning phase\n",
    "Describe the type and the value range of each attribute. Indicate and transform the attributes that are `Categorical`. Are there redundant columns in the dataset (i.e., are there columns whose value depends only on the value of another column)? What are the possible pitfalls of having such columns? Reduce *data redundancy* by extracting such columns to separate `DataFrames`. Which of the two formats (the initial one or the one with reduced data redundancy) is more susceptible to inconsistencies? At the end print for each `Dataframe` the *type of each column* and it's *shape*."
   ]
  },
  {
   "cell_type": "code",
   "execution_count": 99,
   "metadata": {},
   "outputs": [],
   "source": [
    "# Write your code here\n",
    "\n",
    "# The columns 'Trip Route Category' and 'Passholder Type' are objects of string characters\n",
    "# which can be mapped to categories\n",
    "bikes['Trip Route Category'] = bikes['Trip Route Category'].astype('category')\n",
    "bikes['Passholder Type'] = bikes['Passholder Type'].astype('category')\n",
    "\n",
    "# For 'Passholder Type', we see that 'Plan Duration' is NaN for the category 'Staff Annual'.\n",
    "# Since the name is annual, we change NaN to 365\n",
    "index_staff_annual = bikes[bikes['Passholder Type'].apply(lambda x: x == 'Staff Annual')].index\n",
    "bikes.loc[index_staff_annual, 'Plan Duration'] = 365\n",
    "\n",
    "# Check if and in that case which categories have remaining NaN values\n",
    "bikes[bikes['Plan Duration'].isnull()]['Passholder Type'].value_counts()\n",
    "\n",
    "# Get index for remaining nan values in category 'Monthly Pass'\n",
    "index_remaining_nan = bikes[bikes['Passholder Type'].apply(lambda x: x == 'Monthly Pass') & \n",
    "                            bikes['Plan Duration'].isnull()].index\n",
    "\n",
    "# Only 'Monthly Pass' has NaN values, change these to 30\n",
    "bikes.loc[index_eh, 'Plan Duration'] = 30\n",
    "\n",
    "# bikes[bikes['Ending Station ID'].isna()]\n",
    "\n",
    "# The columns which depends on other columns are 'Duration', 'Plan Duration' and 'Trip Route Category'\n",
    "# sista är för att den kan beräknas med hjälp av att jämföra start och end station id\n",
    "\n",
    "# We also can match the station to their latitude and longitude, which can save in a seperate Dataframe\n"
   ]
  },
  {
   "cell_type": "code",
   "execution_count": 107,
   "metadata": {},
   "outputs": [
    {
     "name": "stdout",
     "output_type": "stream",
     "text": [
      "      Passholder Type  Plan Duration\n",
      "0        Monthly Pass           30.0\n",
      "2           Flex Pass          365.0\n",
      "4             Walk-up            0.0\n",
      "55790    Staff Annual            NaN\n"
     ]
    }
   ],
   "source": [
    "passholder_type = bikes.loc[:,['Passholder Type','Plan Duration']].drop_duplicates(subset = 'Passholder Type')\n"
   ]
  },
  {
   "cell_type": "markdown",
   "metadata": {},
   "source": [
    "__\\* Briefly explain your approach here \\*__"
   ]
  },
  {
   "cell_type": "markdown",
   "metadata": {},
   "source": [
    "### B3. Querying phase\n",
    "Answer the following queries using the functionality of `Pandas`.\n",
    "\n",
    "1. Plot the *distribution* of the number of outgoing trips from each station in a histogram with 20 bins (Hint: each bin describes a range of counts, not stations).\n",
    "* Plot histograms for the *duration* and *trip starting hour in the day* attributes. For both the *duration*  and the *trip starting hour* use *discrete 1-hour intervals*. What do you observe in each plot? What are some popular values in the *duration* plot? Explain the local maxima and the trends you observe on the *trip starting hour* plot based on human behavior.\n",
    "* For each *trip route category*, calculate the proportion of trips by *passholder type* and present your results in *a stacked bar chart with normalized height*.\n",
    "* Considering only trips that begin in the morning hours (before noon), plot in *a single bar chart* the proportion of trips by *passholder type* and *trip route category*. Explain any outliers you observe.\n",
    "* Separate the hours of the day into two intervals that have (approximately) the same number of bikes leaving the stations. For each of the two intervals calculate the proportion of trips by *passholder type* and *trip route category*. Present your results in a `DataFrame` which has a unique, non-composite index. Does the proportion of trips depend on whether it is the first or second hour interval? Would the company have any significant benefit by creating a more complex paying scheme where monthly pass users would pay less in the first interval and (equally) more on the second one? Assume that the number of trips per interval will not change if the scheme changes."
   ]
  },
  {
   "cell_type": "code",
   "execution_count": 194,
   "metadata": {},
   "outputs": [
    {
     "data": {
      "text/plain": [
       "<matplotlib.axes._subplots.AxesSubplot at 0x7fc229ab5860>"
      ]
     },
     "execution_count": 194,
     "metadata": {},
     "output_type": "execute_result"
    },
    {
     "data": {
      "image/png": "[encoded data removed]",
      "text/plain": [
       "<Figure size 1080x720 with 1 Axes>"
      ]
     },
     "metadata": {},
     "output_type": "display_data"
    }
   ],
   "source": [
    "#Task B3.1\n",
    "\n",
    "# Pick out the 'Starting Station ID' column and count the number of times a station has been started from.\n",
    "starting_stations_count = df['Starting Station ID'].value_counts()\n",
    "\n",
    "# Plot histogram\n",
    "starting_stations_count.hist(bins=20)\n"
   ]
  },
  {
   "cell_type": "code",
   "execution_count": 303,
   "metadata": {},
   "outputs": [
    {
     "data": {
      "text/plain": [
       "<matplotlib.axes._subplots.AxesSubplot at 0x7f0a5c0eeb38>"
      ]
     },
     "execution_count": 303,
     "metadata": {},
     "output_type": "execute_result"
    },
    {
     "data": {
      "image/png": "[encoded data removed]",
      "text/plain": [
       "<Figure size 432x288 with 1 Axes>"
      ]
     },
     "metadata": {},
     "output_type": "display_data"
    }
   ],
   "source": [
    "# Task B3.2\n",
    "\n",
    "# Plot histograms for the duration and trip starting hour in the day attributes. \n",
    "# For both the duration and the trip starting hour use discrete 1-hour intervals. \n",
    "# What do you observe in each plot? What are some popular values in the duration plot? \n",
    "# Explain the local maxima and the trends you observe on the trip starting hour plot based on human behavior.\n",
    "\n",
    "# Pick out duration and divide by 3660 since the durations are given in seconds.\n",
    "duration = df['Duration']/3660\n",
    "\n",
    "# Plot up to 70 hours. There are longer durations as well, but they are few, so the shape of the plot is the same.\n",
    "duration.hist(bins=10, range=(0,10))\n",
    "\n",
    "# In this plot we can see clearly that the most common amount of time to rent the bike is less than one hour.\n",
    "# This makes sense, most people who use the service might be commuting to work, which for most\n",
    "# people does not take more time than one hour."
   ]
  },
  {
   "cell_type": "code",
   "execution_count": 223,
   "metadata": {},
   "outputs": [
    {
     "data": {
      "text/plain": [
       "<matplotlib.axes._subplots.AxesSubplot at 0x7f0a5c204128>"
      ]
     },
     "execution_count": 223,
     "metadata": {},
     "output_type": "execute_result"
    },
    {
     "data": {
      "image/png": "[encoded data removed]",
      "text/plain": [
       "<Figure size 432x288 with 1 Axes>"
      ]
     },
     "metadata": {},
     "output_type": "display_data"
    }
   ],
   "source": [
    "# Pick out Start times\n",
    "trip_start = df['Start Time']\n",
    "\n",
    "# Convert to datetime objects and pick out the hours.\n",
    "trip_start = pd.to_datetime(trip_start).dt.hour\n",
    "\n",
    "# Plot\n",
    "trip_start.hist(bins = 24, range=(0, 24))\n",
    "\n",
    "# In this graph we see that the majority of the trips start some time during the day. \n",
    "# One local maxima is at around 08h00, at time when people usually go to work.\n",
    "# The global maxima is in the evening around 17-18, which correspond well with the time at which people would stop\n",
    "# working and go home.\n"
   ]
  },
  {
   "cell_type": "markdown",
   "metadata": {},
   "source": []
  },
  {
   "cell_type": "code",
   "execution_count": 253,
   "metadata": {},
   "outputs": [
    {
     "data": {
      "image/png": "[encoded data removed]",
      "text/plain": [
       "<Figure size 432x288 with 1 Axes>"
      ]
     },
     "metadata": {},
     "output_type": "display_data"
    }
   ],
   "source": [
    "#Task B3.3\n",
    "\n",
    "# For each *trip route category*, calculate the proportion of trips by \n",
    "# *passholder type* and present your results in *a stacked bar chart with normalized height*.\n",
    "\n",
    "def trips_and_placeholder_type(df):\n",
    "    \"\"\"Create a dataframe with Passholder Type as the Index, and the counts of Oneway and Roundtrip for \n",
    "    the columns.\n",
    "    \"\"\"\n",
    "    # Pick out the one way data and the round trip data separately, saving the columns for the Passholder Type\n",
    "    one_way = df[df['Trip Route Category'] == \"One Way\"].loc[:, 'Passholder Type']\n",
    "    round_trip = df[df['Trip Route Category'] == \"Round Trip\"].loc[:, 'Passholder Type']\n",
    "\n",
    "    # Create new dataframe with the counts of each passholder type for one way and round trip in each column\n",
    "    df2 b= pd.DataFrame(dict(OneWay = one_way.value_counts(),  RoundTrip = round_trip.value_counts()))\n",
    "    df2.index.name = 'Passholder Type'\n",
    "    \n",
    "    return df2\n",
    "    \n",
    "# Calculate count for each round trip for each passholder type\n",
    "df2 = prop_of_trips_passholder(df)\n",
    "\n",
    "# Normalize columns\n",
    "df2.OneWay = df2.OneWay.div(df2.OneWay.sum())\n",
    "df2.RoundTrip = df2.RoundTrip.div(df2.RoundTrip.sum())\n",
    "\n",
    "# Transpose to plot it in the direction we want.\n",
    "df2.transpose().plot.bar(stacked=True);\n"
   ]
  },
  {
   "cell_type": "code",
   "execution_count": 254,
   "metadata": {},
   "outputs": [
    {
     "data": {
      "image/png": "[encoded data removed]",
      "text/plain": [
       "<Figure size 432x288 with 1 Axes>"
      ]
     },
     "metadata": {},
     "output_type": "display_data"
    }
   ],
   "source": [
    "# Task B3.4\n",
    "# Considering only trips that begin in the morning hours (before noon), \n",
    "# plot in a single bar chart the proportion of trips by passholder type and \n",
    "# trip route category. Explain any outliers you observe.\n",
    "\n",
    "# Filter out only the trips that begin in the morning hours\n",
    "trip_starting_hours = pd.to_datetime(df['Start Time']).dt.hour\n",
    "df3 = df[trip_starting_hours < 12]\n",
    "\n",
    "# Calculate count for each round trip for each passholder type\n",
    "df3 = trips_and_placeholder_type(df3)\n",
    "\n",
    "# Unstack to put them on same single bar chart\n",
    "df3 = df3.unstack().to_frame()\n",
    "\n",
    "# Normalize\n",
    "df3 = df3.div(df3.sum())\n",
    "\n",
    "# Transpose to plot it in the direction we want.\n",
    "df3.transpose().plot.bar();\n"
   ]
  },
  {
   "cell_type": "code",
   "execution_count": 389,
   "metadata": {},
   "outputs": [
    {
     "data": {
      "text/html": [
       "<div>\n",
       "<style scoped>\n",
       "    .dataframe tbody tr th:only-of-type {\n",
       "        vertical-align: middle;\n",
       "    }\n",
       "\n",
       "    .dataframe tbody tr th {\n",
       "        vertical-align: top;\n",
       "    }\n",
       "\n",
       "    .dataframe thead th {\n",
       "        text-align: right;\n",
       "    }\n",
       "</style>\n",
       "<table border=\"1\" class=\"dataframe\">\n",
       "  <thead>\n",
       "    <tr style=\"text-align: right;\">\n",
       "      <th></th>\n",
       "      <th>First</th>\n",
       "      <th>Second</th>\n",
       "    </tr>\n",
       "  </thead>\n",
       "  <tbody>\n",
       "    <tr>\n",
       "      <th>O                               n                               e                               W                               a                               y                                                               F                               l                               e                               x                                                               P                               a                               s                               s</th>\n",
       "      <td>0.077116</td>\n",
       "      <td>0.073897</td>\n",
       "    </tr>\n",
       "    <tr>\n",
       "      <th>O                               n                               e                               W                               a                               y                                                               M                               o                               n                               t                               h                               l                               y                                                               P                               a                               s                               s</th>\n",
       "      <td>0.657161</td>\n",
       "      <td>0.638882</td>\n",
       "    </tr>\n",
       "    <tr>\n",
       "      <th>O                               n                               e                               W                               a                               y                                                               S                               t                               a                               f                               f                                                               A                               n                               n                               u                               a                               l</th>\n",
       "      <td>0.003055</td>\n",
       "      <td>0.001942</td>\n",
       "    </tr>\n",
       "    <tr>\n",
       "      <th>O                               n                               e                               W                               a                               y                                                               W                               a                               l                               k                               -                               u                               p</th>\n",
       "      <td>0.262668</td>\n",
       "      <td>0.285279</td>\n",
       "    </tr>\n",
       "    <tr>\n",
       "      <th>R                               o                               u                               n                               d                               T                               r                               i                               p                                                               F                               l                               e                               x                                                               P                               a                               s                               s</th>\n",
       "      <td>0.040729</td>\n",
       "      <td>0.034649</td>\n",
       "    </tr>\n",
       "    <tr>\n",
       "      <th>R                               o                               u                               n                               d                               T                               r                               i                               p                                                               M                               o                               n                               t                               h                               l                               y                                                               P                               a                               s                               s</th>\n",
       "      <td>0.314134</td>\n",
       "      <td>0.274778</td>\n",
       "    </tr>\n",
       "    <tr>\n",
       "      <th>R                               o                               u                               n                               d                               T                               r                               i                               p                                                               S                               t                               a                               f                               f                                                               A                               n                               n                               u                               a                               l</th>\n",
       "      <td>0.008967</td>\n",
       "      <td>0.003868</td>\n",
       "    </tr>\n",
       "    <tr>\n",
       "      <th>R                               o                               u                               n                               d                               T                               r                               i                               p                                                               W                               a                               l                               k                               -                               u                               p</th>\n",
       "      <td>0.636170</td>\n",
       "      <td>0.686704</td>\n",
       "    </tr>\n",
       "  </tbody>\n",
       "</table>\n",
       "</div>"
      ],
      "text/plain": [
       "                                                       First    Second\n",
       "O                               n              ...  0.077116  0.073897\n",
       "O                               n              ...  0.657161  0.638882\n",
       "O                               n              ...  0.003055  0.001942\n",
       "O                               n              ...  0.262668  0.285279\n",
       "R                               o              ...  0.040729  0.034649\n",
       "R                               o              ...  0.314134  0.274778\n",
       "R                               o              ...  0.008967  0.003868\n",
       "R                               o              ...  0.636170  0.686704"
      ]
     },
     "execution_count": 389,
     "metadata": {},
     "output_type": "execute_result"
    }
   ],
   "source": [
    "# Task B3.5\n",
    "# Separate the hours of the day into two intervals that have (approximately) \n",
    "# the same number of bikes leaving the stations. For each of the two intervals \n",
    "# calculate the proportion of trips by passholder type and trip route category.\n",
    "# Present your results in a DataFrame which has a unique, non-composite index. \n",
    "# Does the proportion of trips depend on whether it is the first or second hour interval? \n",
    "# Would the company have any significant benefit by creating a more complex paying scheme \n",
    "# where monthly pass users would pay less in the first interval and (equally) more on the second one? \n",
    "# Assume that the number of trips per interval will not change if the scheme changes. \n",
    "\n",
    "# Find the hour of the division between the two intervals\n",
    "\n",
    "# print(trip_starting_hours.median())\n",
    "# gave 14, separating into hours <=14 and >14 gives approximately the same number of bikes leaving\n",
    "# (66477 for <=14 and 65950 for >14)\n",
    "interval1 = df[trip_starting_hours <=14]\n",
    "interval2 = df[trip_starting_hours > 14]\n",
    "\n",
    "# Calculate count for each round trip for each passholder type\n",
    "interval1 = trips_and_placeholder_type(interval1)\n",
    "interval2 = trips_and_placeholder_type(interval2)\n",
    "\n",
    "# Normalize columns\n",
    "interval1 = interval1.div(interval1.sum())\n",
    "interval2 = interval2.div(interval2.sum())\n",
    "\n",
    "# Unstack to get one way and round trip on the same row\n",
    "interval1 = interval1.unstack().to_frame()\n",
    "interval2 = interval2.unstack().to_frame()\n",
    "\n",
    "final_df = interval1.join(interval2, lsuffix='first', rsuffix='second')\n",
    "\n",
    "# Structure dataframe with proper column names and create non-composite index.\n",
    "final_df.columns = ['First', 'Second']\n",
    "index2 = [' '.join(x) for x in qwe.index.tolist()]\n",
    "final_df.index = index2\n",
    "\n",
    "# The final dataframe.\n",
    "# The four values for each type of trip route category for each interval sum up to 1\n",
    "final_df\n",
    "\n",
    "# The proportion of trips depend a bit on if it is in the first or the second hour interval.\n",
    "# There is a larger percentage of monthly pass passholders in the first interval than in the \n",
    "# second interval (the percentages of One Way/Roundtrip monthly pass travelers are 65.7% and 31.4 % respectively\n",
    "# for the first interval, compared to 63.8% and 27.4% for the second interval).\n",
    "# The percentage of walk-up customers increase in the second interval.\n",
    "\n",
    "# Since the amounts of rides are approximately the same in the two intervals, \n",
    "# we can conclude, by the percentages, that it would not be beneficial for the company to\n",
    "# use the more complex paying scheme where monthly pass users pay less in the first interval \n",
    "# and more in the second (the inverse might be a good idea though)."
   ]
  },
  {
   "cell_type": "markdown",
   "metadata": {},
   "source": []
  }
 ],
 "metadata": {
  "kernelspec": {
   "display_name": "Python [default]",
   "language": "python",
   "name": "python3"
  },
  "language_info": {
   "codemirror_mode": {
    "name": "ipython",
    "version": 3
   },
   "file_extension": ".py",
   "mimetype": "text/x-python",
   "name": "python",
   "nbconvert_exporter": "python",
   "pygments_lexer": "ipython3",
   "version": "3.6.5"
  }
 },
 "nbformat": 4,
 "nbformat_minor": 2
}
