{
 "cells": [
  {
   "cell_type": "markdown",
   "metadata": {},
   "source": [
    "# Exercise 1\n",
    " <p><div class=\"lev1\"><a href=\"#Task-A.-Another-LEGO-brick-in-the-wall\"><span class=\"toc-item-num\">Task A.&nbsp;&nbsp;</span>Another LEGO brick in the wall</a></div>\n",
    " <p><div class=\"lev1\"><a href=\"#Task-B.-Drop-the-Bike\"><span class=\"toc-item-num\">Task B.&nbsp;&nbsp;</span>Drop the Bike</a></div>"
   ]
  },
  {
   "cell_type": "code",
   "execution_count": 1,
   "metadata": {},
   "outputs": [],
   "source": [
    "# Add your imports here\n",
    "# Importing pandas and numpy\n",
    "import pandas as pd\n",
    "import numpy as np\n",
    "import re\n",
    "import matplotlib.pyplot as plt"
   ]
  },
  {
   "cell_type": "code",
   "execution_count": 2,
   "metadata": {},
   "outputs": [],
   "source": [
    "DATA_FOLDER = 'data'"
   ]
  },
  {
   "cell_type": "markdown",
   "metadata": {},
   "source": [
    "## Task A. Another LEGO brick in the wall\n",
    "\n",
    "LEGO is a popular brand of toy building bricks. They are often sold in sets in order to build a specific object. Each set contains a number of parts in different shapes, sizes and colors. This database contains information on which parts are included in different LEGO sets. It was originally compiled to help people who owned some LEGO sets already figure out what other sets they could build with the pieces they had.\n",
    "\n",
    "This dataset contains the official LEGO colors, parts, inventories (i.e., sets of LEGO parts which assembled create an object in the LEGO world) and sets (i.e., sets of LEGO inventories which assembled create a LEGO ecosystem). The schema of the dataset can be shown in the following UML diagram: \n",
    "\n",
    "![lego-schema](lego-schema.png)\n",
    "\n",
    "In this task you have to apply the following Data Wrangling pipeline:\n",
    "1. Load your data into `Pandas`\n",
    "* Explore it and clean its dirty parts\n",
    "* Use it to answer a set of queries\n",
    "\n",
    "Each of these subtasks are described in detail below."
   ]
  },
  {
   "cell_type": "markdown",
   "metadata": {},
   "source": [
    "### A1. Loading phase\n",
    "Load all the csv files into different `DataFrames`. Use meaningful names for your `DataFrames` (e.g., the respective filenames).\n",
    "\n",
    "*Hint: You can load files without first unzipping them (for `Pandas` version >= 0.18.1).*"
   ]
  },
  {
   "cell_type": "code",
   "execution_count": 3,
   "metadata": {},
   "outputs": [],
   "source": [
    "LEGO_DATA_FOLDER = DATA_FOLDER + '/lego'"
   ]
  },
  {
   "cell_type": "code",
   "execution_count": 4,
   "metadata": {},
   "outputs": [],
   "source": [
    "# Write your code here\n",
    "colors = pd.read_csv(LEGO_DATA_FOLDER + \"/colors.csv.zip\")\n",
    "inventories = pd.read_csv(LEGO_DATA_FOLDER + \"/inventories.csv.zip\")\n",
    "inventory_parts = pd.read_csv(LEGO_DATA_FOLDER + \"/inventory_parts.csv.zip\")\n",
    "inventory_sets = pd.read_csv(LEGO_DATA_FOLDER + \"/inventory_sets.csv.zip\")\n",
    "part_categories = pd.read_csv(LEGO_DATA_FOLDER + \"/part_categories.csv.zip\")\n",
    "parts = pd.read_csv(LEGO_DATA_FOLDER + \"/parts.csv.zip\")\n",
    "sets = pd.read_csv(LEGO_DATA_FOLDER + \"/sets.csv.zip\")\n",
    "themes = pd.read_csv(LEGO_DATA_FOLDER + \"/themes.csv.zip\")"
   ]
  },
  {
   "cell_type": "markdown",
   "metadata": {},
   "source": [
    "### A2. Cleaning phase\n",
    "Explore the following columns from your dataset:\n",
    "\n",
    "1. sets: year\n",
    "* inventory_parts: quantity\n",
    "\n",
    "What is the time range of the sets? \n",
    "What is the average quantity of the inventory parts? \n",
    "Do you see any inconsistencies? \n",
    "Provide code that detects and cleans such inconsistencies and validates the coherence of your dataset. "
   ]
  },
  {
   "cell_type": "code",
   "execution_count": 5,
   "metadata": {},
   "outputs": [],
   "source": [
    "def cleanCheck(data):\n",
    "    # Check whether any set has an undefined year\n",
    "    is_nan = data.isna().sum() \n",
    "\n",
    "    # Take out the data that is incorrect\n",
    "    is_bad = data.apply(lambda x: len(x) != 4).sum()\n",
    "    \n",
    "    print(is_nan)\n",
    "    print(is_bad)\n",
    "    \n",
    "    "
   ]
  },
  {
   "cell_type": "code",
   "execution_count": 6,
   "metadata": {},
   "outputs": [
    {
     "name": "stdout",
     "output_type": "stream",
     "text": [
      "3085\n",
      "0\n",
      "0\n"
     ]
    }
   ],
   "source": [
    "# Write your code here\n",
    "\n",
    "# Cleaning sets.year \n",
    "\n",
    "# Count number of inconsistencies in the set\n",
    "sets_bad = sets[sets['year'].apply(lambda x: len(x) != 4)]\n",
    "print(sets_bad.year.count())\n",
    "\n",
    "# Make all negative years positive\n",
    "sets['year'] = sets['year'].apply(lambda x: x[1:] if x[0] == \"-\" else x)\n",
    "\n",
    "# Delete last number in years with 5 digits\n",
    "sets['year'] = sets['year'].apply(lambda x: x[:-1] if len(x) == 5 else x)\n",
    "\n",
    "# Change 70s to nan\n",
    "sets['year'] = sets['year'].apply(lambda x: np.nan if len(x) == 3 else x)\n",
    "\n",
    "clean_sets = sets.dropna(axis = 0, subset=['year'])\n",
    "cleanCheck(clean_sets.year)\n",
    "\n",
    "\n"
   ]
  },
  {
   "cell_type": "code",
   "execution_count": 31,
   "metadata": {},
   "outputs": [
    {
     "name": "stdout",
     "output_type": "stream",
     "text": [
      "1     1978\n",
      "2     1987\n",
      "3     1979\n",
      "4     1979\n",
      "5     1979\n",
      "6     1979\n",
      "7     1978\n",
      "8     1976\n",
      "9     1976\n",
      "10    1976\n",
      "11    1965\n",
      "12    1985\n",
      "13    1976\n",
      "14    1965\n",
      "15    1968\n",
      "16    1968\n",
      "17    1968\n",
      "18    1999\n",
      "19    1968\n",
      "20    1968\n",
      "Name: year, dtype: object\n"
     ]
    }
   ],
   "source": [
    "clean_sets['year'].replace(pd.to_datetime(clean_sets.year).dt.year)\n"
   ]
  },
  {
   "cell_type": "code",
   "execution_count": 8,
   "metadata": {},
   "outputs": [
    {
     "name": "stdout",
     "output_type": "stream",
     "text": [
      "The time range is 67 years, between 1950 and 2017.\n"
     ]
    }
   ],
   "source": [
    "# Calculate time range\n",
    "start_year = clean_sets.year.min()\n",
    "end_year = clean_sets.year.max()\n",
    "time_range = int(clean_sets.year.max()) - int(clean_sets.year.min())\n",
    "print('The time range is ' + str(time_range) + \" years, between \" + str(start_year) + \" and \" + str(end_year) + \".\")"
   ]
  },
  {
   "cell_type": "code",
   "execution_count": 9,
   "metadata": {},
   "outputs": [
    {
     "name": "stdout",
     "output_type": "stream",
     "text": [
      "0\n",
      "161796\n",
      "1605586.0\n",
      "% of zero values: 0.10077068434826911\n",
      "2.7670542575540584\n"
     ]
    }
   ],
   "source": [
    "# Cleaning inventory_parts.quantity\n",
    "\n",
    "# Check whether any i_p has an undefined quntity\n",
    "print(inventory_parts.quantity.isna().sum())\n",
    "\n",
    "# Replace all infinite values with 0 to simplify counting them\n",
    "inventory_parts.quantity = inventory_parts.quantity.replace([np.inf, -np.inf], 0.0)\n",
    "\n",
    "# Count amount of values equaling zero\n",
    "quantity_zero = (inventory_parts['quantity'] < 1).sum()\n",
    "print(quantity_zero)\n",
    "print(inventory_parts.quantity.sum())\n",
    "\n",
    "# Calculate % of values equaling zero\n",
    "print(\"% of zero values: \" + str(quantity_zero/inventory_parts.quantity.sum()))\n",
    "\n",
    "print(inventory_parts.quantity.mean())"
   ]
  },
  {
   "cell_type": "markdown",
   "metadata": {},
   "source": [
    "__\\* Briefly explain your approach here \\*__\n",
    "\n",
    "#### Cleaning sets by the column year\n",
    "1. First check whether all years are defined\n",
    "2. Print years to see examples of inconsistencies in the data. Examples of inconsistencies are negative years, years with five digits and years written as decade+\"s\"(70s, 80s, etc).\n",
    "3. Cleaning:\n",
    "    1. First, all negative years are turned positive.\n",
    "    2. Secondly, all years with 5 digits are turned into 4 digit numbers. We assume that the last digit has been repeated and therefore remove it. For example, 20011 is turned into 2001.\n",
    "    3. Lastly we omit all rows where the year is written as decade+\"s\", as there is no way of knowing in which year of the decade the set is from.\n",
    "    \n",
    "#### Cleaning inventory_parts by the column quantity\n",
    "1. First check whether quantity is defined for each row\n",
    "2. Print quantity to see examples of inconsistencies in the data. An example of an inconsistency is that some of the quantities are written as \"-inf\".\n",
    "3. Cleaning:\n",
    "    1. Set all quantities with the value \"-inf\" to 0.0 instead, as 0.0 is not used in the rest of the array. This way the data will remain but functions such as count, sum etc. can be applied to the column.\n"
   ]
  },
  {
   "cell_type": "markdown",
   "metadata": {},
   "source": [
    "### A3. Querying phase\n",
    "Answer the following queries using the functionality of `Pandas`:\n",
    "\n",
    "1. List the ids of the inventories that belong to sets that contain cars. (*Hint: Find a smart way to distinguish which sets contain cars based on the sets' name*).\n",
    "* Plot the distribution of part categories as a (horizontal) bar chart. Restrict yourself to the 20 largest part categories (in terms of the number of parts belonging to the category).\n",
    "* Find the dominant color of each set. Then, plot using a (horizontal) bar chart, the number of sets per dominant color. Color each bar with the respective color that it represents.\n",
    "* Create a scatter plot of the *luminance*\\* of the sets vs their publishing year. What do you observe for the years 1980-1981? How do you interpret what you see?\n",
    "\n",
    "\\*The luminance of a color is a [measure of brightness](https://en.wikipedia.org/wiki/Luminance) which, given its RGB representation, can be computed as follows:\n",
    "\n",
    "$luminance = \\sqrt{0.299*R^2 + 0.587*G^2 + 0.114*B^2}$"
   ]
  },
  {
   "cell_type": "code",
   "execution_count": 10,
   "metadata": {},
   "outputs": [
    {
     "data": {
      "image/png": "[encoded data removed]",
      "text/plain": [
       "<Figure size 432x288 with 1 Axes>"
      ]
     },
     "metadata": {},
     "output_type": "display_data"
    }
   ],
   "source": [
    "# task 2 \n",
    "# Plot the distribution of part categories as a (horizontal) bar chart. \n",
    "# Restrict yourself to the 20 largest part categories (in terms of the number of parts belonging to the category).\n",
    "\n",
    "# count most used parts \n",
    "most_used_parts = parts.part_cat_id.value_counts().head(20)\n",
    "\n",
    "names = most_used_parts.to_frame().join(part_categories.set_index('id')).name.values\n",
    "\n",
    "y_pos = np.arange(len(names))\n",
    "how_many = most_used_parts.values\n",
    "\n",
    "plt.barh(y_pos, how_many, align='center', alpha=0.5)\n",
    "plt.yticks(y_pos, names)\n",
    "plt.xlabel('Number of parts in category')\n",
    "plt.title('Distribution of parts')\n",
    " \n",
    "plt.show()\n",
    "\n"
   ]
  },
  {
   "cell_type": "code",
   "execution_count": 33,
   "metadata": {},
   "outputs": [],
   "source": [
    "# Task 3\n",
    "# Find the dominant color of each set. \n",
    "# Then, plot using a (horizontal) bar chart, \n",
    "# the number of sets per dominant color. Color each bar with the respective color that it represents.\n",
    "\n",
    "\n",
    "# join necessary data into one dataframe\n",
    "inventory_sets_id = inventory_sets.loc[:,['inventory_id','set_id']]\n",
    "inventory_color = inventory_parts.set_index('inventory_id').loc[:,['color_id']]\n",
    "sets_color = inventory_sets_id.set_index('inventory_id').join(inventory_color).dropna()\n",
    "\n",
    "# Group by set_id and calculate dominant color for each id\n",
    "sets_dominant_color = sets_color.groupby('set_id').color_id.apply(lambda x: x.mode())\n",
    "\n",
    "# Cast the color array to a Series\n",
    "color_array = pd.Series(sets_dominant_color.values)\n",
    "\n",
    "# count how many times each color occurs\n",
    "color_distribution = color_array.value_counts().to_frame(name = 'freq')\n",
    "\n",
    "# join with colors to get the rgb values\n",
    "color_distribution = colors.loc[:,['id','rgb']].set_index('id').join(color_distribution).dropna()\n",
    "\n",
    "\n",
    "# sort cells by freq \n",
    "color_distribution = color_distribution.sort_values('freq')\n"
   ]
  },
  {
   "cell_type": "code",
   "execution_count": 22,
   "metadata": {},
   "outputs": [
    {
     "data": {
      "image/png": "[encoded data removed]",
      "text/plain": [
       "<Figure size 432x288 with 1 Axes>"
      ]
     },
     "metadata": {},
     "output_type": "display_data"
    }
   ],
   "source": [
    "# plot\n",
    "y = color_distribution.rgb\n",
    "\n",
    "y_pos = np.arange(len(y))\n",
    "x = color_distribution.freq\n",
    "\n",
    "plt.barh(y_pos, x, align='center', alpha=0.5, color = '#' + color_distribution.rgb)\n",
    "plt.yticks(y_pos, y)\n",
    "plt.title('Distribution of dominant colors in sets')\n",
    " \n",
    "plt.show()"
   ]
  },
  {
   "cell_type": "code",
   "execution_count": 65,
   "metadata": {},
   "outputs": [],
   "source": [
    "# Part 4 Create a scatter plot of the luminance* of the sets vs their publishing year. \n",
    "# What do you observe for the years 1980-1981? How do you interpret what you see?\n",
    "\n",
    "sets_dominant_color = sets_dominant_color.to_frame()\n"
   ]
  },
  {
   "cell_type": "code",
   "execution_count": 64,
   "metadata": {},
   "outputs": [],
   "source": [
    "all_data = pd.merge(clean_sets, sets_dominant_color, how='left', left_on=['id'], right_on=['set_id']).dropna().loc[:,['year','color_id']]\n",
    "\n",
    "year_color = colors.loc[:,['id','rgb']].set_index('id').join(all_data).dropna()\n",
    "\n"
   ]
  },
  {
   "cell_type": "markdown",
   "metadata": {},
   "source": [
    "__\\* Briefly explain your approach for every query here \\*__"
   ]
  },
  {
   "cell_type": "markdown",
   "metadata": {},
   "source": [
    "## Task B. Drop the bike\n",
    "\n",
    "*Los Angeles Metro* has been sharing publicly [anonymized *Metro Bike Share* trip data](https://bikeshare.metro.net/about/data/) under the [Open Database License (ODbL)](http://opendatacommons.org/licenses/odbl/1.0/).\n",
    "\n",
    "In this task you will again perform data wrangling and interpretation."
   ]
  },
  {
   "cell_type": "markdown",
   "metadata": {},
   "source": [
    "### B1. Loading phase\n",
    "Load the json file into a `DataFrame`.\n"
   ]
  },
  {
   "cell_type": "code",
   "execution_count": 53,
   "metadata": {},
   "outputs": [],
   "source": [
    "BIKES_DATA_FOLDER = DATA_FOLDER + '/bikes'"
   ]
  },
  {
   "cell_type": "code",
   "execution_count": 54,
   "metadata": {},
   "outputs": [],
   "source": [
    "# Write your code here\n",
    "bikes = pd.read_json(BIKES_DATA_FOLDER + '/metro-bike-share-trip-data.json.zip')"
   ]
  },
  {
   "cell_type": "code",
   "execution_count": 98,
   "metadata": {},
   "outputs": [
    {
     "data": {
      "text/html": [
       "<div>\n",
       "<style scoped>\n",
       "    .dataframe tbody tr th:only-of-type {\n",
       "        vertical-align: middle;\n",
       "    }\n",
       "\n",
       "    .dataframe tbody tr th {\n",
       "        vertical-align: top;\n",
       "    }\n",
       "\n",
       "    .dataframe thead th {\n",
       "        text-align: right;\n",
       "    }\n",
       "</style>\n",
       "<table border=\"1\" class=\"dataframe\">\n",
       "  <thead>\n",
       "    <tr style=\"text-align: right;\">\n",
       "      <th></th>\n",
       "      <th>Bike ID</th>\n",
       "      <th>Duration</th>\n",
       "      <th>End Time</th>\n",
       "      <th>Ending Station ID</th>\n",
       "      <th>Ending Station Latitude</th>\n",
       "      <th>Ending Station Longitude</th>\n",
       "      <th>Passholder Type</th>\n",
       "      <th>Plan Duration</th>\n",
       "      <th>Start Time</th>\n",
       "      <th>Starting Station ID</th>\n",
       "      <th>Starting Station Latitude</th>\n",
       "      <th>Starting Station Longitude</th>\n",
       "      <th>Trip ID</th>\n",
       "      <th>Trip Route Category</th>\n",
       "    </tr>\n",
       "  </thead>\n",
       "  <tbody>\n",
       "    <tr>\n",
       "      <th>0</th>\n",
       "      <td>6281.0</td>\n",
       "      <td>180</td>\n",
       "      <td>2016-07-07T04:20:00</td>\n",
       "      <td>3014.0</td>\n",
       "      <td>34.056610</td>\n",
       "      <td>-118.23721</td>\n",
       "      <td>Monthly Pass</td>\n",
       "      <td>30.0</td>\n",
       "      <td>2016-07-07T04:17:00</td>\n",
       "      <td>3014.0</td>\n",
       "      <td>34.056610</td>\n",
       "      <td>-118.23721</td>\n",
       "      <td>1912818</td>\n",
       "      <td>Round Trip</td>\n",
       "    </tr>\n",
       "    <tr>\n",
       "      <th>1</th>\n",
       "      <td>6281.0</td>\n",
       "      <td>1980</td>\n",
       "      <td>2016-07-07T06:33:00</td>\n",
       "      <td>3014.0</td>\n",
       "      <td>34.056610</td>\n",
       "      <td>-118.23721</td>\n",
       "      <td>Monthly Pass</td>\n",
       "      <td>30.0</td>\n",
       "      <td>2016-07-07T06:00:00</td>\n",
       "      <td>3014.0</td>\n",
       "      <td>34.056610</td>\n",
       "      <td>-118.23721</td>\n",
       "      <td>1919661</td>\n",
       "      <td>Round Trip</td>\n",
       "    </tr>\n",
       "    <tr>\n",
       "      <th>2</th>\n",
       "      <td>5861.0</td>\n",
       "      <td>300</td>\n",
       "      <td>2016-07-07T10:37:00</td>\n",
       "      <td>3016.0</td>\n",
       "      <td>34.052898</td>\n",
       "      <td>-118.24156</td>\n",
       "      <td>Flex Pass</td>\n",
       "      <td>365.0</td>\n",
       "      <td>2016-07-07T10:32:00</td>\n",
       "      <td>3016.0</td>\n",
       "      <td>34.052898</td>\n",
       "      <td>-118.24156</td>\n",
       "      <td>1933383</td>\n",
       "      <td>Round Trip</td>\n",
       "    </tr>\n",
       "    <tr>\n",
       "      <th>3</th>\n",
       "      <td>5861.0</td>\n",
       "      <td>10860</td>\n",
       "      <td>2016-07-07T13:38:00</td>\n",
       "      <td>3016.0</td>\n",
       "      <td>34.052898</td>\n",
       "      <td>-118.24156</td>\n",
       "      <td>Flex Pass</td>\n",
       "      <td>365.0</td>\n",
       "      <td>2016-07-07T10:37:00</td>\n",
       "      <td>3016.0</td>\n",
       "      <td>34.052898</td>\n",
       "      <td>-118.24156</td>\n",
       "      <td>1944197</td>\n",
       "      <td>Round Trip</td>\n",
       "    </tr>\n",
       "    <tr>\n",
       "      <th>4</th>\n",
       "      <td>6674.0</td>\n",
       "      <td>420</td>\n",
       "      <td>2016-07-07T12:58:00</td>\n",
       "      <td>3032.0</td>\n",
       "      <td>34.049889</td>\n",
       "      <td>-118.25588</td>\n",
       "      <td>Walk-up</td>\n",
       "      <td>0.0</td>\n",
       "      <td>2016-07-07T12:51:00</td>\n",
       "      <td>3032.0</td>\n",
       "      <td>34.049889</td>\n",
       "      <td>-118.25588</td>\n",
       "      <td>1940317</td>\n",
       "      <td>Round Trip</td>\n",
       "    </tr>\n",
       "    <tr>\n",
       "      <th>5</th>\n",
       "      <td>6717.0</td>\n",
       "      <td>780</td>\n",
       "      <td>2016-07-07T13:04:00</td>\n",
       "      <td>3054.0</td>\n",
       "      <td>34.039219</td>\n",
       "      <td>-118.23649</td>\n",
       "      <td>Monthly Pass</td>\n",
       "      <td>30.0</td>\n",
       "      <td>2016-07-07T12:51:00</td>\n",
       "      <td>3021.0</td>\n",
       "      <td>34.045609</td>\n",
       "      <td>-118.23703</td>\n",
       "      <td>1944075</td>\n",
       "      <td>One Way</td>\n",
       "    </tr>\n",
       "    <tr>\n",
       "      <th>6</th>\n",
       "      <td>5721.0</td>\n",
       "      <td>600</td>\n",
       "      <td>2016-07-07T13:04:00</td>\n",
       "      <td>3014.0</td>\n",
       "      <td>34.056610</td>\n",
       "      <td>-118.23721</td>\n",
       "      <td>Monthly Pass</td>\n",
       "      <td>30.0</td>\n",
       "      <td>2016-07-07T12:54:00</td>\n",
       "      <td>3022.0</td>\n",
       "      <td>34.046070</td>\n",
       "      <td>-118.23309</td>\n",
       "      <td>1944073</td>\n",
       "      <td>One Way</td>\n",
       "    </tr>\n",
       "    <tr>\n",
       "      <th>7</th>\n",
       "      <td>5957.0</td>\n",
       "      <td>600</td>\n",
       "      <td>2016-07-07T13:09:00</td>\n",
       "      <td>3005.0</td>\n",
       "      <td>34.048550</td>\n",
       "      <td>-118.25905</td>\n",
       "      <td>Flex Pass</td>\n",
       "      <td>365.0</td>\n",
       "      <td>2016-07-07T12:59:00</td>\n",
       "      <td>3076.0</td>\n",
       "      <td>34.040600</td>\n",
       "      <td>-118.25384</td>\n",
       "      <td>1944067</td>\n",
       "      <td>One Way</td>\n",
       "    </tr>\n",
       "    <tr>\n",
       "      <th>8</th>\n",
       "      <td>6137.0</td>\n",
       "      <td>2880</td>\n",
       "      <td>2016-07-07T13:49:00</td>\n",
       "      <td>3031.0</td>\n",
       "      <td>34.044701</td>\n",
       "      <td>-118.25244</td>\n",
       "      <td>Flex Pass</td>\n",
       "      <td>365.0</td>\n",
       "      <td>2016-07-07T13:01:00</td>\n",
       "      <td>3031.0</td>\n",
       "      <td>34.044701</td>\n",
       "      <td>-118.25244</td>\n",
       "      <td>1944062</td>\n",
       "      <td>Round Trip</td>\n",
       "    </tr>\n",
       "    <tr>\n",
       "      <th>9</th>\n",
       "      <td>6351.0</td>\n",
       "      <td>960</td>\n",
       "      <td>2016-07-07T13:17:00</td>\n",
       "      <td>3078.0</td>\n",
       "      <td>34.064281</td>\n",
       "      <td>-118.23894</td>\n",
       "      <td>Monthly Pass</td>\n",
       "      <td>30.0</td>\n",
       "      <td>2016-07-07T13:01:00</td>\n",
       "      <td>3031.0</td>\n",
       "      <td>34.044701</td>\n",
       "      <td>-118.25244</td>\n",
       "      <td>1944063</td>\n",
       "      <td>One Way</td>\n",
       "    </tr>\n",
       "  </tbody>\n",
       "</table>\n",
       "</div>"
      ],
      "text/plain": [
       "   Bike ID  Duration             End Time  Ending Station ID  \\\n",
       "0   6281.0       180  2016-07-07T04:20:00             3014.0   \n",
       "1   6281.0      1980  2016-07-07T06:33:00             3014.0   \n",
       "2   5861.0       300  2016-07-07T10:37:00             3016.0   \n",
       "3   5861.0     10860  2016-07-07T13:38:00             3016.0   \n",
       "4   6674.0       420  2016-07-07T12:58:00             3032.0   \n",
       "5   6717.0       780  2016-07-07T13:04:00             3054.0   \n",
       "6   5721.0       600  2016-07-07T13:04:00             3014.0   \n",
       "7   5957.0       600  2016-07-07T13:09:00             3005.0   \n",
       "8   6137.0      2880  2016-07-07T13:49:00             3031.0   \n",
       "9   6351.0       960  2016-07-07T13:17:00             3078.0   \n",
       "\n",
       "   Ending Station Latitude  Ending Station Longitude Passholder Type  \\\n",
       "0                34.056610                -118.23721    Monthly Pass   \n",
       "1                34.056610                -118.23721    Monthly Pass   \n",
       "2                34.052898                -118.24156       Flex Pass   \n",
       "3                34.052898                -118.24156       Flex Pass   \n",
       "4                34.049889                -118.25588         Walk-up   \n",
       "5                34.039219                -118.23649    Monthly Pass   \n",
       "6                34.056610                -118.23721    Monthly Pass   \n",
       "7                34.048550                -118.25905       Flex Pass   \n",
       "8                34.044701                -118.25244       Flex Pass   \n",
       "9                34.064281                -118.23894    Monthly Pass   \n",
       "\n",
       "   Plan Duration           Start Time  Starting Station ID  \\\n",
       "0           30.0  2016-07-07T04:17:00               3014.0   \n",
       "1           30.0  2016-07-07T06:00:00               3014.0   \n",
       "2          365.0  2016-07-07T10:32:00               3016.0   \n",
       "3          365.0  2016-07-07T10:37:00               3016.0   \n",
       "4            0.0  2016-07-07T12:51:00               3032.0   \n",
       "5           30.0  2016-07-07T12:51:00               3021.0   \n",
       "6           30.0  2016-07-07T12:54:00               3022.0   \n",
       "7          365.0  2016-07-07T12:59:00               3076.0   \n",
       "8          365.0  2016-07-07T13:01:00               3031.0   \n",
       "9           30.0  2016-07-07T13:01:00               3031.0   \n",
       "\n",
       "   Starting Station Latitude  Starting Station Longitude  Trip ID  \\\n",
       "0                  34.056610                  -118.23721  1912818   \n",
       "1                  34.056610                  -118.23721  1919661   \n",
       "2                  34.052898                  -118.24156  1933383   \n",
       "3                  34.052898                  -118.24156  1944197   \n",
       "4                  34.049889                  -118.25588  1940317   \n",
       "5                  34.045609                  -118.23703  1944075   \n",
       "6                  34.046070                  -118.23309  1944073   \n",
       "7                  34.040600                  -118.25384  1944067   \n",
       "8                  34.044701                  -118.25244  1944062   \n",
       "9                  34.044701                  -118.25244  1944063   \n",
       "\n",
       "  Trip Route Category  \n",
       "0          Round Trip  \n",
       "1          Round Trip  \n",
       "2          Round Trip  \n",
       "3          Round Trip  \n",
       "4          Round Trip  \n",
       "5             One Way  \n",
       "6             One Way  \n",
       "7             One Way  \n",
       "8          Round Trip  \n",
       "9             One Way  "
      ]
     },
     "execution_count": 98,
     "metadata": {},
     "output_type": "execute_result"
    }
   ],
   "source": [
    "bikes.head(10)"
   ]
  },
  {
   "cell_type": "markdown",
   "metadata": {},
   "source": [
    "### B2. Cleaning phase\n",
    "Describe the type and the value range of each attribute. Indicate and transform the attributes that are `Categorical`. Are there redundant columns in the dataset (i.e., are there columns whose value depends only on the value of another column)? What are the possible pitfalls of having such columns? Reduce *data redundancy* by extracting such columns to separate `DataFrames`. Which of the two formats (the initial one or the one with reduced data redundancy) is more susceptible to inconsistencies? At the end print for each `Dataframe` the *type of each column* and it's *shape*."
   ]
  },
  {
   "cell_type": "code",
   "execution_count": 99,
   "metadata": {},
   "outputs": [],
   "source": [
    "# Make a dataframe only for staionsID\n",
    "endingID = bikes.loc[:, ['Ending Station ID','Ending Station Latitude','Ending Station Longitude',]]\n",
    ".rename(index=str, columns={\"Ending Station ID\": \"stationID\",\n",
    "                            \"Ending Station Latitude\": \"Latitude\",\n",
    "                            \"Ending Station Longitude\": \"Longitude\" })\n",
    "\n",
    "startingID = bikes.loc[:, ['Starting Station ID','Starting Station Latitude','Starting Station Longitude',]]\n",
    ".rename(index=str, columns={\"Starting Station ID\": \"stationID\",\n",
    "                            \"Starting Station Latitude\": \"Latitude\",\n",
    "                            \"Starting Station Longitude\": \"Longitude\" })\n",
    "\n",
    "\n",
    "\n",
    "stations = pd.concat([endingID,startingID]).drop_duplicates().dropna(how = 'all')\n"
   ]
  },
  {
   "cell_type": "code",
   "execution_count": 107,
   "metadata": {},
   "outputs": [
    {
     "name": "stdout",
     "output_type": "stream",
     "text": [
      "      Passholder Type  Plan Duration\n",
      "0        Monthly Pass           30.0\n",
      "2           Flex Pass          365.0\n",
      "4             Walk-up            0.0\n",
      "55790    Staff Annual            NaN\n"
     ]
    }
   ],
   "source": [
    "passholder_type = bikes.loc[:,['Passholder Type','Plan Duration']].drop_duplicates(subset = 'Passholder Type')\n"
   ]
  },
  {
   "cell_type": "markdown",
   "metadata": {},
   "source": [
    "__\\* Briefly explain your approach here \\*__"
   ]
  },
  {
   "cell_type": "markdown",
   "metadata": {},
   "source": [
    "### B3. Querying phase\n",
    "Answer the following queries using the functionality of `Pandas`.\n",
    "\n",
    "1. Plot the *distribution* of the number of outgoing trips from each station in a histogram with 20 bins (Hint: each bin describes a range of counts, not stations).\n",
    "* Plot histograms for the *duration* and *trip starting hour in the day* attributes. For both the *duration*  and the *trip starting hour* use *discrete 1-hour intervals*. What do you observe in each plot? What are some popular values in the *duration* plot? Explain the local maxima and the trends you observe on the *trip starting hour* plot based on human behavior.\n",
    "* For each *trip route category*, calculate the proportion of trips by *passholder type* and present your results in *a stacked bar chart with normalized height*.\n",
    "* Considering only trips that begin in the morning hours (before noon), plot in *a single bar chart* the proportion of trips by *passholder type* and *trip route category*. Explain any outliers you observe.\n",
    "* Separate the hours of the day into two intervals that have (approximately) the same number of bikes leaving the stations. For each of the two intervals calculate the proportion of trips by *passholder type* and *trip route category*. Present your results in a `DataFrame` which has a unique, non-composite index. Does the proportion of trips depend on whether it is the first or second hour interval? Would the company have any significant benefit by creating a more complex paying scheme where monthly pass users would pay less in the first interval and (equally) more on the second one? Assume that the number of trips per interval will not change if the scheme changes."
   ]
  },
  {
   "cell_type": "code",
   "execution_count": 10,
   "metadata": {},
   "outputs": [],
   "source": [
    "# Write your code here"
   ]
  },
  {
   "cell_type": "markdown",
   "metadata": {},
   "source": [
    "__\\* Briefly explain your approach for every query here \\*__"
   ]
  }
 ],
 "metadata": {
  "kernelspec": {
   "display_name": "Python 3",
   "language": "python",
   "name": "python3"
  },
  "language_info": {
   "codemirror_mode": {
    "name": "ipython",
    "version": 3
   },
   "file_extension": ".py",
   "mimetype": "text/x-python",
   "name": "python",
   "nbconvert_exporter": "python",
   "pygments_lexer": "ipython3",
   "version": "3.6.5"
  }
 },
 "nbformat": 4,
 "nbformat_minor": 2
}
