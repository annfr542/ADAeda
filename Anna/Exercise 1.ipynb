{
 "cells": [
  {
   "cell_type": "markdown",
   "metadata": {},
   "source": [
    "# Exercise 1\n",
    " <p><div class=\"lev1\"><a href=\"#Task-A.-Another-LEGO-brick-in-the-wall\"><span class=\"toc-item-num\">Task A.&nbsp;&nbsp;</span>Another LEGO brick in the wall</a></div>\n",
    " <p><div class=\"lev1\"><a href=\"#Task-B.-Drop-the-Bike\"><span class=\"toc-item-num\">Task B.&nbsp;&nbsp;</span>Drop the Bike</a></div>"
   ]
  },
  {
   "cell_type": "code",
   "execution_count": 1,
   "metadata": {},
   "outputs": [],
   "source": [
    "# Add your imports here\n",
    "# Importing pandas and numpy\n",
    "import pandas as pd\n",
    "import numpy as np\n",
    "import re\n",
    "import matplotlib.pyplot as plt"
   ]
  },
  {
   "cell_type": "code",
   "execution_count": 2,
   "metadata": {},
   "outputs": [],
   "source": [
    "DATA_FOLDER = 'data'"
   ]
  },
  {
   "cell_type": "markdown",
   "metadata": {},
   "source": [
    "## Task A. Another LEGO brick in the wall\n",
    "\n",
    "LEGO is a popular brand of toy building bricks. They are often sold in sets in order to build a specific object. Each set contains a number of parts in different shapes, sizes and colors. This database contains information on which parts are included in different LEGO sets. It was originally compiled to help people who owned some LEGO sets already figure out what other sets they could build with the pieces they had.\n",
    "\n",
    "This dataset contains the official LEGO colors, parts, inventories (i.e., sets of LEGO parts which assembled create an object in the LEGO world) and sets (i.e., sets of LEGO inventories which assembled create a LEGO ecosystem). The schema of the dataset can be shown in the following UML diagram: \n",
    "\n",
    "![lego-schema](lego-schema.png)\n",
    "\n",
    "In this task you have to apply the following Data Wrangling pipeline:\n",
    "1. Load your data into `Pandas`\n",
    "* Explore it and clean its dirty parts\n",
    "* Use it to answer a set of queries\n",
    "\n",
    "Each of these subtasks are described in detail below."
   ]
  },
  {
   "cell_type": "markdown",
   "metadata": {},
   "source": [
    "### A1. Loading phase\n",
    "Load all the csv files into different `DataFrames`. Use meaningful names for your `DataFrames` (e.g., the respective filenames).\n",
    "\n",
    "*Hint: You can load files without first unzipping them (for `Pandas` version >= 0.18.1).*"
   ]
  },
  {
   "cell_type": "code",
   "execution_count": 3,
   "metadata": {},
   "outputs": [],
   "source": [
    "LEGO_DATA_FOLDER = DATA_FOLDER + '/lego'"
   ]
  },
  {
   "cell_type": "code",
   "execution_count": 4,
   "metadata": {},
   "outputs": [],
   "source": [
    "# Write your code here\n",
    "colors = pd.read_csv(LEGO_DATA_FOLDER + \"/colors.csv.zip\")\n",
    "inventories = pd.read_csv(LEGO_DATA_FOLDER + \"/inventories.csv.zip\")\n",
    "inventory_parts = pd.read_csv(LEGO_DATA_FOLDER + \"/inventory_parts.csv.zip\")\n",
    "inventory_sets = pd.read_csv(LEGO_DATA_FOLDER + \"/inventory_sets.csv.zip\")\n",
    "part_categories = pd.read_csv(LEGO_DATA_FOLDER + \"/part_categories.csv.zip\")\n",
    "parts = pd.read_csv(LEGO_DATA_FOLDER + \"/parts.csv.zip\")\n",
    "sets = pd.read_csv(LEGO_DATA_FOLDER + \"/sets.csv.zip\")\n",
    "themes = pd.read_csv(LEGO_DATA_FOLDER + \"/themes.csv.zip\")"
   ]
  },
  {
   "cell_type": "markdown",
   "metadata": {},
   "source": [
    "### A2. Cleaning phase\n",
    "Explore the following columns from your dataset:\n",
    "\n",
    "1. sets: year\n",
    "* inventory_parts: quantity\n",
    "\n",
    "What is the time range of the sets? \n",
    "What is the average quantity of the inventory parts? \n",
    "Do you see any inconsistencies? \n",
    "Provide code that detects and cleans such inconsistencies and validates the coherence of your dataset. "
   ]
  },
  {
   "cell_type": "code",
   "execution_count": 5,
   "metadata": {},
   "outputs": [
    {
     "name": "stdout",
     "output_type": "stream",
     "text": [
      "0       70s\n",
      "1      1978\n",
      "2      1987\n",
      "3      1979\n",
      "4      1979\n",
      "5      1979\n",
      "6      1979\n",
      "7     19788\n",
      "8      1976\n",
      "9      1976\n",
      "10     1976\n",
      "11     1965\n",
      "12     1985\n",
      "13     1976\n",
      "14     1965\n",
      "15     1968\n",
      "16     1968\n",
      "17     1968\n",
      "18     1999\n",
      "19     1968\n",
      "Name: year, dtype: object\n",
      "float64\n"
     ]
    }
   ],
   "source": [
    "# 1. Cleaning Sets: year\n",
    "\n",
    "print(sets.year.head(20))\n",
    "\n",
    "# Make all negative years positive\n",
    "sets['year'] = sets['year'].apply(lambda x: x[1:] if x[0] == \"-\" else x)\n",
    "\n",
    "# Delete last digit if year have 5 digits\n",
    "sets['year'] = sets['year'].apply(lambda x: x[:-1] if len(x) == 5 else x)\n",
    "\n",
    "# Change 70s to NAN \n",
    "sets['year'] = sets['year'].apply(lambda x: np.nan if len(x) == 3 else x)\n",
    "\n",
    "# Change years to datetime\n",
    "sets['year'] = sets['year'].apply(lambda x: pd.to_datetime(x).year)\n",
    "\n",
    "# Check the type of sets year - should be float64\n",
    "print(sets.year.dtype)\n",
    "\n",
    "\n"
   ]
  },
  {
   "cell_type": "code",
   "execution_count": 6,
   "metadata": {},
   "outputs": [
    {
     "name": "stdout",
     "output_type": "stream",
     "text": [
      "The time range is 67.0 years, between 1950 and 2017.\n"
     ]
    }
   ],
   "source": [
    "# Calculate time range\n",
    "first_year = sets.year.min()\n",
    "last_year = sets.year.max()\n",
    "time_range = last_year - first_year\n",
    "print('The time range is ' + str(time_range) + \" years, between \" + str(np.int(first_year)) + \" and \" + str(np.int(last_year)) + \".\")"
   ]
  },
  {
   "cell_type": "code",
   "execution_count": 7,
   "metadata": {},
   "outputs": [
    {
     "name": "stdout",
     "output_type": "stream",
     "text": [
      "The quantity average is 2.77\n",
      "10.08 % of the values are equal to zero\n"
     ]
    }
   ],
   "source": [
    "# Cleaning inventory_parts: quantity\n",
    "# Replace all infinite values in cells with ifinity to 0\n",
    "inventory_parts.quantity = inventory_parts.quantity.replace([np.inf, -np.inf], 0.0)\n",
    "\n",
    "# Calculate the average \n",
    "average = np.around(np.average(inventory_parts.quantity),2)\n",
    "\n",
    "# Count amount of values equaling zero\n",
    "quantity_zero = (inventory_parts['quantity'] == 0).sum()\n",
    "percentage_zero = np.around(quantity_zero/inventory_parts.quantity.sum() * 100,2)\n",
    "\n",
    "# Print results\n",
    "print('The quantity average is ' + str(average) + \n",
    "'\\n' + str(percentage_zero) + ' % of the values are equal to zero' )\n"
   ]
  },
  {
   "cell_type": "markdown",
   "metadata": {},
   "source": [
    "__\\* Briefly explain your approach here \\*__\n",
    "\n",
    "#### Cleaning sets by the column year\n",
    "1. Print years to see examples of inconsistencies in the data. Examples of inconsistencies are negative years, years with five digits and years written as decade+\"s\"(70s, 80s, etc).\n",
    "2. Cleaning:\n",
    "    1. First, all negative years are turned positive.\n",
    "    2. Secondly, all years with 5 digits are turned into 4 digit numbers. We assume that the last digit has been repeated and therefore remove it. For example, 20011 is turned into 2001.\n",
    "    3. Lastly we changed all values to NAN where the year is written as decade+\"s\", as there is no way of knowing in which year of the decade the set is from.\n",
    "    4. Change values to datetime\n",
    "3. Calculate the time range for the sets\n",
    "    \n",
    "#### Cleaning inventory_parts by the column quantity\n",
    "1. Print quantity to see examples of inconsistencies in the data. An example of an inconsistency is that some of the quantities are written as \"-inf\".\n",
    "2. Cleaning:\n",
    "    1. Set all quantities with the value \"-inf\" to 0.0 instead, as 0.0 is not used in the rest of the array. This way the data will remain but functions such as count, sum etc. can be applied to the column.\n",
    "3. Calculate the average quantity\n",
    "4. Calculate the percentage of zero values\n"
   ]
  },
  {
   "cell_type": "markdown",
   "metadata": {},
   "source": [
    "### A3. Querying phase\n",
    "Answer the following queries using the functionality of `Pandas`:\n",
    "\n",
    "1. List the ids of the inventories that belong to sets that contain cars. (*Hint: Find a smart way to distinguish which sets contain cars based on the sets' name*).\n",
    "* Plot the distribution of part categories as a (horizontal) bar chart. Restrict yourself to the 20 largest part categories (in terms of the number of parts belonging to the category).\n",
    "* Find the dominant color of each set. Then, plot using a (horizontal) bar chart, the number of sets per dominant color. Color each bar with the respective color that it represents.\n",
    "* Create a scatter plot of the *luminance*\\* of the sets vs their publishing year. What do you observe for the years 1980-1981? How do you interpret what you see?\n",
    "\n",
    "\\*The luminance of a color is a [measure of brightness](https://en.wikipedia.org/wiki/Luminance) which, given its RGB representation, can be computed as follows:\n",
    "\n",
    "$luminance = \\sqrt{0.299*R^2 + 0.587*G^2 + 0.114*B^2}$"
   ]
  },
  {
   "cell_type": "code",
   "execution_count": 8,
   "metadata": {},
   "outputs": [
    {
     "name": "stdout",
     "output_type": "stream",
     "text": [
      "The ids of the inventories that belong to sets that contain cars  are: [13941, 10158, 13083, 5358, 13380, 8202, 16131, 1716, 10406, 14174, 7430, 14711, 12851, 10515, 14919, 2814, 15010, 5904, 7151, 11966, 8140, 6066, 1649, 6530, 14011, 2917, 6086, 1371, 13427, 528, 14493, 908, 2559, 6296, 10028, 12110, 1401, 1418, 1732, 3109, 3764, 4430, 4969, 5857, 11861, 13696, 15694, 7363, 4051, 8820, 7881, 4187, 13355, 13398, 8348, 9426, 12437, 500]\n"
     ]
    }
   ],
   "source": [
    "# Task 1\n",
    "# Get sets with \"car\\s\" in the name:\n",
    "cars = r'^(?:.*\\s)?cars?(?:\\s.*)?$'\n",
    "car_sets = sets[sets.name.str.contains(cars, flags=re.IGNORECASE)]\n",
    "\n",
    "# Merge with inventory_sets to find the inventory ids\n",
    "inventory_sets_cars = pd.merge(car_sets, inventory_sets, left_on='id', right_on='set_id')\n",
    "\n",
    "# Drop all duplicates and make the ids into a list\n",
    "cars_inventories = inventory_sets_cars.inventory_id.drop_duplicates().tolist()\n",
    "\n",
    "# Print all ids\n",
    "print('The ids of the inventories that belong to sets that contain cars  are: ' +  str(cars_inventories))\n",
    "\n"
   ]
  },
  {
   "cell_type": "code",
   "execution_count": 9,
   "metadata": {},
   "outputs": [
    {
     "data": {
      "text/plain": [
       "Text(0.5,1,'Distribution of parts')"
      ]
     },
     "execution_count": 9,
     "metadata": {},
     "output_type": "execute_result"
    },
    {
     "data": {
      "image/png": "[encoded data removed]",
      "text/plain": [
       "<Figure size 720x504 with 1 Axes>"
      ]
     },
     "metadata": {},
     "output_type": "display_data"
    }
   ],
   "source": [
    "# Task 2 \n",
    "# Count how many parts there are in each category. Select the 20 largest categories \n",
    "number_of_parts = parts.part_cat_id.value_counts().head(20)\n",
    "\n",
    "# Join the most used parts with the part categories to get access to the part category names:\n",
    "names = number_of_parts.to_frame().join(part_categories.set_index('id')).name.values\n",
    "\n",
    "# Plot names on the y-axis and plot number of parts on the x-axis\n",
    "y_pos = np.arange(len(names))\n",
    "x_pos = number_of_parts.values\n",
    "\n",
    "# Set plot variables\n",
    "plt.rcParams[\"figure.figsize\"] = [10, 7]\n",
    "plt.barh(y_pos, x_pos, align='center', alpha=0.5)\n",
    "plt.yticks(y_pos, names)\n",
    "\n",
    "# Set labels for the axises\n",
    "plt.xlabel('Number of parts in category')\n",
    "plt.title('Distribution of parts')"
   ]
  },
  {
   "cell_type": "code",
   "execution_count": 10,
   "metadata": {},
   "outputs": [
    {
     "name": "stdout",
     "output_type": "stream",
     "text": [
      "     set_id  color_id  total_quantity\n",
      "16  10233-1    9999.0             1.0\n",
      "17  88002-1    9999.0             1.0\n"
     ]
    }
   ],
   "source": [
    "# Task 3 - Getting the right data\n",
    "\n",
    "# Merge inventory_sets and inventory_parts on inventory_id\n",
    "# Making sure that the quantity columns are relabeled (quantity from inventory_sets \n",
    "# denotes #inventories, quantity from inventory_parts denotes #parts)\n",
    "df = inventory_sets.join(inventory_parts.set_index('inventory_id'), \n",
    "                         how=\"left\", \n",
    "                         on=\"inventory_id\",\n",
    "                         lsuffix=\"_inventories\", \n",
    "                         rsuffix=\"_parts\")\n",
    "\n",
    "# Remove rows in which the number of parts are 0. (There are never any rows in which the quantity_inventories are 0)\n",
    "df = df[df['quantity_parts'] != 0]\n",
    "\n",
    "# Create a new column with the total quantity of parts by multiplying the quantity of inventories and the quantity\n",
    "# of parts for a set\n",
    "df['total_quantity'] = df.quantity_inventories * df.quantity_parts\n",
    "\n",
    "# Remove unnecessary columns\n",
    "df = df.drop(['inventory_id','quantity_inventories','part_id','quantity_parts','is_spare'], axis = 1).dropna()\n",
    "\n",
    "# Small example of the data\n",
    "print(df.head(2))"
   ]
  },
  {
   "cell_type": "code",
   "execution_count": 11,
   "metadata": {},
   "outputs": [],
   "source": [
    "# Task 3 - Calculating the dominant color for each set\n",
    "def findDominantColor(data):\n",
    "    color = data.groupby('color_id').total_quantity.apply(lambda y: y.sum())\n",
    "    return color.idxmax()\n",
    "\n",
    "# Create a series with the dominant color for each set\n",
    "dominant_colors = df.groupby('set_id').apply(lambda set_ID: findDominantColor(set_ID))\n",
    "\n",
    "# Count the values and join with color dataframe to get the rgb values\n",
    "color_distribution = dominant_colors.value_counts().to_frame(name = 'freq')\n",
    "color_distribution = colors.loc[:,['id','rgb', 'name']].set_index('id').join(color_distribution).dropna()\n",
    "\n",
    "# Sort cells by freq \n",
    "color_distribution = color_distribution.sort_values('freq')\n"
   ]
  },
  {
   "cell_type": "code",
   "execution_count": 12,
   "metadata": {},
   "outputs": [
    {
     "data": {
      "image/png": "[encoded data removed]",
      "text/plain": [
       "<Figure size 1080x720 with 1 Axes>"
      ]
     },
     "metadata": {},
     "output_type": "display_data"
    }
   ],
   "source": [
    "# Task 3 - plot\n",
    "\n",
    "# Plot names of colors on the y-axis and the frequency of the colors on the x-axis\n",
    "y = color_distribution.name\n",
    "y_pos = np.arange(len(y))\n",
    "x = color_distribution.freq\n",
    "\n",
    "# Set plot parameters\n",
    "plt.rcParams[\"figure.figsize\"] = [15, 10]\n",
    "\n",
    "# Use the rgb value to pick the colors for the bars\n",
    "plt.barh(y_pos, x, align='center', alpha=0.5, color = '#' + color_distribution.rgb, edgecolor = 'black')\n",
    "plt.yticks(y_pos, y)\n",
    "\n",
    "# Set titles\n",
    "plt.title('Distribution of dominant colors in sets')\n",
    "plt.xlabel('Frequency of the colors')\n",
    "\n",
    "plt.show()"
   ]
  },
  {
   "cell_type": "code",
   "execution_count": 13,
   "metadata": {},
   "outputs": [],
   "source": [
    "# Make dominant_colors into a DataFrame\n",
    "dominant_colors = dominant_colors.to_frame('color_id')"
   ]
  },
  {
   "cell_type": "code",
   "execution_count": 14,
   "metadata": {},
   "outputs": [],
   "source": [
    "# Task 4 - Getting the right data\n",
    "\n",
    "# Join with colors to get the rgb values\n",
    "colors_clean = colors.loc[:,['id','rgb']].set_index('id')\n",
    "dominant_colors_rgb = dominant_colors.reset_index().set_index('color_id').join(colors_clean).drop_duplicates()\n",
    "\n",
    "# Join with sets to get the years\n",
    "years = sets.loc[:,['id','year']]\n",
    "lum_df = dominant_colors_rgb.set_index('set_id').join(years.set_index('id')).dropna()\n",
    "lum_df = lum_df.loc[:, ['rgb', 'year']]\n"
   ]
  },
  {
   "cell_type": "code",
   "execution_count": 15,
   "metadata": {},
   "outputs": [
    {
     "data": {
      "text/plain": [
       "<matplotlib.axes._subplots.AxesSubplot at 0x10bb716a0>"
      ]
     },
     "execution_count": 15,
     "metadata": {},
     "output_type": "execute_result"
    },
    {
     "data": {
      "image/png": "[encoded data removed]",
      "text/plain": [
       "<Figure size 1080x720 with 1 Axes>"
      ]
     },
     "metadata": {},
     "output_type": "display_data"
    }
   ],
   "source": [
    "# Task 4 - calculate the luminance\n",
    "\n",
    "# Import sqrt\n",
    "from math import sqrt\n",
    "\n",
    "# Function to calculate luminance from rgb\n",
    "def rgb_to_lum(x):\n",
    "    R, G, B = (int(x[i:i+2], 16) for i in (0, 2, 4))\n",
    "    return sqrt(0.299*(R**2) + 0.587*(G**2) + 0.114*(B**2))\n",
    "\n",
    "# Calculate the luminance based on the rgb-values\n",
    "lum_df['luminance'] = lum_df['rgb'].apply(rgb_to_lum)\n",
    "\n",
    "# Plot the luminance as a scatter plot\n",
    "lum_df.plot.scatter(x='year', y='luminance')\n",
    "\n"
   ]
  },
  {
   "cell_type": "markdown",
   "metadata": {},
   "source": [
    "In general the luminance is lower in the later years. In 1980-1981 the luminance isn't varied, only two different luminances are found.  \n"
   ]
  },
  {
   "cell_type": "markdown",
   "metadata": {},
   "source": [
    "__\\* Briefly explain your approach for every query here \\*__\n",
    "\n",
    "Query 1\n",
    "1. Find all the sets with names including \"car\" or \"cars\" with blank space before and after. This means we obtain sets like \"Shell Car Wash\" even though this is not a car\n",
    "2. Find the inventory ids for those sets\n",
    "3. Print the list och the inventories\n",
    "\n",
    "Query 2 \n",
    "1. Count how many parts there are in each category. Select the 20 largest categories \n",
    "2. Find the category names\n",
    "3. Plot the distribution of part categories\n",
    "\n",
    "Query 3\n",
    "1. Clean data and create a dataFrame with colums containing data for: set_id, color_id and total_quantity. Total_quantity is the total amount of a specific part in the specified set.\n",
    "2. Find the dominant color for each set by summerizing the number of parts of the same color in the same set and then choose the color with the maximum number of parts\n",
    "3. Count the number of sets that correspond to each color\n",
    "4. Plot the color distrubution in a bar graph.\n",
    "\n",
    "Query 4\n",
    "1. Use the dataframe with dominant color for each set and join it with colors to get the rgb values\n",
    "2. Join with sets to get the years for each set\n",
    "3. Calculate the luminance for each rgb-value\n",
    "4. Plot"
   ]
  },
  {
   "cell_type": "markdown",
   "metadata": {},
   "source": [
    "## Task B. Drop the bike\n",
    "\n",
    "*Los Angeles Metro* has been sharing publicly [anonymized *Metro Bike Share* trip data](https://bikeshare.metro.net/about/data/) under the [Open Database License (ODbL)](http://opendatacommons.org/licenses/odbl/1.0/).\n",
    "\n",
    "In this task you will again perform data wrangling and interpretation."
   ]
  },
  {
   "cell_type": "markdown",
   "metadata": {},
   "source": [
    "### B1. Loading phase\n",
    "Load the json file into a `DataFrame`.\n"
   ]
  },
  {
   "cell_type": "code",
   "execution_count": 16,
   "metadata": {},
   "outputs": [],
   "source": [
    "BIKES_DATA_FOLDER = DATA_FOLDER + '/bikes'"
   ]
  },
  {
   "cell_type": "code",
   "execution_count": 17,
   "metadata": {},
   "outputs": [],
   "source": [
    "# Write your code here\n",
    "bikes = pd.read_json(BIKES_DATA_FOLDER + '/metro-bike-share-trip-data.json.zip')"
   ]
  },
  {
   "cell_type": "markdown",
   "metadata": {},
   "source": [
    "### B2. Cleaning phase\n",
    "Describe the type and the value range of each attribute. Indicate and transform the attributes that are `Categorical`. Are there redundant columns in the dataset (i.e., are there columns whose value depends only on the value of another column)? What are the possible pitfalls of having such columns? Reduce *data redundancy* by extracting such columns to separate `DataFrames`. Which of the two formats (the initial one or the one with reduced data redundancy) is more susceptible to inconsistencies? At the end print for each `Dataframe` the *type of each column* and it's *shape*."
   ]
  },
  {
   "cell_type": "code",
   "execution_count": 18,
   "metadata": {},
   "outputs": [
    {
     "name": "stdout",
     "output_type": "stream",
     "text": [
      "Bike ID:\n",
      " Type: float64,\n",
      " Max: 6728.000000,\n",
      " Min: 1349.000000,\n",
      " Value range: 5379.000000\n",
      "Duration:\n",
      " Type: int64,\n",
      " Max: 86400.000000,\n",
      " Min: 60.000000,\n",
      " Value range: 86340.000000\n",
      "Ending Station ID:\n",
      " Type: float64,\n",
      " Max: 4108.000000,\n",
      " Min: 3000.000000,\n",
      " Value range: 1108.000000\n",
      "Ending Station Latitude:\n",
      " Type: float64,\n",
      " Max: 34.064281,\n",
      " Min: 0.000000,\n",
      " Value range: 34.064281\n",
      "Ending Station Longitude:\n",
      " Type: float64,\n",
      " Max: 0.000000,\n",
      " Min: -118.472832,\n",
      " Value range: 118.472832\n",
      "Plan Duration:\n",
      " Type: float64,\n",
      " Max: 365.000000,\n",
      " Min: 0.000000,\n",
      " Value range: 365.000000\n",
      "Starting Station ID:\n",
      " Type: float64,\n",
      " Max: 4108.000000,\n",
      " Min: 3000.000000,\n",
      " Value range: 1108.000000\n",
      "Starting Station Latitude:\n",
      " Type: float64,\n",
      " Max: 34.064281,\n",
      " Min: 0.000000,\n",
      " Value range: 34.064281\n",
      "Starting Station Longitude:\n",
      " Type: float64,\n",
      " Max: 0.000000,\n",
      " Min: -118.472832,\n",
      " Value range: 118.472832\n",
      "Trip ID:\n",
      " Type: int64,\n",
      " Max: 23794218.000000,\n",
      " Min: 1912818.000000,\n",
      " Value range: 21881400.000000\n",
      "End Time:\n",
      " Type: object,\n",
      " Max: 2017-04-02T10:32:00,\n",
      " Min: 2016-07-07T04:20:00, \n",
      " Value range between 2017-04-02T10:32:00 and 2016-07-07T04:20:00\n",
      "Start Time:\n",
      " Type: object,\n",
      " Max: 2017-03-31T23:45:00,\n",
      " Min: 2016-07-07T04:17:00, \n",
      " Value range between 2017-03-31T23:45:00 and 2016-07-07T04:17:00\n",
      "Passholder Type:\n",
      " Type: object, \n",
      " Max: does not exist,\n",
      " Min: does not exist,\n",
      " Value can range between the following: ['Monthly Pass', 'Walk-up', 'Flex Pass', 'Staff Annual']\n",
      "Trip Route Category Type:\n",
      " Type: object, \n",
      " Max: does not exist,\n",
      " Min: does not exist,\n",
      " Value can range between the following: ['One Way', 'Round Trip']\n"
     ]
    }
   ],
   "source": [
    "# Describe type and value range\n",
    "# Check min and max to get value range\n",
    "bikes_max_min = bikes.describe(include=[np.number]).loc[['min','max']]\n",
    "value_range = bikes_max_min.loc['max'] - bikes_max_min.loc['min']\n",
    "\n",
    "# Print for all numerical values\n",
    "[print(\n",
    "    '{0:1}:\\n Type: {1:1},\\n Max: {2:.6f},\\n Min: {3:.6f},\\n Value range: {4:0.6f}'.\n",
    "    format(\n",
    "        i,\n",
    "        str(bikes.dtypes.loc[i]),\n",
    "        bikes_max_min.loc['max', i],\n",
    "        bikes_max_min.loc['min', i],\n",
    "        value_range[i]\n",
    "    )\n",
    ") for i in bikes_max_min.columns]\n",
    "\n",
    "# Decide max and min for End Time\n",
    "end_time_max = bikes['End Time'].max()\n",
    "end_time_min = bikes['End Time'].min()\n",
    "\n",
    "# Decide max and min for Start Time\n",
    "start_time_max = bikes['Start Time'].max()\n",
    "start_time_min = bikes['Start Time'].min()\n",
    "\n",
    "print('End Time:\\n Type: {0:1},\\n Max: {1:1},\\n Min: {2:1}, \\n Value range between {3:1} and {4:1}'.\n",
    "      format(str(bikes['End Time'].dtypes), end_time_max, end_time_min, end_time_max, end_time_min))\n",
    "\n",
    "print('Start Time:\\n Type: {0:1},\\n Max: {1:1},\\n Min: {2:1}, \\n Value range between {3:1} and {4:1}'.\n",
    "      format(str(bikes['Start Time'].dtypes), start_time_max, start_time_min, start_time_max, start_time_min))\n",
    "\n",
    "print(('Passholder Type:\\n Type: {0:1}, \\n Max: does not exist,\\n Min: does not exist,' +\n",
    "      '\\n Value can range between the following: {1:1}').\n",
    "      format(str(bikes['Passholder Type'].dtypes), str(bikes['Passholder Type'].value_counts().index.tolist())))\n",
    "\n",
    "print(('Trip Route Category Type:\\n Type: {0:1}, \\n Max: does not exist,\\n Min: does not exist,' +\n",
    "      '\\n Value can range between the following: {1:1}').\n",
    "      format(str(bikes['Trip Route Category'].dtypes), str(bikes['Trip Route Category'].value_counts().index.tolist())))\n"
   ]
  },
  {
   "cell_type": "code",
   "execution_count": 19,
   "metadata": {},
   "outputs": [],
   "source": [
    "# The columns 'Trip Route Category' and 'Passholder Type' are objects of string characters\n",
    "# which can be mapped to categories\n",
    "bikes['Trip Route Category'] = bikes['Trip Route Category'].astype('category')\n",
    "bikes['Passholder Type'] = bikes['Passholder Type'].astype('category')\n",
    "\n",
    "# For 'Passholder Type', we see that 'Plan Duration' is NaN for the category 'Staff Annual'.\n",
    "# Since the name is annual, we change NaN to 365\n",
    "index_staff_annual = bikes[bikes['Passholder Type'].apply(lambda x: x == 'Staff Annual')].index\n",
    "bikes.loc[index_staff_annual, 'Plan Duration'] = 365\n",
    "\n",
    "# Get index for remaining nan values in category 'Monthly Pass'\n",
    "index_remaining_nan = bikes[bikes['Passholder Type'].apply(lambda x: x == 'Monthly Pass') & \n",
    "                            bikes['Plan Duration'].isnull()].index\n",
    "\n",
    "# Only 'Monthly Pass' has NaN values, change these to 30\n",
    "bikes.loc[index_remaining_nan, 'Plan Duration'] = 30\n",
    "\n",
    "# Drop all rows where latitude (if latitude is missing, so is longitude) or bike id is missing \n",
    "bikes = bikes.dropna(subset=['Ending Station Latitude', 'Starting Station Latitude', 'Bike ID'])\n",
    "\n"
   ]
  },
  {
   "cell_type": "code",
   "execution_count": 20,
   "metadata": {},
   "outputs": [],
   "source": [
    "# Seperate dataframes\n",
    "# Plan duration is dependent on passholder type, therefor it can be saved in a seperate df\n",
    "passholder_type = bikes[['Passholder Type','Plan Duration']].drop_duplicates().reset_index(drop = True)\n",
    "\n",
    "# We also can match the station to their latitude and longitude, which can be saved in a seperate Dataframe\n",
    "# A Station ID can have two different longitudes. We round these values which make them correspond and then drop\n",
    "# the duplicates. The values are sorted and the table is reindexed.\n",
    "stationID = pd.concat(\n",
    "    [bikes[['Ending Station ID', 'Ending Station Latitude', 'Ending Station Longitude']\n",
    "          ].rename(index=str, columns={\"Ending Station ID\": \"Station ID\",\n",
    "                            \"Ending Station Latitude\": \"Latitude\",\n",
    "                            \"Ending Station Longitude\": \"Longitude\" }),\n",
    "     bikes[['Starting Station ID', 'Starting Station Latitude', 'Starting Station Longitude']\n",
    "          ].rename(index=str, columns={\"Starting Station ID\": \"Station ID\",\n",
    "                            \"Starting Station Latitude\": \"Latitude\",\n",
    "                            \"Starting Station Longitude\": \"Longitude\" })],\n",
    "    sort=False).round(5).drop_duplicates().sort_values(by=['Station ID']).reset_index(drop=True)"
   ]
  },
  {
   "cell_type": "code",
   "execution_count": 21,
   "metadata": {},
   "outputs": [],
   "source": [
    "# Other redundant columns are Duration and Trip Rooute Category\n",
    "duration = bikes[['Duration']]\n",
    "t_r_c = bikes[['Trip Route Category']]"
   ]
  },
  {
   "cell_type": "code",
   "execution_count": 22,
   "metadata": {},
   "outputs": [],
   "source": [
    "# Drop the columns that we extracted into new dataframes\n",
    "bikes = bikes.drop(['Duration', 'Plan Duration', 'Trip Route Category','Ending Station Latitude', 'Ending Station Longitude',\n",
    "                    'Starting Station Latitude', 'Starting Station Longitude'], axis=1)\n"
   ]
  },
  {
   "cell_type": "code",
   "execution_count": 23,
   "metadata": {},
   "outputs": [
    {
     "name": "stdout",
     "output_type": "stream",
     "text": [
      "The datatype of each column in bikes:\n",
      "Bike ID                 float64\n",
      "End Time                 object\n",
      "Ending Station ID       float64\n",
      "Passholder Type        category\n",
      "Start Time               object\n",
      "Starting Station ID     float64\n",
      "Trip ID                   int64\n",
      "dtype: object\n",
      "The shape of bikes is (131327, 7)\n",
      "\n",
      "The datatype of each column in passholder_type:\n",
      "Passholder Type    category\n",
      "Plan Duration       float64\n",
      "dtype: object\n",
      "The shape of passholder_type is (4, 2)\n",
      "\n",
      "The datatype of each column in stationID:\n",
      "Station ID    float64\n",
      "Latitude      float64\n",
      "Longitude     float64\n",
      "dtype: object\n",
      "The shape of stationID is (67, 3)\n",
      "\n",
      "The datatype of each column in duration:\n",
      "Duration    int64\n",
      "dtype: object\n",
      "The shape of duration is (131327, 1)\n",
      "\n",
      "The datatype of each column in t_r_c:\n",
      "Trip Route Category    category\n",
      "dtype: object\n",
      "The shape of t_r_c is (131327, 1)\n"
     ]
    }
   ],
   "source": [
    "# Print all frames\n",
    "\n",
    "# bikes\n",
    "print('The datatype of each column in bikes:')\n",
    "print(bikes.dtypes)\n",
    "print(\"The shape of bikes is\", bikes.shape)\n",
    "\n",
    "# passholder type\n",
    "print('\\nThe datatype of each column in passholder_type:')\n",
    "print(passholder_type.dtypes)\n",
    "print(\"The shape of passholder_type is\", passholder_type.shape)\n",
    "\n",
    "# stationID\n",
    "print('\\nThe datatype of each column in stationID:')\n",
    "print(stationID.dtypes)\n",
    "print(\"The shape of stationID is\", stationID.shape)\n",
    "\n",
    "# duration\n",
    "print('\\nThe datatype of each column in duration:')\n",
    "print(duration.dtypes)\n",
    "print(\"The shape of duration is\", duration.shape)\n",
    "\n",
    "# t_r_c\n",
    "print('\\nThe datatype of each column in t_r_c:')\n",
    "print(t_r_c.dtypes)\n",
    "print(\"The shape of t_r_c is\", t_r_c.shape)"
   ]
  },
  {
   "cell_type": "markdown",
   "metadata": {},
   "source": [
    "__\\* Briefly explain your approach here \\*__\n",
    "\n",
    "#### Check type and value range of each attribute\n",
    "1. First check type and value range of numerical values\n",
    "2. Then do it for object types\n",
    "\n",
    "#### Categorical\n",
    "1. First check which categories are based on string characters\n",
    "2. Then transform these to the Category type\n",
    "\n",
    "#### Data redundancy\n",
    "1. We extract 'Plan Duration' since it's directly connected to the 'Passholder Type'\n",
    "2. We extract station IDs, latitude and longitude to create a new dataframe where the IDs are matched with the longitudes\n",
    "3. Other redundant columns are 'Duration' and 'Trip Route Category', since these can be calculated from other columns. These are therefore also extracted to new dataframes. (Not necessary - Only because the task description say we have to)\n",
    "4. Drop the columns from bikes that are extracted into new dataframes.\n",
    "\n",
    "Pitfalls of having redundant columns are that they take up memory space, if data is compromised in that column the entire is dirty without having to be and it is harder for a human to handle and oversee a big dataset.\n",
    "\n",
    "The initial one is more susceptible to inconsistencies. For example, if one value of Duration has been accidentally set to an incorrect value in the first dataset it is not sure the user will notice this. If Duration is calculated based on End Time and Start Time, it will give the correct Duration between these times for each row. However this does not help if End Time or Start Time has been compromised. Another issue that might create inconsistencies for the one with reduced data redundancy is if operations are made on the extracted datasets that change their shape/size, indices etc. so the datasets no longer corresponds to the first dataset. Therefore you have to make sure the data still matches."
   ]
  },
  {
   "cell_type": "markdown",
   "metadata": {},
   "source": [
    "### B3. Querying phase\n",
    "Answer the following queries using the functionality of `Pandas`.\n",
    "\n",
    "1. Plot the *distribution* of the number of outgoing trips from each station in a histogram with 20 bins (Hint: each bin describes a range of counts, not stations).\n",
    "* Plot histograms for the *duration* and *trip starting hour in the day* attributes. For both the *duration*  and the *trip starting hour* use *discrete 1-hour intervals*. What do you observe in each plot? What are some popular values in the *duration* plot? Explain the local maxima and the trends you observe on the *trip starting hour* plot based on human behavior.\n",
    "* For each *trip route category*, calculate the proportion of trips by *passholder type* and present your results in *a stacked bar chart with normalized height*.\n",
    "* Considering only trips that begin in the morning hours (before noon), plot in *a single bar chart* the proportion of trips by *passholder type* and *trip route category*. Explain any outliers you observe.\n",
    "* Separate the hours of the day into two intervals that have (approximately) the same number of bikes leaving the stations. For each of the two intervals calculate the proportion of trips by *passholder type* and *trip route category*. Present your results in a `DataFrame` which has a unique, non-composite index. Does the proportion of trips depend on whether it is the first or second hour interval? Would the company have any significant benefit by creating a more complex paying scheme where monthly pass users would pay less in the first interval and (equally) more on the second one? Assume that the number of trips per interval will not change if the scheme changes."
   ]
  },
  {
   "cell_type": "code",
   "execution_count": 31,
   "metadata": {},
   "outputs": [
    {
     "data": {
      "text/plain": [
       "Text(0.5,1,'Distribution of the number of outgoing trips')"
      ]
     },
     "execution_count": 31,
     "metadata": {},
     "output_type": "execute_result"
    },
    {
     "data": {
      "image/png": "[encoded data removed]",
      "text/plain": [
       "<Figure size 1080x720 with 1 Axes>"
      ]
     },
     "metadata": {},
     "output_type": "display_data"
    }
   ],
   "source": [
    "#Task B3.1\n",
    "\n",
    "# Pick out the 'Starting Station ID' column and count the number of times a station has been started from.\n",
    "starting_stations_count = bikes['Starting Station ID'].value_counts()\n",
    "\n",
    "# Plot histogram\n",
    "starting_stations_count.hist(bins=20)# Write your code here\n",
    "\n",
    "# Set labels\n",
    "plt.xlabel('Number of outgoing trips')\n",
    "plt.ylabel('Number of stations')\n",
    "plt.title('Distribution of the number of outgoing trips')"
   ]
  },
  {
   "cell_type": "code",
   "execution_count": 32,
   "metadata": {},
   "outputs": [
    {
     "data": {
      "text/plain": [
       "Text(0.5,1,'Distribution of Duration time')"
      ]
     },
     "execution_count": 32,
     "metadata": {},
     "output_type": "execute_result"
    },
    {
     "data": {
      "image/png": "[encoded data removed]",
      "text/plain": [
       "<Figure size 1080x720 with 1 Axes>"
      ]
     },
     "metadata": {},
     "output_type": "display_data"
    }
   ],
   "source": [
    "# Task B3.2\n",
    "\n",
    "# Plot histograms for the duration and trip starting hour in the day attributes. \n",
    "# For both the duration and the trip starting hour use discrete 1-hour intervals. \n",
    "# What do you observe in each plot? What are some popular values in the duration plot? \n",
    "# Explain the local maxima and the trends you observe on the trip starting hour plot based on human behavior.\n",
    "\n",
    "# Pick out duration and divide by 3660 since the durations are given in seconds.\n",
    "duration = duration/3660\n",
    "\n",
    "# Plot up to 10 hours. There are longer durations as well, but they are few, so the shape of the plot is the same.\n",
    "duration.hist(bins=10, range=(0,10))\n",
    "\n",
    "# Set labels\n",
    "plt.xlabel('Number of hours')\n",
    "plt.ylabel('Number of trips')\n",
    "plt.title('Distribution of Duration time')\n",
    "\n",
    "# In this plot we can see clearly that the most common amount of time to rent the bike is less than one hour.\n",
    "# This makes sense, most people who use the service might be commuting to work, which for most\n",
    "# people does not take more time than one hour."
   ]
  },
  {
   "cell_type": "code",
   "execution_count": 35,
   "metadata": {},
   "outputs": [
    {
     "data": {
      "text/plain": [
       "Text(0.5,1,'Distribution of Start time')"
      ]
     },
     "execution_count": 35,
     "metadata": {},
     "output_type": "execute_result"
    },
    {
     "data": {
      "image/png": "[encoded data removed]",
      "text/plain": [
       "<Figure size 1080x720 with 1 Axes>"
      ]
     },
     "metadata": {},
     "output_type": "display_data"
    }
   ],
   "source": [
    "# Pick out Start times\n",
    "trip_start = bikes['Start Time']\n",
    "\n",
    "# Convert to datetime objects and pick out the hours.\n",
    "trip_start = pd.to_datetime(trip_start).dt.hour\n",
    "\n",
    "# Plot\n",
    "trip_start.hist(bins = 24, range=(0, 24))\n",
    "\n",
    "# Set labels\n",
    "plt.xlabel('Start time')\n",
    "plt.ylabel('Number of trips')\n",
    "plt.title('Distribution of Start time')\n",
    "\n",
    "# In this graph we see that the majority of the trips start some time during the day. \n",
    "# One local maxima is at around 08h00, at time when people usually go to work.\n",
    "# The global maxima is in the evening around 17-18, which correspond well with the time at which people would stop\n",
    "# working and go home."
   ]
  },
  {
   "cell_type": "code",
   "execution_count": 39,
   "metadata": {},
   "outputs": [
    {
     "ename": "KeyError",
     "evalue": "'Trip Route Category'",
     "output_type": "error",
     "traceback": [
      "\u001b[0;31m---------------------------------------------------------------------------\u001b[0m",
      "\u001b[0;31mKeyError\u001b[0m                                  Traceback (most recent call last)",
      "\u001b[0;32m/anaconda3/lib/python3.6/site-packages/pandas/core/indexes/base.py\u001b[0m in \u001b[0;36mget_loc\u001b[0;34m(self, key, method, tolerance)\u001b[0m\n\u001b[1;32m   3062\u001b[0m             \u001b[0;32mtry\u001b[0m\u001b[0;34m:\u001b[0m\u001b[0;34m\u001b[0m\u001b[0m\n\u001b[0;32m-> 3063\u001b[0;31m                 \u001b[0;32mreturn\u001b[0m \u001b[0mself\u001b[0m\u001b[0;34m.\u001b[0m\u001b[0m_engine\u001b[0m\u001b[0;34m.\u001b[0m\u001b[0mget_loc\u001b[0m\u001b[0;34m(\u001b[0m\u001b[0mkey\u001b[0m\u001b[0;34m)\u001b[0m\u001b[0;34m\u001b[0m\u001b[0m\n\u001b[0m\u001b[1;32m   3064\u001b[0m             \u001b[0;32mexcept\u001b[0m \u001b[0mKeyError\u001b[0m\u001b[0;34m:\u001b[0m\u001b[0;34m\u001b[0m\u001b[0m\n",
      "\u001b[0;32mpandas/_libs/index.pyx\u001b[0m in \u001b[0;36mpandas._libs.index.IndexEngine.get_loc\u001b[0;34m()\u001b[0m\n",
      "\u001b[0;32mpandas/_libs/index.pyx\u001b[0m in \u001b[0;36mpandas._libs.index.IndexEngine.get_loc\u001b[0;34m()\u001b[0m\n",
      "\u001b[0;32mpandas/_libs/hashtable_class_helper.pxi\u001b[0m in \u001b[0;36mpandas._libs.hashtable.PyObjectHashTable.get_item\u001b[0;34m()\u001b[0m\n",
      "\u001b[0;32mpandas/_libs/hashtable_class_helper.pxi\u001b[0m in \u001b[0;36mpandas._libs.hashtable.PyObjectHashTable.get_item\u001b[0;34m()\u001b[0m\n",
      "\u001b[0;31mKeyError\u001b[0m: 'Trip Route Category'",
      "\nDuring handling of the above exception, another exception occurred:\n",
      "\u001b[0;31mKeyError\u001b[0m                                  Traceback (most recent call last)",
      "\u001b[0;32m<ipython-input-39-aea8883553b6>\u001b[0m in \u001b[0;36m<module>\u001b[0;34m()\u001b[0m\n\u001b[1;32m     19\u001b[0m \u001b[0;34m\u001b[0m\u001b[0m\n\u001b[1;32m     20\u001b[0m \u001b[0;31m# Calculate count for each round trip for each passholder type\u001b[0m\u001b[0;34m\u001b[0m\u001b[0;34m\u001b[0m\u001b[0m\n\u001b[0;32m---> 21\u001b[0;31m \u001b[0mdf2\u001b[0m \u001b[0;34m=\u001b[0m \u001b[0mtrips_and_placeholder_type\u001b[0m\u001b[0;34m(\u001b[0m\u001b[0mbikes\u001b[0m\u001b[0;34m)\u001b[0m\u001b[0;34m\u001b[0m\u001b[0m\n\u001b[0m\u001b[1;32m     22\u001b[0m \u001b[0;34m\u001b[0m\u001b[0m\n\u001b[1;32m     23\u001b[0m \u001b[0;31m# Normalize columns\u001b[0m\u001b[0;34m\u001b[0m\u001b[0;34m\u001b[0m\u001b[0m\n",
      "\u001b[0;32m<ipython-input-39-aea8883553b6>\u001b[0m in \u001b[0;36mtrips_and_placeholder_type\u001b[0;34m(df)\u001b[0m\n\u001b[1;32m      9\u001b[0m     \"\"\"\n\u001b[1;32m     10\u001b[0m     \u001b[0;31m# Pick out the one way data and the round trip data separately, saving the columns for the Passholder Type\u001b[0m\u001b[0;34m\u001b[0m\u001b[0;34m\u001b[0m\u001b[0m\n\u001b[0;32m---> 11\u001b[0;31m     \u001b[0mone_way\u001b[0m \u001b[0;34m=\u001b[0m \u001b[0mdf\u001b[0m\u001b[0;34m[\u001b[0m\u001b[0mdf\u001b[0m\u001b[0;34m[\u001b[0m\u001b[0;34m'Trip Route Category'\u001b[0m\u001b[0;34m]\u001b[0m \u001b[0;34m==\u001b[0m \u001b[0;34m\"One Way\"\u001b[0m\u001b[0;34m]\u001b[0m\u001b[0;34m.\u001b[0m\u001b[0mloc\u001b[0m\u001b[0;34m[\u001b[0m\u001b[0;34m:\u001b[0m\u001b[0;34m,\u001b[0m \u001b[0;34m'Passholder Type'\u001b[0m\u001b[0;34m]\u001b[0m\u001b[0;34m\u001b[0m\u001b[0m\n\u001b[0m\u001b[1;32m     12\u001b[0m     \u001b[0mround_trip\u001b[0m \u001b[0;34m=\u001b[0m \u001b[0mdf\u001b[0m\u001b[0;34m[\u001b[0m\u001b[0mdf\u001b[0m\u001b[0;34m[\u001b[0m\u001b[0;34m'Trip Route Category'\u001b[0m\u001b[0;34m]\u001b[0m \u001b[0;34m==\u001b[0m \u001b[0;34m\"Round Trip\"\u001b[0m\u001b[0;34m]\u001b[0m\u001b[0;34m.\u001b[0m\u001b[0mloc\u001b[0m\u001b[0;34m[\u001b[0m\u001b[0;34m:\u001b[0m\u001b[0;34m,\u001b[0m \u001b[0;34m'Passholder Type'\u001b[0m\u001b[0;34m]\u001b[0m\u001b[0;34m\u001b[0m\u001b[0m\n\u001b[1;32m     13\u001b[0m \u001b[0;34m\u001b[0m\u001b[0m\n",
      "\u001b[0;32m/anaconda3/lib/python3.6/site-packages/pandas/core/frame.py\u001b[0m in \u001b[0;36m__getitem__\u001b[0;34m(self, key)\u001b[0m\n\u001b[1;32m   2683\u001b[0m             \u001b[0;32mreturn\u001b[0m \u001b[0mself\u001b[0m\u001b[0;34m.\u001b[0m\u001b[0m_getitem_multilevel\u001b[0m\u001b[0;34m(\u001b[0m\u001b[0mkey\u001b[0m\u001b[0;34m)\u001b[0m\u001b[0;34m\u001b[0m\u001b[0m\n\u001b[1;32m   2684\u001b[0m         \u001b[0;32melse\u001b[0m\u001b[0;34m:\u001b[0m\u001b[0;34m\u001b[0m\u001b[0m\n\u001b[0;32m-> 2685\u001b[0;31m             \u001b[0;32mreturn\u001b[0m \u001b[0mself\u001b[0m\u001b[0;34m.\u001b[0m\u001b[0m_getitem_column\u001b[0m\u001b[0;34m(\u001b[0m\u001b[0mkey\u001b[0m\u001b[0;34m)\u001b[0m\u001b[0;34m\u001b[0m\u001b[0m\n\u001b[0m\u001b[1;32m   2686\u001b[0m \u001b[0;34m\u001b[0m\u001b[0m\n\u001b[1;32m   2687\u001b[0m     \u001b[0;32mdef\u001b[0m \u001b[0m_getitem_column\u001b[0m\u001b[0;34m(\u001b[0m\u001b[0mself\u001b[0m\u001b[0;34m,\u001b[0m \u001b[0mkey\u001b[0m\u001b[0;34m)\u001b[0m\u001b[0;34m:\u001b[0m\u001b[0;34m\u001b[0m\u001b[0m\n",
      "\u001b[0;32m/anaconda3/lib/python3.6/site-packages/pandas/core/frame.py\u001b[0m in \u001b[0;36m_getitem_column\u001b[0;34m(self, key)\u001b[0m\n\u001b[1;32m   2690\u001b[0m         \u001b[0;31m# get column\u001b[0m\u001b[0;34m\u001b[0m\u001b[0;34m\u001b[0m\u001b[0m\n\u001b[1;32m   2691\u001b[0m         \u001b[0;32mif\u001b[0m \u001b[0mself\u001b[0m\u001b[0;34m.\u001b[0m\u001b[0mcolumns\u001b[0m\u001b[0;34m.\u001b[0m\u001b[0mis_unique\u001b[0m\u001b[0;34m:\u001b[0m\u001b[0;34m\u001b[0m\u001b[0m\n\u001b[0;32m-> 2692\u001b[0;31m             \u001b[0;32mreturn\u001b[0m \u001b[0mself\u001b[0m\u001b[0;34m.\u001b[0m\u001b[0m_get_item_cache\u001b[0m\u001b[0;34m(\u001b[0m\u001b[0mkey\u001b[0m\u001b[0;34m)\u001b[0m\u001b[0;34m\u001b[0m\u001b[0m\n\u001b[0m\u001b[1;32m   2693\u001b[0m \u001b[0;34m\u001b[0m\u001b[0m\n\u001b[1;32m   2694\u001b[0m         \u001b[0;31m# duplicate columns & possible reduce dimensionality\u001b[0m\u001b[0;34m\u001b[0m\u001b[0;34m\u001b[0m\u001b[0m\n",
      "\u001b[0;32m/anaconda3/lib/python3.6/site-packages/pandas/core/generic.py\u001b[0m in \u001b[0;36m_get_item_cache\u001b[0;34m(self, item)\u001b[0m\n\u001b[1;32m   2484\u001b[0m         \u001b[0mres\u001b[0m \u001b[0;34m=\u001b[0m \u001b[0mcache\u001b[0m\u001b[0;34m.\u001b[0m\u001b[0mget\u001b[0m\u001b[0;34m(\u001b[0m\u001b[0mitem\u001b[0m\u001b[0;34m)\u001b[0m\u001b[0;34m\u001b[0m\u001b[0m\n\u001b[1;32m   2485\u001b[0m         \u001b[0;32mif\u001b[0m \u001b[0mres\u001b[0m \u001b[0;32mis\u001b[0m \u001b[0;32mNone\u001b[0m\u001b[0;34m:\u001b[0m\u001b[0;34m\u001b[0m\u001b[0m\n\u001b[0;32m-> 2486\u001b[0;31m             \u001b[0mvalues\u001b[0m \u001b[0;34m=\u001b[0m \u001b[0mself\u001b[0m\u001b[0;34m.\u001b[0m\u001b[0m_data\u001b[0m\u001b[0;34m.\u001b[0m\u001b[0mget\u001b[0m\u001b[0;34m(\u001b[0m\u001b[0mitem\u001b[0m\u001b[0;34m)\u001b[0m\u001b[0;34m\u001b[0m\u001b[0m\n\u001b[0m\u001b[1;32m   2487\u001b[0m             \u001b[0mres\u001b[0m \u001b[0;34m=\u001b[0m \u001b[0mself\u001b[0m\u001b[0;34m.\u001b[0m\u001b[0m_box_item_values\u001b[0m\u001b[0;34m(\u001b[0m\u001b[0mitem\u001b[0m\u001b[0;34m,\u001b[0m \u001b[0mvalues\u001b[0m\u001b[0;34m)\u001b[0m\u001b[0;34m\u001b[0m\u001b[0m\n\u001b[1;32m   2488\u001b[0m             \u001b[0mcache\u001b[0m\u001b[0;34m[\u001b[0m\u001b[0mitem\u001b[0m\u001b[0;34m]\u001b[0m \u001b[0;34m=\u001b[0m \u001b[0mres\u001b[0m\u001b[0;34m\u001b[0m\u001b[0m\n",
      "\u001b[0;32m/anaconda3/lib/python3.6/site-packages/pandas/core/internals.py\u001b[0m in \u001b[0;36mget\u001b[0;34m(self, item, fastpath)\u001b[0m\n\u001b[1;32m   4113\u001b[0m \u001b[0;34m\u001b[0m\u001b[0m\n\u001b[1;32m   4114\u001b[0m             \u001b[0;32mif\u001b[0m \u001b[0;32mnot\u001b[0m \u001b[0misna\u001b[0m\u001b[0;34m(\u001b[0m\u001b[0mitem\u001b[0m\u001b[0;34m)\u001b[0m\u001b[0;34m:\u001b[0m\u001b[0;34m\u001b[0m\u001b[0m\n\u001b[0;32m-> 4115\u001b[0;31m                 \u001b[0mloc\u001b[0m \u001b[0;34m=\u001b[0m \u001b[0mself\u001b[0m\u001b[0;34m.\u001b[0m\u001b[0mitems\u001b[0m\u001b[0;34m.\u001b[0m\u001b[0mget_loc\u001b[0m\u001b[0;34m(\u001b[0m\u001b[0mitem\u001b[0m\u001b[0;34m)\u001b[0m\u001b[0;34m\u001b[0m\u001b[0m\n\u001b[0m\u001b[1;32m   4116\u001b[0m             \u001b[0;32melse\u001b[0m\u001b[0;34m:\u001b[0m\u001b[0;34m\u001b[0m\u001b[0m\n\u001b[1;32m   4117\u001b[0m                 \u001b[0mindexer\u001b[0m \u001b[0;34m=\u001b[0m \u001b[0mnp\u001b[0m\u001b[0;34m.\u001b[0m\u001b[0marange\u001b[0m\u001b[0;34m(\u001b[0m\u001b[0mlen\u001b[0m\u001b[0;34m(\u001b[0m\u001b[0mself\u001b[0m\u001b[0;34m.\u001b[0m\u001b[0mitems\u001b[0m\u001b[0;34m)\u001b[0m\u001b[0;34m)\u001b[0m\u001b[0;34m[\u001b[0m\u001b[0misna\u001b[0m\u001b[0;34m(\u001b[0m\u001b[0mself\u001b[0m\u001b[0;34m.\u001b[0m\u001b[0mitems\u001b[0m\u001b[0;34m)\u001b[0m\u001b[0;34m]\u001b[0m\u001b[0;34m\u001b[0m\u001b[0m\n",
      "\u001b[0;32m/anaconda3/lib/python3.6/site-packages/pandas/core/indexes/base.py\u001b[0m in \u001b[0;36mget_loc\u001b[0;34m(self, key, method, tolerance)\u001b[0m\n\u001b[1;32m   3063\u001b[0m                 \u001b[0;32mreturn\u001b[0m \u001b[0mself\u001b[0m\u001b[0;34m.\u001b[0m\u001b[0m_engine\u001b[0m\u001b[0;34m.\u001b[0m\u001b[0mget_loc\u001b[0m\u001b[0;34m(\u001b[0m\u001b[0mkey\u001b[0m\u001b[0;34m)\u001b[0m\u001b[0;34m\u001b[0m\u001b[0m\n\u001b[1;32m   3064\u001b[0m             \u001b[0;32mexcept\u001b[0m \u001b[0mKeyError\u001b[0m\u001b[0;34m:\u001b[0m\u001b[0;34m\u001b[0m\u001b[0m\n\u001b[0;32m-> 3065\u001b[0;31m                 \u001b[0;32mreturn\u001b[0m \u001b[0mself\u001b[0m\u001b[0;34m.\u001b[0m\u001b[0m_engine\u001b[0m\u001b[0;34m.\u001b[0m\u001b[0mget_loc\u001b[0m\u001b[0;34m(\u001b[0m\u001b[0mself\u001b[0m\u001b[0;34m.\u001b[0m\u001b[0m_maybe_cast_indexer\u001b[0m\u001b[0;34m(\u001b[0m\u001b[0mkey\u001b[0m\u001b[0;34m)\u001b[0m\u001b[0;34m)\u001b[0m\u001b[0;34m\u001b[0m\u001b[0m\n\u001b[0m\u001b[1;32m   3066\u001b[0m \u001b[0;34m\u001b[0m\u001b[0m\n\u001b[1;32m   3067\u001b[0m         \u001b[0mindexer\u001b[0m \u001b[0;34m=\u001b[0m \u001b[0mself\u001b[0m\u001b[0;34m.\u001b[0m\u001b[0mget_indexer\u001b[0m\u001b[0;34m(\u001b[0m\u001b[0;34m[\u001b[0m\u001b[0mkey\u001b[0m\u001b[0;34m]\u001b[0m\u001b[0;34m,\u001b[0m \u001b[0mmethod\u001b[0m\u001b[0;34m=\u001b[0m\u001b[0mmethod\u001b[0m\u001b[0;34m,\u001b[0m \u001b[0mtolerance\u001b[0m\u001b[0;34m=\u001b[0m\u001b[0mtolerance\u001b[0m\u001b[0;34m)\u001b[0m\u001b[0;34m\u001b[0m\u001b[0m\n",
      "\u001b[0;32mpandas/_libs/index.pyx\u001b[0m in \u001b[0;36mpandas._libs.index.IndexEngine.get_loc\u001b[0;34m()\u001b[0m\n",
      "\u001b[0;32mpandas/_libs/index.pyx\u001b[0m in \u001b[0;36mpandas._libs.index.IndexEngine.get_loc\u001b[0;34m()\u001b[0m\n",
      "\u001b[0;32mpandas/_libs/hashtable_class_helper.pxi\u001b[0m in \u001b[0;36mpandas._libs.hashtable.PyObjectHashTable.get_item\u001b[0;34m()\u001b[0m\n",
      "\u001b[0;32mpandas/_libs/hashtable_class_helper.pxi\u001b[0m in \u001b[0;36mpandas._libs.hashtable.PyObjectHashTable.get_item\u001b[0;34m()\u001b[0m\n",
      "\u001b[0;31mKeyError\u001b[0m: 'Trip Route Category'"
     ]
    }
   ],
   "source": [
    "#Task B3.3\n",
    "\n",
    "# For each *trip route category*, calculate the proportion of trips by \n",
    "# *passholder type* and present your results in *a stacked bar chart with normalized height*.\n",
    "\n",
    "def trips_and_placeholder_type(df):\n",
    "    \"\"\"Create a dataframe with Passholder Type as the Index, and the counts of Oneway and Roundtrip for \n",
    "    the columns.\n",
    "    \"\"\"\n",
    "    # Pick out the one way data and the round trip data separately, saving the columns for the Passholder Type\n",
    "    one_way = df[df['Trip Route Category'] == \"One Way\"].loc[:, 'Passholder Type']\n",
    "    round_trip = df[df['Trip Route Category'] == \"Round Trip\"].loc[:, 'Passholder Type']\n",
    "\n",
    "    # Create new dataframe with the counts of each passholder type for one way and round trip in each column\n",
    "    df2 = pd.DataFrame(dict(OneWay = one_way.value_counts(),  RoundTrip = round_trip.value_counts()))\n",
    "    df2.index.name = 'Passholder Type'\n",
    "    \n",
    "    return df2\n",
    "    \n",
    "# Calculate count for each round trip for each passholder type\n",
    "df2 = trips_and_placeholder_type(bikes)\n",
    "\n",
    "# Normalize columns\n",
    "df2.OneWay = df2.OneWay.div(df2.OneWay.sum())\n",
    "df2.RoundTrip = df2.RoundTrip.div(df2.RoundTrip.sum())\n",
    "\n",
    "# Transpose to plot it in the direction we want.\n",
    "df2.transpose().plot.bar(stacked=True);\n"
   ]
  },
  {
   "cell_type": "markdown",
   "metadata": {},
   "source": [
    "__\\* Briefly explain your approach for every query here \\*__"
   ]
  }
 ],
 "metadata": {
  "kernelspec": {
   "display_name": "Python 3",
   "language": "python",
   "name": "python3"
  },
  "language_info": {
   "codemirror_mode": {
    "name": "ipython",
    "version": 3
   },
   "file_extension": ".py",
   "mimetype": "text/x-python",
   "name": "python",
   "nbconvert_exporter": "python",
   "pygments_lexer": "ipython3",
   "version": "3.6.5"
  }
 },
 "nbformat": 4,
 "nbformat_minor": 2
}
