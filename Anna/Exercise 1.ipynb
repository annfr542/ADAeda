{
 "cells": [
  {
   "cell_type": "markdown",
   "metadata": {},
   "source": [
    "# Exercise 1\n",
    " <p><div class=\"lev1\"><a href=\"#Task-A.-Another-LEGO-brick-in-the-wall\"><span class=\"toc-item-num\">Task A.&nbsp;&nbsp;</span>Another LEGO brick in the wall</a></div>\n",
    " <p><div class=\"lev1\"><a href=\"#Task-B.-Drop-the-Bike\"><span class=\"toc-item-num\">Task B.&nbsp;&nbsp;</span>Drop the Bike</a></div>"
   ]
  },
  {
   "cell_type": "code",
   "execution_count": 1,
   "metadata": {},
   "outputs": [],
   "source": [
    "# Add your imports here\n",
    "# Importing pandas and numpy\n",
    "import pandas as pd\n",
    "import numpy as np\n",
    "import re\n",
    "import matplotlib.pyplot as plt"
   ]
  },
  {
   "cell_type": "code",
   "execution_count": 2,
   "metadata": {},
   "outputs": [],
   "source": [
    "DATA_FOLDER = 'data'"
   ]
  },
  {
   "cell_type": "markdown",
   "metadata": {},
   "source": [
    "## Task A. Another LEGO brick in the wall\n",
    "\n",
    "LEGO is a popular brand of toy building bricks. They are often sold in sets in order to build a specific object. Each set contains a number of parts in different shapes, sizes and colors. This database contains information on which parts are included in different LEGO sets. It was originally compiled to help people who owned some LEGO sets already figure out what other sets they could build with the pieces they had.\n",
    "\n",
    "This dataset contains the official LEGO colors, parts, inventories (i.e., sets of LEGO parts which assembled create an object in the LEGO world) and sets (i.e., sets of LEGO inventories which assembled create a LEGO ecosystem). The schema of the dataset can be shown in the following UML diagram: \n",
    "\n",
    "![lego-schema](lego-schema.png)\n",
    "\n",
    "In this task you have to apply the following Data Wrangling pipeline:\n",
    "1. Load your data into `Pandas`\n",
    "* Explore it and clean its dirty parts\n",
    "* Use it to answer a set of queries\n",
    "\n",
    "Each of these subtasks are described in detail below."
   ]
  },
  {
   "cell_type": "markdown",
   "metadata": {},
   "source": [
    "### A1. Loading phase\n",
    "Load all the csv files into different `DataFrames`. Use meaningful names for your `DataFrames` (e.g., the respective filenames).\n",
    "\n",
    "*Hint: You can load files without first unzipping them (for `Pandas` version >= 0.18.1).*"
   ]
  },
  {
   "cell_type": "code",
   "execution_count": 3,
   "metadata": {},
   "outputs": [],
   "source": [
    "LEGO_DATA_FOLDER = DATA_FOLDER + '/lego'"
   ]
  },
  {
   "cell_type": "code",
   "execution_count": 4,
   "metadata": {},
   "outputs": [],
   "source": [
    "# Write your code here\n",
    "colors = pd.read_csv(LEGO_DATA_FOLDER + \"/colors.csv.zip\")\n",
    "inventories = pd.read_csv(LEGO_DATA_FOLDER + \"/inventories.csv.zip\")\n",
    "inventory_parts = pd.read_csv(LEGO_DATA_FOLDER + \"/inventory_parts.csv.zip\")\n",
    "inventory_sets = pd.read_csv(LEGO_DATA_FOLDER + \"/inventory_sets.csv.zip\")\n",
    "part_categories = pd.read_csv(LEGO_DATA_FOLDER + \"/part_categories.csv.zip\")\n",
    "parts = pd.read_csv(LEGO_DATA_FOLDER + \"/parts.csv.zip\")\n",
    "sets = pd.read_csv(LEGO_DATA_FOLDER + \"/sets.csv.zip\")\n",
    "themes = pd.read_csv(LEGO_DATA_FOLDER + \"/themes.csv.zip\")"
   ]
  },
  {
   "cell_type": "markdown",
   "metadata": {},
   "source": [
    "### A2. Cleaning phase\n",
    "Explore the following columns from your dataset:\n",
    "\n",
    "1. sets: year\n",
    "* inventory_parts: quantity\n",
    "\n",
    "What is the time range of the sets? \n",
    "What is the average quantity of the inventory parts? \n",
    "Do you see any inconsistencies? \n",
    "Provide code that detects and cleans such inconsistencies and validates the coherence of your dataset. "
   ]
  },
  {
   "cell_type": "code",
   "execution_count": 5,
   "metadata": {},
   "outputs": [
    {
     "name": "stdout",
     "output_type": "stream",
     "text": [
      "0       70s\n",
      "1      1978\n",
      "2      1987\n",
      "3      1979\n",
      "4      1979\n",
      "5      1979\n",
      "6      1979\n",
      "7     19788\n",
      "8      1976\n",
      "9      1976\n",
      "10     1976\n",
      "11     1965\n",
      "12     1985\n",
      "13     1976\n",
      "14     1965\n",
      "15     1968\n",
      "16     1968\n",
      "17     1968\n",
      "18     1999\n",
      "19     1968\n",
      "Name: year, dtype: object\n",
      "float64\n"
     ]
    }
   ],
   "source": [
    "# 1. Cleaning Sets: year\n",
    "\n",
    "print(sets.year.head(20))\n",
    "\n",
    "# Make all negative years positive\n",
    "sets['year'] = sets['year'].apply(lambda x: x[1:] if x[0] == \"-\" else x)\n",
    "\n",
    "# Delete last digit if year have 5 digits\n",
    "sets['year'] = sets['year'].apply(lambda x: x[:-1] if len(x) == 5 else x)\n",
    "\n",
    "# Change 70s to NAN \n",
    "sets['year'] = sets['year'].apply(lambda x: np.nan if len(x) == 3 else x)\n",
    "\n",
    "# change years to datetime\n",
    "sets['year'] = sets['year'].apply(lambda x: pd.to_datetime(x).year)\n",
    "\n",
    "# check the type of sets year - should be float64\n",
    "print(sets.year.dtype)\n",
    "\n",
    "\n"
   ]
  },
  {
   "cell_type": "code",
   "execution_count": 6,
   "metadata": {},
   "outputs": [
    {
     "name": "stdout",
     "output_type": "stream",
     "text": [
      "The time range is 67.0 years, between 1950 and 2017.\n"
     ]
    }
   ],
   "source": [
    "# Calculate time range\n",
    "first_year = sets.year.min()\n",
    "last_year = sets.year.max()\n",
    "time_range = last_year - first_year\n",
    "print('The time range is ' + str(time_range) + \" years, between \" + str(np.int(first_year)) + \" and \" + str(np.int(last_year)) + \".\")"
   ]
  },
  {
   "cell_type": "code",
   "execution_count": 7,
   "metadata": {},
   "outputs": [
    {
     "name": "stdout",
     "output_type": "stream",
     "text": [
      "The quantity average is 2.77\n",
      "10.08 % of the values are equal to zero\n"
     ]
    }
   ],
   "source": [
    "# Cleaning inventory_parts: quantity\n",
    "# Replace all infinite values in cells with ifinity to 0\n",
    "inventory_parts.quantity = inventory_parts.quantity.replace([np.inf, -np.inf], 0.0)\n",
    "\n",
    "# Calculate the average \n",
    "average = np.around(np.average(inventory_parts.quantity),2)\n",
    "\n",
    "# Count amount of values equaling zero\n",
    "quantity_zero = (inventory_parts['quantity'] == 0).sum()\n",
    "percentage_zero = np.around(quantity_zero/inventory_parts.quantity.sum() * 100,2)\n",
    "\n",
    "# print results\n",
    "print('The quantity average is ' + str(average) + \n",
    "'\\n' + str(percentage_zero) + ' % of the values are equal to zero' )\n"
   ]
  },
  {
   "cell_type": "markdown",
   "metadata": {},
   "source": [
    "__\\* Briefly explain your approach here \\*__\n",
    "\n",
    "#### Cleaning sets by the column year\n",
    "1. Print years to see examples of inconsistencies in the data. Examples of inconsistencies are negative years, years with five digits and years written as decade+\"s\"(70s, 80s, etc).\n",
    "2. Cleaning:\n",
    "    1. First, all negative years are turned positive.\n",
    "    2. Secondly, all years with 5 digits are turned into 4 digit numbers. We assume that the last digit has been repeated and therefore remove it. For example, 20011 is turned into 2001.\n",
    "    3. Lastly we changed all values to NAN where the year is written as decade+\"s\", as there is no way of knowing in which year of the decade the set is from.\n",
    "    4. Change values to datetime\n",
    "3. Calculate the time range for the sets\n",
    "    \n",
    "#### Cleaning inventory_parts by the column quantity\n",
    "1. Print quantity to see examples of inconsistencies in the data. An example of an inconsistency is that some of the quantities are written as \"-inf\".\n",
    "2. Cleaning:\n",
    "    1. Set all quantities with the value \"-inf\" to 0.0 instead, as 0.0 is not used in the rest of the array. This way the data will remain but functions such as count, sum etc. can be applied to the column.\n",
    "3. Calculate the average quantity\n",
    "4. Calculate the percentage of zero values\n"
   ]
  },
  {
   "cell_type": "markdown",
   "metadata": {},
   "source": [
    "### A3. Querying phase\n",
    "Answer the following queries using the functionality of `Pandas`:\n",
    "\n",
    "1. List the ids of the inventories that belong to sets that contain cars. (*Hint: Find a smart way to distinguish which sets contain cars based on the sets' name*).\n",
    "* Plot the distribution of part categories as a (horizontal) bar chart. Restrict yourself to the 20 largest part categories (in terms of the number of parts belonging to the category).\n",
    "* Find the dominant color of each set. Then, plot using a (horizontal) bar chart, the number of sets per dominant color. Color each bar with the respective color that it represents.\n",
    "* Create a scatter plot of the *luminance*\\* of the sets vs their publishing year. What do you observe for the years 1980-1981? How do you interpret what you see?\n",
    "\n",
    "\\*The luminance of a color is a [measure of brightness](https://en.wikipedia.org/wiki/Luminance) which, given its RGB representation, can be computed as follows:\n",
    "\n",
    "$luminance = \\sqrt{0.299*R^2 + 0.587*G^2 + 0.114*B^2}$"
   ]
  },
  {
   "cell_type": "code",
   "execution_count": 148,
   "metadata": {},
   "outputs": [
    {
     "name": "stdout",
     "output_type": "stream",
     "text": [
      "The ids of the inventories that belong to sets that contain cars  are: [13941, 10158, 13083, 5358, 13380, 8202, 16131, 1716, 10406, 14174, 7430, 14711, 12851, 10515, 14919, 2814, 15010, 5904, 7151, 11966, 8140, 6066, 1649, 6530, 14011, 2917, 6086, 1371, 13427, 528, 14493, 908, 2559, 6296, 10028, 12110, 1401, 1418, 1732, 3109, 3764, 4430, 4969, 5857, 11861, 13696, 15694, 7363, 4051, 8820, 7881, 4187, 13355, 13398, 8348, 9426, 12437, 500]\n"
     ]
    }
   ],
   "source": [
    "# Task 1\n",
    "# Get sets with \"car\\s\" in the name:\n",
    "cars = r'^(?:.*\\s)?cars?(?:\\s.*)?$'\n",
    "car_sets = sets[sets.name.str.contains(cars, flags=re.IGNORECASE)]\n",
    "\n",
    "# Merge with inventory_sets to find the inventory ids\n",
    "inventory_sets_cars = pd.merge(car_sets, inventory_sets, left_on='id', right_on='set_id')\n",
    "\n",
    "cars_inventories = inventory_sets_cars.inventory_id.drop_duplicates().tolist()\n",
    "\n",
    "print('The ids of the inventories that belong to sets that contain cars  are: ' +  str(cars_inventories))\n",
    "\n"
   ]
  },
  {
   "cell_type": "code",
   "execution_count": 9,
   "metadata": {},
   "outputs": [
    {
     "data": {
      "text/plain": [
       "Text(0.5,1,'Distribution of parts')"
      ]
     },
     "execution_count": 9,
     "metadata": {},
     "output_type": "execute_result"
    },
    {
     "data": {
      "image/png": "[encoded data removed]",
      "text/plain": [
       "<Figure size 720x504 with 1 Axes>"
      ]
     },
     "metadata": {},
     "output_type": "display_data"
    }
   ],
   "source": [
    "# Task 2 \n",
    "# Count how many parts there are in each category. Select the 20 largest categories \n",
    "part_ids = parts.part_cat_id.value_counts().head(20)\n",
    "\n",
    "# Join the most used parts with the part categories to get access to the part category names:\n",
    "names = part_ids.to_frame().join(part_categories.set_index('id')).name.values\n",
    "\n",
    "# Plotting\n",
    "y_pos = np.arange(len(names))\n",
    "x_pos = part_ids.values\n",
    "\n",
    "plt.rcParams[\"figure.figsize\"] = [10, 7]\n",
    "plt.barh(y_pos, x_pos, align='center', alpha=0.5)\n",
    "plt.yticks(y_pos, names)\n",
    "plt.xlabel('Number of parts in category')\n",
    "plt.title('Distribution of parts')"
   ]
  },
  {
   "cell_type": "code",
   "execution_count": 15,
   "metadata": {},
   "outputs": [
    {
     "name": "stdout",
     "output_type": "stream",
     "text": [
      "     set_id  color_id  total_quantity\n",
      "16  10233-1    9999.0             1.0\n",
      "17  88002-1    9999.0             1.0\n"
     ]
    }
   ],
   "source": [
    "# Task 3 - Getting the right data\n",
    "\n",
    "# Merge inventory_sets and inventory_parts on inventory_id\n",
    "# Making sure that the quantity columns are relabeled (quantity from inventory_sets the \n",
    "# denotes #inventories, quantity from inventory_parts denotes #parts)\n",
    "df = inventory_sets.join(inventory_parts.set_index('inventory_id'), \n",
    "                         how=\"left\", \n",
    "                         on=\"inventory_id\",\n",
    "                         lsuffix=\"_inventories\", \n",
    "                         rsuffix=\"_parts\")\n",
    "\n",
    "# Remove rows in which the number of parts are 0. (There are never any rows in which the quantity_inventories are 0)\n",
    "df = df[df['quantity_parts'] != 0]\n",
    "\n",
    "# Create a new column with the total quantity of parts by multiplying the quantity of inventories and the quantity\n",
    "# of parts for a set\n",
    "df['total_quantity'] = df.quantity_inventories * df.quantity_parts\n",
    "\n",
    "# Remove unnecessary columns\n",
    "df = df.drop(['inventory_id','quantity_inventories','part_id','quantity_parts','is_spare'], axis = 1).dropna()\n",
    "\n",
    "# small example of the data\n",
    "print(df.head(2))\n",
    "\n"
   ]
  },
  {
   "cell_type": "code",
   "execution_count": 139,
   "metadata": {},
   "outputs": [],
   "source": [
    "# Task 3 - Calculating the dominant color for each set\n",
    "def findDominantColor(data):\n",
    "    color = data.groupby('color_id').total_quantity.apply(lambda y: y.sum())\n",
    "    return color.idxmax()\n",
    "\n",
    "# create a series with the dominant color for each set\n",
    "dominant_colors = df.groupby('set_id').apply(lambda set_ID: findDominantColor(set_ID))\n",
    "\n",
    "# count the values and join with color dataframe to get the rgb values\n",
    "color_distribution = dominant_colors.value_counts().to_frame(name = 'freq')\n",
    "color_distribution = colors.loc[:,['id','rgb', 'name']].set_index('id').join(color_distribution).dropna()\n",
    "\n",
    "# sort cells by freq \n",
    "color_distribution = color_distribution.sort_values('freq')\n"
   ]
  },
  {
   "cell_type": "code",
   "execution_count": 18,
   "metadata": {},
   "outputs": [
    {
     "data": {
      "image/png": "[encoded data removed]",
      "text/plain": [
       "<Figure size 1080x720 with 1 Axes>"
      ]
     },
     "metadata": {},
     "output_type": "display_data"
    }
   ],
   "source": [
    "# Tast 3 - plot\n",
    "y = color_distribution.name\n",
    "y_pos = np.arange(len(y))\n",
    "x = color_distribution.freq\n",
    "\n",
    "plt.rcParams[\"figure.figsize\"] = [15, 10]\n",
    "# Use the rgb value to pick the colors for the bars\n",
    "plt.barh(y_pos, x, align='center', alpha=0.5, color = '#' + color_distribution.rgb, edgecolor = 'black')\n",
    "plt.yticks(y_pos, y)\n",
    "plt.title('Distribution of dominant colors in sets')\n",
    "\n",
    "plt.show()"
   ]
  },
  {
   "cell_type": "code",
   "execution_count": 140,
   "metadata": {},
   "outputs": [],
   "source": [
    "dominant_colors = dominant_colors.to_frame('color_id')\n"
   ]
  },
  {
   "cell_type": "code",
   "execution_count": 145,
   "metadata": {},
   "outputs": [],
   "source": [
    "# Task 4 - Getting the right data\n",
    "#join with colors to get the rgb values\n",
    "colors_clean = colors.loc[:,['id','rgb']].set_index('id')\n",
    "dominant_colors_rgb = dominant_colors.reset_index().set_index('color_id').join(colors_clean).drop_duplicates()\n",
    "\n",
    "# Join with sets to get the years\n",
    "years = sets.loc[:,['id','year']]\n",
    "lum_df = dominant_colors_rgb.set_index('set_id').join(years.set_index('id')).dropna()\n",
    "lum_df = lum_df.loc[:, ['rgb', 'year']]\n"
   ]
  },
  {
   "cell_type": "code",
   "execution_count": 144,
   "metadata": {},
   "outputs": [
    {
     "data": {
      "text/plain": [
       "<matplotlib.axes._subplots.AxesSubplot at 0x288ea998e10>"
      ]
     },
     "execution_count": 144,
     "metadata": {},
     "output_type": "execute_result"
    },
    {
     "data": {
      "image/png": "[encoded data removed]",
      "text/plain": [
       "<Figure size 1080x720 with 1 Axes>"
      ]
     },
     "metadata": {},
     "output_type": "display_data"
    }
   ],
   "source": [
    "# Task 4 - calculate the luminance\n",
    "def rgb_to_lum(x):\n",
    "    R, G, B = (int(x[i:i+2], 16) for i in (0, 2, 4))\n",
    "    return sqrt(0.299*(R**2) + 0.587*(G**2) + 0.114*(B**2))\n",
    "\n",
    "# calculate the luminance based on the rgb-values\n",
    "lum_df['luminance'] = lum_df['rgb'].apply(rgb_to_lum)\n",
    "\n",
    "lum_df.plot.scatter(x='year', y='luminance')\n",
    "\n"
   ]
  },
  {
   "cell_type": "markdown",
   "metadata": {},
   "source": [
    "In general the luminance is lower in the later years. In 1980-1981 the luminance isn't varied, only two different luminances are found.  \n"
   ]
  },
  {
   "cell_type": "markdown",
   "metadata": {},
   "source": [
    "__\\* Briefly explain your approach for every query here \\*__\n",
    "\n",
    "Query 1\n",
    "1. Find all the sets with names including \"car\" or \"cars\" with blank space before and after. This means we obtain sets like \"Shell Car Wash\" even though this is not a car\n",
    "2. Find the inventory ids for those sets\n",
    "3. Print the list och the inventories\n",
    "\n",
    "Query 2 \n",
    "1. Count how many parts there are in each category. Select the 20 largest categories \n",
    "2. Find the category names\n",
    "3. Plot the distribution of part categories\n",
    "\n",
    "Query 3\n",
    "1. Clean data and create a dataFrame with colums containing data for: set_id, color_id and total_quantity. Total_quantity is the total amount of a specific part in the specified set.\n",
    "2. Find the dominant color for each set by summerizing the number of parts of the same color in the same set and then choose the color with the maximum number of parts\n",
    "3. Count the number of sets that correspond to each color\n",
    "4. Plot the color distrubution in a bar graph.\n",
    "\n",
    "Query 4\n",
    "1. Use the dataframe with dominant color for each set and join it with colors to get the rgb values\n",
    "2. Join with sets to get the years for each set\n",
    "3. Calculate the luminance for each rgb-value\n",
    "4. Plot"
   ]
  },
  {
   "cell_type": "markdown",
   "metadata": {},
   "source": [
    "## Task B. Drop the bike\n",
    "\n",
    "*Los Angeles Metro* has been sharing publicly [anonymized *Metro Bike Share* trip data](https://bikeshare.metro.net/about/data/) under the [Open Database License (ODbL)](http://opendatacommons.org/licenses/odbl/1.0/).\n",
    "\n",
    "In this task you will again perform data wrangling and interpretation."
   ]
  },
  {
   "cell_type": "markdown",
   "metadata": {},
   "source": [
    "### B1. Loading phase\n",
    "Load the json file into a `DataFrame`.\n"
   ]
  },
  {
   "cell_type": "code",
   "execution_count": 149,
   "metadata": {},
   "outputs": [],
   "source": [
    "BIKES_DATA_FOLDER = DATA_FOLDER + '/bikes'"
   ]
  },
  {
   "cell_type": "code",
   "execution_count": 150,
   "metadata": {},
   "outputs": [],
   "source": [
    "# Write your code here\n",
    "bikes = pd.read_json(BIKES_DATA_FOLDER + '/metro-bike-share-trip-data.json.zip')\n",
    "df = bikes"
   ]
  },
  {
   "cell_type": "markdown",
   "metadata": {},
   "source": [
    "### B2. Cleaning phase\n",
    "Describe the type and the value range of each attribute. Indicate and transform the attributes that are `Categorical`. Are there redundant columns in the dataset (i.e., are there columns whose value depends only on the value of another column)? What are the possible pitfalls of having such columns? Reduce *data redundancy* by extracting such columns to separate `DataFrames`. Which of the two formats (the initial one or the one with reduced data redundancy) is more susceptible to inconsistencies? At the end print for each `Dataframe` the *type of each column* and it's *shape*."
   ]
  },
  {
   "cell_type": "markdown",
   "metadata": {},
   "source": [
    "__\\* Briefly explain your approach here \\*__"
   ]
  },
  {
   "cell_type": "markdown",
   "metadata": {},
   "source": [
    "### B3. Querying phase\n",
    "Answer the following queries using the functionality of `Pandas`.\n",
    "\n",
    "1. Plot the *distribution* of the number of outgoing trips from each station in a histogram with 20 bins (Hint: each bin describes a range of counts, not stations).\n",
    "* Plot histograms for the *duration* and *trip starting hour in the day* attributes. For both the *duration*  and the *trip starting hour* use *discrete 1-hour intervals*. What do you observe in each plot? What are some popular values in the *duration* plot? Explain the local maxima and the trends you observe on the *trip starting hour* plot based on human behavior.\n",
    "* For each *trip route category*, calculate the proportion of trips by *passholder type* and present your results in *a stacked bar chart with normalized height*.\n",
    "* Considering only trips that begin in the morning hours (before noon), plot in *a single bar chart* the proportion of trips by *passholder type* and *trip route category*. Explain any outliers you observe.\n",
    "* Separate the hours of the day into two intervals that have (approximately) the same number of bikes leaving the stations. For each of the two intervals calculate the proportion of trips by *passholder type* and *trip route category*. Present your results in a `DataFrame` which has a unique, non-composite index. Does the proportion of trips depend on whether it is the first or second hour interval? Would the company have any significant benefit by creating a more complex paying scheme where monthly pass users would pay less in the first interval and (equally) more on the second one? Assume that the number of trips per interval will not change if the scheme changes."
   ]
  },
  {
   "cell_type": "code",
   "execution_count": 154,
   "metadata": {},
   "outputs": [
    {
     "data": {
      "text/plain": [
       "Text(0.5,1,'Distribution of Starting Stations ID')"
      ]
     },
     "execution_count": 154,
     "metadata": {},
     "output_type": "execute_result"
    },
    {
     "data": {
      "image/png": "[encoded data removed]",
      "text/plain": [
       "<Figure size 1080x720 with 1 Axes>"
      ]
     },
     "metadata": {},
     "output_type": "display_data"
    }
   ],
   "source": [
    "#Task B3.1\n",
    "\n",
    "# Pick out the 'Starting Station ID' column and count the number of times a station has been started from.\n",
    "starting_stations_count = df['Starting Station ID'].value_counts()\n",
    "\n",
    "# Plot histogram\n",
    "starting_stations_count.hist(bins=20)# Write your code here\n",
    "plt.xlabel('Station ID')\n",
    "plt.ylabel('Number of starts')\n",
    "plt.title('Distribution of Starting Stations ID')"
   ]
  },
  {
   "cell_type": "code",
   "execution_count": 156,
   "metadata": {},
   "outputs": [
    {
     "data": {
      "text/plain": [
       "Text(0.5,1,'Distribution of Duration time')"
      ]
     },
     "execution_count": 156,
     "metadata": {},
     "output_type": "execute_result"
    },
    {
     "data": {
      "image/png": "[encoded data removed]",
      "text/plain": [
       "<Figure size 1080x720 with 1 Axes>"
      ]
     },
     "metadata": {},
     "output_type": "display_data"
    }
   ],
   "source": [
    "# Task B3.2\n",
    "\n",
    "# Plot histograms for the duration and trip starting hour in the day attributes. \n",
    "# For both the duration and the trip starting hour use discrete 1-hour intervals. \n",
    "# What do you observe in each plot? What are some popular values in the duration plot? \n",
    "# Explain the local maxima and the trends you observe on the trip starting hour plot based on human behavior.\n",
    "\n",
    "# Pick out duration and divide by 60 since the durations are given in minutes.\n",
    "duration = df['Duration']/60\n",
    "\n",
    "# Plot up to 70 hours. There are longer durations as well, but they are few, so the shape of the plot is the same.\n",
    "duration.hist(bins=70, range=(0,70))\n",
    "\n",
    "plt.xlabel('Number of hours')\n",
    "plt.ylabel('Number of trips')\n",
    "plt.title('Distribution of Duration time')"
   ]
  },
  {
   "cell_type": "markdown",
   "metadata": {},
   "source": [
    "\n",
    "In this plot we can see that popular values of the duration are around 6-10 hours, with the local maxima at around 8 hours.\n",
    "This can be explained by that people use the bikes to commute to work, staying at work for around 6-8 hours and then goes back with the bike. "
   ]
  },
  {
   "cell_type": "code",
   "execution_count": 157,
   "metadata": {},
   "outputs": [
    {
     "data": {
      "text/plain": [
       "Text(0.5,1,'Distribution of Start time')"
      ]
     },
     "execution_count": 157,
     "metadata": {},
     "output_type": "execute_result"
    },
    {
     "data": {
      "image/png": "[encoded data removed]",
      "text/plain": [
       "<Figure size 1080x720 with 1 Axes>"
      ]
     },
     "metadata": {},
     "output_type": "display_data"
    }
   ],
   "source": [
    "# Select Start times\n",
    "trip_start = df['Start Time']\n",
    "\n",
    "# Convert to datetime objects and pick out the hours.\n",
    "trip_start = pd.to_datetime(trip_start).dt.hour\n",
    "\n",
    "# Plot\n",
    "trip_start.hist(bins = 24, range=(0, 24))\n",
    "\n",
    "plt.xlabel('Start time')\n",
    "plt.ylabel('Number of trips')\n",
    "plt.title('Distribution of Start time')\n"
   ]
  },
  {
   "cell_type": "markdown",
   "metadata": {},
   "source": [
    "In the graph we can see three local maximum. In the morning (8-9), at lunch time (11-13) and in the evening (16-17). These are all time periods that are related to work or school hours. We might therefore asume that a fairly large part of the users the bikes for getting to and from work/school."
   ]
  },
  {
   "cell_type": "markdown",
   "metadata": {},
   "source": [
    "__\\* Briefly explain your approach for every query here \\*__"
   ]
  }
 ],
 "metadata": {
  "kernelspec": {
   "display_name": "Python 3",
   "language": "python",
   "name": "python3"
  },
  "language_info": {
   "codemirror_mode": {
    "name": "ipython",
    "version": 3
   },
   "file_extension": ".py",
   "mimetype": "text/x-python",
   "name": "python",
   "nbconvert_exporter": "python",
   "pygments_lexer": "ipython3",
   "version": "3.6.5"
  }
 },
 "nbformat": 4,
 "nbformat_minor": 2
}
